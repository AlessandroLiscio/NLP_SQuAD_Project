{
  "nbformat": 4,
  "nbformat_minor": 0,
  "metadata": {
    "colab": {
      "name": "Project-X-SQAD.ipynb",
      "provenance": []
    },
    "kernelspec": {
      "name": "python3",
      "display_name": "Python 3"
    },
    "accelerator": "GPU"
  },
  "cells": [
    {
      "cell_type": "markdown",
      "metadata": {
        "id": "SXzTAMPpfB6N"
      },
      "source": [
        "# TODO:\r\n",
        "\r\n",
        "*   Pass tokenizer as function parameter (instead of calling global)\r\n",
        "*   \r\n",
        "\r\n"
      ]
    },
    {
      "cell_type": "markdown",
      "metadata": {
        "id": "Y6J9_LsBSwk-"
      },
      "source": [
        "# Setup"
      ]
    },
    {
      "cell_type": "code",
      "metadata": {
        "id": "SwEFNn5KuGDl",
        "colab": {
          "base_uri": "https://localhost:8080/"
        },
        "outputId": "c65f9952-db6d-460e-c5ca-d692a3fe3e5c"
      },
      "source": [
        "!pip install -q tf-models-official==2.3.0\r\n",
        "!pip install transformers"
      ],
      "execution_count": 1,
      "outputs": [
        {
          "output_type": "stream",
          "text": [
            "Requirement already satisfied: transformers in /usr/local/lib/python3.6/dist-packages (4.2.2)\n",
            "Requirement already satisfied: sacremoses in /usr/local/lib/python3.6/dist-packages (from transformers) (0.0.43)\n",
            "Requirement already satisfied: importlib-metadata; python_version < \"3.8\" in /usr/local/lib/python3.6/dist-packages (from transformers) (3.4.0)\n",
            "Requirement already satisfied: tokenizers==0.9.4 in /usr/local/lib/python3.6/dist-packages (from transformers) (0.9.4)\n",
            "Requirement already satisfied: requests in /usr/local/lib/python3.6/dist-packages (from transformers) (2.23.0)\n",
            "Requirement already satisfied: dataclasses; python_version < \"3.7\" in /usr/local/lib/python3.6/dist-packages (from transformers) (0.8)\n",
            "Requirement already satisfied: tqdm>=4.27 in /usr/local/lib/python3.6/dist-packages (from transformers) (4.41.1)\n",
            "Requirement already satisfied: numpy in /usr/local/lib/python3.6/dist-packages (from transformers) (1.19.5)\n",
            "Requirement already satisfied: packaging in /usr/local/lib/python3.6/dist-packages (from transformers) (20.9)\n",
            "Requirement already satisfied: regex!=2019.12.17 in /usr/local/lib/python3.6/dist-packages (from transformers) (2019.12.20)\n",
            "Requirement already satisfied: filelock in /usr/local/lib/python3.6/dist-packages (from transformers) (3.0.12)\n",
            "Requirement already satisfied: six in /usr/local/lib/python3.6/dist-packages (from sacremoses->transformers) (1.15.0)\n",
            "Requirement already satisfied: click in /usr/local/lib/python3.6/dist-packages (from sacremoses->transformers) (7.1.2)\n",
            "Requirement already satisfied: joblib in /usr/local/lib/python3.6/dist-packages (from sacremoses->transformers) (1.0.0)\n",
            "Requirement already satisfied: typing-extensions>=3.6.4; python_version < \"3.8\" in /usr/local/lib/python3.6/dist-packages (from importlib-metadata; python_version < \"3.8\"->transformers) (3.7.4.3)\n",
            "Requirement already satisfied: zipp>=0.5 in /usr/local/lib/python3.6/dist-packages (from importlib-metadata; python_version < \"3.8\"->transformers) (3.4.0)\n",
            "Requirement already satisfied: certifi>=2017.4.17 in /usr/local/lib/python3.6/dist-packages (from requests->transformers) (2020.12.5)\n",
            "Requirement already satisfied: chardet<4,>=3.0.2 in /usr/local/lib/python3.6/dist-packages (from requests->transformers) (3.0.4)\n",
            "Requirement already satisfied: idna<3,>=2.5 in /usr/local/lib/python3.6/dist-packages (from requests->transformers) (2.10)\n",
            "Requirement already satisfied: urllib3!=1.25.0,!=1.25.1,<1.26,>=1.21.1 in /usr/local/lib/python3.6/dist-packages (from requests->transformers) (1.24.3)\n",
            "Requirement already satisfied: pyparsing>=2.0.2 in /usr/local/lib/python3.6/dist-packages (from packaging->transformers) (2.4.7)\n"
          ],
          "name": "stdout"
        }
      ]
    },
    {
      "cell_type": "code",
      "metadata": {
        "id": "KxC2Vn2KR8pK"
      },
      "source": [
        "import os\r\n",
        "import json, pickle\r\n",
        "\r\n",
        "import re\r\n",
        "\r\n",
        "import pandas as pd\r\n",
        "import numpy as np\r\n",
        "import matplotlib.pyplot as plt\r\n",
        "\r\n",
        "import tensorflow as tf\r\n",
        "from sklearn.model_selection import train_test_split\r\n",
        "\r\n",
        "import transformers\r\n",
        "from transformers import BertTokenizer, TFBertModel\r\n",
        "transformers.logging.set_verbosity_error() # suppress tokenizer sentences' length warnings so to not disturbate rou beautiful loading bar oh my gosh\r\n",
        "\r\n",
        "from keras import Model\r\n",
        "from keras.utils import plot_model\r\n",
        "from keras.layers import Input, Dense, Flatten\r\n",
        "\r\n",
        "from google.colab import drive, files"
      ],
      "execution_count": 2,
      "outputs": []
    },
    {
      "cell_type": "code",
      "metadata": {
        "colab": {
          "base_uri": "https://localhost:8080/"
        },
        "id": "--YO7FLemTOD",
        "outputId": "6a52d9a5-f548-49f3-b53d-4eae8f2cb1b6"
      },
      "source": [
        "drive.mount('/content/drive')"
      ],
      "execution_count": 3,
      "outputs": [
        {
          "output_type": "stream",
          "text": [
            "Drive already mounted at /content/drive; to attempt to forcibly remount, call drive.mount(\"/content/drive\", force_remount=True).\n"
          ],
          "name": "stdout"
        }
      ]
    },
    {
      "cell_type": "markdown",
      "metadata": {
        "id": "xG0C8uDPvt0X"
      },
      "source": [
        "# Settings\r\n"
      ]
    },
    {
      "cell_type": "code",
      "metadata": {
        "id": "-I7Nzb95vvxd"
      },
      "source": [
        "### PARAMETERS ###\r\n",
        "RANDOM_STATE = 42\r\n",
        "\r\n",
        "# Dataset creation\r\n",
        "SEQUENCE_LIMIT = 512\r\n",
        "STRIDE = 256\r\n",
        "\r\n",
        "TRAIN_LIMIT = 1000  # set None for the full size\r\n",
        "VAL_LIMIT = 500    # set None for the full size\r\n",
        "TEST_LIMIT = 500   # set None for the full size\r\n",
        "\r\n",
        "# Model Training\r\n",
        "EPOCHS = 3\r\n",
        "BATCH_SIZE = 32\r\n",
        "\r\n",
        "# export settings\r\n",
        "LOAD_FROM_DRIVE = True\r\n",
        "SAVE_ON_DRIVE = False"
      ],
      "execution_count": 4,
      "outputs": []
    },
    {
      "cell_type": "markdown",
      "metadata": {
        "id": "A23pEgzInJLM"
      },
      "source": [
        "# <s> Dataset </s>"
      ]
    },
    {
      "cell_type": "code",
      "metadata": {
        "id": "dwEW25ifc3Pt"
      },
      "source": [
        "try:\r\n",
        "  with open('training_set.json') as f:\r\n",
        "    json_data = json.load(f)\r\n",
        "except:\r\n",
        "  with open('/content/drive/My Drive/SQUAD/training_set.json') as f:\r\n",
        "    json_data = json.load(f)"
      ],
      "execution_count": 5,
      "outputs": []
    },
    {
      "cell_type": "code",
      "metadata": {
        "id": "Qc6-zf6cV4e6",
        "colab": {
          "base_uri": "https://localhost:8080/",
          "height": 0
        },
        "outputId": "493cf778-cae4-49a1-f68c-517214d9f85e"
      },
      "source": [
        "# Creates DataFrames with useful columns by unpacking 'paragraphs' column\r\n",
        "def preprocess_df(df):\r\n",
        "  temp = []\r\n",
        "  title_dict = {}\r\n",
        "  contexts = []\r\n",
        "\r\n",
        "  for i, row in df.iterrows():\r\n",
        "    for context in row['paragraphs']:\r\n",
        "      contexts.append(context['context'])\r\n",
        "      for qa in context['qas']:\r\n",
        "        question_id = qa['id']\r\n",
        "        question = qa['question']\r\n",
        "        for answer in qa['answers']:\r\n",
        "          answer_text = answer['text']\r\n",
        "          answer_start = answer['answer_start']\r\n",
        "          answer_end = answer_start+len(answer_text)\r\n",
        "          temp.append([question_id, question, answer_text, answer_start, answer_end, i, len(contexts)-1])\r\n",
        "\r\n",
        "  context_dict = dict(enumerate(contexts))\r\n",
        "  df = pd.DataFrame(temp, columns=['question_id', 'question_text', 'answer_text', 'answer_start', 'answer_end', 'title_id', 'context_id'])\r\n",
        "  \r\n",
        "  return df, context_dict\r\n",
        "\r\n",
        "# Read data from json\r\n",
        "data = pd.json_normalize(json_data['data'])\r\n",
        "\r\n",
        "# Split train and test\r\n",
        "train_val, test = train_test_split(data, test_size=0.2, random_state=RANDOM_STATE)\r\n",
        "train, val = train_test_split(train_val, test_size=0.25, random_state=RANDOM_STATE)\r\n",
        "\r\n",
        "# Create DataFrames with useful columns\r\n",
        "train_df, train_context_dict = preprocess_df(train)\r\n",
        "val_df, val_context_dict = preprocess_df(val)\r\n",
        "test_df, test_context_dict = preprocess_df(test)\r\n",
        "\r\n",
        "train_df"
      ],
      "execution_count": 6,
      "outputs": [
        {
          "output_type": "execute_result",
          "data": {
            "text/html": [
              "<div>\n",
              "<style scoped>\n",
              "    .dataframe tbody tr th:only-of-type {\n",
              "        vertical-align: middle;\n",
              "    }\n",
              "\n",
              "    .dataframe tbody tr th {\n",
              "        vertical-align: top;\n",
              "    }\n",
              "\n",
              "    .dataframe thead th {\n",
              "        text-align: right;\n",
              "    }\n",
              "</style>\n",
              "<table border=\"1\" class=\"dataframe\">\n",
              "  <thead>\n",
              "    <tr style=\"text-align: right;\">\n",
              "      <th></th>\n",
              "      <th>question_id</th>\n",
              "      <th>question_text</th>\n",
              "      <th>answer_text</th>\n",
              "      <th>answer_start</th>\n",
              "      <th>answer_end</th>\n",
              "      <th>title_id</th>\n",
              "      <th>context_id</th>\n",
              "    </tr>\n",
              "  </thead>\n",
              "  <tbody>\n",
              "    <tr>\n",
              "      <th>0</th>\n",
              "      <td>5705e78f75f01819005e7734</td>\n",
              "      <td>Where does migration mainly occur?</td>\n",
              "      <td>the northern hemisphere</td>\n",
              "      <td>317</td>\n",
              "      <td>340</td>\n",
              "      <td>109</td>\n",
              "      <td>0</td>\n",
              "    </tr>\n",
              "    <tr>\n",
              "      <th>1</th>\n",
              "      <td>5705e78f75f01819005e7735</td>\n",
              "      <td>Why do birds primarily migrate?</td>\n",
              "      <td>availability of food</td>\n",
              "      <td>275</td>\n",
              "      <td>295</td>\n",
              "      <td>109</td>\n",
              "      <td>0</td>\n",
              "    </tr>\n",
              "    <tr>\n",
              "      <th>2</th>\n",
              "      <td>5705e78f75f01819005e7736</td>\n",
              "      <td>Which birds migrate?</td>\n",
              "      <td>Many species</td>\n",
              "      <td>127</td>\n",
              "      <td>139</td>\n",
              "      <td>109</td>\n",
              "      <td>0</td>\n",
              "    </tr>\n",
              "    <tr>\n",
              "      <th>3</th>\n",
              "      <td>5705e78f75f01819005e7737</td>\n",
              "      <td>What is bird migration?</td>\n",
              "      <td>the regular seasonal movement, often north and...</td>\n",
              "      <td>18</td>\n",
              "      <td>125</td>\n",
              "      <td>109</td>\n",
              "      <td>0</td>\n",
              "    </tr>\n",
              "    <tr>\n",
              "      <th>4</th>\n",
              "      <td>5705e78f75f01819005e7738</td>\n",
              "      <td>What is a cause of death to birds during migra...</td>\n",
              "      <td>humans</td>\n",
              "      <td>240</td>\n",
              "      <td>246</td>\n",
              "      <td>109</td>\n",
              "      <td>0</td>\n",
              "    </tr>\n",
              "    <tr>\n",
              "      <th>...</th>\n",
              "      <td>...</td>\n",
              "      <td>...</td>\n",
              "      <td>...</td>\n",
              "      <td>...</td>\n",
              "      <td>...</td>\n",
              "      <td>...</td>\n",
              "      <td>...</td>\n",
              "    </tr>\n",
              "    <tr>\n",
              "      <th>49933</th>\n",
              "      <td>57314ace05b4da19006bcfe2</td>\n",
              "      <td>What quality has LEDs been used as?</td>\n",
              "      <td>medium-quality</td>\n",
              "      <td>30</td>\n",
              "      <td>44</td>\n",
              "      <td>417</td>\n",
              "      <td>10869</td>\n",
              "    </tr>\n",
              "    <tr>\n",
              "      <th>49934</th>\n",
              "      <td>57314ace05b4da19006bcfe3</td>\n",
              "      <td>What LED has the flattest I/V curve above the ...</td>\n",
              "      <td>Red</td>\n",
              "      <td>216</td>\n",
              "      <td>219</td>\n",
              "      <td>417</td>\n",
              "      <td>10869</td>\n",
              "    </tr>\n",
              "    <tr>\n",
              "      <th>49935</th>\n",
              "      <td>57314ace05b4da19006bcfe4</td>\n",
              "      <td>What LEDs have a very steep I/V curve?</td>\n",
              "      <td>Nitride-based LEDs</td>\n",
              "      <td>269</td>\n",
              "      <td>287</td>\n",
              "      <td>417</td>\n",
              "      <td>10869</td>\n",
              "    </tr>\n",
              "    <tr>\n",
              "      <th>49936</th>\n",
              "      <td>57314ace05b4da19006bcfe5</td>\n",
              "      <td>LED forward voltage is more current-dependent ...</td>\n",
              "      <td>Zener</td>\n",
              "      <td>418</td>\n",
              "      <td>423</td>\n",
              "      <td>417</td>\n",
              "      <td>10869</td>\n",
              "    </tr>\n",
              "    <tr>\n",
              "      <th>49937</th>\n",
              "      <td>57314ace05b4da19006bcfe6</td>\n",
              "      <td>Zener diodes below what voltage are not widely...</td>\n",
              "      <td>3 V</td>\n",
              "      <td>474</td>\n",
              "      <td>477</td>\n",
              "      <td>417</td>\n",
              "      <td>10869</td>\n",
              "    </tr>\n",
              "  </tbody>\n",
              "</table>\n",
              "<p>49938 rows × 7 columns</p>\n",
              "</div>"
            ],
            "text/plain": [
              "                    question_id  ... context_id\n",
              "0      5705e78f75f01819005e7734  ...          0\n",
              "1      5705e78f75f01819005e7735  ...          0\n",
              "2      5705e78f75f01819005e7736  ...          0\n",
              "3      5705e78f75f01819005e7737  ...          0\n",
              "4      5705e78f75f01819005e7738  ...          0\n",
              "...                         ...  ...        ...\n",
              "49933  57314ace05b4da19006bcfe2  ...      10869\n",
              "49934  57314ace05b4da19006bcfe3  ...      10869\n",
              "49935  57314ace05b4da19006bcfe4  ...      10869\n",
              "49936  57314ace05b4da19006bcfe5  ...      10869\n",
              "49937  57314ace05b4da19006bcfe6  ...      10869\n",
              "\n",
              "[49938 rows x 7 columns]"
            ]
          },
          "metadata": {
            "tags": []
          },
          "execution_count": 6
        }
      ]
    },
    {
      "cell_type": "code",
      "metadata": {
        "id": "TaUcu-8VyTqs",
        "colab": {
          "base_uri": "https://localhost:8080/"
        },
        "outputId": "1db6d378-b983-49e2-a565-6c9b776dac78"
      },
      "source": [
        "# Inspect data samples\r\n",
        "def print_squad_sample(train_data, context_dict, line_length=120, separator_length=150):\r\n",
        "\r\n",
        "  sample = train_data.sample(frac=1).head(1)\r\n",
        "  context = context_dict[sample['context_id'].item()]\r\n",
        "\r\n",
        "  print('='*separator_length, '\\nCONTEXT:\\n', '='*separator_length)\r\n",
        "\r\n",
        "  lines = [''.join(context[idx:idx+line_length]) for idx in range(0, len(context), line_length)]\r\n",
        "  for l in lines:\r\n",
        "      print(l)\r\n",
        "\r\n",
        "  print('='*separator_length, '\\nQUESTION:', ' '*(3*separator_length//4), 'ANSWER:')\r\n",
        "\r\n",
        "  questions = train_data[train_data['context_id'] == sample['context_id'].item()]\r\n",
        "\r\n",
        "  for idx, row in questions.iterrows():\r\n",
        "    question = row.question_text\r\n",
        "    answer = row.answer_text\r\n",
        "    print(question, ' '*(3*separator_length//4-len(question)+9), answer)\r\n",
        "\r\n",
        "print_squad_sample(train_df, train_context_dict)"
      ],
      "execution_count": 7,
      "outputs": [
        {
          "output_type": "stream",
          "text": [
            "====================================================================================================================================================== \n",
            "CONTEXT:\n",
            " ======================================================================================================================================================\n",
            "The University of Kansas School of Architecture, Design, and Planning (SADP), with its main building being Marvin Hall, \n",
            "traces its architectural roots to the creation of the architectural engineering degree program in KU's School of Enginee\n",
            "ring in 1912. The Bachelor of Architecture degree was added in 1920. In 1969, the School of Architecture and Urban Desig\n",
            "n (SAUD) was formed with three programs: architecture, architectural engineering, and urban planning. In 2001 architectu\n",
            "ral engineering merged with civil and environmental engineering. The design programs from the discontinued School of Fin\n",
            "e Arts were merged into the school in 2009 forming the current School of Architecture, Design, and Planning.\n",
            "====================================================================================================================================================== \n",
            "QUESTION:                                                                                                                  ANSWER:\n",
            "What KU school is abbreviated as SADP?                                                                                     The University of Kansas School of Architecture, Design, and Planning\n",
            "Where is the SADP housed?                                                                                                  Marvin Hall\n",
            "What was the name of the school that served as the SADP's precursor?                                                       the School of Architecture and Urban Design\n",
            "With what two other programs was KU's architectural engineering curriculum joined in 2001?                                 civil and environmental engineering\n",
            "In what year did the SADP assume its current form?                                                                         2009\n"
          ],
          "name": "stdout"
        }
      ]
    },
    {
      "cell_type": "markdown",
      "metadata": {
        "id": "hqrIFmrK2Igt"
      },
      "source": [
        "# <s> Tokenizer </s>"
      ]
    },
    {
      "cell_type": "code",
      "metadata": {
        "colab": {
          "base_uri": "https://localhost:8080/"
        },
        "id": "i8fuDPtRNDjg",
        "outputId": "33dec9be-eb83-4bf9-ae76-c702081681cf"
      },
      "source": [
        "# Load pre-trained model tokenizer (vocabulary)\r\n",
        "tokenizer = BertTokenizer.from_pretrained('bert-base-uncased')\r\n",
        "\r\n",
        "print('[[CLS], [SEP]] = {}'.format(tokenizer.convert_tokens_to_ids(['[CLS]', '[SEP]'])))\r\n",
        "\r\n",
        "# Split the sentence into tokens.\r\n",
        "tokenized_text = tokenizer.tokenize(train_df['question_text'][0])\r\n",
        "\r\n",
        "# Print out the tokens.\r\n",
        "print('\\nTokenized sentence:')\r\n",
        "print(tokenized_text)\r\n",
        "\r\n",
        "# Map the token strings to their vocabulary indeces.\r\n",
        "indexed_tokens = tokenizer.convert_tokens_to_ids(tokenized_text)\r\n",
        "\r\n",
        "# Display the words with their indices.\r\n",
        "print('\\n{:<12} {:>6}\\n'.format('TOKENS', 'INDICES'))\r\n",
        "for tup in zip(tokenized_text, indexed_tokens):\r\n",
        "    print('{:<12} {:>6}'.format(tup[0], tup[1]))"
      ],
      "execution_count": 8,
      "outputs": [
        {
          "output_type": "stream",
          "text": [
            "[[CLS], [SEP]] = [101, 102]\n",
            "\n",
            "Tokenized sentence:\n",
            "['where', 'does', 'migration', 'mainly', 'occur', '?']\n",
            "\n",
            "TOKENS       INDICES\n",
            "\n",
            "where          2073\n",
            "does           2515\n",
            "migration      9230\n",
            "mainly         3701\n",
            "occur          5258\n",
            "?              1029\n"
          ],
          "name": "stdout"
        }
      ]
    },
    {
      "cell_type": "code",
      "metadata": {
        "id": "BuuVNwp50-xF"
      },
      "source": [
        "# Returns start and end indices of sublist in list\r\n",
        "def find_sublist(a, b):\r\n",
        "  if len(a) == 0 or len(b) == 0:\r\n",
        "    raise Exception(\"Lists with length 0\")\r\n",
        "\r\n",
        "  for i in range(len(a) - len(b) +1):\r\n",
        "    if np.array_equal(a[i:i+len(b)], b):\r\n",
        "      return i, i+len(b)-1\r\n",
        "\r\n",
        "  return -1, -1"
      ],
      "execution_count": 9,
      "outputs": []
    },
    {
      "cell_type": "code",
      "metadata": {
        "id": "nEy0mp9yzXjn"
      },
      "source": [
        "# Prints COOL progress bar (No, seriously, it's really cool!)\r\n",
        "# REALLY DUDE, THIS STUFF IS GOLD\r\n",
        "def print_progress(value, total, bar_width=100):\r\n",
        "  perc = int(value/total*bar_width)\r\n",
        "  rest = bar_width - perc\r\n",
        "  print(\"\\r{:>3} % [ {}{} ]\".format(perc, perc*'■', rest*'─'), end=\"\")\r\n",
        "\r\n",
        "# ensure to preserve all sub-sequences of length limi-stride. \r\n",
        "def split_long_sequence(my_sequence, limit, stride):\r\n",
        "\r\n",
        "  if len(my_sequence) <= limit: \r\n",
        "    return [my_sequence]\r\n",
        "  \r\n",
        "  rest = my_sequence\r\n",
        "  split = []\r\n",
        "  while len(rest) > limit:\r\n",
        "    left_hand = rest[:limit]\r\n",
        "    rest = rest[stride:]\r\n",
        "    split.append(left_hand)\r\n",
        "    \r\n",
        "  split.append(rest)\r\n",
        "  return split"
      ],
      "execution_count": 10,
      "outputs": []
    },
    {
      "cell_type": "code",
      "metadata": {
        "id": "jayMk-aHPYVB"
      },
      "source": [
        "def from_df_to_model_dict(df, context_dict, verbose=False):\r\n",
        "\r\n",
        "  # initialize structures\r\n",
        "  input_ids = []\r\n",
        "  input_mask = []\r\n",
        "  input_type_ids = []\r\n",
        "  start_indexes = []\r\n",
        "  end_indexes = []\r\n",
        "\r\n",
        "  cut_counter = 0\r\n",
        "  max_iter = len(df)\r\n",
        "  new_entries = 0\r\n",
        "  for i, row in df.iterrows():\r\n",
        "\r\n",
        "    # print progress\r\n",
        "    if (i+1) % (max_iter // 100) == 0 or i == 0:\r\n",
        "      print_progress(i+1, max_iter)\r\n",
        "\r\n",
        "    # encode question and context\r\n",
        "    if verbose: print(\"\\tTokenizing question and context...\", end=\"\")\r\n",
        "    encoded_question = tokenizer.encode(row['question_text'])\r\n",
        "    encoded_context = tokenizer.encode(context_dict[row['context_id']])[1:]\r\n",
        "\r\n",
        "    # concatenate input data \r\n",
        "    if verbose: print(\"\\tChecking sequence length...\")\r\n",
        "    if len(encoded_question + encoded_context) > SEQUENCE_LIMIT:\r\n",
        "      # if the sequence is too long, split it in n subsequences of length <= SEQUENCE_LIMIT\r\n",
        "      encoded_contexts = split_long_sequence(encoded_context,\r\n",
        "                                             limit=SEQUENCE_LIMIT-len(encoded_question), \r\n",
        "                                             stride=STRIDE)\r\n",
        "      cut_counter += 1\r\n",
        "    else:\r\n",
        "      encoded_contexts = [encoded_context]\r\n",
        "    \r\n",
        "    new_entries += len(encoded_contexts)-1\r\n",
        "    # for each too long sequence, the context has been split in n parts. We need to process them separately, creating new entries for the input\r\n",
        "    for context_piece in encoded_contexts:\r\n",
        "      \r\n",
        "      encoded_input = encoded_question + context_piece\r\n",
        "\r\n",
        "      # create mask of ones\r\n",
        "      ones_mask = tf.ones_like(encoded_input)\r\n",
        "\r\n",
        "      # add padding and convert to tensor\r\n",
        "      if verbose: print(\"\\tPadding...\", end=\"\")\r\n",
        "      encoded_input = tf.keras.preprocessing.sequence.pad_sequences([encoded_input], maxlen=512, padding='pre')\r\n",
        "      encoded_input = tf.squeeze(tf.convert_to_tensor(encoded_input))\r\n",
        "\r\n",
        "      # processing answer indices\r\n",
        "      if verbose: print(\"\\tProcessing answer...\", end=\"\")\r\n",
        "      tokenized_answer = tokenizer.encode(row['answer_text'])[1: -1]\r\n",
        "      start_idx, end_idx = find_sublist(encoded_input, tokenized_answer)\r\n",
        "\r\n",
        "      start_indexes.append(start_idx)\r\n",
        "      end_indexes.append(end_idx)\r\n",
        "\r\n",
        "\r\n",
        "      # create input_type_ids\r\n",
        "      if verbose: print(\"\\tInput types creation...\", end=\"\")\r\n",
        "      type_ids = tf.concat([tf.zeros_like(encoded_question, dtype=tf.int32), \r\n",
        "                            tf.ones_like(context_piece, dtype=tf.int32)], \r\n",
        "                          axis=-1)\r\n",
        "      \r\n",
        "      type_ids = tf.keras.preprocessing.sequence.pad_sequences([type_ids], maxlen=512, padding='pre')\r\n",
        "      type_ids = tf.squeeze(tf.convert_to_tensor(type_ids))\r\n",
        "\r\n",
        "\r\n",
        "      # create mask of zeros\r\n",
        "      if verbose: print(\"\\tMask creation...\", end=\"\")\r\n",
        "      zeros_mask = tf.zeros(SEQUENCE_LIMIT - len(ones_mask), dtype=tf.int32)\r\n",
        "      mask = tf.concat([zeros_mask, ones_mask], axis=-1)\r\n",
        "\r\n",
        "      # append elements to lists\r\n",
        "      if verbose: print(\"\\tAppending inputs...\", end=\"\")\r\n",
        "      input_ids.append(encoded_input)\r\n",
        "      input_mask.append(mask)\r\n",
        "      input_type_ids.append(type_ids)\r\n",
        "\r\n",
        "  # save input data as dictionary\r\n",
        "  inputs = {\r\n",
        "    'input_ids': tf.convert_to_tensor(input_ids),\r\n",
        "    'attention_mask': tf.convert_to_tensor(input_mask),\r\n",
        "    'token_type_ids': tf.convert_to_tensor(input_type_ids)\r\n",
        "    }\r\n",
        "\r\n",
        "  assert len(input_ids) == len(df) + new_entries, f\"ATTENTION:\\nci sono {len(input_ids)} input_ids, MA {len(df)} righe nel df e {new_entries} nuove entries\"\r\n",
        "  return inputs, start_indexes, end_indexes"
      ],
      "execution_count": 11,
      "outputs": []
    },
    {
      "cell_type": "markdown",
      "metadata": {
        "id": "UXCcgd3cSgAm"
      },
      "source": [
        "# <s> Building Dataset </s>"
      ]
    },
    {
      "cell_type": "code",
      "metadata": {
        "id": "irK7yfKKV1LU"
      },
      "source": [
        "if not LOAD_FROM_DRIVE:\r\n",
        "  print(\"Building training set...\")\r\n",
        "  train_inputs, train_starts_ids, train_ends_ids = from_df_to_model_dict(train_df[:TRAIN_LIMIT], train_context_dict)\r\n",
        "\r\n",
        "  print(\"\\n\\nBuilding validation set...\")\r\n",
        "  val_inputs, val_starts_ids, val_ends_ids = from_df_to_model_dict(val_df[:VAL_LIMIT], val_context_dict)\r\n",
        "\r\n",
        "  print(\"\\n\\nBuilding test set...\")\r\n",
        "  test_inputs, test_starts_ids, test_ends_ids = from_df_to_model_dict(test_df[:TEST_LIMIT], test_context_dict)"
      ],
      "execution_count": 12,
      "outputs": []
    },
    {
      "cell_type": "markdown",
      "metadata": {
        "id": "DBvYDn5dUSTF"
      },
      "source": [
        "# <s> Index to categorical <s>\r\n"
      ]
    },
    {
      "cell_type": "code",
      "metadata": {
        "id": "9iktKwoXUKAj"
      },
      "source": [
        "if not LOAD_FROM_DRIVE: \r\n",
        "  # Replace -1 (answer not found) with 0\r\n",
        "  train_starts_ids = [val if val != -1 else 0 for val in train_starts_ids]\r\n",
        "  train_ends_ids = [val if val != -1 else 0 for val in train_ends_ids]\r\n",
        "\r\n",
        "  val_starts_ids = [val if val != -1 else 0 for val in val_starts_ids]\r\n",
        "  val_ends_ids = [val if val != -1 else 0 for val in val_ends_ids]\r\n",
        "\r\n",
        "  test_starts_ids = [val if val != -1 else 0 for val in test_starts_ids]\r\n",
        "  test_ends_ids = [val if val != -1 else 0 for val in test_ends_ids]\r\n",
        "\r\n",
        "  # from ints to categorical\r\n",
        "  train_starts_cat = tf.keras.utils.to_categorical(train_starts_ids, num_classes=SEQUENCE_LIMIT)\r\n",
        "  train_ends_cat = tf.keras.utils.to_categorical(train_ends_ids, num_classes=SEQUENCE_LIMIT)\r\n",
        "\r\n",
        "  val_starts_cat = tf.keras.utils.to_categorical(val_starts_ids, num_classes=SEQUENCE_LIMIT)\r\n",
        "  val_ends_cat = tf.keras.utils.to_categorical(val_ends_ids, num_classes=SEQUENCE_LIMIT)\r\n",
        "\r\n",
        "  test_starts_cat = tf.keras.utils.to_categorical(test_starts_ids, num_classes=SEQUENCE_LIMIT)\r\n",
        "  test_ends_cat = tf.keras.utils.to_categorical(test_ends_ids, num_classes=SEQUENCE_LIMIT)\r\n",
        "\r\n",
        "  # Inspect data\r\n",
        "  assert len(train_starts_ids) == len(train_ends_ids) == len(train_inputs['input_ids']) == len(train_inputs['attention_mask']) == len(train_inputs['token_type_ids'])\r\n",
        "  assert len(val_starts_ids) == len(val_ends_ids) == len(val_inputs['input_ids']) == len(val_inputs['attention_mask']) == len(val_inputs['token_type_ids'])\r\n",
        "  assert len(test_starts_ids) == len(test_ends_ids) == len(test_inputs['input_ids']) == len(test_inputs['attention_mask']) == len(test_inputs['token_type_ids'])\r\n",
        "\r\n",
        "  print(\"Shapes\")\r\n",
        "  print(\"\\nTrain starts:\\t\", train_starts_cat.shape)\r\n",
        "  print(\"Train ends:\\t\", train_ends_cat.shape)\r\n",
        "  print(\"\\nVal starts:\\t\", val_starts_cat.shape)\r\n",
        "  print(\"Val ends:\\t\", val_ends_cat.shape)\r\n",
        "  print(\"\\nTest starts:\\t\", test_starts_cat.shape)\r\n",
        "  print(\"Test ends:\\t\", test_ends_cat.shape)"
      ],
      "execution_count": 13,
      "outputs": []
    },
    {
      "cell_type": "markdown",
      "metadata": {
        "id": "i5MRM0Q_LXyW"
      },
      "source": [
        "# <s>  Save inputs dataset <s>"
      ]
    },
    {
      "cell_type": "code",
      "metadata": {
        "id": "RWW1mTlHrwe9"
      },
      "source": [
        "if SAVE_ON_DRIVE:\r\n",
        "\r\n",
        "  # TRAIN\r\n",
        "  with open(\"/content/drive/MyDrive/SQUAD/train_inputs.p\", \"wb\") as f:\r\n",
        "    pickle.dump(train_inputs, f)\r\n",
        "\r\n",
        "  with open(\"/content/drive/MyDrive/SQUAD/train_starts_ids.p\", \"wb\") as f:\r\n",
        "    pickle.dump(train_starts_ids, f)\r\n",
        "\r\n",
        "  with open(\"/content/drive/MyDrive/SQUAD/train_ends_ids.p\", \"wb\") as f:\r\n",
        "    pickle.dump(train_ends_ids, f)\r\n",
        "\r\n",
        "  with open(\"/content/drive/MyDrive/SQUAD/train_starts_cat.p\", \"wb\") as f:\r\n",
        "    pickle.dump(train_starts_cat, f)\r\n",
        "\r\n",
        "  with open(\"/content/drive/MyDrive/SQUAD/train_ends_cat.p\", \"wb\") as f:\r\n",
        "    pickle.dump(train_ends_cat, f)\r\n",
        "\r\n",
        "\r\n",
        "  # VALIDATION\r\n",
        "  with open(\"/content/drive/MyDrive/SQUAD/val_inputs.p\", \"wb\") as f:\r\n",
        "    pickle.dump(val_inputs, f)\r\n",
        "\r\n",
        "  with open(\"/content/drive/MyDrive/SQUAD/val_starts_ids.p\", \"wb\") as f:\r\n",
        "    pickle.dump(val_starts_ids, f)\r\n",
        "\r\n",
        "  with open(\"/content/drive/MyDrive/SQUAD/val_ends_ids.p\", \"wb\") as f:\r\n",
        "    pickle.dump(val_ends_ids, f)\r\n",
        "\r\n",
        "  with open(\"/content/drive/MyDrive/SQUAD/val_starts_cat.p\", \"wb\") as f:\r\n",
        "    pickle.dump(val_starts_cat, f)\r\n",
        "\r\n",
        "  with open(\"/content/drive/MyDrive/SQUAD/val_ends_cat.p\", \"wb\") as f:\r\n",
        "    pickle.dump(val_ends_cat, f)\r\n",
        "\r\n",
        "\r\n",
        "  # TEST\r\n",
        "  with open(\"/content/drive/MyDrive/SQUAD/test_inputs.p\", \"wb\") as f:\r\n",
        "    pickle.dump(test_inputs, f)\r\n",
        "\r\n",
        "  with open(\"/content/drive/MyDrive/SQUAD/test_starts_ids.p\", \"wb\") as f:\r\n",
        "    pickle.dump(test_starts_ids, f)\r\n",
        "\r\n",
        "  with open(\"/content/drive/MyDrive/SQUAD/test_ends_ids.p\", \"wb\") as f:\r\n",
        "    pickle.dump(test_ends_ids, f)\r\n",
        "\r\n",
        "  with open(\"/content/drive/MyDrive/SQUAD/test_starts_cat.p\", \"wb\") as f:\r\n",
        "    pickle.dump(test_starts_cat, f)\r\n",
        "\r\n",
        "  with open(\"/content/drive/MyDrive/SQUAD/test_ends_cat.p\", \"wb\") as f:\r\n",
        "    pickle.dump(test_ends_cat, f)"
      ],
      "execution_count": 14,
      "outputs": []
    },
    {
      "cell_type": "markdown",
      "metadata": {
        "id": "Ok4Z7Xhltev_"
      },
      "source": [
        "# Load train and test inputs datasets"
      ]
    },
    {
      "cell_type": "code",
      "metadata": {
        "id": "ECyBOk-mtaHG"
      },
      "source": [
        "if LOAD_FROM_DRIVE:\r\n",
        "  ## TRAIN\r\n",
        "  with open(\"/content/drive/MyDrive/SQUAD/train_inputs.p\", \"rb\") as f:\r\n",
        "    train_inputs = pickle.load(f)\r\n",
        "\r\n",
        "  with open(\"/content/drive/MyDrive/SQUAD/train_starts_ids.p\", \"rb\") as f:\r\n",
        "    train_starts_ids = pickle.load(f)\r\n",
        "\r\n",
        "  with open(\"/content/drive/MyDrive/SQUAD/train_ends_ids.p\", \"rb\") as f:\r\n",
        "    train_ends_ids = pickle.load(f)\r\n",
        "\r\n",
        "  with open(\"/content/drive/MyDrive/SQUAD/train_starts_cat.p\", \"rb\") as f:\r\n",
        "    train_starts_cat = pickle.load(f)\r\n",
        "\r\n",
        "  with open(\"/content/drive/MyDrive/SQUAD/train_ends_cat.p\", \"rb\") as f:\r\n",
        "    train_ends_cat = pickle.load(f)\r\n",
        "\r\n",
        "\r\n",
        "  ## VALIDATION\r\n",
        "  with open(\"/content/drive/MyDrive/SQUAD/val_inputs.p\", \"rb\") as f:\r\n",
        "    val_inputs = pickle.load(f)\r\n",
        "\r\n",
        "  with open(\"/content/drive/MyDrive/SQUAD/val_starts_ids.p\", \"rb\") as f:\r\n",
        "    val_starts_ids = pickle.load(f)\r\n",
        "\r\n",
        "  with open(\"/content/drive/MyDrive/SQUAD/val_ends_ids.p\", \"rb\") as f:\r\n",
        "    val_ends_ids = pickle.load(f)\r\n",
        "\r\n",
        "  with open(\"/content/drive/MyDrive/SQUAD/val_starts_cat.p\", \"rb\") as f:\r\n",
        "    val_starts_cat = pickle.load(f)\r\n",
        "\r\n",
        "  with open(\"/content/drive/MyDrive/SQUAD/val_ends_cat.p\", \"rb\") as f:\r\n",
        "    val_ends_cat = pickle.load(f)\r\n",
        "\r\n",
        "\r\n",
        "  ## TEST\r\n",
        "  with open(\"/content/drive/MyDrive/SQUAD/test_inputs.p\", \"rb\") as f:\r\n",
        "    test_inputs = pickle.load(f)\r\n",
        "\r\n",
        "  with open(\"/content/drive/MyDrive/SQUAD/test_starts_ids.p\", \"rb\") as f:\r\n",
        "    test_starts_ids = pickle.load(f)\r\n",
        "\r\n",
        "  with open(\"/content/drive/MyDrive/SQUAD/test_ends_ids.p\", \"rb\") as f:\r\n",
        "    test_ends_ids = pickle.load(f)\r\n",
        "\r\n",
        "  with open(\"/content/drive/MyDrive/SQUAD/test_starts_cat.p\", \"rb\") as f:\r\n",
        "    test_starts_cat = pickle.load(f)\r\n",
        "\r\n",
        "  with open(\"/content/drive/MyDrive/SQUAD/test_ends_cat.p\", \"rb\") as f:\r\n",
        "    test_ends_cat = pickle.load(f)"
      ],
      "execution_count": 15,
      "outputs": []
    },
    {
      "cell_type": "code",
      "metadata": {
        "colab": {
          "base_uri": "https://localhost:8080/"
        },
        "id": "U5y-6b7Mg4P0",
        "outputId": "60591e63-53ec-4a8c-872d-c7e6fcf36250"
      },
      "source": [
        "print(\"Shapes\")\r\n",
        "print(\"\\nTrain starts:\\t\", train_starts_cat.shape)\r\n",
        "print(\"Train ends:\\t\", train_ends_cat.shape)\r\n",
        "print(\"\\nVal starts:\\t\", val_starts_cat.shape)\r\n",
        "print(\"Val ends:\\t\", val_ends_cat.shape)\r\n",
        "print(\"\\nTest starts:\\t\", test_starts_cat.shape)\r\n",
        "print(\"Test ends:\\t\", test_ends_cat.shape)\r\n",
        "\r\n",
        "assert train_starts_cat.shape == train_ends_cat.shape\r\n",
        "assert val_starts_cat.shape == val_ends_cat.shape\r\n",
        "assert test_starts_cat.shape == test_ends_cat.shape"
      ],
      "execution_count": 16,
      "outputs": [
        {
          "output_type": "stream",
          "text": [
            "Shapes\n",
            "\n",
            "Train starts:\t (49996, 512)\n",
            "Train ends:\t (49996, 512)\n",
            "\n",
            "Val starts:\t (20098, 512)\n",
            "Val ends:\t (20098, 512)\n",
            "\n",
            "Test starts:\t (17630, 512)\n",
            "Test ends:\t (17630, 512)\n"
          ],
          "name": "stdout"
        }
      ]
    },
    {
      "cell_type": "markdown",
      "metadata": {
        "id": "6mZbcRg48o3E"
      },
      "source": [
        "# Build model"
      ]
    },
    {
      "cell_type": "code",
      "metadata": {
        "id": "MI0_mr1eyRgl"
      },
      "source": [
        "from keras.layers import Reshape, GlobalAveragePooling1D"
      ],
      "execution_count": 17,
      "outputs": []
    },
    {
      "cell_type": "code",
      "metadata": {
        "colab": {
          "base_uri": "https://localhost:8080/",
          "height": 0
        },
        "id": "3PJ2O1Zn8nqr",
        "outputId": "fb1a45c7-7509-47cd-bed1-be05208dcd2c"
      },
      "source": [
        "@tf.autograph.experimental.do_not_convert\r\n",
        "def build_model():\r\n",
        "\r\n",
        "  # Define Input layers\r\n",
        "  input_ids_layer = Input(shape = (512,), dtype='int64')\r\n",
        "  attention_mask_layer = Input(shape = (512,), dtype='int64')\r\n",
        "  token_ids_layer = Input(shape = (512,), dtype='int64')\r\n",
        "\r\n",
        "  # Load Bert model\r\n",
        "  bert_model = TFBertModel.from_pretrained('bert-base-uncased')\r\n",
        "  \r\n",
        "  # Set bert layers to not-trainable\r\n",
        "  for layer in bert_model.layers:\r\n",
        "    layer.trainable = False\r\n",
        "  \r\n",
        "  # Initialize bert model\r\n",
        "  bert = bert_model(input_ids = input_ids_layer,\r\n",
        "                    attention_mask = attention_mask_layer,\r\n",
        "                    token_type_ids = token_ids_layer,\r\n",
        "                    return_dict = False,\r\n",
        "                    output_attentions = False,\r\n",
        "                    output_hidden_states = False\r\n",
        "                    ).last_hidden_state\r\n",
        "\r\n",
        "  # flat = Flatten()(bert)  \r\n",
        "  \r\n",
        "  # # Define output classifiers\r\n",
        "  # start_classifier = Dense(units=512, activation=\"softmax\", name=\"Start_classifier\")(flat)\r\n",
        "  # end_classifier = Dense(units=512, activation=\"softmax\", name=\"End_classifier\")(flat)\r\n",
        "\r\n",
        "  # pooler = GlobalAveragePooling1D()(bert)\r\n",
        "  classifier = Dense(units=1,  name=\"classifier\")(bert)\r\n",
        "\r\n",
        "  # Build model\r\n",
        "  model = Model(inputs=[input_ids_layer, attention_mask_layer, token_ids_layer], \r\n",
        "                outputs=classifier)\r\n",
        "  \r\n",
        "  model.summary()\r\n",
        "  return model\r\n",
        "\r\n",
        "model = build_model()\r\n",
        "plot_model(model, show_shapes=True)"
      ],
      "execution_count": 18,
      "outputs": [
        {
          "output_type": "stream",
          "text": [
            "Model: \"model\"\n",
            "__________________________________________________________________________________________________\n",
            "Layer (type)                    Output Shape         Param #     Connected to                     \n",
            "==================================================================================================\n",
            "input_1 (InputLayer)            [(None, 512)]        0                                            \n",
            "__________________________________________________________________________________________________\n",
            "input_2 (InputLayer)            [(None, 512)]        0                                            \n",
            "__________________________________________________________________________________________________\n",
            "input_3 (InputLayer)            [(None, 512)]        0                                            \n",
            "__________________________________________________________________________________________________\n",
            "tf_bert_model (TFBertModel)     TFBaseModelOutputWit 109482240   input_1[0][0]                    \n",
            "                                                                 input_2[0][0]                    \n",
            "                                                                 input_3[0][0]                    \n",
            "__________________________________________________________________________________________________\n",
            "classifier (Dense)              (None, 512, 1)       769         tf_bert_model[0][0]              \n",
            "==================================================================================================\n",
            "Total params: 109,483,009\n",
            "Trainable params: 769\n",
            "Non-trainable params: 109,482,240\n",
            "__________________________________________________________________________________________________\n"
          ],
          "name": "stdout"
        },
        {
          "output_type": "execute_result",
          "data": {
            "image/png": "[encoded data removed]",
            "text/plain": [
              "<IPython.core.display.Image object>"
            ]
          },
          "metadata": {
            "tags": []
          },
          "execution_count": 18
        }
      ]
    },
    {
      "cell_type": "code",
      "metadata": {
        "id": "pLGUF1CIFHIA"
      },
      "source": [
        "def compute_loss(labels, logits):\r\n",
        "  \r\n",
        "  loss_fn = tf.keras.losses.SparseCategoricalCrossentropy()\r\n",
        "  \r\n",
        "  start_logits = logits[:, :, 0]\r\n",
        "  end_logits = logits[:, :, 1]\r\n",
        "\r\n",
        "  start_pred = np.argmax(start_logits, axis=1)\r\n",
        "  end_pred = np.argmax(end_logits, axis=1)\r\n",
        "\r\n",
        "  start_labels = labels[0, :, 0]\r\n",
        "  end_labels = labels[0, :, 1]\r\n",
        "\r\n",
        "  start_loss = loss_fn(start_labels, start_logits)\r\n",
        "  end_loss = loss_fn(end_labels, end_logits)\r\n",
        "\r\n",
        "  return start_loss + end_loss"
      ],
      "execution_count": 19,
      "outputs": []
    },
    {
      "cell_type": "code",
      "metadata": {
        "id": "tsv_uILTwmFR"
      },
      "source": [
        "# Define model parameters\r\n",
        "optimizer = tf.keras.optimizers.Adam(learning_rate=3e-5, epsilon=1e-08, clipnorm=1.0)\r\n",
        "loss = tf.keras.losses.SparseCategoricalCrossentropy(from_logits=True)\r\n",
        "# loss = compute_loss\r\n",
        "metric = tf.keras.metrics.SparseCategoricalAccuracy('accuracy')\r\n",
        "model.compile(optimizer=optimizer, loss=loss, metrics=[metric])"
      ],
      "execution_count": 20,
      "outputs": []
    },
    {
      "cell_type": "markdown",
      "metadata": {
        "id": "gfUxCHLSusuV"
      },
      "source": [
        "# Train"
      ]
    },
    {
      "cell_type": "code",
      "metadata": {
        "colab": {
          "base_uri": "https://localhost:8080/"
        },
        "id": "69cHTOSZGuyG",
        "outputId": "eb1c4d6e-65ce-4c25-f99c-4a9a4a7da360"
      },
      "source": [
        "# Fit model with train set\r\n",
        "model_fit = model.fit(x = [train_inputs['input_ids'][:TRAIN_LIMIT],\r\n",
        "                           train_inputs['attention_mask'][:TRAIN_LIMIT],\r\n",
        "                           train_inputs['token_type_ids'][:TRAIN_LIMIT]],\r\n",
        "                      # y = np.transpose(np.array(list(zip(train_starts_cat, train_ends_cat))), axes = (0, 2, 1)),\r\n",
        "                      # y = np.dstack((train_starts_ids, train_ends_ids))[0],\r\n",
        "                      y = np.array(train_starts_ids[:TRAIN_LIMIT], dtype=np.float32),\r\n",
        "                       \r\n",
        "                      batch_size = BATCH_SIZE,\r\n",
        "                       \r\n",
        "                      epochs = EPOCHS, \r\n",
        "                      \r\n",
        "                      validation_data=([val_inputs['input_ids'][:VAL_LIMIT],\r\n",
        "                                        val_inputs['attention_mask'][:VAL_LIMIT],\r\n",
        "                                        val_inputs['token_type_ids'][:VAL_LIMIT]], \r\n",
        "                                        # np.transpose(np.array(list(zip(val_starts_cat, val_ends_cat))), axes = (0, 2, 1))\r\n",
        "                                        # np.dstack((val_starts_ids, val_ends_ids))[0]\r\n",
        "                                        #np.array(val_starts_ids, dtype=np.float32)\r\n",
        "                                        np.array(val_starts_ids[:VAL_LIMIT], dtype=np.float32)\r\n",
        "                                       )\r\n",
        "                      )"
      ],
      "execution_count": 21,
      "outputs": [
        {
          "output_type": "stream",
          "text": [
            "Epoch 1/3\n",
            "32/32 [==============================] - 44s 1s/step - loss: 6.0920 - accuracy: 0.0233 - val_loss: 6.0269 - val_accuracy: 0.0100\n",
            "Epoch 2/3\n",
            "32/32 [==============================] - 33s 1s/step - loss: 5.9958 - accuracy: 0.0164 - val_loss: 5.9645 - val_accuracy: 0.0100\n",
            "Epoch 3/3\n",
            "32/32 [==============================] - 33s 1s/step - loss: 5.9657 - accuracy: 0.0151 - val_loss: 5.9055 - val_accuracy: 0.0120\n"
          ],
          "name": "stdout"
        }
      ]
    },
    {
      "cell_type": "markdown",
      "metadata": {
        "id": "qBZuBfspH47n"
      },
      "source": [
        "# Test"
      ]
    },
    {
      "cell_type": "code",
      "metadata": {
        "id": "MB8A1y-iaK_w",
        "colab": {
          "base_uri": "https://localhost:8080/"
        },
        "outputId": "87fe7b1f-2349-4c5f-edac-304dc73ec690"
      },
      "source": [
        "# Predict test set\r\n",
        "pred = model.predict([test_inputs[\"input_ids\"][:TEST_LIMIT], \r\n",
        "                      test_inputs[\"attention_mask\"][:TEST_LIMIT], \r\n",
        "                      test_inputs[\"token_type_ids\"][:TEST_LIMIT]])\r\n",
        "\r\n",
        "print(\"Prediction shape: \", pred.shape)"
      ],
      "execution_count": 32,
      "outputs": [
        {
          "output_type": "stream",
          "text": [
            "Prediction shape:  (500, 512, 1)\n"
          ],
          "name": "stdout"
        }
      ]
    },
    {
      "cell_type": "code",
      "metadata": {
        "id": "M1lJLPC3z2ZM"
      },
      "source": [
        "# prediction reshaping\r\n",
        "pred_starts_ids = np.argmax(pred[:, :, 0], axis=1)\r\n"
      ],
      "execution_count": 33,
      "outputs": []
    },
    {
      "cell_type": "code",
      "metadata": {
        "colab": {
          "base_uri": "https://localhost:8080/"
        },
        "id": "SQTezuqNgS3v",
        "outputId": "fd9b689a-4c48-4b51-ff47-d7cc64ace13f"
      },
      "source": [
        "import sklearn\r\n",
        "\r\n",
        "assert pred_starts_ids.shape == np.array(test_starts_ids[:TEST_LIMIT]).shape, \\\r\n",
        "    f\"\\nPred shape:\\t{pred_starts_ids.shape}\\nLabels shape:\\t{np.array(test_starts_ids[:TEST_LIMIT]).shape}\"\r\n",
        "\r\n",
        "print(\"test start accuracy:\", sklearn.metrics.accuracy_score(test_starts_ids[:TEST_LIMIT], pred_starts_ids))\r\n",
        "print(\"test start f1-score:\", sklearn.metrics.f1_score(test_starts_ids[:TEST_LIMIT], pred_starts_ids, average=\"macro\"))"
      ],
      "execution_count": 34,
      "outputs": [
        {
          "output_type": "stream",
          "text": [
            "test start accuracy: 0.018\n",
            "test start f1-score: 0.009191919191919192\n"
          ],
          "name": "stdout"
        }
      ]
    },
    {
      "cell_type": "code",
      "metadata": {
        "id": "JFDBM_-rPuX-",
        "colab": {
          "base_uri": "https://localhost:8080/"
        },
        "outputId": "5d0ecbb2-0fe9-4f06-ccd2-7965623da7e4"
      },
      "source": [
        "def get_text_from_token_ids(context, start_id, end_id):\r\n",
        "  return tokenizer.decode(context[start_id:end_id])\r\n",
        "\r\n",
        "# we are only using starts, ends are ignored\r\n",
        "pred_ends_ids = [None for _ in pred_starts_ids]\r\n",
        "\r\n",
        "boom_baby = 0\r\n",
        "for i, row in test_df.iterrows():\r\n",
        "  if i == TEST_LIMIT: break\r\n",
        "  true_answer = row[\"answer_text\"]\r\n",
        "  predicted_answer = get_text_from_token_ids(test_inputs[\"input_ids\"][i], pred_starts_ids[i], pred_ends_ids[i])\r\n",
        "\r\n",
        "  if true_answer == predicted_answer:\r\n",
        "    boom_baby += 1\r\n",
        "\r\n",
        "  if i % 100 == 0:\r\n",
        "    print(\"\\n\\nQuestion: \\n\", row[\"question_text\"])\r\n",
        "    print(\"Context: \\n\", test_context_dict[row[\"context_id\"]])\r\n",
        "\r\n",
        "    print(f\"True answer: \\n\\tids {(test_starts_ids[i], test_ends_ids[i])}\\t\\ttext: {row['answer_text']}\")\r\n",
        "    print(f\"Our answer: \\n\\tids {(pred_starts_ids[i], pred_ends_ids[i])}\\t\\ttext: {predicted_answer}\")\r\n",
        "\r\n",
        "    print(\"\\n\", \"-\"*50)"
      ],
      "execution_count": 36,
      "outputs": [
        {
          "output_type": "stream",
          "text": [
            "\n",
            "\n",
            "Question: \n",
            " What is the Latin for Order of Preachers?\n",
            "Context: \n",
            " The Order of Preachers (Latin: Ordo Praedicatorum, hence the abbreviation OP used by members), more commonly known after the 15th century as the Dominican Order or Dominicans, is a Roman Catholic religious order founded by the Spanish priest Saint Dominic de Guzman in France and approved by Pope Honorius III (1216–27) on 22 December 1216. Membership in this \"mendicant\" order includes friars, nuns, active sisters, and lay or secular Dominicans (formerly known as tertiaries, though recently there has been a growing number of Associates, who are unrelated to the tertiaries) affiliated with the order.\n",
            "True answer: \n",
            "\tids (387, 393)\t\ttext: Ordo Praedicatorum\n",
            "Our answer: \n",
            "\tids (459, None)\t\ttext: mendicant \" order includes friars, nuns, active sisters, and lay or secular dominicans ( formerly known as tertiaries, though recently there has been a growing number of associates, who are unrelated to the tertiaries ) affiliated with the order. [SEP]\n",
            "\n",
            " --------------------------------------------------\n",
            "\n",
            "\n",
            "Question: \n",
            " What did Dominic greatly struggle with?\n",
            "Context: \n",
            " Dominic's search for a close relationship with God was determined and unceasing. He rarely spoke, so little of his interior life is known. What is known about it comes from accounts written by people near to him. St. Cecilia remembered him as cheerful, charitable and full of unceasing vigor. From a number of accounts, singing was apparently one of Dominic's great delights. Dominic practiced self-scourging and would mortify himself as he prayed alone in the chapel at night for 'poor sinners.' He owned a single habit, refused to carry money, and would allow no one to serve him.\n",
            "True answer: \n",
            "\tids (390, 392)\t\ttext: relationship with God\n",
            "Our answer: \n",
            "\tids (465, None)\t\ttext: self - scourging and would mortify himself as he prayed alone in the chapel at night for'poor sinners.'he owned a single habit, refused to carry money, and would allow no one to serve him. [SEP]\n",
            "\n",
            " --------------------------------------------------\n",
            "\n",
            "\n",
            "Question: \n",
            " What did the English Dominicans like to concentrate on?\n",
            "Context: \n",
            " Concerning humanity as the image of Christ, English Dominican spirituality concentrated on the moral implications of image-bearing rather than the philosophical foundations of the imago Dei. The process of Christ's life, and the process of image-bearing, amends humanity to God's image. The idea of the \"image of God\" demonstrates both the ability of man to move toward God (as partakers in Christ's redeeming sacrifice), and that, on some level, man is always an image of God. As their love and knowledge of God grows and is sanctified by faith and experience, the image of God within man becomes ever more bright and clear.\n",
            "True answer: \n",
            "\tids (389, 394)\t\ttext: moral implications of image-bearing\n",
            "Our answer: \n",
            "\tids (490, None)\t\ttext: sanctified by faith and experience, the image of god within man becomes ever more bright and clear. [SEP]\n",
            "\n",
            " --------------------------------------------------\n",
            "\n",
            "\n",
            "Question: \n",
            " Who designated BYU as having high research activity?\n",
            "Context: \n",
            " For 2016, U.S. News & World Report ranked BYU as tied for 66th for national universities in the United States. A 2013 Quarterly Journal of Economics study of where the nation's top high school students choose to enroll ranked BYU No. 21 in its peer-reviewed study. The Princeton Review has ranked BYU the best value for college in 2007, and its library is consistently ranked in the nation's top ten — No. 1 in 2004 and No. 4 in 2007. BYU is also ranked No. 19 in the U.S. News and World Report's \"Great Schools, Great Prices\" lineup, and No. 12 in lowest student-incurred debt. Due in part to the school's emphasis on undergraduate research, in rankings for 2008-2009, BYU was ranked No. 10 nationally for the number of students who go on to earn PhDs, No. 1 nationally for students who go on to dental school, No. 6 nationally for students who go on to law school, and No. 10 nationally for students who go on to medical school. BYU is designated as a research university with high research activity by the Carnegie Foundation for the Advancement of Teaching.]] Forbes Magazine ranked it as the No. 1 \"Top University to Work For in 2014\" and as the best college in Utah.\n",
            "True answer: \n",
            "\tids (475, 481)\t\ttext: Carnegie Foundation for the Advancement of Teaching\n",
            "Our answer: \n",
            "\tids (478, None)\t\ttext: the advancement of teaching. ] ] forbes magazine ranked it as the no. 1 \" top university to work for in 2014 \" and as the best college in utah. [SEP]\n",
            "\n",
            " --------------------------------------------------\n",
            "\n",
            "\n",
            "Question: \n",
            " What percentage of BYU's class of 2005 were married?\n",
            "Context: \n",
            " One of the characteristics of BYU most often pointed out is its reputation for emphasizing a \"marriage culture\". Members of The Church of Jesus Christ of Latter-day Saints highly value marriage and family, especially marriage within the faith. Approximately 51 percent of the graduates in BYU's class of 2005 were married. This is compared to a national marriage average among college graduates of 11 percent. BYU students on average marry at the age of 22, according to a 2005 study, while the national average age is 25 years for men and 27 years for women.\n",
            "True answer: \n",
            "\tids (447, 448)\t\ttext: Approximately 51\n",
            "Our answer: \n",
            "\tids (484, None)\t\ttext: the age of 22, according to a 2005 study, while the national average age is 25 years for men and 27 years for women. [SEP]\n",
            "\n",
            " --------------------------------------------------\n"
          ],
          "name": "stdout"
        }
      ]
    },
    {
      "cell_type": "code",
      "metadata": {
        "id": "WzMIwH85RATH"
      },
      "source": [
        "print(f\"Total matches\\t{boom_baby} / {TEST_LIMIT} \\t({round(boom_baby / TEST_LIMIT, 3)*100} %)\")"
      ],
      "execution_count": null,
      "outputs": []
    },
    {
      "cell_type": "code",
      "metadata": {
        "id": "mRdxAI9ug1kE"
      },
      "source": [
        "import shutil\r\n",
        "\r\n",
        "with open(\"results_2101_start_pred.txt\", \"w\") as f:\r\n",
        "  f.write(f\"\\nTEST start accuracy: {sklearn.metrics.accuracy_score(val_starts_ids[:TEST_LIMIT], pred_start_ids)}\")\r\n",
        "  f.write(f\"\\nTEST start f1-score: {sklearn.metrics.f1_score(val_starts_ids[:TEST_LIMIT], pred_start_ids, average='macro')}\")    \r\n",
        "  f.write(f\"\\nTotal matches\\t{boom_baby} / {TEST_LIMIT} \\t({round(boom_baby / TEST_LIMIT, 3)*100} %)\")\r\n",
        "  f.write(f\"\\n\\n{str(pred_start_ids)}\")\r\n",
        "\r\n",
        "# copy on drive\r\n",
        "shutil.copy(\"results_2101_start_pred.txt\", \"/content/drive/MyDrive/SQUAD/results_2101_start_pred.txt\")\r\n"
      ],
      "execution_count": null,
      "outputs": []
    }
  ]
}