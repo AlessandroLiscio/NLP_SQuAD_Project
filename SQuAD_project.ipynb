{
  "nbformat": 4,
  "nbformat_minor": 0,
  "metadata": {
    "colab": {
      "name": "Project-X-SQAD.ipynb",
      "provenance": []
    },
    "kernelspec": {
      "name": "python3",
      "display_name": "Python 3"
    },
    "accelerator": "GPU"
  },
  "cells": [
    {
      "cell_type": "markdown",
      "metadata": {
        "id": "Y6J9_LsBSwk-"
      },
      "source": [
        "# Setup"
      ]
    },
    {
      "cell_type": "code",
      "metadata": {
        "id": "SwEFNn5KuGDl",
        "colab": {
          "base_uri": "https://localhost:8080/"
        },
        "outputId": "2145c8c7-0ff0-45bf-a8ea-c4826587f949"
      },
      "source": [
        "!pip install -q tf-models-official==2.3.0\r\n",
        "!pip install transformers"
      ],
      "execution_count": 17,
      "outputs": [
        {
          "output_type": "stream",
          "text": [
            "Requirement already satisfied: transformers in /usr/local/lib/python3.6/dist-packages (4.3.2)\n",
            "Requirement already satisfied: importlib-metadata; python_version < \"3.8\" in /usr/local/lib/python3.6/dist-packages (from transformers) (3.4.0)\n",
            "Requirement already satisfied: packaging in /usr/local/lib/python3.6/dist-packages (from transformers) (20.9)\n",
            "Requirement already satisfied: tqdm>=4.27 in /usr/local/lib/python3.6/dist-packages (from transformers) (4.41.1)\n",
            "Requirement already satisfied: requests in /usr/local/lib/python3.6/dist-packages (from transformers) (2.23.0)\n",
            "Requirement already satisfied: filelock in /usr/local/lib/python3.6/dist-packages (from transformers) (3.0.12)\n",
            "Requirement already satisfied: numpy>=1.17 in /usr/local/lib/python3.6/dist-packages (from transformers) (1.19.5)\n",
            "Requirement already satisfied: regex!=2019.12.17 in /usr/local/lib/python3.6/dist-packages (from transformers) (2019.12.20)\n",
            "Requirement already satisfied: dataclasses; python_version < \"3.7\" in /usr/local/lib/python3.6/dist-packages (from transformers) (0.8)\n",
            "Requirement already satisfied: tokenizers<0.11,>=0.10.1 in /usr/local/lib/python3.6/dist-packages (from transformers) (0.10.1)\n",
            "Requirement already satisfied: sacremoses in /usr/local/lib/python3.6/dist-packages (from transformers) (0.0.43)\n",
            "Requirement already satisfied: zipp>=0.5 in /usr/local/lib/python3.6/dist-packages (from importlib-metadata; python_version < \"3.8\"->transformers) (3.4.0)\n",
            "Requirement already satisfied: typing-extensions>=3.6.4; python_version < \"3.8\" in /usr/local/lib/python3.6/dist-packages (from importlib-metadata; python_version < \"3.8\"->transformers) (3.7.4.3)\n",
            "Requirement already satisfied: pyparsing>=2.0.2 in /usr/local/lib/python3.6/dist-packages (from packaging->transformers) (2.4.7)\n",
            "Requirement already satisfied: idna<3,>=2.5 in /usr/local/lib/python3.6/dist-packages (from requests->transformers) (2.10)\n",
            "Requirement already satisfied: certifi>=2017.4.17 in /usr/local/lib/python3.6/dist-packages (from requests->transformers) (2020.12.5)\n",
            "Requirement already satisfied: urllib3!=1.25.0,!=1.25.1,<1.26,>=1.21.1 in /usr/local/lib/python3.6/dist-packages (from requests->transformers) (1.24.3)\n",
            "Requirement already satisfied: chardet<4,>=3.0.2 in /usr/local/lib/python3.6/dist-packages (from requests->transformers) (3.0.4)\n",
            "Requirement already satisfied: joblib in /usr/local/lib/python3.6/dist-packages (from sacremoses->transformers) (1.0.0)\n",
            "Requirement already satisfied: click in /usr/local/lib/python3.6/dist-packages (from sacremoses->transformers) (7.1.2)\n",
            "Requirement already satisfied: six in /usr/local/lib/python3.6/dist-packages (from sacremoses->transformers) (1.15.0)\n"
          ],
          "name": "stdout"
        }
      ]
    },
    {
      "cell_type": "code",
      "metadata": {
        "id": "KxC2Vn2KR8pK"
      },
      "source": [
        "import os\r\n",
        "import json, pickle\r\n",
        "\r\n",
        "import pandas as pd\r\n",
        "import numpy as np\r\n",
        "\r\n",
        "import tensorflow as tf\r\n",
        "from sklearn.model_selection import train_test_split\r\n",
        "from sklearn.metrics import accuracy_score, f1_score\r\n",
        "\r\n",
        "import transformers\r\n",
        "from transformers import BertTokenizer, TFBertModel\r\n",
        "transformers.logging.set_verbosity_error() # suppress tokenizer sentences' length warnings\r\n",
        "tf.get_logger().setLevel('ERROR')\r\n",
        "\r\n",
        "import keras\r\n",
        "from keras import Model\r\n",
        "from keras.utils import plot_model\r\n",
        "from keras.layers import Input, Dense, Flatten, Dropout, Activation\r\n",
        "from datetime import datetime\r\n",
        "\r\n",
        "from google.colab import drive, files"
      ],
      "execution_count": 18,
      "outputs": []
    },
    {
      "cell_type": "code",
      "metadata": {
        "colab": {
          "base_uri": "https://localhost:8080/"
        },
        "id": "--YO7FLemTOD",
        "outputId": "7fd91721-1fcc-4874-c9ae-5a31965d21a9"
      },
      "source": [
        "drive.mount('/content/drive')"
      ],
      "execution_count": 19,
      "outputs": [
        {
          "output_type": "stream",
          "text": [
            "Drive already mounted at /content/drive; to attempt to forcibly remount, call drive.mount(\"/content/drive\", force_remount=True).\n"
          ],
          "name": "stdout"
        }
      ]
    },
    {
      "cell_type": "markdown",
      "metadata": {
        "id": "xG0C8uDPvt0X"
      },
      "source": [
        "# Settings\r\n"
      ]
    },
    {
      "cell_type": "code",
      "metadata": {
        "id": "-I7Nzb95vvxd"
      },
      "source": [
        "### PARAMETERS ###\r\n",
        "RANDOM_STATE = 42\r\n",
        "\r\n",
        "# Dataset creation\r\n",
        "SEQUENCE_LIMIT = 512\r\n",
        "STRIDE = 256\r\n",
        "\r\n",
        "SHUFFLE = True\r\n",
        "\r\n",
        "TRAIN_LIMIT = None  # set None for the full size\r\n",
        "VAL_LIMIT = None    # set None for the full size\r\n",
        "\r\n",
        "# Model Training\r\n",
        "EPOCHS = 3\r\n",
        "BATCH_SIZE = 8\r\n",
        "\r\n",
        "# dataset drive settings\r\n",
        "SAVE_DATASET = False\r\n",
        "LOAD_DATASET = True\r\n",
        "\r\n",
        "# model weights drive settings\r\n",
        "SAVE_WEIGHTS = True\r\n",
        "LOAD_WEIGHTS = False\r\n",
        "LOAD_LOSS = True\r\n",
        "\r\n",
        "# training settings\r\n",
        "TRAIN = True"
      ],
      "execution_count": 20,
      "outputs": []
    },
    {
      "cell_type": "markdown",
      "metadata": {
        "id": "A23pEgzInJLM"
      },
      "source": [
        "# Dataset"
      ]
    },
    {
      "cell_type": "code",
      "metadata": {
        "id": "dwEW25ifc3Pt"
      },
      "source": [
        "try:\r\n",
        "  with open('training_set.json') as f:\r\n",
        "    json_data = json.load(f)\r\n",
        "except:\r\n",
        "  with open('/content/drive/My Drive/SQUAD/training_set.json') as f:\r\n",
        "    json_data = json.load(f)"
      ],
      "execution_count": 21,
      "outputs": []
    },
    {
      "cell_type": "code",
      "metadata": {
        "id": "Qc6-zf6cV4e6",
        "colab": {
          "base_uri": "https://localhost:8080/",
          "height": 0
        },
        "outputId": "b42f3653-8af7-4789-8af2-16183d524081"
      },
      "source": [
        "# Creates DataFrames with useful columns by unpacking 'paragraphs' column\r\n",
        "def unpack_df(df):\r\n",
        "  temp = []\r\n",
        "  title_dict = {}\r\n",
        "  contexts = []\r\n",
        "\r\n",
        "  for i, row in df.iterrows():\r\n",
        "    for context in row['paragraphs']:\r\n",
        "      contexts.append(context['context'])\r\n",
        "      for qa in context['qas']:\r\n",
        "        question_id = qa['id']\r\n",
        "        question = qa['question']\r\n",
        "        for answer in qa['answers']:\r\n",
        "          answer_text = answer['text']\r\n",
        "          answer_start = answer['answer_start']\r\n",
        "          answer_end = answer_start+len(answer_text)\r\n",
        "          temp.append([question_id, question, answer_text, answer_start, answer_end, i, len(contexts)-1])\r\n",
        "\r\n",
        "  context_dict = dict(enumerate(contexts))\r\n",
        "  df = pd.DataFrame(temp, columns=['question_id', 'question_text', 'answer_text', 'answer_start', 'answer_end', 'title_id', 'context_id'])\r\n",
        "  \r\n",
        "  return df, context_dict\r\n",
        "\r\n",
        "# Read data from json\r\n",
        "data = pd.json_normalize(json_data['data'])\r\n",
        "\r\n",
        "# Split train and test\r\n",
        "train, val = train_test_split(data, test_size=0.10, random_state=RANDOM_STATE)\r\n",
        "\r\n",
        "# Create DataFrames with useful columns\r\n",
        "train_df, train_context_dict = unpack_df(train)\r\n",
        "val_df, val_context_dict = unpack_df(val)\r\n",
        "\r\n",
        "# Shuffle DataFrame\r\n",
        "if SHUFFLE:\r\n",
        "  train_df = train_df.sample(frac = 1, random_state=RANDOM_STATE)\r\n",
        "  val_df = val_df.sample(frac = 1, random_state=RANDOM_STATE)\r\n",
        "\r\n",
        "train_df"
      ],
      "execution_count": 22,
      "outputs": [
        {
          "output_type": "execute_result",
          "data": {
            "text/html": [
              "<div>\n",
              "<style scoped>\n",
              "    .dataframe tbody tr th:only-of-type {\n",
              "        vertical-align: middle;\n",
              "    }\n",
              "\n",
              "    .dataframe tbody tr th {\n",
              "        vertical-align: top;\n",
              "    }\n",
              "\n",
              "    .dataframe thead th {\n",
              "        text-align: right;\n",
              "    }\n",
              "</style>\n",
              "<table border=\"1\" class=\"dataframe\">\n",
              "  <thead>\n",
              "    <tr style=\"text-align: right;\">\n",
              "      <th></th>\n",
              "      <th>question_id</th>\n",
              "      <th>question_text</th>\n",
              "      <th>answer_text</th>\n",
              "      <th>answer_start</th>\n",
              "      <th>answer_end</th>\n",
              "      <th>title_id</th>\n",
              "      <th>context_id</th>\n",
              "    </tr>\n",
              "  </thead>\n",
              "  <tbody>\n",
              "    <tr>\n",
              "      <th>74875</th>\n",
              "      <td>57265dc9dd62a815002e82d2</td>\n",
              "      <td>Is there a pplace where lovers of the chicken ...</td>\n",
              "      <td>In many countries, national and regional poult...</td>\n",
              "      <td>0</td>\n",
              "      <td>101</td>\n",
              "      <td>191</td>\n",
              "      <td>16131</td>\n",
              "    </tr>\n",
              "    <tr>\n",
              "      <th>40064</th>\n",
              "      <td>57269a03708984140094cb57</td>\n",
              "      <td>What was Nathan Hale famous for?</td>\n",
              "      <td>Revolutionary War soldier</td>\n",
              "      <td>4</td>\n",
              "      <td>29</td>\n",
              "      <td>234</td>\n",
              "      <td>8561</td>\n",
              "    </tr>\n",
              "    <tr>\n",
              "      <th>957</th>\n",
              "      <td>5730a771069b53140083220d</td>\n",
              "      <td>How many cultures may have fused together in E...</td>\n",
              "      <td>three</td>\n",
              "      <td>320</td>\n",
              "      <td>325</td>\n",
              "      <td>411</td>\n",
              "      <td>220</td>\n",
              "    </tr>\n",
              "    <tr>\n",
              "      <th>43425</th>\n",
              "      <td>5709bb3ded30961900e8445a</td>\n",
              "      <td>Who is in favor of a zero inflation policy?</td>\n",
              "      <td>some economists</td>\n",
              "      <td>287</td>\n",
              "      <td>302</td>\n",
              "      <td>129</td>\n",
              "      <td>9236</td>\n",
              "    </tr>\n",
              "    <tr>\n",
              "      <th>66501</th>\n",
              "      <td>56bfb502a10cfb140055125e</td>\n",
              "      <td>How much did she earn in 2014?</td>\n",
              "      <td>115 million</td>\n",
              "      <td>1660</td>\n",
              "      <td>1671</td>\n",
              "      <td>1</td>\n",
              "      <td>14328</td>\n",
              "    </tr>\n",
              "    <tr>\n",
              "      <th>...</th>\n",
              "      <td>...</td>\n",
              "      <td>...</td>\n",
              "      <td>...</td>\n",
              "      <td>...</td>\n",
              "      <td>...</td>\n",
              "      <td>...</td>\n",
              "      <td>...</td>\n",
              "    </tr>\n",
              "    <tr>\n",
              "      <th>6265</th>\n",
              "      <td>5725e72a271a42140099d2f6</td>\n",
              "      <td>Judea was ruled by whom during the Hellenistic...</td>\n",
              "      <td>High Priest of Israel</td>\n",
              "      <td>301</td>\n",
              "      <td>322</td>\n",
              "      <td>185</td>\n",
              "      <td>1346</td>\n",
              "    </tr>\n",
              "    <tr>\n",
              "      <th>54886</th>\n",
              "      <td>5726bff8708984140094d06b</td>\n",
              "      <td>At what age did Avicenna turn to away from phi...</td>\n",
              "      <td>16</td>\n",
              "      <td>25</td>\n",
              "      <td>27</td>\n",
              "      <td>254</td>\n",
              "      <td>11785</td>\n",
              "    </tr>\n",
              "    <tr>\n",
              "      <th>76820</th>\n",
              "      <td>572f880804bcaa1900d76a55</td>\n",
              "      <td>Name two major events of the Seven Years' War ...</td>\n",
              "      <td>the expulsion of the Acadians, the siege of Qu...</td>\n",
              "      <td>67</td>\n",
              "      <td>117</td>\n",
              "      <td>359</td>\n",
              "      <td>16550</td>\n",
              "    </tr>\n",
              "    <tr>\n",
              "      <th>860</th>\n",
              "      <td>57303f17b2c2fd1400568ae3</td>\n",
              "      <td>What type of assembly could specific groupings...</td>\n",
              "      <td>concilia</td>\n",
              "      <td>714</td>\n",
              "      <td>722</td>\n",
              "      <td>395</td>\n",
              "      <td>199</td>\n",
              "    </tr>\n",
              "    <tr>\n",
              "      <th>15795</th>\n",
              "      <td>572825ad4b864d190016459e</td>\n",
              "      <td>What period started around 472 million years ago?</td>\n",
              "      <td>the mid Ordovician</td>\n",
              "      <td>501</td>\n",
              "      <td>519</td>\n",
              "      <td>316</td>\n",
              "      <td>3338</td>\n",
              "    </tr>\n",
              "  </tbody>\n",
              "</table>\n",
              "<p>80079 rows × 7 columns</p>\n",
              "</div>"
            ],
            "text/plain": [
              "                    question_id  ... context_id\n",
              "74875  57265dc9dd62a815002e82d2  ...      16131\n",
              "40064  57269a03708984140094cb57  ...       8561\n",
              "957    5730a771069b53140083220d  ...        220\n",
              "43425  5709bb3ded30961900e8445a  ...       9236\n",
              "66501  56bfb502a10cfb140055125e  ...      14328\n",
              "...                         ...  ...        ...\n",
              "6265   5725e72a271a42140099d2f6  ...       1346\n",
              "54886  5726bff8708984140094d06b  ...      11785\n",
              "76820  572f880804bcaa1900d76a55  ...      16550\n",
              "860    57303f17b2c2fd1400568ae3  ...        199\n",
              "15795  572825ad4b864d190016459e  ...       3338\n",
              "\n",
              "[80079 rows x 7 columns]"
            ]
          },
          "metadata": {
            "tags": []
          },
          "execution_count": 22
        }
      ]
    },
    {
      "cell_type": "code",
      "metadata": {
        "id": "TaUcu-8VyTqs",
        "colab": {
          "base_uri": "https://localhost:8080/"
        },
        "outputId": "18224616-e27c-491c-9058-53d48a60d960"
      },
      "source": [
        "# Inspect data samples\r\n",
        "def print_squad_sample(train_data, context_dict, line_length=120, separator_length=150):\r\n",
        "\r\n",
        "  sample = train_data.sample(frac=1).head(1)\r\n",
        "  context = context_dict[sample['context_id'].item()]\r\n",
        "\r\n",
        "  print('='*separator_length, '\\nCONTEXT:\\n', '='*separator_length)\r\n",
        "\r\n",
        "  lines = [''.join(context[idx:idx+line_length]) for idx in range(0, len(context), line_length)]\r\n",
        "  for l in lines:\r\n",
        "      print(l)\r\n",
        "\r\n",
        "  print('='*separator_length, '\\nQUESTION:', ' '*(3*separator_length//4), 'ANSWER:')\r\n",
        "\r\n",
        "  questions = train_data[train_data['context_id'] == sample['context_id'].item()]\r\n",
        "\r\n",
        "  for idx, row in questions.iterrows():\r\n",
        "    question = row.question_text\r\n",
        "    answer = row.answer_text\r\n",
        "    print(question, ' '*(3*separator_length//4-len(question)+9), answer)\r\n",
        "\r\n",
        "print_squad_sample(train_df, train_context_dict)"
      ],
      "execution_count": 23,
      "outputs": [
        {
          "output_type": "stream",
          "text": [
            "====================================================================================================================================================== \n",
            "CONTEXT:\n",
            " ======================================================================================================================================================\n",
            "Avicenna's psychology requires that connection between the body and soul be strong enough to ensure the soul's individua\n",
            "tion, but weak enough to allow for its immortality. Avicenna grounds his psychology on physiology, which means his accou\n",
            "nt of the soul is one that deals almost entirely with the natural science of the body and its abilities of perception. T\n",
            "hus, the philosopher's connection between the soul and body is explained almost entirely by his understanding of percept\n",
            "ion; in this way, bodily perception interrelates with the immaterial human intellect. In sense perception, the perceiver\n",
            " senses the form of the object; first, by perceiving features of the object by our external senses. This sensory informa\n",
            "tion is supplied to the internal senses, which merge all the pieces into a whole, unified conscious experience. This pro\n",
            "cess of perception and abstraction is the nexus of the soul and body, for the material body may only perceive material o\n",
            "bjects, while the immaterial soul may only receive the immaterial, universal forms. The way the soul and body interact i\n",
            "n the final abstraction of the universal from the concrete particular is the key to their relationship and interaction, \n",
            "which takes place in the physical body.\n",
            "====================================================================================================================================================== \n",
            "QUESTION:                                                                                                                  ANSWER:\n",
            "According to Avicenna, the body and soul must be what in order to ensure the soul's individuation?                         strong enough\n",
            "How does man first perceive features of an object?                                                                         external senses\n",
            "How does Avicenna  explain the connection between body and soul?                                                           his understanding of perception\n",
            "The body and soul's interaction takes place where?                                                                         the physical body\n",
            "What does Avicenna ground his psychology on?                                                                               physiology\n"
          ],
          "name": "stdout"
        }
      ]
    },
    {
      "cell_type": "markdown",
      "metadata": {
        "id": "hqrIFmrK2Igt"
      },
      "source": [
        "## Tokenizer"
      ]
    },
    {
      "cell_type": "code",
      "metadata": {
        "colab": {
          "base_uri": "https://localhost:8080/"
        },
        "id": "i8fuDPtRNDjg",
        "outputId": "19520350-4ff1-430b-a79e-6491c558e41d"
      },
      "source": [
        "# Load pre-trained model tokenizer (vocabulary)\r\n",
        "tokenizer = BertTokenizer.from_pretrained('bert-base-uncased')\r\n",
        "\r\n",
        "print('[[CLS], [SEP]] = {}'.format(tokenizer.convert_tokens_to_ids(['[CLS]', '[SEP]'])))\r\n",
        "\r\n",
        "# Split the sentence into tokens.\r\n",
        "tokenized_text = tokenizer.tokenize(train_df['question_text'][0])\r\n",
        "\r\n",
        "# Print out the tokens.\r\n",
        "print('\\nTokenized sentence:')\r\n",
        "print(tokenized_text)\r\n",
        "\r\n",
        "# Map the token strings to their vocabulary indeces.\r\n",
        "indexed_tokens = tokenizer.convert_tokens_to_ids(tokenized_text)\r\n",
        "\r\n",
        "# Display the words with their indices.\r\n",
        "print('\\n{:<12} {:>6}\\n'.format('TOKENS', 'INDICES'))\r\n",
        "for tup in zip(tokenized_text, indexed_tokens):\r\n",
        "    print('{:<12} {:>6}'.format(tup[0], tup[1]))"
      ],
      "execution_count": 24,
      "outputs": [
        {
          "output_type": "stream",
          "text": [
            "[[CLS], [SEP]] = [101, 102]\n",
            "\n",
            "Tokenized sentence:\n",
            "['what', 'language', 'is', 'the', 'word', 'dialect', '##us', 'from', '?']\n",
            "\n",
            "TOKENS       INDICES\n",
            "\n",
            "what           2054\n",
            "language       2653\n",
            "is             2003\n",
            "the            1996\n",
            "word           2773\n",
            "dialect        9329\n",
            "##us           2271\n",
            "from           2013\n",
            "?              1029\n"
          ],
          "name": "stdout"
        }
      ]
    },
    {
      "cell_type": "markdown",
      "metadata": {
        "id": "M3Vfn1xvRoiG"
      },
      "source": [
        "## Prepare data for model"
      ]
    },
    {
      "cell_type": "code",
      "metadata": {
        "id": "nEy0mp9yzXjn"
      },
      "source": [
        "# Prints COOL progress bar (No, seriously, it's really cool!)\r\n",
        "# REALLY DUDE, THIS STUFF IS GOLD\r\n",
        "def print_progress(value, total, bar_width=100):\r\n",
        "  perc = int(value/total*bar_width)\r\n",
        "  rest = bar_width - perc\r\n",
        "  print(\"\\r{:>3} % [ {}{} ]\".format(perc, perc*'■', rest*'─'), end=\"\")\r\n",
        "\r\n",
        "# ensure to preserve all sub-sequences of length limi-stride. \r\n",
        "def split_long_sequence(my_sequence, limit, stride):\r\n",
        "\r\n",
        "  if len(my_sequence) <= limit: \r\n",
        "    return [my_sequence]\r\n",
        "  \r\n",
        "  rest = my_sequence\r\n",
        "  split = []\r\n",
        "  while len(rest) > limit:\r\n",
        "    left_hand = rest[:limit]\r\n",
        "    rest = rest[stride:]\r\n",
        "    split.append(left_hand)\r\n",
        "    \r\n",
        "  split.append(rest)\r\n",
        "  return split\r\n",
        "\r\n",
        "# Returns start and end indices of sublist in list\r\n",
        "def find_sublist(a, b):\r\n",
        "  if len(a) == 0 or len(b) == 0:\r\n",
        "    raise Exception(\"Lists with length 0\")\r\n",
        "    \r\n",
        "  for i in range(len(a) - len(b) +1):\r\n",
        "    if np.array_equal(a[i:i+len(b)], b):\r\n",
        "      return i, i+len(b)-1\r\n",
        "  return -1, -1"
      ],
      "execution_count": 25,
      "outputs": []
    },
    {
      "cell_type": "code",
      "metadata": {
        "id": "jayMk-aHPYVB"
      },
      "source": [
        "def from_df_to_model_dict(df, context_dict, verbose=False):\r\n",
        "\r\n",
        "  # initialize structures\r\n",
        "  question_id = []\r\n",
        "  question_text = []\r\n",
        "  context_id = []\r\n",
        "  answer_text = []\r\n",
        "  input_ids = []\r\n",
        "  input_mask = []\r\n",
        "  input_type_ids = []\r\n",
        "  start_indexes = []\r\n",
        "  end_indexes = []\r\n",
        "\r\n",
        "  cut_counter = 0\r\n",
        "  max_iter = len(df)\r\n",
        "  new_entries = 0\r\n",
        "  for i, (_, row) in enumerate(df.iterrows()):\r\n",
        "\r\n",
        "    # print progress\r\n",
        "    if (i+1) % (max_iter // 100) == 0 or i == 0:\r\n",
        "      print_progress(i+1, max_iter)\r\n",
        "\r\n",
        "    # encode question and context\r\n",
        "    if verbose: print(\"\\tTokenizing question and context...\", end=\"\")\r\n",
        "    encoded_question = tokenizer.encode(row['question_text'])\r\n",
        "    encoded_context = tokenizer.encode(context_dict[row['context_id']])[1:]\r\n",
        "\r\n",
        "    # concatenate input data \r\n",
        "    if verbose: print(\"\\tChecking sequence length...\")\r\n",
        "    if len(encoded_question + encoded_context) > SEQUENCE_LIMIT:\r\n",
        "      # if the sequence is too long, split it in n subsequences of length <= SEQUENCE_LIMIT\r\n",
        "      encoded_contexts = split_long_sequence(encoded_context,\r\n",
        "                                             limit=SEQUENCE_LIMIT-len(encoded_question), \r\n",
        "                                             stride=STRIDE)\r\n",
        "      cut_counter += 1\r\n",
        "    else:\r\n",
        "      encoded_contexts = [encoded_context]\r\n",
        "    \r\n",
        "    new_entries += len(encoded_contexts)-1\r\n",
        "    # for each too long sequence, the context has been split in n parts. We need to process them separately, creating new entries for the input\r\n",
        "    for context_piece in encoded_contexts:\r\n",
        "      \r\n",
        "      encoded_input = encoded_question + context_piece\r\n",
        "\r\n",
        "      # create mask of ones\r\n",
        "      ones_mask = tf.ones_like(encoded_input)\r\n",
        "\r\n",
        "      # add padding and convert to tensor\r\n",
        "      if verbose: print(\"\\tPadding...\", end=\"\")\r\n",
        "      encoded_input = tf.keras.preprocessing.sequence.pad_sequences([encoded_input], maxlen=512, padding='pre')\r\n",
        "      encoded_input = tf.squeeze(tf.convert_to_tensor(encoded_input))\r\n",
        "\r\n",
        "      # processing answer indices\r\n",
        "      if verbose: print(\"\\tProcessing answer...\", end=\"\")\r\n",
        "      tokenized_answer = tokenizer.encode(row['answer_text'])[1: -1]\r\n",
        "      start_idx, end_idx = find_sublist(encoded_input, tokenized_answer)\r\n",
        "\r\n",
        "      start_indexes.append(start_idx)\r\n",
        "      end_indexes.append(end_idx)\r\n",
        "\r\n",
        "\r\n",
        "      # create input_type_ids\r\n",
        "      if verbose: print(\"\\tInput types creation...\", end=\"\")\r\n",
        "      type_ids = tf.concat([tf.zeros_like(encoded_question, dtype=tf.int32), \r\n",
        "                            tf.ones_like(context_piece, dtype=tf.int32)], \r\n",
        "                          axis=-1)\r\n",
        "      \r\n",
        "      type_ids = tf.keras.preprocessing.sequence.pad_sequences([type_ids], maxlen=512, padding='pre')\r\n",
        "      type_ids = tf.squeeze(tf.convert_to_tensor(type_ids))\r\n",
        "\r\n",
        "\r\n",
        "      # create mask of zeros\r\n",
        "      if verbose: print(\"\\tMask creation...\", end=\"\")\r\n",
        "      zeros_mask = tf.zeros(SEQUENCE_LIMIT - len(ones_mask), dtype=tf.int32)\r\n",
        "      mask = tf.concat([zeros_mask, ones_mask], axis=-1)\r\n",
        "\r\n",
        "      # append elements to lists\r\n",
        "      if verbose: print(\"\\tAppending inputs...\", end=\"\")\r\n",
        "      question_id.append(row['question_id'])\r\n",
        "      question_text.append(row['question_text'])\r\n",
        "      context_id.append(row['context_id'])\r\n",
        "      answer_text.append(row['answer_text'])\r\n",
        "      input_ids.append(encoded_input)\r\n",
        "      input_mask.append(mask)\r\n",
        "      input_type_ids.append(type_ids)\r\n",
        "\r\n",
        "  # save input data as dictionary\r\n",
        "  data = {\r\n",
        "    'question_id': question_id,\r\n",
        "    'question_text': question_text,\r\n",
        "    'answer_text': answer_text,\r\n",
        "    'context_id': context_id,\r\n",
        "    'input_ids': tf.convert_to_tensor(input_ids),\r\n",
        "    'attention_mask': tf.convert_to_tensor(input_mask),\r\n",
        "    'token_type_ids': tf.convert_to_tensor(input_type_ids),\r\n",
        "    'start_idx': start_indexes,\r\n",
        "    'end_idx': end_indexes,\r\n",
        "    }\r\n",
        "\r\n",
        "  assert len(input_ids) == len(df) + new_entries, f\"ATTENTION:\\nci sono {len(input_ids)} input_ids, MA {len(df)} righe nel df e {new_entries} nuove entries\"\r\n",
        "  return data"
      ],
      "execution_count": 26,
      "outputs": []
    },
    {
      "cell_type": "markdown",
      "metadata": {
        "id": "UXCcgd3cSgAm"
      },
      "source": [
        "# Building Dataset"
      ]
    },
    {
      "cell_type": "code",
      "metadata": {
        "id": "irK7yfKKV1LU"
      },
      "source": [
        "if not LOAD_DATASET:\r\n",
        "  print(\"Building training set...\")\r\n",
        "  train = from_df_to_model_dict(train_df[:TRAIN_LIMIT], train_context_dict)\r\n",
        "\r\n",
        "  print(\"\\n\\nBuilding validation set...\")\r\n",
        "  val = from_df_to_model_dict(val_df[:VAL_LIMIT], val_context_dict)"
      ],
      "execution_count": 27,
      "outputs": []
    },
    {
      "cell_type": "markdown",
      "metadata": {
        "id": "DBvYDn5dUSTF"
      },
      "source": [
        "# Index to categorical\r\n"
      ]
    },
    {
      "cell_type": "code",
      "metadata": {
        "id": "9iktKwoXUKAj"
      },
      "source": [
        "if not LOAD_DATASET: \r\n",
        "  # Replace -1 (answer not found) with 0\r\n",
        "  train['start_idx'] = [val if val != -1 else 0 for val in train['start_idx']]\r\n",
        "  train['end_idx'] = [val if val != -1 else 0 for val in train['end_idx']]\r\n",
        "\r\n",
        "  val['start_idx'] = [val if val != -1 else 0 for val in val['start_idx']]\r\n",
        "  val['end_idx'] = [val if val != -1 else 0 for val in val['end_idx']]\r\n",
        "\r\n",
        "  # from ints to categorical\r\n",
        "  train['start_cat'] = tf.keras.utils.to_categorical(train['start_idx'], num_classes=SEQUENCE_LIMIT)\r\n",
        "  train['end_cat'] = tf.keras.utils.to_categorical(train['end_idx'], num_classes=SEQUENCE_LIMIT)\r\n",
        "\r\n",
        "  val['start_cat'] = tf.keras.utils.to_categorical(val['start_idx'], num_classes=SEQUENCE_LIMIT)\r\n",
        "  val['end_cat'] = tf.keras.utils.to_categorical(val['end_idx'], num_classes=SEQUENCE_LIMIT)\r\n",
        "\r\n",
        "  # Inspect data\r\n",
        "  assert len(train['start_idx']) == len(train['end_idx']) == len(train['input_ids']) == len(train['attention_mask']) == len(train['token_type_ids'])\r\n",
        "  assert len(val['start_idx']) == len(val['end_idx']) == len(val['input_ids']) == len(val['attention_mask']) == len(val['token_type_ids'])\r\n",
        "\r\n",
        "  print(\"Shapes\")\r\n",
        "  print(\"\\nTrain starts:\\t\", train['start_cat'].shape)\r\n",
        "  print(\"Train ends:\\t\", train['end_cat'].shape)\r\n",
        "  print(\"\\nVal starts:\\t\", val['start_cat'].shape)\r\n",
        "  print(\"Val ends:\\t\", val['end_cat'].shape)"
      ],
      "execution_count": 28,
      "outputs": []
    },
    {
      "cell_type": "markdown",
      "metadata": {
        "id": "i5MRM0Q_LXyW"
      },
      "source": [
        "# Save data to Drive"
      ]
    },
    {
      "cell_type": "code",
      "metadata": {
        "id": "RWW1mTlHrwe9"
      },
      "source": [
        "if SAVE_DATASET:\r\n",
        "\r\n",
        "  # TRAIN\r\n",
        "  with open(\"/content/drive/MyDrive/SQUAD/train.p\", \"wb\") as f:\r\n",
        "    pickle.dump(train, f)\r\n",
        "  with open(\"/content/drive/MyDrive/SQUAD/train_context_dict.p\", \"wb\") as f:\r\n",
        "    pickle.dump(train_context_dict, f)\r\n",
        "\r\n",
        "  # VALIDATION\r\n",
        "  with open(\"/content/drive/MyDrive/SQUAD/val.p\", \"wb\") as f:\r\n",
        "    pickle.dump(val, f)\r\n",
        "  with open(\"/content/drive/MyDrive/SQUAD/val_context_dict.p\", \"wb\") as f:\r\n",
        "    pickle.dump(val_context_dict, f)"
      ],
      "execution_count": 29,
      "outputs": []
    },
    {
      "cell_type": "markdown",
      "metadata": {
        "id": "Ok4Z7Xhltev_"
      },
      "source": [
        "# Load data from Drive"
      ]
    },
    {
      "cell_type": "code",
      "metadata": {
        "id": "ECyBOk-mtaHG"
      },
      "source": [
        "if LOAD_DATASET:\r\n",
        "\r\n",
        "  # TRAIN\r\n",
        "  with open(\"/content/drive/MyDrive/SQUAD/train.p\", \"rb\") as f:\r\n",
        "    train = pickle.load(f)\r\n",
        "  with open(\"/content/drive/MyDrive/SQUAD/train_context_dict.p\", \"rb\") as f:\r\n",
        "    train_context_dict = pickle.load(f)\r\n",
        "\r\n",
        "  # VALIDATION\r\n",
        "  with open(\"/content/drive/MyDrive/SQUAD/val.p\", \"rb\") as f:\r\n",
        "    val = pickle.load(f)\r\n",
        "  with open(\"/content/drive/MyDrive/SQUAD/val_context_dict.p\", \"rb\") as f:\r\n",
        "    val_context_dict = pickle.load(f)"
      ],
      "execution_count": 30,
      "outputs": []
    },
    {
      "cell_type": "code",
      "metadata": {
        "colab": {
          "base_uri": "https://localhost:8080/"
        },
        "id": "U5y-6b7Mg4P0",
        "outputId": "00dfebf8-f002-47ec-b50d-a0630a40697b"
      },
      "source": [
        "print(\"Shapes\")\r\n",
        "print(\"\\nTrain starts:\\t\", train['start_cat'].shape)\r\n",
        "print(\"Train ends:\\t\", train['end_cat'].shape)\r\n",
        "print(\"\\nVal starts:\\t\", val['start_cat'].shape)\r\n",
        "print(\"Val ends:\\t\", val['end_cat'].shape)\r\n",
        "\r\n",
        "assert train['start_cat'].shape == train['end_cat'].shape\r\n",
        "assert val['start_cat'].shape == val['end_cat'].shape"
      ],
      "execution_count": 31,
      "outputs": [
        {
          "output_type": "stream",
          "text": [
            "Shapes\n",
            "\n",
            "Train starts:\t (80200, 512)\n",
            "Train ends:\t (80200, 512)\n",
            "\n",
            "Val starts:\t (7524, 512)\n",
            "Val ends:\t (7524, 512)\n"
          ],
          "name": "stdout"
        }
      ]
    },
    {
      "cell_type": "markdown",
      "metadata": {
        "id": "6mZbcRg48o3E"
      },
      "source": [
        "# Build model"
      ]
    },
    {
      "cell_type": "code",
      "metadata": {
        "colab": {
          "base_uri": "https://localhost:8080/",
          "height": 1000
        },
        "id": "3PJ2O1Zn8nqr",
        "outputId": "ee80149b-12eb-497f-c734-017899329917"
      },
      "source": [
        "def build_model():\r\n",
        "\r\n",
        "  # Define Input layers\r\n",
        "  input_ids_layer = Input(shape = (512,), dtype='int64')\r\n",
        "  attention_mask_layer = Input(shape = (512,), dtype='int64')\r\n",
        "  token_ids_layer = Input(shape = (512,), dtype='int64')\r\n",
        "\r\n",
        "  # Load Bert model\r\n",
        "  bert_model = TFBertModel.from_pretrained('bert-base-uncased')\r\n",
        "  \r\n",
        "  bert_model.trainable = True\r\n",
        "  \r\n",
        "  # Initialize bert model\r\n",
        "  bert = bert_model([input_ids_layer,\r\n",
        "                    attention_mask_layer,\r\n",
        "                    token_ids_layer],\r\n",
        "                    return_dict = False,\r\n",
        "                    output_attentions = False,\r\n",
        "                    output_hidden_states = False\r\n",
        "                    ).last_hidden_state\r\n",
        "  \r\n",
        "  # Dropout\r\n",
        "  dropout = Dropout(0.2)(bert)\r\n",
        "\r\n",
        "  # Classifiers\r\n",
        "  start_classifier = Dense(units=1, name=\"Start_classifier\")(dropout)\r\n",
        "  end_classifier = Dense(units=1, name=\"End_classifier\")(dropout)\r\n",
        "\r\n",
        "  # Flatteners\r\n",
        "  start_flat = Flatten(name=\"start_flattener\")(start_classifier)\r\n",
        "  end_flat = Flatten(name=\"end_flattener\")(end_classifier)\r\n",
        "\r\n",
        "  # Activations\r\n",
        "  start_softmax = Activation(tf.keras.activations.softmax, name=\"start\")(start_flat)\r\n",
        "  end_softmax = Activation(tf.keras.activations.softmax, name=\"end\")(end_flat)\r\n",
        "\r\n",
        "  # Build model\r\n",
        "  model = Model(inputs=[input_ids_layer, attention_mask_layer, token_ids_layer], \r\n",
        "                outputs=[start_softmax, end_softmax])\r\n",
        "  \r\n",
        "  model.summary()\r\n",
        "  return model\r\n",
        "\r\n",
        "model = build_model()\r\n",
        "plot_model(model, show_shapes=True)"
      ],
      "execution_count": 32,
      "outputs": [
        {
          "output_type": "stream",
          "text": [
            "Model: \"model\"\n",
            "__________________________________________________________________________________________________\n",
            "Layer (type)                    Output Shape         Param #     Connected to                     \n",
            "==================================================================================================\n",
            "input_4 (InputLayer)            [(None, 512)]        0                                            \n",
            "__________________________________________________________________________________________________\n",
            "input_5 (InputLayer)            [(None, 512)]        0                                            \n",
            "__________________________________________________________________________________________________\n",
            "input_6 (InputLayer)            [(None, 512)]        0                                            \n",
            "__________________________________________________________________________________________________\n",
            "tf_bert_model_1 (TFBertModel)   TFBaseModelOutputWit 109482240   input_4[0][0]                    \n",
            "                                                                 input_5[0][0]                    \n",
            "                                                                 input_6[0][0]                    \n",
            "__________________________________________________________________________________________________\n",
            "dropout_44 (Dropout)            (None, 512, 768)     0           tf_bert_model_1[0][0]            \n",
            "__________________________________________________________________________________________________\n",
            "Start_classifier (Dense)        (None, 512, 1)       769         dropout_44[0][0]                 \n",
            "__________________________________________________________________________________________________\n",
            "End_classifier (Dense)          (None, 512, 1)       769         dropout_44[0][0]                 \n",
            "__________________________________________________________________________________________________\n",
            "start_flattener (Flatten)       (None, 512)          0           Start_classifier[0][0]           \n",
            "__________________________________________________________________________________________________\n",
            "end_flattener (Flatten)         (None, 512)          0           End_classifier[0][0]             \n",
            "__________________________________________________________________________________________________\n",
            "start (Activation)              (None, 512)          0           start_flattener[0][0]            \n",
            "__________________________________________________________________________________________________\n",
            "end (Activation)                (None, 512)          0           end_flattener[0][0]              \n",
            "==================================================================================================\n",
            "Total params: 109,483,778\n",
            "Trainable params: 109,483,778\n",
            "Non-trainable params: 0\n",
            "__________________________________________________________________________________________________\n"
          ],
          "name": "stdout"
        },
        {
          "output_type": "execute_result",
          "data": {
            "image/png": "[encoded data removed]",
            "text/plain": [
              "<IPython.core.display.Image object>"
            ]
          },
          "metadata": {
            "tags": []
          },
          "execution_count": 32
        }
      ]
    },
    {
      "cell_type": "code",
      "metadata": {
        "id": "Q_6bUyPDVZaF"
      },
      "source": [
        "# Define model parameters\r\n",
        "optimizer = tf.keras.optimizers.Adam(learning_rate=5e-5, epsilon=1e-08\r\n",
        "                                     #, clipnorm=1.0\r\n",
        "                                     )\r\n",
        "loss = tf.keras.losses.SparseCategoricalCrossentropy(from_logits=True)\r\n",
        "metric = tf.keras.metrics.SparseCategoricalAccuracy('accuracy')\r\n",
        "model.compile(optimizer=optimizer, loss=loss, metrics=[metric])"
      ],
      "execution_count": 33,
      "outputs": []
    },
    {
      "cell_type": "markdown",
      "metadata": {
        "id": "gfUxCHLSusuV"
      },
      "source": [
        "# Train"
      ]
    },
    {
      "cell_type": "code",
      "metadata": {
        "id": "N167y8iNlggC"
      },
      "source": [
        "class LossHistory(keras.callbacks.Callback):\r\n",
        "    def on_train_begin(self, logs={}):\r\n",
        "        self.losses = []\r\n",
        "\r\n",
        "    def on_batch_end(self, batch, logs={}):\r\n",
        "        self.losses.append(logs.get('loss'))"
      ],
      "execution_count": 34,
      "outputs": []
    },
    {
      "cell_type": "code",
      "metadata": {
        "id": "pFMvrRZRV6NL",
        "outputId": "8b25e1a5-5247-459e-fafa-71cc7c7510ec",
        "colab": {
          "base_uri": "https://localhost:8080/"
        }
      },
      "source": [
        "if TRAIN:\r\n",
        "\r\n",
        "  for i in range(EPOCHS):\r\n",
        "\r\n",
        "    history = LossHistory()\r\n",
        "    \r\n",
        "    # Fit model with train set\r\n",
        "    model_fit = model.fit(x = [train['input_ids'][:TRAIN_LIMIT],\r\n",
        "                              train['attention_mask'][:TRAIN_LIMIT],\r\n",
        "                              train['token_type_ids'][:TRAIN_LIMIT]],\r\n",
        "                          y = (np.array(train['start_idx'][:TRAIN_LIMIT], dtype=np.float32),\r\n",
        "                              np.array(train['end_idx'][:TRAIN_LIMIT], dtype=np.float32)),\r\n",
        "                              \r\n",
        "                              batch_size = BATCH_SIZE,\r\n",
        "                              epochs = 1, \r\n",
        "                              callbacks = [history],\r\n",
        "                              \r\n",
        "                              validation_data=([val['input_ids'][:VAL_LIMIT],\r\n",
        "                                                val['attention_mask'][:VAL_LIMIT],\r\n",
        "                                                val['token_type_ids'][:VAL_LIMIT]],\r\n",
        "                                                (np.array(val['start_idx'][:VAL_LIMIT], dtype=np.float32),\r\n",
        "                                                np.array(val['end_idx'][:VAL_LIMIT], dtype=np.float32))\r\n",
        "                                              )\r\n",
        "                              )\r\n",
        "      \r\n",
        "    if SAVE_WEIGHTS:\r\n",
        "      model.save_weights(f'/content/drive/MyDrive/SQUAD/weights_epoch_{i+1}.h5')\r\n",
        "      \r\n",
        "      with open(f\"/content/drive/MyDrive/SQUAD/Results/losses_epoch_{i+1}.txt\", \"wb\") as f:\r\n",
        "        pickle.dump(history.losses, f)"
      ],
      "execution_count": null,
      "outputs": [
        {
          "output_type": "stream",
          "text": [
            "  131/10025 [..............................] - ETA: 1:28:45 - loss: 8.7376 - start_loss: 4.3760 - end_loss: 4.3616 - start_accuracy: 0.0728 - end_accuracy: 0.0789"
          ],
          "name": "stdout"
        }
      ]
    },
    {
      "cell_type": "markdown",
      "metadata": {
        "id": "qBZuBfspH47n"
      },
      "source": [
        "# Test"
      ]
    },
    {
      "cell_type": "code",
      "metadata": {
        "id": "7_571QuvpvCx"
      },
      "source": [
        "epoch = 1\r\n",
        "\r\n",
        "if LOAD_WEIGHTS:\r\n",
        "    model.load_weights(f'/content/drive/MyDrive/SQUAD/weights_epoch_{epoch}.h5')\r\n",
        "\r\n",
        "if LOAD_LOSS:\r\n",
        "  with open(f\"/content/drive/MyDrive/SQUAD/Results/losses_epoch_{epoch}.txt\", \"rb\") as f:\r\n",
        "    losses = pickle.load(f)"
      ],
      "execution_count": null,
      "outputs": []
    },
    {
      "cell_type": "markdown",
      "metadata": {
        "id": "4BhsRC4Fx-0X"
      },
      "source": [
        "## Compute predictions"
      ]
    },
    {
      "cell_type": "code",
      "metadata": {
        "id": "MB8A1y-iaK_w"
      },
      "source": [
        "# Predict test set\r\n",
        "pred = model.predict([val[\"input_ids\"][:VAL_LIMIT], \r\n",
        "                      val[\"attention_mask\"][:VAL_LIMIT], \r\n",
        "                      val[\"token_type_ids\"][:VAL_LIMIT]],\r\n",
        "                      verbose = 1)\r\n",
        "\r\n",
        "pred_start_ids = np.argmax(pred[0], axis=-1)\r\n",
        "pred_end_ids = np.argmax(pred[1], axis=-1)"
      ],
      "execution_count": null,
      "outputs": []
    },
    {
      "cell_type": "markdown",
      "metadata": {
        "id": "AW8A7LtvxJLB"
      },
      "source": [
        "## Compute scores"
      ]
    },
    {
      "cell_type": "code",
      "metadata": {
        "id": "SQTezuqNgS3v"
      },
      "source": [
        "start_acc  = accuracy_score(val['start_idx'][:VAL_LIMIT], pred_start_ids)\r\n",
        "end_acc    = accuracy_score(val['end_idx'][:VAL_LIMIT], pred_end_ids)\r\n",
        "start_f1   = f1_score(val['start_idx'][:VAL_LIMIT], pred_start_ids, average=\"macro\")\r\n",
        "end_f1     = f1_score(val['end_idx'][:VAL_LIMIT], pred_end_ids, average=\"macro\")"
      ],
      "execution_count": null,
      "outputs": []
    },
    {
      "cell_type": "code",
      "metadata": {
        "id": "G4UxhuKvq3gv"
      },
      "source": [
        "def most_similar_answer(context, answer):\r\n",
        "\r\n",
        "  original_answer = answer\r\n",
        "  \r\n",
        "  answer = answer.replace(\" %\", \"%\")\r\n",
        "\r\n",
        "  answer = answer.replace(\" . \", \"\")\r\n",
        "  answer = answer.replace(\" '\", \"\")\r\n",
        "  answer = answer.replace(' \"', '')\r\n",
        "  answer = answer.replace(\" “\", \"\")\r\n",
        "  answer = answer.replace(\" ”\", \"\")\r\n",
        "  answer = answer.replace(\" , \", \",\")\r\n",
        "  # answer = answer.replace(\" ,\", \"\")\r\n",
        "  answer = answer.replace(\" ;\", \"\")\r\n",
        "  answer = answer.replace(\" - \", \"-\")\r\n",
        "  answer = answer.replace(\" – \", \"–\")\r\n",
        "  answer = answer.replace(\" ( \", \"\")\r\n",
        "  answer = answer.replace(\" ) \", \"\")\r\n",
        "  \r\n",
        "  context = context.replace(\".\", \"\")\r\n",
        "  context = context.replace(\", \", \" \")\r\n",
        "  #context = context.replace(\",\", \"\")\r\n",
        "  context = context.replace(\";\", \"\")\r\n",
        "  context = context.replace('\"', '')\r\n",
        "  context = context.replace(\"“\", \"\")\r\n",
        "  context = context.replace(\"”\", \"\")\r\n",
        "  context = context.replace(\"'\", \" \")\r\n",
        "  context = context.replace(\"\\\"\", \"\")\r\n",
        "  context = context.replace(\"(\", \"\")\r\n",
        "  context = context.replace(\")\", \"\")\r\n",
        "\r\n",
        "  answer_list = answer.split(\" \")\r\n",
        "  context_list = context.split(\" \")\r\n",
        "\r\n",
        "  for i, element in enumerate(context_list):\r\n",
        "    lowered = []\r\n",
        "    for token in context_list[i:i+len(answer_list)]:\r\n",
        "      lowered.append(token.lower())\r\n",
        "    \r\n",
        "    if lowered == answer_list:\r\n",
        "      return True, ' '.join(context_list[i:i+len(answer_list)])\r\n",
        "  \r\n",
        "  return False, original_answer"
      ],
      "execution_count": null,
      "outputs": []
    },
    {
      "cell_type": "code",
      "metadata": {
        "id": "uIuAA3o9gCWs"
      },
      "source": [
        "def get_text_from_token_ids(context, start_id, end_id):\r\n",
        "  return tokenizer.convert_tokens_to_string(tokenizer.convert_ids_to_tokens(context[start_id:end_id+1]))\r\n",
        "\r\n",
        "# Initialize variables\r\n",
        "outputs_dict = {}       # output dictionary in requested format ('question_id': 'answer_text')\r\n",
        "exact_match = 0         # exact match counter\r\n",
        "exact_match_strings = 0 # exact match between the two strings counter\r\n",
        "\r\n",
        "for i, input_ids in enumerate(val['input_ids'][:VAL_LIMIT]):\r\n",
        "\r\n",
        "  # Extract variables\r\n",
        "  question_id = val['question_id'][i]\r\n",
        "  question_text = val[\"question_text\"][i]\r\n",
        "  context = val_context_dict[val[\"context_id\"][i]]\r\n",
        "  true_start = val['start_idx'][i]\r\n",
        "  true_end = val['end_idx'][i]\r\n",
        "  pred_start = pred_start_ids[i]\r\n",
        "  pred_end = pred_end_ids[i]\r\n",
        "\r\n",
        "  # Extract answers\r\n",
        "  true_answer = val['answer_text'][i]\r\n",
        "  predicted_answer = get_text_from_token_ids(input_ids, pred_start, pred_end)\r\n",
        "\r\n",
        "  # Convert answer (if possible)\r\n",
        "  convert_flag, converted_answer = most_similar_answer(context, predicted_answer)\r\n",
        "\r\n",
        "  # Count exact matches\r\n",
        "  if pred_start == true_start and pred_end == true_end:\r\n",
        "    exact_match += 1\r\n",
        "    if true_answer != converted_answer:\r\n",
        "      print(\"CONTEXT:\", context)\r\n",
        "      print(\"TRUE ANSWER:\", true_answer, \"IDS:\", true_start, true_end)\r\n",
        "      print(\"OUR ANSWER\", converted_answer, \"IDS:\", pred_start, pred_end)\r\n",
        "      if convert_flag:\r\n",
        "        print(\"was converted\")\r\n",
        "      print()\r\n",
        "\r\n",
        "    \r\n",
        "  # If answer not found\r\n",
        "  if pred_start == 0 and pred_end == 0:\r\n",
        "    converted_answer = \"\"\r\n",
        "\r\n",
        "  if true_answer == converted_answer:\r\n",
        "    exact_match_strings += 1\r\n",
        "\r\n",
        "  # Write answer dictionary\r\n",
        "  outputs_dict[question_id] = converted_answer\r\n",
        "\r\n",
        "  # Print some examples\r\n",
        "  if i % 1000 == 0:\r\n",
        "    print(\"\\n\\nQuestion: \\n\", question_text)\r\n",
        "    print(\"Context: \\n\", context)\r\n",
        "\r\n",
        "    print(f\"True answer: \\n\\tids {(true_start, true_end)}\\t\\ttext: {true_answer}\")\r\n",
        "    print(f\"Our answer: \\n\\tids {(pred_start, pred_end)}\\t\\ttext: {converted_answer}\")\r\n",
        "    \r\n",
        "    if convert_flag:\r\n",
        "      print(\"(was converted)\")\r\n",
        "\r\n",
        "    print(\"\\n\", \"-\"*50)"
      ],
      "execution_count": null,
      "outputs": []
    },
    {
      "cell_type": "code",
      "metadata": {
        "id": "7lJNXaHs4BIs"
      },
      "source": [
        "print(\"Test exact matches between strings: {}/{} ({:.2f}%)\".format(exact_match_strings, exact_match, exact_match_strings/exact_match*100))"
      ],
      "execution_count": null,
      "outputs": []
    },
    {
      "cell_type": "markdown",
      "metadata": {
        "id": "PleXABTow5VI"
      },
      "source": [
        "## Save results to Drive"
      ]
    },
    {
      "cell_type": "code",
      "metadata": {
        "id": "mRdxAI9ug1kE"
      },
      "source": [
        "time = datetime.now().strftime(\"%d-%m-%Y_%H:%M\")\r\n",
        "\r\n",
        "with open(f\"/content/drive/MyDrive/SQUAD/Results/results_{time}.txt\", \"w\") as f:\r\n",
        "\r\n",
        "  f.write(f\"TEST start accuracy: {start_acc}\")\r\n",
        "  f.write(f\"\\nTEST start f1-score: {start_f1}\")\r\n",
        "\r\n",
        "  f.write(f\"\\n\\nTEST end accuracy: {end_acc}\")\r\n",
        "  f.write(f\"\\nTEST end f1-score: {end_f1}\")\r\n",
        "\r\n",
        "  f.write(\"\\n\\nTest exact matches: {}/{} ({:.2f}%)\".format(exact_match, len(val['input_ids'][:VAL_LIMIT]), exact_match/len(val['input_ids'][:VAL_LIMIT])*100))\r\n",
        "\r\n",
        "with open(f\"/content/drive/MyDrive/SQUAD/Outputs/outputs_{time}.json\", 'w') as fp:\r\n",
        "    json.dump(outputs_dict, fp)"
      ],
      "execution_count": null,
      "outputs": []
    },
    {
      "cell_type": "markdown",
      "metadata": {
        "id": "2yudGVFyxUsi"
      },
      "source": [
        "## Load results from Drive"
      ]
    },
    {
      "cell_type": "code",
      "metadata": {
        "id": "JmNfhR5uqDZk"
      },
      "source": [
        "with open(f\"/content/drive/MyDrive/SQUAD/Results/results_{time}.txt\", \"r\") as f:\r\n",
        "  for line in f.readlines():\r\n",
        "    print(line, end=\"\")\r\n",
        "\r\n",
        "with open(f\"/content/drive/MyDrive/SQUAD/Outputs/outputs_{time}.json\", \"r\") as f:\r\n",
        "  outputs_dict = json.load(f)"
      ],
      "execution_count": null,
      "outputs": []
    },
    {
      "cell_type": "code",
      "metadata": {
        "id": "0SQwvb_O3Zc7"
      },
      "source": [
        "for key in outputs_dict.keys():\r\n",
        "  print(f\"{key}: {outputs_dict[key]}\")"
      ],
      "execution_count": null,
      "outputs": []
    }
  ]
}