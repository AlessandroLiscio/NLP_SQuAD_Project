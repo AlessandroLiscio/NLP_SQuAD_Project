{
  "nbformat": 4,
  "nbformat_minor": 0,
  "metadata": {
    "colab": {
      "name": "Project-X-SQAD.ipynb",
      "provenance": []
    },
    "kernelspec": {
      "name": "python3",
      "display_name": "Python 3"
    },
    "accelerator": "GPU",
    "widgets": {
      "application/vnd.jupyter.widget-state+json": {
        "33a96d6ffb584ec7ac1dd48288dba50b": {
          "model_module": "@jupyter-widgets/controls",
          "model_name": "HBoxModel",
          "state": {
            "_view_name": "HBoxView",
            "_dom_classes": [],
            "_model_name": "HBoxModel",
            "_view_module": "@jupyter-widgets/controls",
            "_model_module_version": "1.5.0",
            "_view_count": null,
            "_view_module_version": "1.5.0",
            "box_style": "",
            "layout": "IPY_MODEL_253ce71b25694c27bc518f14d00195eb",
            "_model_module": "@jupyter-widgets/controls",
            "children": [
              "IPY_MODEL_c1fb2eb8a7a84ecd822198c03d2be168",
              "IPY_MODEL_7d091b408b784be49813684bee66632f"
            ]
          }
        },
        "253ce71b25694c27bc518f14d00195eb": {
          "model_module": "@jupyter-widgets/base",
          "model_name": "LayoutModel",
          "state": {
            "_view_name": "LayoutView",
            "grid_template_rows": null,
            "right": null,
            "justify_content": null,
            "_view_module": "@jupyter-widgets/base",
            "overflow": null,
            "_model_module_version": "1.2.0",
            "_view_count": null,
            "flex_flow": null,
            "width": null,
            "min_width": null,
            "border": null,
            "align_items": null,
            "bottom": null,
            "_model_module": "@jupyter-widgets/base",
            "top": null,
            "grid_column": null,
            "overflow_y": null,
            "overflow_x": null,
            "grid_auto_flow": null,
            "grid_area": null,
            "grid_template_columns": null,
            "flex": null,
            "_model_name": "LayoutModel",
            "justify_items": null,
            "grid_row": null,
            "max_height": null,
            "align_content": null,
            "visibility": null,
            "align_self": null,
            "height": null,
            "min_height": null,
            "padding": null,
            "grid_auto_rows": null,
            "grid_gap": null,
            "max_width": null,
            "order": null,
            "_view_module_version": "1.2.0",
            "grid_template_areas": null,
            "object_position": null,
            "object_fit": null,
            "grid_auto_columns": null,
            "margin": null,
            "display": null,
            "left": null
          }
        },
        "c1fb2eb8a7a84ecd822198c03d2be168": {
          "model_module": "@jupyter-widgets/controls",
          "model_name": "FloatProgressModel",
          "state": {
            "_view_name": "ProgressView",
            "style": "IPY_MODEL_d4186dcf97e74ef098910ade2b522aeb",
            "_dom_classes": [],
            "description": "Downloading: 100%",
            "_model_name": "FloatProgressModel",
            "bar_style": "success",
            "max": 231508,
            "_view_module": "@jupyter-widgets/controls",
            "_model_module_version": "1.5.0",
            "value": 231508,
            "_view_count": null,
            "_view_module_version": "1.5.0",
            "orientation": "horizontal",
            "min": 0,
            "description_tooltip": null,
            "_model_module": "@jupyter-widgets/controls",
            "layout": "IPY_MODEL_9c88fecc26904a0c88515ba380ad28e7"
          }
        },
        "7d091b408b784be49813684bee66632f": {
          "model_module": "@jupyter-widgets/controls",
          "model_name": "HTMLModel",
          "state": {
            "_view_name": "HTMLView",
            "style": "IPY_MODEL_e1faaaafce3c4c858defa62ed1b66f37",
            "_dom_classes": [],
            "description": "",
            "_model_name": "HTMLModel",
            "placeholder": "​",
            "_view_module": "@jupyter-widgets/controls",
            "_model_module_version": "1.5.0",
            "value": " 232k/232k [00:00&lt;00:00, 3.70MB/s]",
            "_view_count": null,
            "_view_module_version": "1.5.0",
            "description_tooltip": null,
            "_model_module": "@jupyter-widgets/controls",
            "layout": "IPY_MODEL_07ddc7cf41054779afe2367ed1df4217"
          }
        },
        "d4186dcf97e74ef098910ade2b522aeb": {
          "model_module": "@jupyter-widgets/controls",
          "model_name": "ProgressStyleModel",
          "state": {
            "_view_name": "StyleView",
            "_model_name": "ProgressStyleModel",
            "description_width": "initial",
            "_view_module": "@jupyter-widgets/base",
            "_model_module_version": "1.5.0",
            "_view_count": null,
            "_view_module_version": "1.2.0",
            "bar_color": null,
            "_model_module": "@jupyter-widgets/controls"
          }
        },
        "9c88fecc26904a0c88515ba380ad28e7": {
          "model_module": "@jupyter-widgets/base",
          "model_name": "LayoutModel",
          "state": {
            "_view_name": "LayoutView",
            "grid_template_rows": null,
            "right": null,
            "justify_content": null,
            "_view_module": "@jupyter-widgets/base",
            "overflow": null,
            "_model_module_version": "1.2.0",
            "_view_count": null,
            "flex_flow": null,
            "width": null,
            "min_width": null,
            "border": null,
            "align_items": null,
            "bottom": null,
            "_model_module": "@jupyter-widgets/base",
            "top": null,
            "grid_column": null,
            "overflow_y": null,
            "overflow_x": null,
            "grid_auto_flow": null,
            "grid_area": null,
            "grid_template_columns": null,
            "flex": null,
            "_model_name": "LayoutModel",
            "justify_items": null,
            "grid_row": null,
            "max_height": null,
            "align_content": null,
            "visibility": null,
            "align_self": null,
            "height": null,
            "min_height": null,
            "padding": null,
            "grid_auto_rows": null,
            "grid_gap": null,
            "max_width": null,
            "order": null,
            "_view_module_version": "1.2.0",
            "grid_template_areas": null,
            "object_position": null,
            "object_fit": null,
            "grid_auto_columns": null,
            "margin": null,
            "display": null,
            "left": null
          }
        },
        "e1faaaafce3c4c858defa62ed1b66f37": {
          "model_module": "@jupyter-widgets/controls",
          "model_name": "DescriptionStyleModel",
          "state": {
            "_view_name": "StyleView",
            "_model_name": "DescriptionStyleModel",
            "description_width": "",
            "_view_module": "@jupyter-widgets/base",
            "_model_module_version": "1.5.0",
            "_view_count": null,
            "_view_module_version": "1.2.0",
            "_model_module": "@jupyter-widgets/controls"
          }
        },
        "07ddc7cf41054779afe2367ed1df4217": {
          "model_module": "@jupyter-widgets/base",
          "model_name": "LayoutModel",
          "state": {
            "_view_name": "LayoutView",
            "grid_template_rows": null,
            "right": null,
            "justify_content": null,
            "_view_module": "@jupyter-widgets/base",
            "overflow": null,
            "_model_module_version": "1.2.0",
            "_view_count": null,
            "flex_flow": null,
            "width": null,
            "min_width": null,
            "border": null,
            "align_items": null,
            "bottom": null,
            "_model_module": "@jupyter-widgets/base",
            "top": null,
            "grid_column": null,
            "overflow_y": null,
            "overflow_x": null,
            "grid_auto_flow": null,
            "grid_area": null,
            "grid_template_columns": null,
            "flex": null,
            "_model_name": "LayoutModel",
            "justify_items": null,
            "grid_row": null,
            "max_height": null,
            "align_content": null,
            "visibility": null,
            "align_self": null,
            "height": null,
            "min_height": null,
            "padding": null,
            "grid_auto_rows": null,
            "grid_gap": null,
            "max_width": null,
            "order": null,
            "_view_module_version": "1.2.0",
            "grid_template_areas": null,
            "object_position": null,
            "object_fit": null,
            "grid_auto_columns": null,
            "margin": null,
            "display": null,
            "left": null
          }
        },
        "e24009f9bcfc4adf807edaa2546346f5": {
          "model_module": "@jupyter-widgets/controls",
          "model_name": "HBoxModel",
          "state": {
            "_view_name": "HBoxView",
            "_dom_classes": [],
            "_model_name": "HBoxModel",
            "_view_module": "@jupyter-widgets/controls",
            "_model_module_version": "1.5.0",
            "_view_count": null,
            "_view_module_version": "1.5.0",
            "box_style": "",
            "layout": "IPY_MODEL_290811dbff0344c7bdbb9dd871ce50d9",
            "_model_module": "@jupyter-widgets/controls",
            "children": [
              "IPY_MODEL_a8fd42b3f22d4152be03e622c0fec576",
              "IPY_MODEL_286e2a68ad28487d92942595159e5f56"
            ]
          }
        },
        "290811dbff0344c7bdbb9dd871ce50d9": {
          "model_module": "@jupyter-widgets/base",
          "model_name": "LayoutModel",
          "state": {
            "_view_name": "LayoutView",
            "grid_template_rows": null,
            "right": null,
            "justify_content": null,
            "_view_module": "@jupyter-widgets/base",
            "overflow": null,
            "_model_module_version": "1.2.0",
            "_view_count": null,
            "flex_flow": null,
            "width": null,
            "min_width": null,
            "border": null,
            "align_items": null,
            "bottom": null,
            "_model_module": "@jupyter-widgets/base",
            "top": null,
            "grid_column": null,
            "overflow_y": null,
            "overflow_x": null,
            "grid_auto_flow": null,
            "grid_area": null,
            "grid_template_columns": null,
            "flex": null,
            "_model_name": "LayoutModel",
            "justify_items": null,
            "grid_row": null,
            "max_height": null,
            "align_content": null,
            "visibility": null,
            "align_self": null,
            "height": null,
            "min_height": null,
            "padding": null,
            "grid_auto_rows": null,
            "grid_gap": null,
            "max_width": null,
            "order": null,
            "_view_module_version": "1.2.0",
            "grid_template_areas": null,
            "object_position": null,
            "object_fit": null,
            "grid_auto_columns": null,
            "margin": null,
            "display": null,
            "left": null
          }
        },
        "a8fd42b3f22d4152be03e622c0fec576": {
          "model_module": "@jupyter-widgets/controls",
          "model_name": "FloatProgressModel",
          "state": {
            "_view_name": "ProgressView",
            "style": "IPY_MODEL_6eee988370004006aa46ec9ec52803b2",
            "_dom_classes": [],
            "description": "Downloading: 100%",
            "_model_name": "FloatProgressModel",
            "bar_style": "success",
            "max": 433,
            "_view_module": "@jupyter-widgets/controls",
            "_model_module_version": "1.5.0",
            "value": 433,
            "_view_count": null,
            "_view_module_version": "1.5.0",
            "orientation": "horizontal",
            "min": 0,
            "description_tooltip": null,
            "_model_module": "@jupyter-widgets/controls",
            "layout": "IPY_MODEL_e72c64b6fc124172bcdfd4a98eb6ef40"
          }
        },
        "286e2a68ad28487d92942595159e5f56": {
          "model_module": "@jupyter-widgets/controls",
          "model_name": "HTMLModel",
          "state": {
            "_view_name": "HTMLView",
            "style": "IPY_MODEL_4deb54f50c2c42b48ca48cd317dd0b5b",
            "_dom_classes": [],
            "description": "",
            "_model_name": "HTMLModel",
            "placeholder": "​",
            "_view_module": "@jupyter-widgets/controls",
            "_model_module_version": "1.5.0",
            "value": " 433/433 [00:00&lt;00:00, 560B/s]",
            "_view_count": null,
            "_view_module_version": "1.5.0",
            "description_tooltip": null,
            "_model_module": "@jupyter-widgets/controls",
            "layout": "IPY_MODEL_ba899cd06f3b479cb8e484f8a899b832"
          }
        },
        "6eee988370004006aa46ec9ec52803b2": {
          "model_module": "@jupyter-widgets/controls",
          "model_name": "ProgressStyleModel",
          "state": {
            "_view_name": "StyleView",
            "_model_name": "ProgressStyleModel",
            "description_width": "initial",
            "_view_module": "@jupyter-widgets/base",
            "_model_module_version": "1.5.0",
            "_view_count": null,
            "_view_module_version": "1.2.0",
            "bar_color": null,
            "_model_module": "@jupyter-widgets/controls"
          }
        },
        "e72c64b6fc124172bcdfd4a98eb6ef40": {
          "model_module": "@jupyter-widgets/base",
          "model_name": "LayoutModel",
          "state": {
            "_view_name": "LayoutView",
            "grid_template_rows": null,
            "right": null,
            "justify_content": null,
            "_view_module": "@jupyter-widgets/base",
            "overflow": null,
            "_model_module_version": "1.2.0",
            "_view_count": null,
            "flex_flow": null,
            "width": null,
            "min_width": null,
            "border": null,
            "align_items": null,
            "bottom": null,
            "_model_module": "@jupyter-widgets/base",
            "top": null,
            "grid_column": null,
            "overflow_y": null,
            "overflow_x": null,
            "grid_auto_flow": null,
            "grid_area": null,
            "grid_template_columns": null,
            "flex": null,
            "_model_name": "LayoutModel",
            "justify_items": null,
            "grid_row": null,
            "max_height": null,
            "align_content": null,
            "visibility": null,
            "align_self": null,
            "height": null,
            "min_height": null,
            "padding": null,
            "grid_auto_rows": null,
            "grid_gap": null,
            "max_width": null,
            "order": null,
            "_view_module_version": "1.2.0",
            "grid_template_areas": null,
            "object_position": null,
            "object_fit": null,
            "grid_auto_columns": null,
            "margin": null,
            "display": null,
            "left": null
          }
        },
        "4deb54f50c2c42b48ca48cd317dd0b5b": {
          "model_module": "@jupyter-widgets/controls",
          "model_name": "DescriptionStyleModel",
          "state": {
            "_view_name": "StyleView",
            "_model_name": "DescriptionStyleModel",
            "description_width": "",
            "_view_module": "@jupyter-widgets/base",
            "_model_module_version": "1.5.0",
            "_view_count": null,
            "_view_module_version": "1.2.0",
            "_model_module": "@jupyter-widgets/controls"
          }
        },
        "ba899cd06f3b479cb8e484f8a899b832": {
          "model_module": "@jupyter-widgets/base",
          "model_name": "LayoutModel",
          "state": {
            "_view_name": "LayoutView",
            "grid_template_rows": null,
            "right": null,
            "justify_content": null,
            "_view_module": "@jupyter-widgets/base",
            "overflow": null,
            "_model_module_version": "1.2.0",
            "_view_count": null,
            "flex_flow": null,
            "width": null,
            "min_width": null,
            "border": null,
            "align_items": null,
            "bottom": null,
            "_model_module": "@jupyter-widgets/base",
            "top": null,
            "grid_column": null,
            "overflow_y": null,
            "overflow_x": null,
            "grid_auto_flow": null,
            "grid_area": null,
            "grid_template_columns": null,
            "flex": null,
            "_model_name": "LayoutModel",
            "justify_items": null,
            "grid_row": null,
            "max_height": null,
            "align_content": null,
            "visibility": null,
            "align_self": null,
            "height": null,
            "min_height": null,
            "padding": null,
            "grid_auto_rows": null,
            "grid_gap": null,
            "max_width": null,
            "order": null,
            "_view_module_version": "1.2.0",
            "grid_template_areas": null,
            "object_position": null,
            "object_fit": null,
            "grid_auto_columns": null,
            "margin": null,
            "display": null,
            "left": null
          }
        },
        "90956b71e7b040beb058b827c983d8d3": {
          "model_module": "@jupyter-widgets/controls",
          "model_name": "HBoxModel",
          "state": {
            "_view_name": "HBoxView",
            "_dom_classes": [],
            "_model_name": "HBoxModel",
            "_view_module": "@jupyter-widgets/controls",
            "_model_module_version": "1.5.0",
            "_view_count": null,
            "_view_module_version": "1.5.0",
            "box_style": "",
            "layout": "IPY_MODEL_668711a4ab894d5692c99ea0839ec86d",
            "_model_module": "@jupyter-widgets/controls",
            "children": [
              "IPY_MODEL_ee5c0649c5e642ec89e59e8a2c26005a",
              "IPY_MODEL_4c733b2b5f7a409299a5f995a396169c"
            ]
          }
        },
        "668711a4ab894d5692c99ea0839ec86d": {
          "model_module": "@jupyter-widgets/base",
          "model_name": "LayoutModel",
          "state": {
            "_view_name": "LayoutView",
            "grid_template_rows": null,
            "right": null,
            "justify_content": null,
            "_view_module": "@jupyter-widgets/base",
            "overflow": null,
            "_model_module_version": "1.2.0",
            "_view_count": null,
            "flex_flow": null,
            "width": null,
            "min_width": null,
            "border": null,
            "align_items": null,
            "bottom": null,
            "_model_module": "@jupyter-widgets/base",
            "top": null,
            "grid_column": null,
            "overflow_y": null,
            "overflow_x": null,
            "grid_auto_flow": null,
            "grid_area": null,
            "grid_template_columns": null,
            "flex": null,
            "_model_name": "LayoutModel",
            "justify_items": null,
            "grid_row": null,
            "max_height": null,
            "align_content": null,
            "visibility": null,
            "align_self": null,
            "height": null,
            "min_height": null,
            "padding": null,
            "grid_auto_rows": null,
            "grid_gap": null,
            "max_width": null,
            "order": null,
            "_view_module_version": "1.2.0",
            "grid_template_areas": null,
            "object_position": null,
            "object_fit": null,
            "grid_auto_columns": null,
            "margin": null,
            "display": null,
            "left": null
          }
        },
        "ee5c0649c5e642ec89e59e8a2c26005a": {
          "model_module": "@jupyter-widgets/controls",
          "model_name": "FloatProgressModel",
          "state": {
            "_view_name": "ProgressView",
            "style": "IPY_MODEL_9266f2fce3cd4382bcbd8e6d60ef215b",
            "_dom_classes": [],
            "description": "Downloading: 100%",
            "_model_name": "FloatProgressModel",
            "bar_style": "success",
            "max": 536063208,
            "_view_module": "@jupyter-widgets/controls",
            "_model_module_version": "1.5.0",
            "value": 536063208,
            "_view_count": null,
            "_view_module_version": "1.5.0",
            "orientation": "horizontal",
            "min": 0,
            "description_tooltip": null,
            "_model_module": "@jupyter-widgets/controls",
            "layout": "IPY_MODEL_011ecec243f74d33b6fb173c479046fc"
          }
        },
        "4c733b2b5f7a409299a5f995a396169c": {
          "model_module": "@jupyter-widgets/controls",
          "model_name": "HTMLModel",
          "state": {
            "_view_name": "HTMLView",
            "style": "IPY_MODEL_ce0f24e6e90e416e8ea32e611e199475",
            "_dom_classes": [],
            "description": "",
            "_model_name": "HTMLModel",
            "placeholder": "​",
            "_view_module": "@jupyter-widgets/controls",
            "_model_module_version": "1.5.0",
            "value": " 536M/536M [00:08&lt;00:00, 67.0MB/s]",
            "_view_count": null,
            "_view_module_version": "1.5.0",
            "description_tooltip": null,
            "_model_module": "@jupyter-widgets/controls",
            "layout": "IPY_MODEL_7e1547bec97a452788d7839cd9c73779"
          }
        },
        "9266f2fce3cd4382bcbd8e6d60ef215b": {
          "model_module": "@jupyter-widgets/controls",
          "model_name": "ProgressStyleModel",
          "state": {
            "_view_name": "StyleView",
            "_model_name": "ProgressStyleModel",
            "description_width": "initial",
            "_view_module": "@jupyter-widgets/base",
            "_model_module_version": "1.5.0",
            "_view_count": null,
            "_view_module_version": "1.2.0",
            "bar_color": null,
            "_model_module": "@jupyter-widgets/controls"
          }
        },
        "011ecec243f74d33b6fb173c479046fc": {
          "model_module": "@jupyter-widgets/base",
          "model_name": "LayoutModel",
          "state": {
            "_view_name": "LayoutView",
            "grid_template_rows": null,
            "right": null,
            "justify_content": null,
            "_view_module": "@jupyter-widgets/base",
            "overflow": null,
            "_model_module_version": "1.2.0",
            "_view_count": null,
            "flex_flow": null,
            "width": null,
            "min_width": null,
            "border": null,
            "align_items": null,
            "bottom": null,
            "_model_module": "@jupyter-widgets/base",
            "top": null,
            "grid_column": null,
            "overflow_y": null,
            "overflow_x": null,
            "grid_auto_flow": null,
            "grid_area": null,
            "grid_template_columns": null,
            "flex": null,
            "_model_name": "LayoutModel",
            "justify_items": null,
            "grid_row": null,
            "max_height": null,
            "align_content": null,
            "visibility": null,
            "align_self": null,
            "height": null,
            "min_height": null,
            "padding": null,
            "grid_auto_rows": null,
            "grid_gap": null,
            "max_width": null,
            "order": null,
            "_view_module_version": "1.2.0",
            "grid_template_areas": null,
            "object_position": null,
            "object_fit": null,
            "grid_auto_columns": null,
            "margin": null,
            "display": null,
            "left": null
          }
        },
        "ce0f24e6e90e416e8ea32e611e199475": {
          "model_module": "@jupyter-widgets/controls",
          "model_name": "DescriptionStyleModel",
          "state": {
            "_view_name": "StyleView",
            "_model_name": "DescriptionStyleModel",
            "description_width": "",
            "_view_module": "@jupyter-widgets/base",
            "_model_module_version": "1.5.0",
            "_view_count": null,
            "_view_module_version": "1.2.0",
            "_model_module": "@jupyter-widgets/controls"
          }
        },
        "7e1547bec97a452788d7839cd9c73779": {
          "model_module": "@jupyter-widgets/base",
          "model_name": "LayoutModel",
          "state": {
            "_view_name": "LayoutView",
            "grid_template_rows": null,
            "right": null,
            "justify_content": null,
            "_view_module": "@jupyter-widgets/base",
            "overflow": null,
            "_model_module_version": "1.2.0",
            "_view_count": null,
            "flex_flow": null,
            "width": null,
            "min_width": null,
            "border": null,
            "align_items": null,
            "bottom": null,
            "_model_module": "@jupyter-widgets/base",
            "top": null,
            "grid_column": null,
            "overflow_y": null,
            "overflow_x": null,
            "grid_auto_flow": null,
            "grid_area": null,
            "grid_template_columns": null,
            "flex": null,
            "_model_name": "LayoutModel",
            "justify_items": null,
            "grid_row": null,
            "max_height": null,
            "align_content": null,
            "visibility": null,
            "align_self": null,
            "height": null,
            "min_height": null,
            "padding": null,
            "grid_auto_rows": null,
            "grid_gap": null,
            "max_width": null,
            "order": null,
            "_view_module_version": "1.2.0",
            "grid_template_areas": null,
            "object_position": null,
            "object_fit": null,
            "grid_auto_columns": null,
            "margin": null,
            "display": null,
            "left": null
          }
        }
      }
    }
  },
  "cells": [
    {
      "cell_type": "markdown",
      "metadata": {
        "id": "Y6J9_LsBSwk-"
      },
      "source": [
        "# Setup"
      ]
    },
    {
      "cell_type": "code",
      "metadata": {
        "id": "SwEFNn5KuGDl",
        "colab": {
          "base_uri": "https://localhost:8080/"
        },
        "outputId": "58a0fd47-ea0f-4054-abc6-bb68465eea4b"
      },
      "source": [
        "!pip install -q tf-models-official==2.3.0\r\n",
        "!pip install transformers"
      ],
      "execution_count": 1,
      "outputs": [
        {
          "output_type": "stream",
          "text": [
            "\u001b[K     |████████████████████████████████| 849kB 18.5MB/s \n",
            "\u001b[K     |████████████████████████████████| 37.6MB 85kB/s \n",
            "\u001b[K     |████████████████████████████████| 102kB 15.9MB/s \n",
            "\u001b[K     |████████████████████████████████| 706kB 47.8MB/s \n",
            "\u001b[K     |████████████████████████████████| 1.2MB 44.9MB/s \n",
            "\u001b[K     |████████████████████████████████| 358kB 57.8MB/s \n",
            "\u001b[K     |████████████████████████████████| 174kB 49.5MB/s \n",
            "\u001b[?25h  Building wheel for py-cpuinfo (setup.py) ... \u001b[?25l\u001b[?25hdone\n",
            "Collecting transformers\n",
            "\u001b[?25l  Downloading https://files.pythonhosted.org/packages/98/87/ef312eef26f5cecd8b17ae9654cdd8d1fae1eb6dbd87257d6d73c128a4d0/transformers-4.3.2-py3-none-any.whl (1.8MB)\n",
            "\u001b[K     |████████████████████████████████| 1.8MB 17.6MB/s \n",
            "\u001b[?25hRequirement already satisfied: requests in /usr/local/lib/python3.6/dist-packages (from transformers) (2.23.0)\n",
            "Requirement already satisfied: packaging in /usr/local/lib/python3.6/dist-packages (from transformers) (20.9)\n",
            "Requirement already satisfied: importlib-metadata; python_version < \"3.8\" in /usr/local/lib/python3.6/dist-packages (from transformers) (3.4.0)\n",
            "Requirement already satisfied: tqdm>=4.27 in /usr/local/lib/python3.6/dist-packages (from transformers) (4.41.1)\n",
            "Collecting tokenizers<0.11,>=0.10.1\n",
            "\u001b[?25l  Downloading https://files.pythonhosted.org/packages/fd/5b/44baae602e0a30bcc53fbdbc60bd940c15e143d252d658dfdefce736ece5/tokenizers-0.10.1-cp36-cp36m-manylinux2010_x86_64.whl (3.2MB)\n",
            "\u001b[K     |████████████████████████████████| 3.2MB 47.9MB/s \n",
            "\u001b[?25hRequirement already satisfied: regex!=2019.12.17 in /usr/local/lib/python3.6/dist-packages (from transformers) (2019.12.20)\n",
            "Collecting sacremoses\n",
            "\u001b[?25l  Downloading https://files.pythonhosted.org/packages/7d/34/09d19aff26edcc8eb2a01bed8e98f13a1537005d31e95233fd48216eed10/sacremoses-0.0.43.tar.gz (883kB)\n",
            "\u001b[K     |████████████████████████████████| 890kB 57.3MB/s \n",
            "\u001b[?25hRequirement already satisfied: dataclasses; python_version < \"3.7\" in /usr/local/lib/python3.6/dist-packages (from transformers) (0.8)\n",
            "Requirement already satisfied: numpy>=1.17 in /usr/local/lib/python3.6/dist-packages (from transformers) (1.19.5)\n",
            "Requirement already satisfied: filelock in /usr/local/lib/python3.6/dist-packages (from transformers) (3.0.12)\n",
            "Requirement already satisfied: certifi>=2017.4.17 in /usr/local/lib/python3.6/dist-packages (from requests->transformers) (2020.12.5)\n",
            "Requirement already satisfied: chardet<4,>=3.0.2 in /usr/local/lib/python3.6/dist-packages (from requests->transformers) (3.0.4)\n",
            "Requirement already satisfied: urllib3!=1.25.0,!=1.25.1,<1.26,>=1.21.1 in /usr/local/lib/python3.6/dist-packages (from requests->transformers) (1.24.3)\n",
            "Requirement already satisfied: idna<3,>=2.5 in /usr/local/lib/python3.6/dist-packages (from requests->transformers) (2.10)\n",
            "Requirement already satisfied: pyparsing>=2.0.2 in /usr/local/lib/python3.6/dist-packages (from packaging->transformers) (2.4.7)\n",
            "Requirement already satisfied: zipp>=0.5 in /usr/local/lib/python3.6/dist-packages (from importlib-metadata; python_version < \"3.8\"->transformers) (3.4.0)\n",
            "Requirement already satisfied: typing-extensions>=3.6.4; python_version < \"3.8\" in /usr/local/lib/python3.6/dist-packages (from importlib-metadata; python_version < \"3.8\"->transformers) (3.7.4.3)\n",
            "Requirement already satisfied: six in /usr/local/lib/python3.6/dist-packages (from sacremoses->transformers) (1.15.0)\n",
            "Requirement already satisfied: click in /usr/local/lib/python3.6/dist-packages (from sacremoses->transformers) (7.1.2)\n",
            "Requirement already satisfied: joblib in /usr/local/lib/python3.6/dist-packages (from sacremoses->transformers) (1.0.0)\n",
            "Building wheels for collected packages: sacremoses\n",
            "  Building wheel for sacremoses (setup.py) ... \u001b[?25l\u001b[?25hdone\n",
            "  Created wheel for sacremoses: filename=sacremoses-0.0.43-cp36-none-any.whl size=893261 sha256=3beeb3979db5b6456516fd664beba43727f4ad0095a220e6018581a1990f4cc9\n",
            "  Stored in directory: /root/.cache/pip/wheels/29/3c/fd/7ce5c3f0666dab31a50123635e6fb5e19ceb42ce38d4e58f45\n",
            "Successfully built sacremoses\n",
            "Installing collected packages: tokenizers, sacremoses, transformers\n",
            "Successfully installed sacremoses-0.0.43 tokenizers-0.10.1 transformers-4.3.2\n"
          ],
          "name": "stdout"
        }
      ]
    },
    {
      "cell_type": "code",
      "metadata": {
        "id": "KxC2Vn2KR8pK"
      },
      "source": [
        "import os\r\n",
        "import json, pickle\r\n",
        "\r\n",
        "import pandas as pd\r\n",
        "import numpy as np\r\n",
        "\r\n",
        "import tensorflow as tf\r\n",
        "from sklearn.model_selection import train_test_split\r\n",
        "from sklearn.metrics import accuracy_score, f1_score\r\n",
        "\r\n",
        "import transformers\r\n",
        "from transformers import BertTokenizer, TFBertModel\r\n",
        "transformers.logging.set_verbosity_error() # suppress tokenizer sentences' length warnings\r\n",
        "tf.get_logger().setLevel('ERROR')\r\n",
        "\r\n",
        "import keras\r\n",
        "from keras import Model\r\n",
        "from keras.utils import plot_model\r\n",
        "from keras.layers import Input, Dense, Flatten, Dropout, Activation\r\n",
        "from datetime import datetime\r\n",
        "\r\n",
        "from google.colab import drive, files"
      ],
      "execution_count": 2,
      "outputs": []
    },
    {
      "cell_type": "code",
      "metadata": {
        "colab": {
          "base_uri": "https://localhost:8080/"
        },
        "id": "--YO7FLemTOD",
        "outputId": "88e16d7b-1a99-43e1-e574-b160a68d9749"
      },
      "source": [
        "drive.mount('/content/drive')"
      ],
      "execution_count": 3,
      "outputs": [
        {
          "output_type": "stream",
          "text": [
            "Mounted at /content/drive\n"
          ],
          "name": "stdout"
        }
      ]
    },
    {
      "cell_type": "markdown",
      "metadata": {
        "id": "xG0C8uDPvt0X"
      },
      "source": [
        "# Settings\r\n"
      ]
    },
    {
      "cell_type": "code",
      "metadata": {
        "id": "-I7Nzb95vvxd"
      },
      "source": [
        "### PARAMETERS ###\r\n",
        "RANDOM_STATE = 42\r\n",
        "\r\n",
        "# Dataset creation\r\n",
        "SEQUENCE_LIMIT = 512\r\n",
        "STRIDE = 256\r\n",
        "\r\n",
        "SHUFFLE = True\r\n",
        "\r\n",
        "TRAIN_LIMIT = None  # set None for the full size\r\n",
        "VAL_LIMIT = None    # set None for the full size\r\n",
        "\r\n",
        "# Model Training\r\n",
        "EPOCHS = 3\r\n",
        "BATCH_SIZE = 8\r\n",
        "\r\n",
        "# dataset drive settings\r\n",
        "SAVE_DATASET = False\r\n",
        "LOAD_DATASET = True\r\n",
        "\r\n",
        "# model weights drive settings\r\n",
        "SAVE_WEIGHTS = False\r\n",
        "LOAD_WEIGHTS = True\r\n",
        "LOAD_LOSS = True\r\n",
        "LOADING_EPOCH = 2   # epoch from which weights and losses are resumed\r\n",
        "\r\n",
        "# training settings\r\n",
        "TRAIN = False"
      ],
      "execution_count": 4,
      "outputs": []
    },
    {
      "cell_type": "markdown",
      "metadata": {
        "id": "A23pEgzInJLM"
      },
      "source": [
        "# Dataset"
      ]
    },
    {
      "cell_type": "code",
      "metadata": {
        "id": "dwEW25ifc3Pt"
      },
      "source": [
        "try:\r\n",
        "  with open('training_set.json') as f:\r\n",
        "    json_data = json.load(f)\r\n",
        "except:\r\n",
        "  with open('/content/drive/My Drive/SQUAD/training_set.json') as f:\r\n",
        "    json_data = json.load(f)"
      ],
      "execution_count": 5,
      "outputs": []
    },
    {
      "cell_type": "code",
      "metadata": {
        "id": "Qc6-zf6cV4e6",
        "colab": {
          "base_uri": "https://localhost:8080/",
          "height": 0
        },
        "outputId": "e8fbc7b1-aa01-4baa-eb9c-aa63cf06dc73"
      },
      "source": [
        "# Creates DataFrames with useful columns by unpacking 'paragraphs' column\r\n",
        "def unpack_df(df):\r\n",
        "  temp = []\r\n",
        "  title_dict = {}\r\n",
        "  contexts = []\r\n",
        "\r\n",
        "  for i, row in df.iterrows():\r\n",
        "    for context in row['paragraphs']:\r\n",
        "      contexts.append(context['context'])\r\n",
        "      for qa in context['qas']:\r\n",
        "        question_id = qa['id']\r\n",
        "        question = qa['question']\r\n",
        "        for answer in qa['answers']:\r\n",
        "          answer_text = answer['text']\r\n",
        "          answer_start = answer['answer_start']\r\n",
        "          answer_end = answer_start+len(answer_text)\r\n",
        "          temp.append([question_id, question, answer_text, answer_start, answer_end, i, len(contexts)-1])\r\n",
        "\r\n",
        "  context_dict = dict(enumerate(contexts))\r\n",
        "  df = pd.DataFrame(temp, columns=['question_id', 'question_text', 'answer_text', 'answer_start', 'answer_end', 'title_id', 'context_id'])\r\n",
        "  \r\n",
        "  return df, context_dict\r\n",
        "\r\n",
        "# Read data from json\r\n",
        "data = pd.json_normalize(json_data['data'])\r\n",
        "\r\n",
        "# Split train and test\r\n",
        "train, val = train_test_split(data, test_size=0.10, random_state=RANDOM_STATE)\r\n",
        "\r\n",
        "# Create DataFrames with useful columns\r\n",
        "train_df, train_context_dict = unpack_df(train)\r\n",
        "val_df, val_context_dict = unpack_df(val)\r\n",
        "\r\n",
        "# Shuffle DataFrame\r\n",
        "if SHUFFLE:\r\n",
        "  train_df = train_df.sample(frac = 1, random_state=RANDOM_STATE)\r\n",
        "  val_df = val_df.sample(frac = 1, random_state=RANDOM_STATE)\r\n",
        "\r\n",
        "train_df"
      ],
      "execution_count": 6,
      "outputs": [
        {
          "output_type": "execute_result",
          "data": {
            "text/html": [
              "<div>\n",
              "<style scoped>\n",
              "    .dataframe tbody tr th:only-of-type {\n",
              "        vertical-align: middle;\n",
              "    }\n",
              "\n",
              "    .dataframe tbody tr th {\n",
              "        vertical-align: top;\n",
              "    }\n",
              "\n",
              "    .dataframe thead th {\n",
              "        text-align: right;\n",
              "    }\n",
              "</style>\n",
              "<table border=\"1\" class=\"dataframe\">\n",
              "  <thead>\n",
              "    <tr style=\"text-align: right;\">\n",
              "      <th></th>\n",
              "      <th>question_id</th>\n",
              "      <th>question_text</th>\n",
              "      <th>answer_text</th>\n",
              "      <th>answer_start</th>\n",
              "      <th>answer_end</th>\n",
              "      <th>title_id</th>\n",
              "      <th>context_id</th>\n",
              "    </tr>\n",
              "  </thead>\n",
              "  <tbody>\n",
              "    <tr>\n",
              "      <th>74875</th>\n",
              "      <td>57265dc9dd62a815002e82d2</td>\n",
              "      <td>Is there a pplace where lovers of the chicken ...</td>\n",
              "      <td>In many countries, national and regional poult...</td>\n",
              "      <td>0</td>\n",
              "      <td>101</td>\n",
              "      <td>191</td>\n",
              "      <td>16131</td>\n",
              "    </tr>\n",
              "    <tr>\n",
              "      <th>40064</th>\n",
              "      <td>57269a03708984140094cb57</td>\n",
              "      <td>What was Nathan Hale famous for?</td>\n",
              "      <td>Revolutionary War soldier</td>\n",
              "      <td>4</td>\n",
              "      <td>29</td>\n",
              "      <td>234</td>\n",
              "      <td>8561</td>\n",
              "    </tr>\n",
              "    <tr>\n",
              "      <th>957</th>\n",
              "      <td>5730a771069b53140083220d</td>\n",
              "      <td>How many cultures may have fused together in E...</td>\n",
              "      <td>three</td>\n",
              "      <td>320</td>\n",
              "      <td>325</td>\n",
              "      <td>411</td>\n",
              "      <td>220</td>\n",
              "    </tr>\n",
              "    <tr>\n",
              "      <th>43425</th>\n",
              "      <td>5709bb3ded30961900e8445a</td>\n",
              "      <td>Who is in favor of a zero inflation policy?</td>\n",
              "      <td>some economists</td>\n",
              "      <td>287</td>\n",
              "      <td>302</td>\n",
              "      <td>129</td>\n",
              "      <td>9236</td>\n",
              "    </tr>\n",
              "    <tr>\n",
              "      <th>66501</th>\n",
              "      <td>56bfb502a10cfb140055125e</td>\n",
              "      <td>How much did she earn in 2014?</td>\n",
              "      <td>115 million</td>\n",
              "      <td>1660</td>\n",
              "      <td>1671</td>\n",
              "      <td>1</td>\n",
              "      <td>14328</td>\n",
              "    </tr>\n",
              "    <tr>\n",
              "      <th>...</th>\n",
              "      <td>...</td>\n",
              "      <td>...</td>\n",
              "      <td>...</td>\n",
              "      <td>...</td>\n",
              "      <td>...</td>\n",
              "      <td>...</td>\n",
              "      <td>...</td>\n",
              "    </tr>\n",
              "    <tr>\n",
              "      <th>6265</th>\n",
              "      <td>5725e72a271a42140099d2f6</td>\n",
              "      <td>Judea was ruled by whom during the Hellenistic...</td>\n",
              "      <td>High Priest of Israel</td>\n",
              "      <td>301</td>\n",
              "      <td>322</td>\n",
              "      <td>185</td>\n",
              "      <td>1346</td>\n",
              "    </tr>\n",
              "    <tr>\n",
              "      <th>54886</th>\n",
              "      <td>5726bff8708984140094d06b</td>\n",
              "      <td>At what age did Avicenna turn to away from phi...</td>\n",
              "      <td>16</td>\n",
              "      <td>25</td>\n",
              "      <td>27</td>\n",
              "      <td>254</td>\n",
              "      <td>11785</td>\n",
              "    </tr>\n",
              "    <tr>\n",
              "      <th>76820</th>\n",
              "      <td>572f880804bcaa1900d76a55</td>\n",
              "      <td>Name two major events of the Seven Years' War ...</td>\n",
              "      <td>the expulsion of the Acadians, the siege of Qu...</td>\n",
              "      <td>67</td>\n",
              "      <td>117</td>\n",
              "      <td>359</td>\n",
              "      <td>16550</td>\n",
              "    </tr>\n",
              "    <tr>\n",
              "      <th>860</th>\n",
              "      <td>57303f17b2c2fd1400568ae3</td>\n",
              "      <td>What type of assembly could specific groupings...</td>\n",
              "      <td>concilia</td>\n",
              "      <td>714</td>\n",
              "      <td>722</td>\n",
              "      <td>395</td>\n",
              "      <td>199</td>\n",
              "    </tr>\n",
              "    <tr>\n",
              "      <th>15795</th>\n",
              "      <td>572825ad4b864d190016459e</td>\n",
              "      <td>What period started around 472 million years ago?</td>\n",
              "      <td>the mid Ordovician</td>\n",
              "      <td>501</td>\n",
              "      <td>519</td>\n",
              "      <td>316</td>\n",
              "      <td>3338</td>\n",
              "    </tr>\n",
              "  </tbody>\n",
              "</table>\n",
              "<p>80079 rows × 7 columns</p>\n",
              "</div>"
            ],
            "text/plain": [
              "                    question_id  ... context_id\n",
              "74875  57265dc9dd62a815002e82d2  ...      16131\n",
              "40064  57269a03708984140094cb57  ...       8561\n",
              "957    5730a771069b53140083220d  ...        220\n",
              "43425  5709bb3ded30961900e8445a  ...       9236\n",
              "66501  56bfb502a10cfb140055125e  ...      14328\n",
              "...                         ...  ...        ...\n",
              "6265   5725e72a271a42140099d2f6  ...       1346\n",
              "54886  5726bff8708984140094d06b  ...      11785\n",
              "76820  572f880804bcaa1900d76a55  ...      16550\n",
              "860    57303f17b2c2fd1400568ae3  ...        199\n",
              "15795  572825ad4b864d190016459e  ...       3338\n",
              "\n",
              "[80079 rows x 7 columns]"
            ]
          },
          "metadata": {
            "tags": []
          },
          "execution_count": 6
        }
      ]
    },
    {
      "cell_type": "code",
      "metadata": {
        "id": "TaUcu-8VyTqs",
        "colab": {
          "base_uri": "https://localhost:8080/"
        },
        "outputId": "93c49f77-36b4-49a7-b7f5-b53e9b721f55"
      },
      "source": [
        "# Inspect data samples\r\n",
        "def print_squad_sample(train_data, context_dict, line_length=120, separator_length=150):\r\n",
        "\r\n",
        "  sample = train_data.sample(frac=1).head(1)\r\n",
        "  context = context_dict[sample['context_id'].item()]\r\n",
        "\r\n",
        "  print('='*separator_length, '\\nCONTEXT:\\n', '='*separator_length)\r\n",
        "\r\n",
        "  lines = [''.join(context[idx:idx+line_length]) for idx in range(0, len(context), line_length)]\r\n",
        "  for l in lines:\r\n",
        "      print(l)\r\n",
        "\r\n",
        "  print('='*separator_length, '\\nQUESTION:', ' '*(3*separator_length//4), 'ANSWER:')\r\n",
        "\r\n",
        "  questions = train_data[train_data['context_id'] == sample['context_id'].item()]\r\n",
        "\r\n",
        "  for idx, row in questions.iterrows():\r\n",
        "    question = row.question_text\r\n",
        "    answer = row.answer_text\r\n",
        "    print(question, ' '*(3*separator_length//4-len(question)+9), answer)\r\n",
        "\r\n",
        "print_squad_sample(train_df, train_context_dict)"
      ],
      "execution_count": 7,
      "outputs": [
        {
          "output_type": "stream",
          "text": [
            "====================================================================================================================================================== \n",
            "CONTEXT:\n",
            " ======================================================================================================================================================\n",
            "Despite their collective name, not all woodwind instruments are made entirely of wood. The reeds used to play them, howe\n",
            "ver, are usually made from Arundo donax, a type of monocot cane plant.\n",
            "====================================================================================================================================================== \n",
            "QUESTION:                                                                                                                  ANSWER:\n",
            "What objects do musicians have to have in order to play woodwind instruments?                                              reeds\n",
            "Is the Arundo donax a monocot or dicot cane plant?                                                                         monocot\n",
            "What type of instruments with a misleading name aren't always made completely out of wood?                                 woodwind instruments\n",
            "What are woodwind instrument's reeds often made out of?                                                                    Arundo donax\n"
          ],
          "name": "stdout"
        }
      ]
    },
    {
      "cell_type": "markdown",
      "metadata": {
        "id": "hqrIFmrK2Igt"
      },
      "source": [
        "## Tokenizer"
      ]
    },
    {
      "cell_type": "code",
      "metadata": {
        "colab": {
          "base_uri": "https://localhost:8080/",
          "height": 0,
          "referenced_widgets": [
            "33a96d6ffb584ec7ac1dd48288dba50b",
            "253ce71b25694c27bc518f14d00195eb",
            "c1fb2eb8a7a84ecd822198c03d2be168",
            "7d091b408b784be49813684bee66632f",
            "d4186dcf97e74ef098910ade2b522aeb",
            "9c88fecc26904a0c88515ba380ad28e7",
            "e1faaaafce3c4c858defa62ed1b66f37",
            "07ddc7cf41054779afe2367ed1df4217"
          ]
        },
        "id": "i8fuDPtRNDjg",
        "outputId": "e9c8a068-5957-497d-ff3f-6777f8b93bf8"
      },
      "source": [
        "# Load pre-trained model tokenizer (vocabulary)\r\n",
        "tokenizer = BertTokenizer.from_pretrained('bert-base-uncased')\r\n",
        "\r\n",
        "print('[[CLS], [SEP]] = {}'.format(tokenizer.convert_tokens_to_ids(['[CLS]', '[SEP]'])))\r\n",
        "\r\n",
        "# Split the sentence into tokens.\r\n",
        "tokenized_text = tokenizer.tokenize(train_df['question_text'][0])\r\n",
        "\r\n",
        "# Print out the tokens.\r\n",
        "print('\\nTokenized sentence:')\r\n",
        "print(tokenized_text)\r\n",
        "\r\n",
        "# Map the token strings to their vocabulary indeces.\r\n",
        "indexed_tokens = tokenizer.convert_tokens_to_ids(tokenized_text)\r\n",
        "\r\n",
        "# Display the words with their indices.\r\n",
        "print('\\n{:<12} {:>6}\\n'.format('TOKENS', 'INDICES'))\r\n",
        "for tup in zip(tokenized_text, indexed_tokens):\r\n",
        "    print('{:<12} {:>6}'.format(tup[0], tup[1]))"
      ],
      "execution_count": 8,
      "outputs": [
        {
          "output_type": "display_data",
          "data": {
            "application/vnd.jupyter.widget-view+json": {
              "model_id": "33a96d6ffb584ec7ac1dd48288dba50b",
              "version_minor": 0,
              "version_major": 2
            },
            "text/plain": [
              "HBox(children=(FloatProgress(value=0.0, description='Downloading', max=231508.0, style=ProgressStyle(descripti…"
            ]
          },
          "metadata": {
            "tags": []
          }
        },
        {
          "output_type": "stream",
          "text": [
            "\n",
            "[[CLS], [SEP]] = [101, 102]\n",
            "\n",
            "Tokenized sentence:\n",
            "['what', 'language', 'is', 'the', 'word', 'dialect', '##us', 'from', '?']\n",
            "\n",
            "TOKENS       INDICES\n",
            "\n",
            "what           2054\n",
            "language       2653\n",
            "is             2003\n",
            "the            1996\n",
            "word           2773\n",
            "dialect        9329\n",
            "##us           2271\n",
            "from           2013\n",
            "?              1029\n"
          ],
          "name": "stdout"
        }
      ]
    },
    {
      "cell_type": "markdown",
      "metadata": {
        "id": "M3Vfn1xvRoiG"
      },
      "source": [
        "## Prepare data for model"
      ]
    },
    {
      "cell_type": "code",
      "metadata": {
        "id": "nEy0mp9yzXjn"
      },
      "source": [
        "# Prints COOL progress bar (No, seriously, it's really cool!)\r\n",
        "# REALLY DUDE, THIS STUFF IS GOLD\r\n",
        "def print_progress(value, total, bar_width=100):\r\n",
        "  perc = int(value/total*bar_width)\r\n",
        "  rest = bar_width - perc\r\n",
        "  print(\"\\r{:>3} % [ {}{} ]\".format(perc, perc*'■', rest*'─'), end=\"\")\r\n",
        "\r\n",
        "# ensure to preserve all sub-sequences of length limi-stride. \r\n",
        "def split_long_sequence(my_sequence, limit, stride):\r\n",
        "\r\n",
        "  if len(my_sequence) <= limit: \r\n",
        "    return [my_sequence]\r\n",
        "  \r\n",
        "  rest = my_sequence\r\n",
        "  split = []\r\n",
        "  while len(rest) > limit:\r\n",
        "    left_hand = rest[:limit]\r\n",
        "    rest = rest[stride:]\r\n",
        "    split.append(left_hand)\r\n",
        "    \r\n",
        "  split.append(rest)\r\n",
        "  return split\r\n",
        "\r\n",
        "# Returns start and end indices of sublist in list\r\n",
        "def find_sublist(a, b):\r\n",
        "  if len(a) == 0 or len(b) == 0:\r\n",
        "    raise Exception(\"Lists with length 0\")\r\n",
        "    \r\n",
        "  for i in range(len(a) - len(b) +1):\r\n",
        "    if np.array_equal(a[i:i+len(b)], b):\r\n",
        "      return i, i+len(b)-1\r\n",
        "  return -1, -1"
      ],
      "execution_count": 9,
      "outputs": []
    },
    {
      "cell_type": "code",
      "metadata": {
        "id": "jayMk-aHPYVB"
      },
      "source": [
        "def from_df_to_model_dict(df, context_dict, verbose=False):\r\n",
        "\r\n",
        "  # initialize structures\r\n",
        "  question_id = []\r\n",
        "  question_text = []\r\n",
        "  context_id = []\r\n",
        "  answer_text = []\r\n",
        "  input_ids = []\r\n",
        "  input_mask = []\r\n",
        "  input_type_ids = []\r\n",
        "  start_indexes = []\r\n",
        "  end_indexes = []\r\n",
        "\r\n",
        "  cut_counter = 0\r\n",
        "  max_iter = len(df)\r\n",
        "  new_entries = 0\r\n",
        "  for i, (_, row) in enumerate(df.iterrows()):\r\n",
        "\r\n",
        "    # print progress\r\n",
        "    if (i+1) % (max_iter // 100) == 0 or i == 0:\r\n",
        "      print_progress(i+1, max_iter)\r\n",
        "\r\n",
        "    # encode question and context\r\n",
        "    if verbose: print(\"\\tTokenizing question and context...\", end=\"\")\r\n",
        "    encoded_question = tokenizer.encode(row['question_text'])\r\n",
        "    encoded_context = tokenizer.encode(context_dict[row['context_id']])[1:]\r\n",
        "\r\n",
        "    # concatenate input data \r\n",
        "    if verbose: print(\"\\tChecking sequence length...\")\r\n",
        "    if len(encoded_question + encoded_context) > SEQUENCE_LIMIT:\r\n",
        "      # if the sequence is too long, split it in n subsequences of length <= SEQUENCE_LIMIT\r\n",
        "      encoded_contexts = split_long_sequence(encoded_context,\r\n",
        "                                             limit=SEQUENCE_LIMIT-len(encoded_question), \r\n",
        "                                             stride=STRIDE)\r\n",
        "      cut_counter += 1\r\n",
        "    else:\r\n",
        "      encoded_contexts = [encoded_context]\r\n",
        "    \r\n",
        "    new_entries += len(encoded_contexts)-1\r\n",
        "    # for each too long sequence, the context has been split in n parts. We need to process them separately, creating new entries for the input\r\n",
        "    for context_piece in encoded_contexts:\r\n",
        "      \r\n",
        "      encoded_input = encoded_question + context_piece\r\n",
        "\r\n",
        "      # create mask of ones\r\n",
        "      ones_mask = tf.ones_like(encoded_input)\r\n",
        "\r\n",
        "      # add padding and convert to tensor\r\n",
        "      if verbose: print(\"\\tPadding...\", end=\"\")\r\n",
        "      encoded_input = tf.keras.preprocessing.sequence.pad_sequences([encoded_input], maxlen=512, padding='pre')\r\n",
        "      encoded_input = tf.squeeze(tf.convert_to_tensor(encoded_input))\r\n",
        "\r\n",
        "      # processing answer indices\r\n",
        "      if verbose: print(\"\\tProcessing answer...\", end=\"\")\r\n",
        "      tokenized_answer = tokenizer.encode(row['answer_text'])[1: -1]\r\n",
        "      start_idx, end_idx = find_sublist(encoded_input, tokenized_answer)\r\n",
        "\r\n",
        "      start_indexes.append(start_idx)\r\n",
        "      end_indexes.append(end_idx)\r\n",
        "\r\n",
        "\r\n",
        "      # create input_type_ids\r\n",
        "      if verbose: print(\"\\tInput types creation...\", end=\"\")\r\n",
        "      type_ids = tf.concat([tf.zeros_like(encoded_question, dtype=tf.int32), \r\n",
        "                            tf.ones_like(context_piece, dtype=tf.int32)], \r\n",
        "                          axis=-1)\r\n",
        "      \r\n",
        "      type_ids = tf.keras.preprocessing.sequence.pad_sequences([type_ids], maxlen=512, padding='pre')\r\n",
        "      type_ids = tf.squeeze(tf.convert_to_tensor(type_ids))\r\n",
        "\r\n",
        "\r\n",
        "      # create mask of zeros\r\n",
        "      if verbose: print(\"\\tMask creation...\", end=\"\")\r\n",
        "      zeros_mask = tf.zeros(SEQUENCE_LIMIT - len(ones_mask), dtype=tf.int32)\r\n",
        "      mask = tf.concat([zeros_mask, ones_mask], axis=-1)\r\n",
        "\r\n",
        "      # append elements to lists\r\n",
        "      if verbose: print(\"\\tAppending inputs...\", end=\"\")\r\n",
        "      question_id.append(row['question_id'])\r\n",
        "      question_text.append(row['question_text'])\r\n",
        "      context_id.append(row['context_id'])\r\n",
        "      answer_text.append(row['answer_text'])\r\n",
        "      input_ids.append(encoded_input)\r\n",
        "      input_mask.append(mask)\r\n",
        "      input_type_ids.append(type_ids)\r\n",
        "\r\n",
        "  # save input data as dictionary\r\n",
        "  data = {\r\n",
        "    'question_id': question_id,\r\n",
        "    'question_text': question_text,\r\n",
        "    'answer_text': answer_text,\r\n",
        "    'context_id': context_id,\r\n",
        "    'input_ids': tf.convert_to_tensor(input_ids),\r\n",
        "    'attention_mask': tf.convert_to_tensor(input_mask),\r\n",
        "    'token_type_ids': tf.convert_to_tensor(input_type_ids),\r\n",
        "    'start_idx': start_indexes,\r\n",
        "    'end_idx': end_indexes,\r\n",
        "    }\r\n",
        "\r\n",
        "  assert len(input_ids) == len(df) + new_entries, f\"ATTENTION:\\nci sono {len(input_ids)} input_ids, MA {len(df)} righe nel df e {new_entries} nuove entries\"\r\n",
        "  return data"
      ],
      "execution_count": 10,
      "outputs": []
    },
    {
      "cell_type": "markdown",
      "metadata": {
        "id": "UXCcgd3cSgAm"
      },
      "source": [
        "# Building Dataset"
      ]
    },
    {
      "cell_type": "code",
      "metadata": {
        "id": "irK7yfKKV1LU"
      },
      "source": [
        "if not LOAD_DATASET:\r\n",
        "  print(\"Building training set...\")\r\n",
        "  train = from_df_to_model_dict(train_df[:TRAIN_LIMIT], train_context_dict)\r\n",
        "\r\n",
        "  print(\"\\n\\nBuilding validation set...\")\r\n",
        "  val = from_df_to_model_dict(val_df[:VAL_LIMIT], val_context_dict)"
      ],
      "execution_count": 11,
      "outputs": []
    },
    {
      "cell_type": "markdown",
      "metadata": {
        "id": "DBvYDn5dUSTF"
      },
      "source": [
        "# Index to categorical\r\n"
      ]
    },
    {
      "cell_type": "code",
      "metadata": {
        "id": "9iktKwoXUKAj"
      },
      "source": [
        "if not LOAD_DATASET: \r\n",
        "  # Replace -1 (answer not found) with 0\r\n",
        "  train['start_idx'] = [val if val != -1 else 0 for val in train['start_idx']]\r\n",
        "  train['end_idx'] = [val if val != -1 else 0 for val in train['end_idx']]\r\n",
        "\r\n",
        "  val['start_idx'] = [val if val != -1 else 0 for val in val['start_idx']]\r\n",
        "  val['end_idx'] = [val if val != -1 else 0 for val in val['end_idx']]\r\n",
        "\r\n",
        "  # from ints to categorical\r\n",
        "  train['start_cat'] = tf.keras.utils.to_categorical(train['start_idx'], num_classes=SEQUENCE_LIMIT)\r\n",
        "  train['end_cat'] = tf.keras.utils.to_categorical(train['end_idx'], num_classes=SEQUENCE_LIMIT)\r\n",
        "\r\n",
        "  val['start_cat'] = tf.keras.utils.to_categorical(val['start_idx'], num_classes=SEQUENCE_LIMIT)\r\n",
        "  val['end_cat'] = tf.keras.utils.to_categorical(val['end_idx'], num_classes=SEQUENCE_LIMIT)\r\n",
        "\r\n",
        "  # Inspect data\r\n",
        "  assert len(train['start_idx']) == len(train['end_idx']) == len(train['input_ids']) == len(train['attention_mask']) == len(train['token_type_ids'])\r\n",
        "  assert len(val['start_idx']) == len(val['end_idx']) == len(val['input_ids']) == len(val['attention_mask']) == len(val['token_type_ids'])\r\n",
        "\r\n",
        "  print(\"Shapes\")\r\n",
        "  print(\"\\nTrain starts:\\t\", train['start_cat'].shape)\r\n",
        "  print(\"Train ends:\\t\", train['end_cat'].shape)\r\n",
        "  print(\"\\nVal starts:\\t\", val['start_cat'].shape)\r\n",
        "  print(\"Val ends:\\t\", val['end_cat'].shape)"
      ],
      "execution_count": 12,
      "outputs": []
    },
    {
      "cell_type": "markdown",
      "metadata": {
        "id": "i5MRM0Q_LXyW"
      },
      "source": [
        "# Save data to Drive"
      ]
    },
    {
      "cell_type": "code",
      "metadata": {
        "id": "RWW1mTlHrwe9"
      },
      "source": [
        "if SAVE_DATASET:\r\n",
        "\r\n",
        "  # TRAIN\r\n",
        "  with open(\"/content/drive/MyDrive/SQUAD/train.p\", \"wb\") as f:\r\n",
        "    pickle.dump(train, f)\r\n",
        "  with open(\"/content/drive/MyDrive/SQUAD/train_context_dict.p\", \"wb\") as f:\r\n",
        "    pickle.dump(train_context_dict, f)\r\n",
        "\r\n",
        "  # VALIDATION\r\n",
        "  with open(\"/content/drive/MyDrive/SQUAD/val.p\", \"wb\") as f:\r\n",
        "    pickle.dump(val, f)\r\n",
        "  with open(\"/content/drive/MyDrive/SQUAD/val_context_dict.p\", \"wb\") as f:\r\n",
        "    pickle.dump(val_context_dict, f)"
      ],
      "execution_count": 13,
      "outputs": []
    },
    {
      "cell_type": "markdown",
      "metadata": {
        "id": "Ok4Z7Xhltev_"
      },
      "source": [
        "# Load data from Drive"
      ]
    },
    {
      "cell_type": "code",
      "metadata": {
        "id": "ECyBOk-mtaHG"
      },
      "source": [
        "if LOAD_DATASET:\r\n",
        "\r\n",
        "  # TRAIN\r\n",
        "  with open(\"/content/drive/MyDrive/SQUAD/train.p\", \"rb\") as f:\r\n",
        "    train = pickle.load(f)\r\n",
        "  with open(\"/content/drive/MyDrive/SQUAD/train_context_dict.p\", \"rb\") as f:\r\n",
        "    train_context_dict = pickle.load(f)\r\n",
        "\r\n",
        "  # VALIDATION\r\n",
        "  with open(\"/content/drive/MyDrive/SQUAD/val.p\", \"rb\") as f:\r\n",
        "    val = pickle.load(f)\r\n",
        "  with open(\"/content/drive/MyDrive/SQUAD/val_context_dict.p\", \"rb\") as f:\r\n",
        "    val_context_dict = pickle.load(f)"
      ],
      "execution_count": 14,
      "outputs": []
    },
    {
      "cell_type": "code",
      "metadata": {
        "colab": {
          "base_uri": "https://localhost:8080/"
        },
        "id": "U5y-6b7Mg4P0",
        "outputId": "9b077459-f79c-4297-dbc1-f616baea651c"
      },
      "source": [
        "print(\"Shapes\")\r\n",
        "print(\"\\nTrain starts:\\t\", train['start_cat'].shape)\r\n",
        "print(\"Train ends:\\t\", train['end_cat'].shape)\r\n",
        "print(\"\\nVal starts:\\t\", val['start_cat'].shape)\r\n",
        "print(\"Val ends:\\t\", val['end_cat'].shape)\r\n",
        "\r\n",
        "assert train['start_cat'].shape == train['end_cat'].shape\r\n",
        "assert val['start_cat'].shape == val['end_cat'].shape"
      ],
      "execution_count": 15,
      "outputs": [
        {
          "output_type": "stream",
          "text": [
            "Shapes\n",
            "\n",
            "Train starts:\t (80200, 512)\n",
            "Train ends:\t (80200, 512)\n",
            "\n",
            "Val starts:\t (7524, 512)\n",
            "Val ends:\t (7524, 512)\n"
          ],
          "name": "stdout"
        }
      ]
    },
    {
      "cell_type": "markdown",
      "metadata": {
        "id": "6mZbcRg48o3E"
      },
      "source": [
        "# Build model"
      ]
    },
    {
      "cell_type": "code",
      "metadata": {
        "colab": {
          "base_uri": "https://localhost:8080/",
          "height": 0,
          "referenced_widgets": [
            "e24009f9bcfc4adf807edaa2546346f5",
            "290811dbff0344c7bdbb9dd871ce50d9",
            "a8fd42b3f22d4152be03e622c0fec576",
            "286e2a68ad28487d92942595159e5f56",
            "6eee988370004006aa46ec9ec52803b2",
            "e72c64b6fc124172bcdfd4a98eb6ef40",
            "4deb54f50c2c42b48ca48cd317dd0b5b",
            "ba899cd06f3b479cb8e484f8a899b832",
            "90956b71e7b040beb058b827c983d8d3",
            "668711a4ab894d5692c99ea0839ec86d",
            "ee5c0649c5e642ec89e59e8a2c26005a",
            "4c733b2b5f7a409299a5f995a396169c",
            "9266f2fce3cd4382bcbd8e6d60ef215b",
            "011ecec243f74d33b6fb173c479046fc",
            "ce0f24e6e90e416e8ea32e611e199475",
            "7e1547bec97a452788d7839cd9c73779"
          ]
        },
        "id": "3PJ2O1Zn8nqr",
        "outputId": "07ce3113-f5f4-4b6a-f59c-9f58bf5d2b94"
      },
      "source": [
        "def build_model():\r\n",
        "\r\n",
        "  # Define Input layers\r\n",
        "  input_ids_layer = Input(shape = (512,), dtype='int64')\r\n",
        "  attention_mask_layer = Input(shape = (512,), dtype='int64')\r\n",
        "  token_ids_layer = Input(shape = (512,), dtype='int64')\r\n",
        "\r\n",
        "  # Load Bert model\r\n",
        "  bert_model = TFBertModel.from_pretrained('bert-base-uncased')\r\n",
        "  \r\n",
        "  bert_model.trainable = True\r\n",
        "  \r\n",
        "  # Initialize bert model\r\n",
        "  bert = bert_model([input_ids_layer,\r\n",
        "                    attention_mask_layer,\r\n",
        "                    token_ids_layer],\r\n",
        "                    return_dict = False,\r\n",
        "                    output_attentions = False,\r\n",
        "                    output_hidden_states = False\r\n",
        "                    ).last_hidden_state\r\n",
        "  \r\n",
        "  # Dropout\r\n",
        "  dropout = Dropout(0.2)(bert)\r\n",
        "\r\n",
        "  # Classifiers\r\n",
        "  start_classifier = Dense(units=1, name=\"Start_classifier\")(dropout)\r\n",
        "  end_classifier = Dense(units=1, name=\"End_classifier\")(dropout)\r\n",
        "\r\n",
        "  # Flatteners\r\n",
        "  start_flat = Flatten(name=\"start_flattener\")(start_classifier)\r\n",
        "  end_flat = Flatten(name=\"end_flattener\")(end_classifier)\r\n",
        "\r\n",
        "  # Activations\r\n",
        "  start_softmax = Activation(tf.keras.activations.softmax, name=\"start\")(start_flat)\r\n",
        "  end_softmax = Activation(tf.keras.activations.softmax, name=\"end\")(end_flat)\r\n",
        "\r\n",
        "  # Build model\r\n",
        "  model = Model(inputs=[input_ids_layer, attention_mask_layer, token_ids_layer], \r\n",
        "                outputs=[start_softmax, end_softmax])\r\n",
        "  \r\n",
        "  model.summary()\r\n",
        "  return model\r\n",
        "\r\n",
        "model = build_model()\r\n",
        "plot_model(model, show_shapes=True)"
      ],
      "execution_count": 16,
      "outputs": [
        {
          "output_type": "display_data",
          "data": {
            "application/vnd.jupyter.widget-view+json": {
              "model_id": "e24009f9bcfc4adf807edaa2546346f5",
              "version_minor": 0,
              "version_major": 2
            },
            "text/plain": [
              "HBox(children=(FloatProgress(value=0.0, description='Downloading', max=433.0, style=ProgressStyle(description_…"
            ]
          },
          "metadata": {
            "tags": []
          }
        },
        {
          "output_type": "stream",
          "text": [
            "\n"
          ],
          "name": "stdout"
        },
        {
          "output_type": "display_data",
          "data": {
            "application/vnd.jupyter.widget-view+json": {
              "model_id": "90956b71e7b040beb058b827c983d8d3",
              "version_minor": 0,
              "version_major": 2
            },
            "text/plain": [
              "HBox(children=(FloatProgress(value=0.0, description='Downloading', max=536063208.0, style=ProgressStyle(descri…"
            ]
          },
          "metadata": {
            "tags": []
          }
        },
        {
          "output_type": "stream",
          "text": [
            "\n",
            "Model: \"model\"\n",
            "__________________________________________________________________________________________________\n",
            "Layer (type)                    Output Shape         Param #     Connected to                     \n",
            "==================================================================================================\n",
            "input_1 (InputLayer)            [(None, 512)]        0                                            \n",
            "__________________________________________________________________________________________________\n",
            "input_2 (InputLayer)            [(None, 512)]        0                                            \n",
            "__________________________________________________________________________________________________\n",
            "input_3 (InputLayer)            [(None, 512)]        0                                            \n",
            "__________________________________________________________________________________________________\n",
            "tf_bert_model (TFBertModel)     TFBaseModelOutputWit 109482240   input_1[0][0]                    \n",
            "                                                                 input_2[0][0]                    \n",
            "                                                                 input_3[0][0]                    \n",
            "__________________________________________________________________________________________________\n",
            "dropout_37 (Dropout)            (None, 512, 768)     0           tf_bert_model[0][0]              \n",
            "__________________________________________________________________________________________________\n",
            "Start_classifier (Dense)        (None, 512, 1)       769         dropout_37[0][0]                 \n",
            "__________________________________________________________________________________________________\n",
            "End_classifier (Dense)          (None, 512, 1)       769         dropout_37[0][0]                 \n",
            "__________________________________________________________________________________________________\n",
            "start_flattener (Flatten)       (None, 512)          0           Start_classifier[0][0]           \n",
            "__________________________________________________________________________________________________\n",
            "end_flattener (Flatten)         (None, 512)          0           End_classifier[0][0]             \n",
            "__________________________________________________________________________________________________\n",
            "start (Activation)              (None, 512)          0           start_flattener[0][0]            \n",
            "__________________________________________________________________________________________________\n",
            "end (Activation)                (None, 512)          0           end_flattener[0][0]              \n",
            "==================================================================================================\n",
            "Total params: 109,483,778\n",
            "Trainable params: 109,483,778\n",
            "Non-trainable params: 0\n",
            "__________________________________________________________________________________________________\n"
          ],
          "name": "stdout"
        },
        {
          "output_type": "execute_result",
          "data": {
            "image/png": "[encoded data removed]",
            "text/plain": [
              "<IPython.core.display.Image object>"
            ]
          },
          "metadata": {
            "tags": []
          },
          "execution_count": 16
        }
      ]
    },
    {
      "cell_type": "code",
      "metadata": {
        "id": "Q_6bUyPDVZaF"
      },
      "source": [
        "# Define model parameters\r\n",
        "optimizer = tf.keras.optimizers.Adam(learning_rate=5e-5, epsilon=1e-08\r\n",
        "                                     #, clipnorm=1.0\r\n",
        "                                     )\r\n",
        "loss = tf.keras.losses.SparseCategoricalCrossentropy(from_logits=True)\r\n",
        "metric = tf.keras.metrics.SparseCategoricalAccuracy('accuracy')\r\n",
        "model.compile(optimizer=optimizer, loss=loss, metrics=[metric])"
      ],
      "execution_count": 17,
      "outputs": []
    },
    {
      "cell_type": "markdown",
      "metadata": {
        "id": "gfUxCHLSusuV"
      },
      "source": [
        "# Train"
      ]
    },
    {
      "cell_type": "code",
      "metadata": {
        "id": "N167y8iNlggC"
      },
      "source": [
        "class LossHistory(keras.callbacks.Callback):\r\n",
        "    def on_train_begin(self, logs={}):\r\n",
        "        self.losses = []\r\n",
        "\r\n",
        "    def on_batch_end(self, batch, logs={}):\r\n",
        "        self.losses.append(logs.get('loss'))"
      ],
      "execution_count": 18,
      "outputs": []
    },
    {
      "cell_type": "code",
      "metadata": {
        "id": "pFMvrRZRV6NL"
      },
      "source": [
        "if TRAIN:\r\n",
        "\r\n",
        "  for i in range(EPOCHS):\r\n",
        "\r\n",
        "    history = LossHistory()\r\n",
        "    \r\n",
        "    # Fit model with train set\r\n",
        "    model_fit = model.fit(x = [train['input_ids'][:TRAIN_LIMIT],\r\n",
        "                              train['attention_mask'][:TRAIN_LIMIT],\r\n",
        "                              train['token_type_ids'][:TRAIN_LIMIT]],\r\n",
        "                          y = (np.array(train['start_idx'][:TRAIN_LIMIT], dtype=np.float32),\r\n",
        "                              np.array(train['end_idx'][:TRAIN_LIMIT], dtype=np.float32)),\r\n",
        "                              \r\n",
        "                              batch_size = BATCH_SIZE,\r\n",
        "                              epochs = 1, \r\n",
        "                              callbacks = [history],\r\n",
        "                              \r\n",
        "                              validation_data=([val['input_ids'][:VAL_LIMIT],\r\n",
        "                                                val['attention_mask'][:VAL_LIMIT],\r\n",
        "                                                val['token_type_ids'][:VAL_LIMIT]],\r\n",
        "                                                (np.array(val['start_idx'][:VAL_LIMIT], dtype=np.float32),\r\n",
        "                                                np.array(val['end_idx'][:VAL_LIMIT], dtype=np.float32))\r\n",
        "                                              )\r\n",
        "                              )\r\n",
        "      \r\n",
        "    if SAVE_WEIGHTS:\r\n",
        "      model.save_weights(f'/content/drive/MyDrive/SQUAD/weights_epoch_{i+1}.h5')\r\n",
        "      \r\n",
        "      with open(f\"/content/drive/MyDrive/SQUAD/Results/losses_epoch_{i+1}.p\", \"wb\") as f:\r\n",
        "        pickle.dump(history.losses, f)"
      ],
      "execution_count": 19,
      "outputs": []
    },
    {
      "cell_type": "markdown",
      "metadata": {
        "id": "FcQAyQfDVIeV"
      },
      "source": [
        "## Loss plotting"
      ]
    },
    {
      "cell_type": "code",
      "metadata": {
        "id": "7_571QuvpvCx"
      },
      "source": [
        "if LOAD_WEIGHTS:\r\n",
        "    model.load_weights(f'/content/drive/MyDrive/SQUAD/weights_epoch_{LOADING_EPOCH}.h5')\r\n",
        "\r\n",
        "if LOAD_LOSS:\r\n",
        "  losses = []\r\n",
        "  for i in range(3):\r\n",
        "    with open(f\"/content/drive/MyDrive/SQUAD/Results/losses_epoch_{i+1}.p\", \"rb\") as f:\r\n",
        "      losses.append(pickle.load(f))"
      ],
      "execution_count": 20,
      "outputs": []
    },
    {
      "cell_type": "code",
      "metadata": {
        "colab": {
          "base_uri": "https://localhost:8080/",
          "height": 513
        },
        "id": "yEsZdk1kUZ-M",
        "outputId": "a4c780be-2d43-453c-f1b8-76b0c0ce1e38"
      },
      "source": [
        "import matplotlib.pyplot as plt\r\n",
        "\r\n",
        "plt.figure(figsize=(8, 8))\r\n",
        "\r\n",
        "plt.title(\"Training losses\")\r\n",
        "plt.xlabel(\"Batch\")\r\n",
        "plt.ylabel(\"Loss\")\r\n",
        "\r\n",
        "plt.plot(losses[0], label='Epoch 1')\r\n",
        "plt.plot(losses[1], label='Epoch 2')\r\n",
        "plt.plot(losses[2], label='Epoch 3')\r\n",
        "plt.legend()\r\n",
        "\r\n",
        "plt.show()"
      ],
      "execution_count": 21,
      "outputs": [
        {
          "output_type": "display_data",
          "data": {
            "image/png": "[encoded data removed]",
            "text/plain": [
              "<Figure size 576x576 with 1 Axes>"
            ]
          },
          "metadata": {
            "tags": [],
            "needs_background": "light"
          }
        }
      ]
    },
    {
      "cell_type": "markdown",
      "metadata": {
        "id": "qBZuBfspH47n"
      },
      "source": [
        "# Test"
      ]
    },
    {
      "cell_type": "markdown",
      "metadata": {
        "id": "4BhsRC4Fx-0X"
      },
      "source": [
        "## Compute predictions"
      ]
    },
    {
      "cell_type": "code",
      "metadata": {
        "id": "MB8A1y-iaK_w",
        "colab": {
          "base_uri": "https://localhost:8080/"
        },
        "outputId": "ce1056d2-97fd-4887-cef9-21c8d2666f5b"
      },
      "source": [
        "# Predict test set\r\n",
        "pred = model.predict([val[\"input_ids\"][:VAL_LIMIT], \r\n",
        "                      val[\"attention_mask\"][:VAL_LIMIT], \r\n",
        "                      val[\"token_type_ids\"][:VAL_LIMIT]],\r\n",
        "                      verbose = 1)\r\n",
        "\r\n",
        "pred_start_ids = np.argmax(pred[0], axis=-1)\r\n",
        "pred_end_ids = np.argmax(pred[1], axis=-1)"
      ],
      "execution_count": 22,
      "outputs": [
        {
          "output_type": "stream",
          "text": [
            "236/236 [==============================] - 287s 1s/step\n"
          ],
          "name": "stdout"
        }
      ]
    },
    {
      "cell_type": "markdown",
      "metadata": {
        "id": "AW8A7LtvxJLB"
      },
      "source": [
        "## Compute scores"
      ]
    },
    {
      "cell_type": "code",
      "metadata": {
        "id": "SQTezuqNgS3v"
      },
      "source": [
        "start_acc  = accuracy_score(val['start_idx'][:VAL_LIMIT], pred_start_ids)\r\n",
        "end_acc    = accuracy_score(val['end_idx'][:VAL_LIMIT], pred_end_ids)\r\n",
        "start_f1   = f1_score(val['start_idx'][:VAL_LIMIT], pred_start_ids, average=\"macro\")\r\n",
        "end_f1     = f1_score(val['end_idx'][:VAL_LIMIT], pred_end_ids, average=\"macro\")"
      ],
      "execution_count": 23,
      "outputs": []
    },
    {
      "cell_type": "code",
      "metadata": {
        "id": "G4UxhuKvq3gv"
      },
      "source": [
        "def most_similar_answer(context, answer):\r\n",
        "\r\n",
        "  original_answer = answer\r\n",
        "  \r\n",
        "  answer = answer.replace(\" %\", \"%\")\r\n",
        "  answer = answer.replace(\" . \", \" \")\r\n",
        "  answer = answer.replace(\" '\", \"\")\r\n",
        "  answer = answer.replace(' \"', '')\r\n",
        "  answer = answer.replace(\" “\", \"\")\r\n",
        "  answer = answer.replace(\" ”\", \"\")\r\n",
        "  answer = answer.replace(\" , \", \" \")\r\n",
        "  answer = answer.replace(\" ;\", \"\")\r\n",
        "  answer = answer.replace(\" - \", \"-\")\r\n",
        "  answer = answer.replace(\" – \", \"–\")\r\n",
        "  answer = answer.replace(\" (\", \" \")\r\n",
        "  answer = answer.replace(\" )\", \" \")\r\n",
        "  \r\n",
        "  context = context.replace(\".\", \"\")\r\n",
        "  context = context.replace(\", \", \" \")\r\n",
        "  context = context.replace(\";\", \"\")\r\n",
        "  context = context.replace('\"', '')\r\n",
        "  context = context.replace(\"“\", \"\")\r\n",
        "  context = context.replace(\"”\", \"\")\r\n",
        "  context = context.replace(\"'\", \" \")\r\n",
        "  context = context.replace(\"\\\"\", \"\")\r\n",
        "  context = context.replace(\"(\", \"\")\r\n",
        "  context = context.replace(\")\", \"\")\r\n",
        "\r\n",
        "  answer_list = answer.split(\" \")\r\n",
        "  context_list = context.split(\" \")\r\n",
        "\r\n",
        "  for i, element in enumerate(context_list):\r\n",
        "    lowered = []\r\n",
        "    for token in context_list[i:i+len(answer_list)]:\r\n",
        "      lowered.append(token.lower())\r\n",
        "    \r\n",
        "    if lowered == answer_list:\r\n",
        "      return True, ' '.join(context_list[i:i+len(answer_list)])\r\n",
        "  \r\n",
        "  return False, original_answer"
      ],
      "execution_count": 24,
      "outputs": []
    },
    {
      "cell_type": "code",
      "metadata": {
        "id": "uIuAA3o9gCWs",
        "outputId": "eca301e8-fbf8-4cae-f10d-968d85044d24",
        "colab": {
          "base_uri": "https://localhost:8080/"
        }
      },
      "source": [
        "def get_text_from_token_ids(context, start_id, end_id):\r\n",
        "  return tokenizer.convert_tokens_to_string(tokenizer.convert_ids_to_tokens(context[start_id:end_id+1]))\r\n",
        "\r\n",
        "# Initialize variables\r\n",
        "outputs_dict = {}       # output dictionary in requested format ('question_id': 'answer_text')\r\n",
        "exact_match = 0         # exact match counter\r\n",
        "exact_match_strings = 0 # exact match between the two strings counter\r\n",
        "\r\n",
        "for i, input_ids in enumerate(val['input_ids'][:VAL_LIMIT]):\r\n",
        "\r\n",
        "  # Extract variables\r\n",
        "  question_id = val['question_id'][i]\r\n",
        "  question_text = val[\"question_text\"][i]\r\n",
        "  context = val_context_dict[val[\"context_id\"][i]]\r\n",
        "  true_start = val['start_idx'][i]\r\n",
        "  true_end = val['end_idx'][i]\r\n",
        "  pred_start = pred_start_ids[i]\r\n",
        "  pred_end = pred_end_ids[i]\r\n",
        "\r\n",
        "  # Extract answers\r\n",
        "  true_answer = val['answer_text'][i]\r\n",
        "  predicted_answer = get_text_from_token_ids(input_ids, pred_start, pred_end)\r\n",
        "\r\n",
        "  # Convert answer (if possible)\r\n",
        "  convert_flag, converted_answer = most_similar_answer(context, predicted_answer)\r\n",
        "\r\n",
        "  # Count exact matches\r\n",
        "  if pred_start == true_start and pred_end == true_end:\r\n",
        "    exact_match += 1\r\n",
        "    \r\n",
        "  # If answer not found\r\n",
        "  if pred_start == 0 and pred_end == 0:\r\n",
        "    converted_answer = \"\"\r\n",
        "\r\n",
        "  # Count exaact matches between strings\r\n",
        "  if true_answer == converted_answer:\r\n",
        "    exact_match_strings += 1\r\n",
        "\r\n",
        "  # Write answer dictionary\r\n",
        "  outputs_dict[question_id] = converted_answer\r\n",
        "\r\n",
        "  # Print some examples\r\n",
        "  if i % 1000 == 0:\r\n",
        "    print(\"\\n\\nQuestion: \\n\", question_text)\r\n",
        "    print(\"Context: \\n\", context)\r\n",
        "\r\n",
        "    print(f\"True answer: \\n\\tids {(true_start, true_end)}\\t\\ttext: {true_answer}\")\r\n",
        "    print(f\"Our answer: \\n\\tids {(pred_start, pred_end)}\\t\\ttext: {converted_answer}\")\r\n",
        "    \r\n",
        "    if convert_flag:\r\n",
        "      print(\"(was converted)\")\r\n",
        "\r\n",
        "    print(\"\\n\", \"-\"*50)"
      ],
      "execution_count": 25,
      "outputs": [
        {
          "output_type": "stream",
          "text": [
            "\n",
            "\n",
            "Question: \n",
            " Who was an early leader in the Reformed churches?\n",
            "Context: \n",
            " Today, this term also refers to the doctrines and practices of the Reformed churches of which Calvin was an early leader. Less commonly, it can refer to the individual teaching of Calvin himself. The particulars of Calvinist theology may be stated in a number of ways. Perhaps the best known summary is contained in the five points of Calvinism, though these points identify the Calvinist view on soteriology rather than summarizing the system as a whole. Broadly speaking, Calvinism stresses the sovereignty or rule of God in all things — in salvation but also in all of life. This concept is seen clearly in the doctrines of predestination and total depravity.\n",
            "True answer: \n",
            "\tids (392, 392)\t\ttext: Calvin\n",
            "Our answer: \n",
            "\tids (392, 392)\t\ttext: Calvin\n",
            "(was converted)\n",
            "\n",
            " --------------------------------------------------\n",
            "\n",
            "\n",
            "Question: \n",
            " Political factions in Britain supported what view of Britains in WWII?\n",
            "Context: \n",
            " A converse popular image arose of British people in the Second World War: a collection of people locked in national solidarity. This image entered the historiography of the Second World War in the 1980s and 1990s, especially after the publication of Angus Calder's book The Myth of the Blitz (1991). It was evoked by both the right and left political factions in Britain during the Falklands War when it was embedded in a nostalgic narrative in which the Second World War represented aggressive British patriotism successfully defending democracy. This imagery of people in the Blitz was and is powerfully portrayed in film, radio, newspapers and magazines. At the time it was a useful propaganda tool for home and foreign consumption. Historians' critical response to this construction focused on what were seen as over-emphasised claims of righteous nationalism and national unity. In the Myth of the Blitz, Calder exposed some of the counter-evidence of anti-social and divisive behaviours. What he saw as the myth—serene national unity—became \"historical truth\". In particular, class division was most evident.\n",
            "True answer: \n",
            "\tids (389, 396)\t\ttext: aggressive British patriotism successfully defending democracy.\n",
            "Our answer: \n",
            "\tids (360, 362)\t\ttext: right and left\n",
            "(was converted)\n",
            "\n",
            " --------------------------------------------------\n",
            "\n",
            "\n",
            "Question: \n",
            " What is one of the main causes of the turbulent history?\n",
            "Context: \n",
            " South Slavic dialects historically formed a continuum. The turbulent history of the area, particularly due to expansion of the Ottoman Empire, resulted in a patchwork of dialectal and religious differences. Due to population migrations, Shtokavian became the most widespread in the western Balkans, intruding westwards into the area previously occupied by Chakavian and Kajkavian (which further blend into Slovenian in the northwest). Bosniaks, Croats and Serbs differ in religion and were historically often part of different cultural circles, although a large part of the nations have lived side by side under foreign overlords. During that period, the language was referred to under a variety of names, such as \"Slavic\", \"Illyrian\", or according to region, \"Bosnian\", \"Serbian\" and \"Croatian\", the latter often in combination with \"Slavonian\" or \"Dalmatian\".\n",
            "True answer: \n",
            "\tids (346, 350)\t\ttext: expansion of the Ottoman Empire\n",
            "Our answer: \n",
            "\tids (346, 350)\t\ttext: expansion of the Ottoman Empire\n",
            "(was converted)\n",
            "\n",
            " --------------------------------------------------\n",
            "\n",
            "\n",
            "Question: \n",
            " How many clubs ended up ratifying the original laws of the game?\n",
            "Context: \n",
            " These ongoing efforts contributed to the formation of The Football Association (The FA) in 1863, which first met on the morning of 26 October 1863 at the Freemasons' Tavern in Great Queen Street, London. The only school to be represented on this occasion was Charterhouse. The Freemason's Tavern was the setting for five more meetings between October and December, which eventually produced the first comprehensive set of rules. At the final meeting, the first FA treasurer, the representative from Blackheath, withdrew his club from the FA over the removal of two draft rules at the previous meeting: the first allowed for running with the ball in hand; the second for obstructing such a run by hacking (kicking an opponent in the shins), tripping and holding. Other English rugby clubs followed this lead and did not join the FA and instead in 1871 formed the Rugby Football Union. The eleven remaining clubs, under the charge of Ebenezer Cobb Morley, went on to ratify the original thirteen laws of the game. These rules included handling of the ball by \"marks\" and the lack of a crossbar, rules which made it remarkably similar to Victorian rules football being developed at that time in Australia. The Sheffield FA played by its own rules until the 1870s with the FA absorbing some of its rules until there was little difference between the games.\n",
            "True answer: \n",
            "\tids (419, 419)\t\ttext: eleven\n",
            "Our answer: \n",
            "\tids (440, 440)\t\ttext: thirteen\n",
            "(was converted)\n",
            "\n",
            " --------------------------------------------------\n",
            "\n",
            "\n",
            "Question: \n",
            " The Limes Germanicus was breached in what year?\n",
            "Context: \n",
            " The Germanic peoples during the Migrations Period came into contact with other peoples; in the case of the populations settling in the territory of modern Germany, they encountered Celts to the south, and Balts and Slavs towards the east. The Limes Germanicus was breached in AD 260. Migrating Germanic tribes commingled with the local Gallo-Roman populations in what is now Swabia and Bavaria. The arrival of the Huns in Europe resulted in Hun conquest of large parts of Eastern Europe, the Huns initially were allies of the Roman Empire who fought against Germanic tribes, but later the Huns cooperated with the Germanic tribe of the Ostrogoths, and large numbers of Germans lived within the lands of the Hunnic Empire of Attila. Attila had both Hunnic and Germanic families and prominent Germanic chiefs amongst his close entourage in Europe. The Huns living in Germanic territories in Eastern Europe adopted an East Germanic language as their lingua franca. A major part of Attila's army were Germans, during the Huns' campaign against the Roman Empire. After Attila's unexpected death the Hunnic Empire collapsed with the Huns disappearing as a people in Europe – who either escaped into Asia, or otherwise blended in amongst Europeans.\n",
            "True answer: \n",
            "\tids (310, 311)\t\ttext: AD 260\n",
            "Our answer: \n",
            "\tids (310, 311)\t\ttext: AD 260\n",
            "(was converted)\n",
            "\n",
            " --------------------------------------------------\n",
            "\n",
            "\n",
            "Question: \n",
            " Which continent was India colliding with in the Miocene?\n",
            "Context: \n",
            " During the Miocene continents continued to drift toward their present positions. Of the modern geologic features, only the land bridge between South America and North America was absent, the subduction zone along the Pacific Ocean margin of South America caused the rise of the Andes and the southward extension of the Meso-American peninsula. India continued to collide with Asia. The Tethys Seaway continued to shrink and then disappeared as Africa collided with Eurasia in the Turkish-Arabian region between 19 and 12 Ma (ICS 2004). Subsequent uplift of mountains in the western Mediterranean region and a global fall in sea levels combined to cause a temporary drying up of the Mediterranean Sea resulting in the Messinian salinity crisis near the end of the Miocene.\n",
            "True answer: \n",
            "\tids (430, 430)\t\ttext: Asia\n",
            "Our answer: \n",
            "\tids (430, 430)\t\ttext: Asia\n",
            "(was converted)\n",
            "\n",
            " --------------------------------------------------\n",
            "\n",
            "\n",
            "Question: \n",
            " What company confirmed that an early version of the Spectre script had been leaked?\n",
            "Context: \n",
            " In November 2014, Sony Pictures Entertainment was targeted by hackers who released details of confidential e-mails between Sony executives regarding several high-profile film projects. Included within these were several memos relating to the production of Spectre, claiming that the film was over budget, detailing early drafts of the script written by John Logan, and expressing Sony's frustration with the project. Eon Productions later issued a statement confirming the leak of what they called \"an early version of the screenplay\".\n",
            "True answer: \n",
            "\tids (488, 490)\t\ttext: Eon Productions\n",
            "Our answer: \n",
            "\tids (488, 490)\t\ttext: Eon Productions\n",
            "(was converted)\n",
            "\n",
            " --------------------------------------------------\n",
            "\n",
            "\n",
            "Question: \n",
            " How many cities of those the LEAA studied showed any reduction in crime?\n",
            "Context: \n",
            " In the 1970s the US Law Enforcement Assistance Administration (LEAA) found a reduction of 10% to 13% in Washington, D.C.'s violent crime rate during DST. However, the LEAA did not filter out other factors, and it examined only two cities and found crime reductions only in one and only in some crime categories; the DOT decided it was \"impossible to conclude with any confidence that comparable benefits would be found nationwide\". Outdoor lighting has a marginal and sometimes even contradictory influence on crime and fear of crime.\n",
            "True answer: \n",
            "\tids (465, 465)\t\ttext: one\n",
            "Our answer: \n",
            "\tids (457, 457)\t\ttext: two\n",
            "(was converted)\n",
            "\n",
            " --------------------------------------------------\n"
          ],
          "name": "stdout"
        }
      ]
    },
    {
      "cell_type": "code",
      "metadata": {
        "id": "7lJNXaHs4BIs",
        "colab": {
          "base_uri": "https://localhost:8080/"
        },
        "outputId": "2525d2b3-d06e-44b9-c319-6325de85bfa8"
      },
      "source": [
        "print(\"Test exact matches between strings: {}/{} ({:.2f}%)\".format(exact_match_strings, exact_match, exact_match_strings/exact_match*100))"
      ],
      "execution_count": 26,
      "outputs": [
        {
          "output_type": "stream",
          "text": [
            "Test exact matches between strings: 3639/4105 (88.65%)\n"
          ],
          "name": "stdout"
        }
      ]
    },
    {
      "cell_type": "markdown",
      "metadata": {
        "id": "PleXABTow5VI"
      },
      "source": [
        "## Save results to Drive"
      ]
    },
    {
      "cell_type": "code",
      "metadata": {
        "id": "mRdxAI9ug1kE"
      },
      "source": [
        "time = datetime.now().strftime(\"%d-%m-%Y_%H:%M\")\r\n",
        "\r\n",
        "with open(f\"/content/drive/MyDrive/SQUAD/Results/results_{time}.txt\", \"w\") as f:\r\n",
        "\r\n",
        "  f.write(f\"TEST start accuracy: {start_acc}\")\r\n",
        "  f.write(f\"\\nTEST start f1-score: {start_f1}\")\r\n",
        "\r\n",
        "  f.write(f\"\\n\\nTEST end accuracy: {end_acc}\")\r\n",
        "  f.write(f\"\\nTEST end f1-score: {end_f1}\")\r\n",
        "\r\n",
        "  f.write(\"\\n\\nTest exact matches: {}/{} ({:.2f}%)\".format(exact_match,\r\n",
        "                                                           len(val['input_ids'][:VAL_LIMIT]),\r\n",
        "                                                           exact_match/len(val['input_ids'][:VAL_LIMIT])*100))\r\n",
        "\r\n",
        "with open(f\"/content/drive/MyDrive/SQUAD/Outputs/outputs_{time}.json\", 'w') as fp:\r\n",
        "    json.dump(outputs_dict, fp)"
      ],
      "execution_count": 27,
      "outputs": []
    },
    {
      "cell_type": "markdown",
      "metadata": {
        "id": "2yudGVFyxUsi"
      },
      "source": [
        "## Load results from Drive"
      ]
    },
    {
      "cell_type": "code",
      "metadata": {
        "id": "JmNfhR5uqDZk",
        "colab": {
          "base_uri": "https://localhost:8080/"
        },
        "outputId": "9125f6ac-c2d9-41c8-d982-5d6f64030778"
      },
      "source": [
        "with open(f\"/content/drive/MyDrive/SQUAD/Results/results_{time}.txt\", \"r\") as f:\r\n",
        "  for line in f.readlines():\r\n",
        "    print(line, end=\"\")\r\n",
        "\r\n",
        "with open(f\"/content/drive/MyDrive/SQUAD/Outputs/outputs_{time}.json\", \"r\") as f:\r\n",
        "  outputs_dict = json.load(f)"
      ],
      "execution_count": 28,
      "outputs": [
        {
          "output_type": "stream",
          "text": [
            "TEST start accuracy: 0.6439393939393939\n",
            "TEST start f1-score: 0.5883065490196836\n",
            "\n",
            "TEST end accuracy: 0.7018872939925571\n",
            "TEST end f1-score: 0.6341850591413957\n",
            "\n",
            "Test exact matches: 4105/7524 (54.56%)"
          ],
          "name": "stdout"
        }
      ]
    }
  ]
}