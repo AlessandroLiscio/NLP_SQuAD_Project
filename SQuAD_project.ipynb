{
  "nbformat": 4,
  "nbformat_minor": 0,
  "metadata": {
    "colab": {
      "name": "Project-X-SQAD.ipynb",
      "provenance": []
    },
    "kernelspec": {
      "name": "python3",
      "display_name": "Python 3"
    },
    "accelerator": "GPU",
    "widgets": {
      "application/vnd.jupyter.widget-state+json": {
        "d08628d60f62407fbe5b524bfd9ee6b2": {
          "model_module": "@jupyter-widgets/controls",
          "model_name": "HBoxModel",
          "state": {
            "_view_name": "HBoxView",
            "_dom_classes": [],
            "_model_name": "HBoxModel",
            "_view_module": "@jupyter-widgets/controls",
            "_model_module_version": "1.5.0",
            "_view_count": null,
            "_view_module_version": "1.5.0",
            "box_style": "",
            "layout": "IPY_MODEL_405372b55ea64e80a876ded25f8051f7",
            "_model_module": "@jupyter-widgets/controls",
            "children": [
              "IPY_MODEL_bb46b12819ef447d98d074b6e5efc450",
              "IPY_MODEL_c7a302c5e2db4da099ffba30c25022f2"
            ]
          }
        },
        "405372b55ea64e80a876ded25f8051f7": {
          "model_module": "@jupyter-widgets/base",
          "model_name": "LayoutModel",
          "state": {
            "_view_name": "LayoutView",
            "grid_template_rows": null,
            "right": null,
            "justify_content": null,
            "_view_module": "@jupyter-widgets/base",
            "overflow": null,
            "_model_module_version": "1.2.0",
            "_view_count": null,
            "flex_flow": null,
            "width": null,
            "min_width": null,
            "border": null,
            "align_items": null,
            "bottom": null,
            "_model_module": "@jupyter-widgets/base",
            "top": null,
            "grid_column": null,
            "overflow_y": null,
            "overflow_x": null,
            "grid_auto_flow": null,
            "grid_area": null,
            "grid_template_columns": null,
            "flex": null,
            "_model_name": "LayoutModel",
            "justify_items": null,
            "grid_row": null,
            "max_height": null,
            "align_content": null,
            "visibility": null,
            "align_self": null,
            "height": null,
            "min_height": null,
            "padding": null,
            "grid_auto_rows": null,
            "grid_gap": null,
            "max_width": null,
            "order": null,
            "_view_module_version": "1.2.0",
            "grid_template_areas": null,
            "object_position": null,
            "object_fit": null,
            "grid_auto_columns": null,
            "margin": null,
            "display": null,
            "left": null
          }
        },
        "bb46b12819ef447d98d074b6e5efc450": {
          "model_module": "@jupyter-widgets/controls",
          "model_name": "FloatProgressModel",
          "state": {
            "_view_name": "ProgressView",
            "style": "IPY_MODEL_6291e050c8824800872d498cd61b6df7",
            "_dom_classes": [],
            "description": "Downloading: 100%",
            "_model_name": "FloatProgressModel",
            "bar_style": "success",
            "max": 231508,
            "_view_module": "@jupyter-widgets/controls",
            "_model_module_version": "1.5.0",
            "value": 231508,
            "_view_count": null,
            "_view_module_version": "1.5.0",
            "orientation": "horizontal",
            "min": 0,
            "description_tooltip": null,
            "_model_module": "@jupyter-widgets/controls",
            "layout": "IPY_MODEL_4b519c2a5677445fae6298533c121ca9"
          }
        },
        "c7a302c5e2db4da099ffba30c25022f2": {
          "model_module": "@jupyter-widgets/controls",
          "model_name": "HTMLModel",
          "state": {
            "_view_name": "HTMLView",
            "style": "IPY_MODEL_9438127440384ca293d34370052d17e0",
            "_dom_classes": [],
            "description": "",
            "_model_name": "HTMLModel",
            "placeholder": "​",
            "_view_module": "@jupyter-widgets/controls",
            "_model_module_version": "1.5.0",
            "value": " 232k/232k [00:00&lt;00:00, 3.37MB/s]",
            "_view_count": null,
            "_view_module_version": "1.5.0",
            "description_tooltip": null,
            "_model_module": "@jupyter-widgets/controls",
            "layout": "IPY_MODEL_c0e4e566c6a047898c24a3ebee2d0de1"
          }
        },
        "6291e050c8824800872d498cd61b6df7": {
          "model_module": "@jupyter-widgets/controls",
          "model_name": "ProgressStyleModel",
          "state": {
            "_view_name": "StyleView",
            "_model_name": "ProgressStyleModel",
            "description_width": "initial",
            "_view_module": "@jupyter-widgets/base",
            "_model_module_version": "1.5.0",
            "_view_count": null,
            "_view_module_version": "1.2.0",
            "bar_color": null,
            "_model_module": "@jupyter-widgets/controls"
          }
        },
        "4b519c2a5677445fae6298533c121ca9": {
          "model_module": "@jupyter-widgets/base",
          "model_name": "LayoutModel",
          "state": {
            "_view_name": "LayoutView",
            "grid_template_rows": null,
            "right": null,
            "justify_content": null,
            "_view_module": "@jupyter-widgets/base",
            "overflow": null,
            "_model_module_version": "1.2.0",
            "_view_count": null,
            "flex_flow": null,
            "width": null,
            "min_width": null,
            "border": null,
            "align_items": null,
            "bottom": null,
            "_model_module": "@jupyter-widgets/base",
            "top": null,
            "grid_column": null,
            "overflow_y": null,
            "overflow_x": null,
            "grid_auto_flow": null,
            "grid_area": null,
            "grid_template_columns": null,
            "flex": null,
            "_model_name": "LayoutModel",
            "justify_items": null,
            "grid_row": null,
            "max_height": null,
            "align_content": null,
            "visibility": null,
            "align_self": null,
            "height": null,
            "min_height": null,
            "padding": null,
            "grid_auto_rows": null,
            "grid_gap": null,
            "max_width": null,
            "order": null,
            "_view_module_version": "1.2.0",
            "grid_template_areas": null,
            "object_position": null,
            "object_fit": null,
            "grid_auto_columns": null,
            "margin": null,
            "display": null,
            "left": null
          }
        },
        "9438127440384ca293d34370052d17e0": {
          "model_module": "@jupyter-widgets/controls",
          "model_name": "DescriptionStyleModel",
          "state": {
            "_view_name": "StyleView",
            "_model_name": "DescriptionStyleModel",
            "description_width": "",
            "_view_module": "@jupyter-widgets/base",
            "_model_module_version": "1.5.0",
            "_view_count": null,
            "_view_module_version": "1.2.0",
            "_model_module": "@jupyter-widgets/controls"
          }
        },
        "c0e4e566c6a047898c24a3ebee2d0de1": {
          "model_module": "@jupyter-widgets/base",
          "model_name": "LayoutModel",
          "state": {
            "_view_name": "LayoutView",
            "grid_template_rows": null,
            "right": null,
            "justify_content": null,
            "_view_module": "@jupyter-widgets/base",
            "overflow": null,
            "_model_module_version": "1.2.0",
            "_view_count": null,
            "flex_flow": null,
            "width": null,
            "min_width": null,
            "border": null,
            "align_items": null,
            "bottom": null,
            "_model_module": "@jupyter-widgets/base",
            "top": null,
            "grid_column": null,
            "overflow_y": null,
            "overflow_x": null,
            "grid_auto_flow": null,
            "grid_area": null,
            "grid_template_columns": null,
            "flex": null,
            "_model_name": "LayoutModel",
            "justify_items": null,
            "grid_row": null,
            "max_height": null,
            "align_content": null,
            "visibility": null,
            "align_self": null,
            "height": null,
            "min_height": null,
            "padding": null,
            "grid_auto_rows": null,
            "grid_gap": null,
            "max_width": null,
            "order": null,
            "_view_module_version": "1.2.0",
            "grid_template_areas": null,
            "object_position": null,
            "object_fit": null,
            "grid_auto_columns": null,
            "margin": null,
            "display": null,
            "left": null
          }
        }
      }
    }
  },
  "cells": [
    {
      "cell_type": "markdown",
      "metadata": {
        "id": "Y6J9_LsBSwk-"
      },
      "source": [
        "# Setup"
      ]
    },
    {
      "cell_type": "code",
      "metadata": {
        "id": "SwEFNn5KuGDl",
        "colab": {
          "base_uri": "https://localhost:8080/"
        },
        "outputId": "7f86c2b7-fbbd-4fdd-defc-d9af16080dfc"
      },
      "source": [
        "!pip install -q tf-models-official==2.3.0\r\n",
        "!pip install transformers"
      ],
      "execution_count": 24,
      "outputs": [
        {
          "output_type": "stream",
          "text": [
            "\u001b[K     |████████████████████████████████| 849kB 15.8MB/s \n",
            "\u001b[K     |████████████████████████████████| 102kB 14.6MB/s \n",
            "\u001b[K     |████████████████████████████████| 174kB 24.9MB/s \n",
            "\u001b[K     |████████████████████████████████| 358kB 50.6MB/s \n",
            "\u001b[K     |████████████████████████████████| 1.2MB 58.4MB/s \n",
            "\u001b[K     |████████████████████████████████| 37.6MB 80kB/s \n",
            "\u001b[?25h  Building wheel for py-cpuinfo (setup.py) ... \u001b[?25l\u001b[?25hdone\n",
            "Collecting transformers\n",
            "\u001b[?25l  Downloading https://files.pythonhosted.org/packages/88/b1/41130a228dd656a1a31ba281598a968320283f48d42782845f6ba567f00b/transformers-4.2.2-py3-none-any.whl (1.8MB)\n",
            "\u001b[K     |████████████████████████████████| 1.8MB 21.4MB/s \n",
            "\u001b[?25hRequirement already satisfied: filelock in /usr/local/lib/python3.6/dist-packages (from transformers) (3.0.12)\n",
            "Requirement already satisfied: tqdm>=4.27 in /usr/local/lib/python3.6/dist-packages (from transformers) (4.41.1)\n",
            "Requirement already satisfied: regex!=2019.12.17 in /usr/local/lib/python3.6/dist-packages (from transformers) (2019.12.20)\n",
            "Requirement already satisfied: numpy in /usr/local/lib/python3.6/dist-packages (from transformers) (1.19.5)\n",
            "Requirement already satisfied: dataclasses; python_version < \"3.7\" in /usr/local/lib/python3.6/dist-packages (from transformers) (0.8)\n",
            "Collecting sacremoses\n",
            "\u001b[?25l  Downloading https://files.pythonhosted.org/packages/7d/34/09d19aff26edcc8eb2a01bed8e98f13a1537005d31e95233fd48216eed10/sacremoses-0.0.43.tar.gz (883kB)\n",
            "\u001b[K     |████████████████████████████████| 890kB 54.5MB/s \n",
            "\u001b[?25hRequirement already satisfied: packaging in /usr/local/lib/python3.6/dist-packages (from transformers) (20.9)\n",
            "Requirement already satisfied: importlib-metadata; python_version < \"3.8\" in /usr/local/lib/python3.6/dist-packages (from transformers) (3.4.0)\n",
            "Collecting tokenizers==0.9.4\n",
            "\u001b[?25l  Downloading https://files.pythonhosted.org/packages/0f/1c/e789a8b12e28be5bc1ce2156cf87cb522b379be9cadc7ad8091a4cc107c4/tokenizers-0.9.4-cp36-cp36m-manylinux2010_x86_64.whl (2.9MB)\n",
            "\u001b[K     |████████████████████████████████| 2.9MB 46.2MB/s \n",
            "\u001b[?25hRequirement already satisfied: requests in /usr/local/lib/python3.6/dist-packages (from transformers) (2.23.0)\n",
            "Requirement already satisfied: six in /usr/local/lib/python3.6/dist-packages (from sacremoses->transformers) (1.15.0)\n",
            "Requirement already satisfied: click in /usr/local/lib/python3.6/dist-packages (from sacremoses->transformers) (7.1.2)\n",
            "Requirement already satisfied: joblib in /usr/local/lib/python3.6/dist-packages (from sacremoses->transformers) (1.0.0)\n",
            "Requirement already satisfied: pyparsing>=2.0.2 in /usr/local/lib/python3.6/dist-packages (from packaging->transformers) (2.4.7)\n",
            "Requirement already satisfied: zipp>=0.5 in /usr/local/lib/python3.6/dist-packages (from importlib-metadata; python_version < \"3.8\"->transformers) (3.4.0)\n",
            "Requirement already satisfied: typing-extensions>=3.6.4; python_version < \"3.8\" in /usr/local/lib/python3.6/dist-packages (from importlib-metadata; python_version < \"3.8\"->transformers) (3.7.4.3)\n",
            "Requirement already satisfied: chardet<4,>=3.0.2 in /usr/local/lib/python3.6/dist-packages (from requests->transformers) (3.0.4)\n",
            "Requirement already satisfied: idna<3,>=2.5 in /usr/local/lib/python3.6/dist-packages (from requests->transformers) (2.10)\n",
            "Requirement already satisfied: urllib3!=1.25.0,!=1.25.1,<1.26,>=1.21.1 in /usr/local/lib/python3.6/dist-packages (from requests->transformers) (1.24.3)\n",
            "Requirement already satisfied: certifi>=2017.4.17 in /usr/local/lib/python3.6/dist-packages (from requests->transformers) (2020.12.5)\n",
            "Building wheels for collected packages: sacremoses\n",
            "  Building wheel for sacremoses (setup.py) ... \u001b[?25l\u001b[?25hdone\n",
            "  Created wheel for sacremoses: filename=sacremoses-0.0.43-cp36-none-any.whl size=893261 sha256=6113fd10159a71d6b7c5c943e1b2f9f87008107629c7350f77036d0c869f1037\n",
            "  Stored in directory: /root/.cache/pip/wheels/29/3c/fd/7ce5c3f0666dab31a50123635e6fb5e19ceb42ce38d4e58f45\n",
            "Successfully built sacremoses\n",
            "Installing collected packages: sacremoses, tokenizers, transformers\n",
            "Successfully installed sacremoses-0.0.43 tokenizers-0.9.4 transformers-4.2.2\n"
          ],
          "name": "stdout"
        }
      ]
    },
    {
      "cell_type": "code",
      "metadata": {
        "id": "KxC2Vn2KR8pK"
      },
      "source": [
        "import os\r\n",
        "import json\r\n",
        "\r\n",
        "import re\r\n",
        "\r\n",
        "import pandas as pd\r\n",
        "import numpy as np\r\n",
        "import matplotlib.pyplot as plt\r\n",
        "\r\n",
        "import tensorflow as tf\r\n",
        "from sklearn.model_selection import train_test_split"
      ],
      "execution_count": 25,
      "outputs": []
    },
    {
      "cell_type": "markdown",
      "metadata": {
        "id": "85YO229Wu0iJ"
      },
      "source": [
        "This directory contains the configuration, vocabulary, and a pre-trained checkpoint used in this tutorial:"
      ]
    },
    {
      "cell_type": "markdown",
      "metadata": {
        "id": "A23pEgzInJLM"
      },
      "source": [
        "# Dataset"
      ]
    },
    {
      "cell_type": "code",
      "metadata": {
        "id": "dwEW25ifc3Pt",
        "colab": {
          "base_uri": "https://localhost:8080/"
        },
        "outputId": "30482765-361f-42ae-e22c-385fa26f8cce"
      },
      "source": [
        "# import sys\r\n",
        "# !git clone \"https://github.com/giuliofortini/NLP_SQuAD_Project\"\r\n",
        "# sys.path.append(\"NLP_SQuAD_Project/\")\r\n",
        "\r\n",
        "from google.colab import files\r\n",
        "try:\r\n",
        "  with open('training_set.json') as f:\r\n",
        "    json_data = json.load(f)\r\n",
        "except:\r\n",
        "  from google.colab import drive\r\n",
        "  drive.mount('/content/drive')\r\n",
        "  with open('/content/drive/My Drive/SQUAD/training_set.json') as f:\r\n",
        "    json_data = json.load(f)"
      ],
      "execution_count": 26,
      "outputs": [
        {
          "output_type": "stream",
          "text": [
            "Mounted at /content/drive\n"
          ],
          "name": "stdout"
        }
      ]
    },
    {
      "cell_type": "code",
      "metadata": {
        "id": "_o1FPMIyWWgw",
        "colab": {
          "base_uri": "https://localhost:8080/",
          "height": 419
        },
        "outputId": "5fbe3cca-06e6-4adf-aa49-6eb2ceb2b91c"
      },
      "source": [
        "data = pd.json_normalize(json_data['data'])\r\n",
        "data"
      ],
      "execution_count": 27,
      "outputs": [
        {
          "output_type": "execute_result",
          "data": {
            "text/html": [
              "<div>\n",
              "<style scoped>\n",
              "    .dataframe tbody tr th:only-of-type {\n",
              "        vertical-align: middle;\n",
              "    }\n",
              "\n",
              "    .dataframe tbody tr th {\n",
              "        vertical-align: top;\n",
              "    }\n",
              "\n",
              "    .dataframe thead th {\n",
              "        text-align: right;\n",
              "    }\n",
              "</style>\n",
              "<table border=\"1\" class=\"dataframe\">\n",
              "  <thead>\n",
              "    <tr style=\"text-align: right;\">\n",
              "      <th></th>\n",
              "      <th>title</th>\n",
              "      <th>paragraphs</th>\n",
              "    </tr>\n",
              "  </thead>\n",
              "  <tbody>\n",
              "    <tr>\n",
              "      <th>0</th>\n",
              "      <td>University_of_Notre_Dame</td>\n",
              "      <td>[{'context': 'Architecturally, the school has ...</td>\n",
              "    </tr>\n",
              "    <tr>\n",
              "      <th>1</th>\n",
              "      <td>Beyoncé</td>\n",
              "      <td>[{'context': 'Beyoncé Giselle Knowles-Carter (...</td>\n",
              "    </tr>\n",
              "    <tr>\n",
              "      <th>2</th>\n",
              "      <td>Montana</td>\n",
              "      <td>[{'context': 'Montana i/mɒnˈtænə/ is a state i...</td>\n",
              "    </tr>\n",
              "    <tr>\n",
              "      <th>3</th>\n",
              "      <td>Genocide</td>\n",
              "      <td>[{'context': 'The phrase \"in whole or in part\"...</td>\n",
              "    </tr>\n",
              "    <tr>\n",
              "      <th>4</th>\n",
              "      <td>Antibiotics</td>\n",
              "      <td>[{'context': 'The emergence of resistance of b...</td>\n",
              "    </tr>\n",
              "    <tr>\n",
              "      <th>...</th>\n",
              "      <td>...</td>\n",
              "      <td>...</td>\n",
              "    </tr>\n",
              "    <tr>\n",
              "      <th>437</th>\n",
              "      <td>Police</td>\n",
              "      <td>[{'context': 'A police force is a constituted ...</td>\n",
              "    </tr>\n",
              "    <tr>\n",
              "      <th>438</th>\n",
              "      <td>Punjab,_Pakistan</td>\n",
              "      <td>[{'context': 'Punjab (Urdu, Punjabi: پنجاب, pa...</td>\n",
              "    </tr>\n",
              "    <tr>\n",
              "      <th>439</th>\n",
              "      <td>Infection</td>\n",
              "      <td>[{'context': ' Among the vast varieties of mic...</td>\n",
              "    </tr>\n",
              "    <tr>\n",
              "      <th>440</th>\n",
              "      <td>Hunting</td>\n",
              "      <td>[{'context': 'Hunting is the practice of killi...</td>\n",
              "    </tr>\n",
              "    <tr>\n",
              "      <th>441</th>\n",
              "      <td>Kathmandu</td>\n",
              "      <td>[{'context': 'Kathmandu(/ˌkɑːtmɑːnˈduː/; Nepal...</td>\n",
              "    </tr>\n",
              "  </tbody>\n",
              "</table>\n",
              "<p>442 rows × 2 columns</p>\n",
              "</div>"
            ],
            "text/plain": [
              "                        title                                         paragraphs\n",
              "0    University_of_Notre_Dame  [{'context': 'Architecturally, the school has ...\n",
              "1                     Beyoncé  [{'context': 'Beyoncé Giselle Knowles-Carter (...\n",
              "2                     Montana  [{'context': 'Montana i/mɒnˈtænə/ is a state i...\n",
              "3                    Genocide  [{'context': 'The phrase \"in whole or in part\"...\n",
              "4                 Antibiotics  [{'context': 'The emergence of resistance of b...\n",
              "..                        ...                                                ...\n",
              "437                    Police  [{'context': 'A police force is a constituted ...\n",
              "438          Punjab,_Pakistan  [{'context': 'Punjab (Urdu, Punjabi: پنجاب, pa...\n",
              "439                 Infection  [{'context': ' Among the vast varieties of mic...\n",
              "440                   Hunting  [{'context': 'Hunting is the practice of killi...\n",
              "441                 Kathmandu  [{'context': 'Kathmandu(/ˌkɑːtmɑːnˈduː/; Nepal...\n",
              "\n",
              "[442 rows x 2 columns]"
            ]
          },
          "metadata": {
            "tags": []
          },
          "execution_count": 27
        }
      ]
    },
    {
      "cell_type": "code",
      "metadata": {
        "id": "PVKxOMQ8pEEg"
      },
      "source": [
        "train, test = train_test_split(data, test_size=0.2)"
      ],
      "execution_count": 28,
      "outputs": []
    },
    {
      "cell_type": "code",
      "metadata": {
        "id": "Qc6-zf6cV4e6"
      },
      "source": [
        "def preprocess_df(df):\r\n",
        "  temp = []\r\n",
        "  title_dict = {}\r\n",
        "  contexts = []\r\n",
        "\r\n",
        "  for i, row in df.iterrows():\r\n",
        "    for context in row['paragraphs']:\r\n",
        "      contexts.append(context['context'])\r\n",
        "      for qa in context['qas']:\r\n",
        "        question_id = qa['id']\r\n",
        "        question = qa['question']\r\n",
        "        for answer in qa['answers']:\r\n",
        "          answer_text = answer['text']\r\n",
        "          answer_start = answer['answer_start']\r\n",
        "          answer_end = answer_start+len(answer_text)\r\n",
        "          temp.append([question_id, question, answer_text, answer_start, answer_end, i, len(contexts)-1])\r\n",
        "\r\n",
        "\r\n",
        "  context_dict = dict(enumerate(contexts))\r\n",
        "\r\n",
        "  df = pd.DataFrame(temp, columns=['question_id', 'question_text', 'answer_text', 'answer_start', 'answer_end', 'title_id', 'context_id'])\r\n",
        "  \r\n",
        "  return df, context_dict\r\n",
        "\r\n",
        "train_df, train_context_dict = preprocess_df(train)\r\n",
        "test_df, test_context_dict = preprocess_df(test)"
      ],
      "execution_count": 29,
      "outputs": []
    },
    {
      "cell_type": "code",
      "metadata": {
        "id": "JtYH3UjM7M_6",
        "colab": {
          "base_uri": "https://localhost:8080/",
          "height": 419
        },
        "outputId": "7b174c16-fc0c-4f15-d923-c84af21e6e4f"
      },
      "source": [
        "train_df"
      ],
      "execution_count": 30,
      "outputs": [
        {
          "output_type": "execute_result",
          "data": {
            "text/html": [
              "<div>\n",
              "<style scoped>\n",
              "    .dataframe tbody tr th:only-of-type {\n",
              "        vertical-align: middle;\n",
              "    }\n",
              "\n",
              "    .dataframe tbody tr th {\n",
              "        vertical-align: top;\n",
              "    }\n",
              "\n",
              "    .dataframe thead th {\n",
              "        text-align: right;\n",
              "    }\n",
              "</style>\n",
              "<table border=\"1\" class=\"dataframe\">\n",
              "  <thead>\n",
              "    <tr style=\"text-align: right;\">\n",
              "      <th></th>\n",
              "      <th>question_id</th>\n",
              "      <th>question_text</th>\n",
              "      <th>answer_text</th>\n",
              "      <th>answer_start</th>\n",
              "      <th>answer_end</th>\n",
              "      <th>title_id</th>\n",
              "      <th>context_id</th>\n",
              "    </tr>\n",
              "  </thead>\n",
              "  <tbody>\n",
              "    <tr>\n",
              "      <th>0</th>\n",
              "      <td>570a58de6d058f1900182d7a</td>\n",
              "      <td>What system of the body is related to emotion'...</td>\n",
              "      <td>nervous</td>\n",
              "      <td>220</td>\n",
              "      <td>227</td>\n",
              "      <td>133</td>\n",
              "      <td>0</td>\n",
              "    </tr>\n",
              "    <tr>\n",
              "      <th>1</th>\n",
              "      <td>570a58de6d058f1900182d7b</td>\n",
              "      <td>What sorts of people are more likely to be emo...</td>\n",
              "      <td>Extroverted</td>\n",
              "      <td>373</td>\n",
              "      <td>384</td>\n",
              "      <td>133</td>\n",
              "      <td>0</td>\n",
              "    </tr>\n",
              "    <tr>\n",
              "      <th>2</th>\n",
              "      <td>570a58de6d058f1900182d7c</td>\n",
              "      <td>What type of people hide their emotions?</td>\n",
              "      <td>introverted</td>\n",
              "      <td>455</td>\n",
              "      <td>466</td>\n",
              "      <td>133</td>\n",
              "      <td>0</td>\n",
              "    </tr>\n",
              "    <tr>\n",
              "      <th>3</th>\n",
              "      <td>570a58de6d058f1900182d7d</td>\n",
              "      <td>What is emotion frequently responsible for dri...</td>\n",
              "      <td>motivation</td>\n",
              "      <td>590</td>\n",
              "      <td>600</td>\n",
              "      <td>133</td>\n",
              "      <td>0</td>\n",
              "    </tr>\n",
              "    <tr>\n",
              "      <th>4</th>\n",
              "      <td>570a58de6d058f1900182d7e</td>\n",
              "      <td>Along with physical changes, what sort of chan...</td>\n",
              "      <td>psychological</td>\n",
              "      <td>107</td>\n",
              "      <td>120</td>\n",
              "      <td>133</td>\n",
              "      <td>0</td>\n",
              "    </tr>\n",
              "    <tr>\n",
              "      <th>...</th>\n",
              "      <td>...</td>\n",
              "      <td>...</td>\n",
              "      <td>...</td>\n",
              "      <td>...</td>\n",
              "      <td>...</td>\n",
              "      <td>...</td>\n",
              "      <td>...</td>\n",
              "    </tr>\n",
              "    <tr>\n",
              "      <th>67577</th>\n",
              "      <td>56e7b5cf00c9c71400d77546</td>\n",
              "      <td>In 2008, what was the average attendance for a...</td>\n",
              "      <td>12,957</td>\n",
              "      <td>531</td>\n",
              "      <td>537</td>\n",
              "      <td>70</td>\n",
              "      <td>14693</td>\n",
              "    </tr>\n",
              "    <tr>\n",
              "      <th>67578</th>\n",
              "      <td>56e7b5cf00c9c71400d77547</td>\n",
              "      <td>During the 2008 season, how many teams average...</td>\n",
              "      <td>eight</td>\n",
              "      <td>544</td>\n",
              "      <td>549</td>\n",
              "      <td>70</td>\n",
              "      <td>14693</td>\n",
              "    </tr>\n",
              "    <tr>\n",
              "      <th>67579</th>\n",
              "      <td>56e7b60637bdd419002c43c2</td>\n",
              "      <td>What was the AFL's average per-game attendance...</td>\n",
              "      <td>8,135</td>\n",
              "      <td>118</td>\n",
              "      <td>123</td>\n",
              "      <td>70</td>\n",
              "      <td>14694</td>\n",
              "    </tr>\n",
              "    <tr>\n",
              "      <th>67580</th>\n",
              "      <td>56e7b60637bdd419002c43c3</td>\n",
              "      <td>In the 2010 season, how many teams drew an ave...</td>\n",
              "      <td>one</td>\n",
              "      <td>135</td>\n",
              "      <td>138</td>\n",
              "      <td>70</td>\n",
              "      <td>14694</td>\n",
              "    </tr>\n",
              "    <tr>\n",
              "      <th>67581</th>\n",
              "      <td>56e7b60637bdd419002c43c4</td>\n",
              "      <td>What team drew more than 13,000 fans per game ...</td>\n",
              "      <td>Tampa Bay</td>\n",
              "      <td>145</td>\n",
              "      <td>154</td>\n",
              "      <td>70</td>\n",
              "      <td>14694</td>\n",
              "    </tr>\n",
              "  </tbody>\n",
              "</table>\n",
              "<p>67582 rows × 7 columns</p>\n",
              "</div>"
            ],
            "text/plain": [
              "                    question_id  ... context_id\n",
              "0      570a58de6d058f1900182d7a  ...          0\n",
              "1      570a58de6d058f1900182d7b  ...          0\n",
              "2      570a58de6d058f1900182d7c  ...          0\n",
              "3      570a58de6d058f1900182d7d  ...          0\n",
              "4      570a58de6d058f1900182d7e  ...          0\n",
              "...                         ...  ...        ...\n",
              "67577  56e7b5cf00c9c71400d77546  ...      14693\n",
              "67578  56e7b5cf00c9c71400d77547  ...      14693\n",
              "67579  56e7b60637bdd419002c43c2  ...      14694\n",
              "67580  56e7b60637bdd419002c43c3  ...      14694\n",
              "67581  56e7b60637bdd419002c43c4  ...      14694\n",
              "\n",
              "[67582 rows x 7 columns]"
            ]
          },
          "metadata": {
            "tags": []
          },
          "execution_count": 30
        }
      ]
    },
    {
      "cell_type": "code",
      "metadata": {
        "id": "TaUcu-8VyTqs",
        "colab": {
          "base_uri": "https://localhost:8080/"
        },
        "outputId": "b4d745e6-ad61-41ff-c6de-2073bf96a04e"
      },
      "source": [
        "import random\r\n",
        "def print_squad_sample(train_data, context_dict, line_length=120, separator_length=150):\r\n",
        "  sample = train_data.sample(frac=1).head(1)\r\n",
        "  context = context_dict[sample['context_id'].item()]\r\n",
        "  print('='*separator_length)\r\n",
        "  print('CONTEXT: ')\r\n",
        "  print('='*separator_length)\r\n",
        "  lines = [''.join(context[idx:idx+line_length]) for idx in range(0, len(context), line_length)]\r\n",
        "  for l in lines:\r\n",
        "      print(l)\r\n",
        "  #print(context)\r\n",
        "  print('='*separator_length)\r\n",
        "  questions = train_data[train_data['context_id'] == sample['context_id'].item()]\r\n",
        "  print('QUESTION:', ' '*(3*separator_length//4), 'ANSWER:')\r\n",
        "  for idx, row in questions.iterrows():\r\n",
        "    question = row.question_text\r\n",
        "    answer = row.answer_text\r\n",
        "    print(question, ' '*(3*separator_length//4-len(question)+9), answer)\r\n",
        "\r\n",
        "print_squad_sample(train_df, train_context_dict)"
      ],
      "execution_count": 31,
      "outputs": [
        {
          "output_type": "stream",
          "text": [
            "======================================================================================================================================================\n",
            "CONTEXT: \n",
            "======================================================================================================================================================\n",
            "With the gradual weakening of the Marathas in the aftermath of the three Anglo-Maratha wars, the British also secured th\n",
            "e Ganges-Jumna Doab, the Delhi-Agra region, parts of Bundelkhand, Broach, some districts of Gujarat, the fort of Ahmmadn\n",
            "agar, province of Cuttack (which included Mughalbandi/the coastal part of Odisha, Garjat/the princely states of Odisha, \n",
            "Balasore Port, parts of Midnapore district of West Bengal), Bombay (Mumbai) and the surrounding areas, leading to a form\n",
            "al end of the Maratha empire and firm establishment of the British East India Company in India.\n",
            "======================================================================================================================================================\n",
            "QUESTION:                                                                                                                  ANSWER:\n",
            "how many Anglo Maratha wars were there?                                                                                    three\n",
            "What empire ended after the three Anglo- Maratha wars?                                                                     Maratha empire\n",
            "With the formal end of Maratha Empire the EIC created a  firm hold on what country?                                        India\n",
            "Was the Maratha Empire ended quick or gradual?                                                                             gradual\n",
            "what country  took over the fort of Ahmmadnagar that then became part of the cause for the Maratha Emprie to end?          British\n"
          ],
          "name": "stdout"
        }
      ]
    },
    {
      "cell_type": "markdown",
      "metadata": {
        "id": "AAzY4ocznL8v"
      },
      "source": [
        "# Encoding"
      ]
    },
    {
      "cell_type": "markdown",
      "metadata": {
        "id": "hqrIFmrK2Igt"
      },
      "source": [
        "#Tokenizer"
      ]
    },
    {
      "cell_type": "code",
      "metadata": {
        "colab": {
          "base_uri": "https://localhost:8080/",
          "height": 83,
          "referenced_widgets": [
            "d08628d60f62407fbe5b524bfd9ee6b2",
            "405372b55ea64e80a876ded25f8051f7",
            "bb46b12819ef447d98d074b6e5efc450",
            "c7a302c5e2db4da099ffba30c25022f2",
            "6291e050c8824800872d498cd61b6df7",
            "4b519c2a5677445fae6298533c121ca9",
            "9438127440384ca293d34370052d17e0",
            "c0e4e566c6a047898c24a3ebee2d0de1"
          ]
        },
        "id": "i8fuDPtRNDjg",
        "outputId": "a7d2f1d8-5305-4c32-9573-84ff6b73ab61"
      },
      "source": [
        "from transformers import BertTokenizer, BertModel\r\n",
        "\r\n",
        "# Load pre-trained model tokenizer (vocabulary)\r\n",
        "tokenizer = BertTokenizer.from_pretrained('bert-base-uncased')\r\n",
        "\r\n",
        "print('[[CLS], [SEP]] = {}'.format(tokenizer.convert_tokens_to_ids(['[CLS]', '[SEP]'])))"
      ],
      "execution_count": 32,
      "outputs": [
        {
          "output_type": "display_data",
          "data": {
            "application/vnd.jupyter.widget-view+json": {
              "model_id": "d08628d60f62407fbe5b524bfd9ee6b2",
              "version_minor": 0,
              "version_major": 2
            },
            "text/plain": [
              "HBox(children=(FloatProgress(value=0.0, description='Downloading', max=231508.0, style=ProgressStyle(descripti…"
            ]
          },
          "metadata": {
            "tags": []
          }
        },
        {
          "output_type": "stream",
          "text": [
            "\n",
            "[[CLS], [SEP]] = [101, 102]\n"
          ],
          "name": "stdout"
        }
      ]
    },
    {
      "cell_type": "code",
      "metadata": {
        "id": "avVC8QotmvgE",
        "colab": {
          "base_uri": "https://localhost:8080/"
        },
        "outputId": "b3302436-9f4d-467c-b9c0-5c85dc8e6054"
      },
      "source": [
        "# Split the sentence into tokens.\r\n",
        "tokenized_text = tokenizer.tokenize(train_df['question_text'][0])\r\n",
        "\r\n",
        "# Print out the tokens.\r\n",
        "print(tokenized_text)\r\n",
        "\r\n",
        "# Map the token strings to their vocabulary indeces.\r\n",
        "indexed_tokens = tokenizer.convert_tokens_to_ids(tokenized_text)\r\n",
        "\r\n",
        "# Display the words with their indeces.\r\n",
        "for tup in zip(tokenized_text, indexed_tokens):\r\n",
        "    print('{:<12} {:>6}'.format(tup[0], tup[1]))"
      ],
      "execution_count": 35,
      "outputs": [
        {
          "output_type": "stream",
          "text": [
            "['what', 'system', 'of', 'the', 'body', 'is', 'related', 'to', 'emotion', \"'\", 's', 'physiology', '?']\n",
            "what           2054\n",
            "system         2291\n",
            "of             1997\n",
            "the            1996\n",
            "body           2303\n",
            "is             2003\n",
            "related        3141\n",
            "to             2000\n",
            "emotion        7603\n",
            "'              1005\n",
            "s              1055\n",
            "physiology    16127\n",
            "?              1029\n"
          ],
          "name": "stdout"
        }
      ]
    },
    {
      "cell_type": "code",
      "metadata": {
        "id": "_JyFZtSuo68r"
      },
      "source": [
        "# hyperparams\r\n",
        "SEQUENCE_LIMIT = 512\r\n",
        "STRIDE = 256"
      ],
      "execution_count": 36,
      "outputs": []
    },
    {
      "cell_type": "code",
      "metadata": {
        "id": "BuuVNwp50-xF",
        "outputId": "1177135b-77f7-40d2-a29f-d4406ac9c629",
        "colab": {
          "base_uri": "https://localhost:8080/"
        }
      },
      "source": [
        "a = tf.convert_to_tensor(np.array(list(range(100))))\r\n",
        "b = list(range(32, 50))\r\n",
        "\r\n",
        "def find_sublist(a, b):\r\n",
        "  if len(a) == 0 or len(b) == 0:\r\n",
        "    raise Exception(\"AAAAAAA\")\r\n",
        "\r\n",
        "  found = False\r\n",
        "  for i in range(len(a) - len(b) +1):\r\n",
        "    if np.array_equal(a[i:i+len(b)], b):\r\n",
        "      return i, i+len(b)-1\r\n",
        "\r\n",
        "  return -1, -1\r\n",
        "\r\n",
        "find_sublist(a, b)"
      ],
      "execution_count": 151,
      "outputs": [
        {
          "output_type": "execute_result",
          "data": {
            "text/plain": [
              "(32, 49)"
            ]
          },
          "metadata": {
            "tags": []
          },
          "execution_count": 151
        }
      ]
    },
    {
      "cell_type": "code",
      "metadata": {
        "id": "nEy0mp9yzXjn"
      },
      "source": [
        "def print_progress(value, total, bar_width=100):\r\n",
        "  perc = int(value/total*bar_width)\r\n",
        "  rest = bar_width - perc\r\n",
        "  print(f\"\\r{perc} % [ {perc*'■'}{rest*'─'} ]\", end=\"\")\r\n",
        "\r\n",
        "# ensure to preserve all sub-sequences of length limi-stride. \r\n",
        "def split_long_sequence(my_sequence, limit, stride):\r\n",
        "\r\n",
        "  if len(my_sequence) <= limit: \r\n",
        "    return [my_sequence]\r\n",
        "  \r\n",
        "  rest = my_sequence\r\n",
        "  split = []\r\n",
        "  while len(rest) > limit:\r\n",
        "    left_hand = rest[:limit]\r\n",
        "    rest = rest[stride:]\r\n",
        "    split.append(left_hand)\r\n",
        "    \r\n",
        "  split.append(rest)\r\n",
        "  return split "
      ],
      "execution_count": 199,
      "outputs": []
    },
    {
      "cell_type": "code",
      "metadata": {
        "id": "jayMk-aHPYVB"
      },
      "source": [
        "def from_df_to_model_dict(df, context_dict, verbose=False):\r\n",
        "\r\n",
        "  # initialize structures\r\n",
        "  input_ids = []\r\n",
        "  input_mask = []\r\n",
        "  input_type_ids = []\r\n",
        "  start_indexes = []\r\n",
        "  end_indexes = []\r\n",
        "\r\n",
        "  cut_counter = 0\r\n",
        "  max_iter = len(df)\r\n",
        "  new_entries = 0\r\n",
        "  for i, row in df.iterrows():\r\n",
        "\r\n",
        "    # print progress\r\n",
        "    if (i+1) % (max_iter // 100) == 0 or i == 0:\r\n",
        "      # perc = int(i/max_iter*100)+1\r\n",
        "      # rest = 100 - perc\r\n",
        "      # print(f\"\\r{perc} % [ {perc*'■'}{rest*'─'} ]\", end=\"\")\r\n",
        "      print_progress(i+1, max_iter)\r\n",
        "\r\n",
        "    # encode question and context\r\n",
        "    if verbose: print(\"\\tTokenizing question and context...\", end=\"\")\r\n",
        "    encoded_question = tokenizer.encode(row['question_text'])\r\n",
        "    encoded_context = tokenizer.encode(context_dict[row['context_id']])[1:]\r\n",
        "\r\n",
        "    # concatenate input data \r\n",
        "    #encoded_input = encoded_question + encoded_context\r\n",
        "    if verbose: print(\"\\tChecking sequence length...\")\r\n",
        "    if len(encoded_question + encoded_context) > SEQUENCE_LIMIT:\r\n",
        "      # if the sequence is too long, split it in n subsequences of length <= SEQUENCE_LIMIT\r\n",
        "      encoded_contexts = split_long_sequence(encoded_context,\r\n",
        "                                             limit=SEQUENCE_LIMIT-len(encoded_question), \r\n",
        "                                             stride=STRIDE)\r\n",
        "\r\n",
        "      cut_counter += 1\r\n",
        "    else:\r\n",
        "      encoded_contexts = [encoded_context]\r\n",
        "    \r\n",
        "    new_entries += len(encoded_contexts)-1\r\n",
        "    # for each too long sequence, the context has been split in n parts. We need to process them separately, creating new entries for the input\r\n",
        "    for context in encoded_contexts:\r\n",
        "      \r\n",
        "      encoded_input = encoded_question + context      \r\n",
        "\r\n",
        "      # create mask of ones\r\n",
        "      ones_mask = tf.ones_like(encoded_input)\r\n",
        "\r\n",
        "      # add padding and convert to tensor\r\n",
        "      if verbose: print(\"\\tPadding...\", end=\"\")\r\n",
        "      encoded_input = tf.keras.preprocessing.sequence.pad_sequences([encoded_input], maxlen=512, padding='pre')\r\n",
        "      encoded_input = tf.squeeze(tf.convert_to_tensor(encoded_input))\r\n",
        "      # processing answer indices\r\n",
        "      #print(\"\\tProcessing answer...\")\r\n",
        "      tokenized_answer = tokenizer.encode(row['answer_text'])[1: -1]\r\n",
        "      # try:\r\n",
        "      #   start_idx = encoded_input[tokenized_answer][0]\r\n",
        "      #   end_idx = start_idx + len(tokenized_answer)\r\n",
        "      # except ValueError:\r\n",
        "      #   start_idx = -1\r\n",
        "      #   end_idx = -1\r\n",
        "      start_idx, end_idx = find_sublist(encoded_input, tokenized_answer)\r\n",
        "      # print(encoded_input)\r\n",
        "      # print(tokenized_answer)\r\n",
        "      # print((start_idx, end_idx))\r\n",
        "      start_indexes.append(start_idx)\r\n",
        "      end_indexes.append(end_idx)\r\n",
        "\r\n",
        "\r\n",
        "      # create input_type_ids\r\n",
        "      if verbose: print(\"\\tInput types creation...\", end=\"\")\r\n",
        "      type_ids = tf.concat([tf.zeros_like(encoded_question, dtype=tf.int32), \r\n",
        "                            tf.ones_like(encoded_context, dtype=tf.int32)], \r\n",
        "                          axis=-1)\r\n",
        "\r\n",
        "      type_ids = tf.keras.preprocessing.sequence.pad_sequences([type_ids], maxlen=512, padding='pre')\r\n",
        "      type_ids = tf.squeeze(tf.convert_to_tensor(type_ids))\r\n",
        "\r\n",
        "\r\n",
        "      # create mask of zeros\r\n",
        "      if verbose: print(\"\\tMask creation...\", end=\"\")\r\n",
        "      # zeros_mask = tf.zeros_like(tf.shape(encoded_question)[-1]-tf.shape(ones_mask)[-1], dtype=tf.int32)\r\n",
        "      zeros_mask = tf.zeros(SEQUENCE_LIMIT - len(ones_mask), dtype=tf.int32)\r\n",
        "      mask = tf.concat([zeros_mask, ones_mask], axis=-1)\r\n",
        "\r\n",
        "      # append elements to lists\r\n",
        "      if verbose: print(\"\\tAppending inputs...\", end=\"\")\r\n",
        "      input_ids.append(encoded_input)\r\n",
        "      input_mask.append(mask)\r\n",
        "      input_type_ids.append(type_ids)\r\n",
        "\r\n",
        "  # save input data as dictionary\r\n",
        "  inputs = {\r\n",
        "    'input_ids': tf.convert_to_tensor(input_ids),\r\n",
        "    'attention_mask': tf.convert_to_tensor(input_mask),\r\n",
        "    'token_type_ids': tf.convert_to_tensor(input_type_ids)\r\n",
        "    }\r\n",
        "\r\n",
        "  assert len(input_ids) == len(df) + new_entries, f\"DIOCANE:\\nci sono {len(input_ids)} input_ids, MA {len(df)} righe nel df e {new_entries} nuove entries 8===D\"\r\n",
        "  return inputs, start_indexes, end_indexes"
      ],
      "execution_count": 218,
      "outputs": []
    },
    {
      "cell_type": "code",
      "metadata": {
        "colab": {
          "base_uri": "https://localhost:8080/"
        },
        "id": "irK7yfKKV1LU",
        "outputId": "f0b8d78d-7dcf-45dc-c1eb-b1e089c1fbae"
      },
      "source": [
        "print(\"Building training set...\", end=\" \")\r\n",
        "train_inputs, train_starts, train_ends = from_df_to_model_dict(train_df[:1000], train_context_dict)\r\n",
        "print(\"done.\")\r\n",
        "\r\n",
        "print(\"Building test set...\", end=\" \")\r\n",
        "test_inputs, test_starts, test_ends = from_df_to_model_dict(test_df[:1000], test_context_dict)\r\n",
        "print(\"done.\")"
      ],
      "execution_count": 287,
      "outputs": [
        {
          "output_type": "stream",
          "text": [
            "100 % [ ■■■■■■■■■■■■■■■■■■■■■■■■■■■■■■■■■■■■■■■■■■■■■■■■■■■■■■■■■■■■■■■■■■■■■■■■■■■■■■■■■■■■■■■■■■■■■■■■■■■■ ]367 367\n",
            "392 394\n",
            "408 409\n",
            "431 431\n",
            "349 349\n",
            "399 401\n",
            "405 405\n",
            "429 429\n",
            "496 496\n",
            "424 424\n"
          ],
          "name": "stdout"
        }
      ]
    },
    {
      "cell_type": "code",
      "metadata": {
        "colab": {
          "base_uri": "https://localhost:8080/"
        },
        "id": "qot8QnBv9IWL",
        "outputId": "6e6970a1-7180-43de-bed9-a575b0e685dd"
      },
      "source": [
        "print(train_inputs['input_ids'][0])\r\n",
        "print(train_inputs['attention_mask'][0])\r\n",
        "print(train_inputs['token_type_ids'][0])"
      ],
      "execution_count": 289,
      "outputs": [
        {
          "output_type": "stream",
          "text": [
            "tf.Tensor(\n",
            "[    0     0     0     0     0     0     0     0     0     0     0     0\n",
            "     0     0     0     0     0     0     0     0     0     0     0     0\n",
            "     0     0     0     0     0     0     0     0     0     0     0     0\n",
            "     0     0     0     0     0     0     0     0     0     0     0     0\n",
            "     0     0     0     0     0     0     0     0     0     0     0     0\n",
            "     0     0     0     0     0     0     0     0     0     0     0     0\n",
            "     0     0     0     0     0     0     0     0     0     0     0     0\n",
            "     0     0     0     0     0     0     0     0     0     0     0     0\n",
            "     0     0     0     0     0     0     0     0     0     0     0     0\n",
            "     0     0     0     0     0     0     0     0     0     0     0     0\n",
            "     0     0     0     0     0     0     0     0     0     0     0     0\n",
            "     0     0     0     0     0     0     0     0     0     0     0     0\n",
            "     0     0     0     0     0     0     0     0     0     0     0     0\n",
            "     0     0     0     0     0     0     0     0     0     0     0     0\n",
            "     0     0     0     0     0     0     0     0     0     0     0     0\n",
            "     0     0     0     0     0     0     0     0     0     0     0     0\n",
            "     0     0     0     0     0     0     0     0     0     0     0     0\n",
            "     0     0     0     0     0     0     0     0     0     0     0     0\n",
            "     0     0     0     0     0     0     0     0     0     0     0     0\n",
            "     0     0     0     0     0     0     0     0     0     0     0     0\n",
            "     0     0     0     0     0     0     0     0     0     0     0     0\n",
            "     0     0     0     0     0     0     0     0     0     0     0     0\n",
            "     0     0     0     0     0     0     0     0     0     0     0     0\n",
            "     0     0     0     0     0     0     0     0     0     0     0     0\n",
            "     0     0     0     0     0     0     0     0     0     0     0     0\n",
            "     0     0     0     0     0     0     0     0     0     0     0     0\n",
            "     0     0   101  2054  2291  1997  1996  2303  2003  3141  2000  7603\n",
            "  1005  1055 16127  1029   102  6699  2024  3375  1012  2429  2000  2070\n",
            "  8106  1010  2027  2024  1037  2110  1997  3110  2008  3463  1999  3558\n",
            "  1998  8317  3431  2008  3747  2256  5248  1012  1996 16127  1997  7603\n",
            "  2003  4876  5799  2000 18905  1997  1996  6091  2291  2007  2536  2163\n",
            "  1998 20828  1997 18905  8800  1010  4593  1010  2000  3327  6699  1012\n",
            "  7603  2003  2036  5799  2000 14260 11765  1012  4654 13181 26686  2111\n",
            "  2024  2062  3497  2000  2022  2591  1998  4671  2037  6699  1010  2096\n",
            " 17174 26686  2111  2024  2062  3497  2000  2022  2062 14286  9633  1998\n",
            " 19819  2037  6699  1012  7603  2003  2411  1996  4439  2486  2369 14354\n",
            "  1010  3893  2030  4997  1012  6210  2038  2042  2649  2004  2003  1037\n",
            "  1000  3893  2030  4997  3325  2008  2003  3378  2007  1037  3327  5418\n",
            "  1997 19389  4023  1012  1000  2429  2000  2060  8106  1010  6699  2024\n",
            "  2025 28102  2749  2021  3432  8715  2015  1997  6177  1010  2029  2453\n",
            "  2421 14354  1010  3110  1010  5248  1010  1998 19389  3431  1010  2021\n",
            "  2053  2028  1997  2122  6177  2003  1996  7603  1012  4496  2003  1996\n",
            "  7603  2019  9178  2008  5320  2122  6177   102], shape=(512,), dtype=int32)\n",
            "tf.Tensor(\n",
            "[0 0 0 0 0 0 0 0 0 0 0 0 0 0 0 0 0 0 0 0 0 0 0 0 0 0 0 0 0 0 0 0 0 0 0 0 0\n",
            " 0 0 0 0 0 0 0 0 0 0 0 0 0 0 0 0 0 0 0 0 0 0 0 0 0 0 0 0 0 0 0 0 0 0 0 0 0\n",
            " 0 0 0 0 0 0 0 0 0 0 0 0 0 0 0 0 0 0 0 0 0 0 0 0 0 0 0 0 0 0 0 0 0 0 0 0 0\n",
            " 0 0 0 0 0 0 0 0 0 0 0 0 0 0 0 0 0 0 0 0 0 0 0 0 0 0 0 0 0 0 0 0 0 0 0 0 0\n",
            " 0 0 0 0 0 0 0 0 0 0 0 0 0 0 0 0 0 0 0 0 0 0 0 0 0 0 0 0 0 0 0 0 0 0 0 0 0\n",
            " 0 0 0 0 0 0 0 0 0 0 0 0 0 0 0 0 0 0 0 0 0 0 0 0 0 0 0 0 0 0 0 0 0 0 0 0 0\n",
            " 0 0 0 0 0 0 0 0 0 0 0 0 0 0 0 0 0 0 0 0 0 0 0 0 0 0 0 0 0 0 0 0 0 0 0 0 0\n",
            " 0 0 0 0 0 0 0 0 0 0 0 0 0 0 0 0 0 0 0 0 0 0 0 0 0 0 0 0 0 0 0 0 0 0 0 0 0\n",
            " 0 0 0 0 0 0 0 0 0 0 0 0 0 0 0 0 0 0 1 1 1 1 1 1 1 1 1 1 1 1 1 1 1 1 1 1 1\n",
            " 1 1 1 1 1 1 1 1 1 1 1 1 1 1 1 1 1 1 1 1 1 1 1 1 1 1 1 1 1 1 1 1 1 1 1 1 1\n",
            " 1 1 1 1 1 1 1 1 1 1 1 1 1 1 1 1 1 1 1 1 1 1 1 1 1 1 1 1 1 1 1 1 1 1 1 1 1\n",
            " 1 1 1 1 1 1 1 1 1 1 1 1 1 1 1 1 1 1 1 1 1 1 1 1 1 1 1 1 1 1 1 1 1 1 1 1 1\n",
            " 1 1 1 1 1 1 1 1 1 1 1 1 1 1 1 1 1 1 1 1 1 1 1 1 1 1 1 1 1 1 1 1 1 1 1 1 1\n",
            " 1 1 1 1 1 1 1 1 1 1 1 1 1 1 1 1 1 1 1 1 1 1 1 1 1 1 1 1 1 1 1], shape=(512,), dtype=int32)\n",
            "tf.Tensor(\n",
            "[0 0 0 0 0 0 0 0 0 0 0 0 0 0 0 0 0 0 0 0 0 0 0 0 0 0 0 0 0 0 0 0 0 0 0 0 0\n",
            " 0 0 0 0 0 0 0 0 0 0 0 0 0 0 0 0 0 0 0 0 0 0 0 0 0 0 0 0 0 0 0 0 0 0 0 0 0\n",
            " 0 0 0 0 0 0 0 0 0 0 0 0 0 0 0 0 0 0 0 0 0 0 0 0 0 0 0 0 0 0 0 0 0 0 0 0 0\n",
            " 0 0 0 0 0 0 0 0 0 0 0 0 0 0 0 0 0 0 0 0 0 0 0 0 0 0 0 0 0 0 0 0 0 0 0 0 0\n",
            " 0 0 0 0 0 0 0 0 0 0 0 0 0 0 0 0 0 0 0 0 0 0 0 0 0 0 0 0 0 0 0 0 0 0 0 0 0\n",
            " 0 0 0 0 0 0 0 0 0 0 0 0 0 0 0 0 0 0 0 0 0 0 0 0 0 0 0 0 0 0 0 0 0 0 0 0 0\n",
            " 0 0 0 0 0 0 0 0 0 0 0 0 0 0 0 0 0 0 0 0 0 0 0 0 0 0 0 0 0 0 0 0 0 0 0 0 0\n",
            " 0 0 0 0 0 0 0 0 0 0 0 0 0 0 0 0 0 0 0 0 0 0 0 0 0 0 0 0 0 0 0 0 0 0 0 0 0\n",
            " 0 0 0 0 0 0 0 0 0 0 0 0 0 0 0 0 0 0 0 0 0 0 0 0 0 0 0 0 0 0 0 0 0 1 1 1 1\n",
            " 1 1 1 1 1 1 1 1 1 1 1 1 1 1 1 1 1 1 1 1 1 1 1 1 1 1 1 1 1 1 1 1 1 1 1 1 1\n",
            " 1 1 1 1 1 1 1 1 1 1 1 1 1 1 1 1 1 1 1 1 1 1 1 1 1 1 1 1 1 1 1 1 1 1 1 1 1\n",
            " 1 1 1 1 1 1 1 1 1 1 1 1 1 1 1 1 1 1 1 1 1 1 1 1 1 1 1 1 1 1 1 1 1 1 1 1 1\n",
            " 1 1 1 1 1 1 1 1 1 1 1 1 1 1 1 1 1 1 1 1 1 1 1 1 1 1 1 1 1 1 1 1 1 1 1 1 1\n",
            " 1 1 1 1 1 1 1 1 1 1 1 1 1 1 1 1 1 1 1 1 1 1 1 1 1 1 1 1 1 1 1], shape=(512,), dtype=int32)\n"
          ],
          "name": "stdout"
        }
      ]
    },
    {
      "cell_type": "code",
      "metadata": {
        "id": "D8_aWHe5TLYK"
      },
      "source": [
        "# longest answer\r\n",
        "for col in [\"question_text\", \"answer_text\"]:\r\n",
        "  max_len = 0\r\n",
        "  for text in train_df[col]:\r\n",
        "    length = len(tokenizer.encode(text))\r\n",
        "    max_len = max(length, max_len)\r\n",
        "  print(f\"Max length for tokenized {col}: {max_len}\")"
      ],
      "execution_count": 223,
      "outputs": []
    },
    {
      "cell_type": "markdown",
      "metadata": {
        "id": "6mZbcRg48o3E"
      },
      "source": [
        "## Build model"
      ]
    },
    {
      "cell_type": "code",
      "metadata": {
        "id": "3PJ2O1Zn8nqr",
        "outputId": "39a58e93-42bf-41a1-d5a2-d97d2bc98696",
        "colab": {
          "base_uri": "https://localhost:8080/",
          "height": 850
        }
      },
      "source": [
        "from keras import Model\r\n",
        "from keras.utils import plot_model\r\n",
        "from keras.layers import Input, Dense, Flatten, Concatenate\r\n",
        "from transformers import TFBertModel\r\n",
        "\r\n",
        "\r\n",
        "output_dim = SEQUENCE_LIMIT + 1 # add one class for non-found answers\r\n",
        "\r\n",
        "input_ids_layer = Input(shape = (512,), dtype='int64')\r\n",
        "attention_mask_layer = Input(shape = (512,), dtype='int64')\r\n",
        "token_ids_layer = Input(shape = (512,), dtype='int64')\r\n",
        "\r\n",
        "bert_model = TFBertModel.from_pretrained('bert-base-uncased')\r\n",
        "bert_model.trainable = False\r\n",
        "bert = bert_model(input_ids=input_ids_layer, attention_mask = attention_mask_layer, token_type_ids=token_ids_layer).last_hidden_state\r\n",
        "\r\n",
        "flat = Flatten()(bert)\r\n",
        "start_classifier = Dense(units=output_dim, activation=\"softmax\", name=\"Start_classifier\")(flat)\r\n",
        "end_classifier = Dense(units=output_dim, activation=\"softmax\", name=\"End_classifier\")(flat)\r\n",
        "\r\n",
        "model = Model(inputs=[input_ids_layer, attention_mask_layer, token_ids_layer], \r\n",
        "              outputs=[start_classifier, end_classifier])\r\n",
        "model.summary()\r\n",
        "plot_model(model, show_shapes=True)"
      ],
      "execution_count": 290,
      "outputs": [
        {
          "output_type": "stream",
          "text": [
            "Some layers from the model checkpoint at bert-base-uncased were not used when initializing TFBertModel: ['nsp___cls', 'mlm___cls', 'bert/encoder/layer_._8/intermediate/dense/bias:0', 'bert/encoder/layer_._6/output/dense/kernel:0', 'bert/encoder/layer_._0/attention/output/dense/kernel:0', 'bert/encoder/layer_._6/attention/self/value/kernel:0', 'bert/encoder/layer_._7/output/LayerNorm/beta:0', 'bert/encoder/layer_._0/output/LayerNorm/gamma:0', 'bert/encoder/layer_._3/attention/self/value/bias:0', 'bert/encoder/layer_._7/attention/self/value/bias:0', 'bert/encoder/layer_._1/attention/output/LayerNorm/beta:0', 'bert/encoder/layer_._1/attention/self/value/bias:0', 'bert/encoder/layer_._4/attention/output/dense/kernel:0', 'bert/encoder/layer_._8/attention/self/key/bias:0', 'bert/encoder/layer_._9/attention/output/LayerNorm/gamma:0', 'bert/encoder/layer_._5/attention/self/key/bias:0', 'bert/encoder/layer_._11/attention/output/LayerNorm/gamma:0', 'bert/encoder/layer_._2/attention/self/key/kernel:0', 'bert/encoder/layer_._0/attention/output/dense/bias:0', 'bert/encoder/layer_._11/output/dense/kernel:0', 'bert/encoder/layer_._0/attention/output/LayerNorm/beta:0', 'bert/encoder/layer_._4/attention/output/LayerNorm/beta:0', 'bert/encoder/layer_._1/attention/self/query/bias:0', 'bert/encoder/layer_._11/attention/self/key/bias:0', 'bert/encoder/layer_._11/intermediate/dense/kernel:0', 'bert/encoder/layer_._7/attention/self/value/kernel:0', 'bert/embeddings/token_type_embeddings/embeddings:0', 'bert/encoder/layer_._8/output/dense/bias:0', 'bert/encoder/layer_._9/attention/self/key/kernel:0', 'bert/encoder/layer_._10/output/dense/kernel:0', 'bert/encoder/layer_._7/intermediate/dense/kernel:0', 'bert/encoder/layer_._8/attention/output/dense/bias:0', 'bert/encoder/layer_._6/output/dense/bias:0', 'bert/encoder/layer_._9/output/LayerNorm/gamma:0', 'bert/encoder/layer_._11/intermediate/dense/bias:0', 'bert/encoder/layer_._3/attention/output/LayerNorm/beta:0', 'bert/encoder/layer_._7/attention/self/key/kernel:0', 'bert/encoder/layer_._7/attention/self/query/bias:0', 'bert/encoder/layer_._9/attention/self/value/bias:0', 'bert/encoder/layer_._8/attention/output/LayerNorm/beta:0', 'bert/encoder/layer_._1/attention/self/key/bias:0', 'bert/encoder/layer_._8/attention/self/value/bias:0', 'bert/encoder/layer_._10/attention/output/dense/kernel:0', 'bert/encoder/layer_._1/output/LayerNorm/gamma:0', 'bert/encoder/layer_._7/output/LayerNorm/gamma:0', 'bert/embeddings/LayerNorm/beta:0', 'bert/encoder/layer_._4/attention/self/query/kernel:0', 'bert/encoder/layer_._11/attention/output/LayerNorm/beta:0', 'bert/encoder/layer_._6/attention/self/query/bias:0', 'bert/encoder/layer_._5/output/dense/bias:0', 'bert/encoder/layer_._2/attention/output/LayerNorm/gamma:0', 'bert/encoder/layer_._0/attention/self/value/kernel:0', 'bert/encoder/layer_._11/attention/self/value/kernel:0', 'bert/embeddings/LayerNorm/gamma:0', 'bert/encoder/layer_._10/attention/output/dense/bias:0', 'bert/encoder/layer_._0/attention/self/query/bias:0', 'bert/encoder/layer_._0/attention/self/value/bias:0', 'bert/encoder/layer_._9/output/dense/bias:0', 'bert/encoder/layer_._0/attention/self/key/kernel:0', 'bert/encoder/layer_._5/output/dense/kernel:0', 'bert/encoder/layer_._6/intermediate/dense/bias:0', 'bert/encoder/layer_._4/output/dense/bias:0', 'bert/encoder/layer_._2/attention/self/value/bias:0', 'bert/encoder/layer_._6/output/LayerNorm/beta:0', 'bert/encoder/layer_._4/attention/output/dense/bias:0', 'bert/encoder/layer_._3/attention/self/key/kernel:0', 'bert/encoder/layer_._7/attention/self/query/kernel:0', 'bert/encoder/layer_._2/output/dense/kernel:0', 'bert/encoder/layer_._3/output/dense/kernel:0', 'bert/encoder/layer_._1/attention/output/dense/kernel:0', 'bert/encoder/layer_._10/attention/output/LayerNorm/gamma:0', 'bert/encoder/layer_._8/attention/output/LayerNorm/gamma:0', 'bert/encoder/layer_._4/attention/self/query/bias:0', 'bert/encoder/layer_._11/output/dense/bias:0', 'bert/encoder/layer_._1/attention/output/dense/bias:0', 'bert/encoder/layer_._7/attention/self/key/bias:0', 'bert/encoder/layer_._7/attention/output/dense/bias:0', 'bert/encoder/layer_._2/attention/output/dense/kernel:0', 'bert/encoder/layer_._0/attention/self/query/kernel:0', 'bert/encoder/layer_._6/output/LayerNorm/gamma:0', 'bert/encoder/layer_._10/attention/self/query/bias:0', 'bert/encoder/layer_._10/intermediate/dense/kernel:0', 'bert/encoder/layer_._10/output/dense/bias:0', 'bert/embeddings/word_embeddings/weight:0', 'bert/encoder/layer_._11/attention/output/dense/kernel:0', 'bert/encoder/layer_._5/attention/output/LayerNorm/beta:0', 'bert/encoder/layer_._10/attention/self/key/kernel:0', 'bert/encoder/layer_._2/output/LayerNorm/beta:0', 'bert/encoder/layer_._4/intermediate/dense/bias:0', 'bert/encoder/layer_._2/output/LayerNorm/gamma:0', 'bert/encoder/layer_._6/attention/self/query/kernel:0', 'bert/encoder/layer_._4/output/dense/kernel:0', 'bert/encoder/layer_._0/attention/output/LayerNorm/gamma:0', 'bert/encoder/layer_._0/attention/self/key/bias:0', 'bert/encoder/layer_._10/attention/self/value/bias:0', 'bert/encoder/layer_._5/attention/self/key/kernel:0', 'bert/encoder/layer_._6/attention/output/LayerNorm/gamma:0', 'bert/encoder/layer_._11/output/LayerNorm/gamma:0', 'bert/encoder/layer_._9/attention/self/key/bias:0', 'bert/encoder/layer_._6/attention/self/key/kernel:0', 'bert/encoder/layer_._3/output/LayerNorm/beta:0', 'bert/encoder/layer_._5/attention/output/LayerNorm/gamma:0', 'bert/encoder/layer_._9/attention/self/value/kernel:0', 'bert/encoder/layer_._10/intermediate/dense/bias:0', 'bert/encoder/layer_._11/attention/self/value/bias:0', 'bert/encoder/layer_._0/intermediate/dense/bias:0', 'bert/encoder/layer_._4/attention/self/key/kernel:0', 'bert/encoder/layer_._6/attention/self/value/bias:0', 'bert/encoder/layer_._1/output/dense/bias:0', 'bert/encoder/layer_._11/attention/self/key/kernel:0', 'bert/encoder/layer_._11/attention/self/query/bias:0', 'bert/encoder/layer_._3/output/LayerNorm/gamma:0', 'bert/encoder/layer_._6/intermediate/dense/kernel:0', 'bert/encoder/layer_._11/attention/output/dense/bias:0', 'bert/encoder/layer_._0/output/LayerNorm/beta:0', 'bert/encoder/layer_._3/attention/self/query/kernel:0', 'bert/encoder/layer_._7/output/dense/kernel:0', 'bert/encoder/layer_._9/attention/self/query/bias:0', 'bert/encoder/layer_._5/attention/self/value/bias:0', 'bert/encoder/layer_._8/attention/self/query/kernel:0', 'bert/encoder/layer_._9/output/dense/kernel:0', 'bert/encoder/layer_._10/attention/self/key/bias:0', 'bert/encoder/layer_._0/output/dense/kernel:0', 'bert/encoder/layer_._2/attention/output/dense/bias:0', 'bert/encoder/layer_._2/output/dense/bias:0', 'bert/encoder/layer_._1/attention/self/value/kernel:0', 'bert/encoder/layer_._3/output/dense/bias:0', 'bert/encoder/layer_._0/intermediate/dense/kernel:0', 'bert/encoder/layer_._3/intermediate/dense/kernel:0', 'bert/encoder/layer_._3/attention/output/dense/kernel:0', 'bert/encoder/layer_._5/intermediate/dense/kernel:0', 'bert/encoder/layer_._1/intermediate/dense/bias:0', 'bert/encoder/layer_._3/attention/output/dense/bias:0', 'bert/encoder/layer_._7/attention/output/dense/kernel:0', 'bert/encoder/layer_._6/attention/self/key/bias:0', 'bert/encoder/layer_._9/output/LayerNorm/beta:0', 'bert/encoder/layer_._2/attention/self/query/bias:0', 'bert/encoder/layer_._5/output/LayerNorm/beta:0', 'bert/encoder/layer_._8/output/LayerNorm/gamma:0', 'bert/encoder/layer_._9/attention/self/query/kernel:0', 'bert/encoder/layer_._2/attention/self/value/kernel:0', 'bert/encoder/layer_._9/intermediate/dense/bias:0', 'bert/encoder/layer_._4/attention/self/value/bias:0', 'bert/encoder/layer_._4/output/LayerNorm/gamma:0', 'bert/encoder/layer_._6/attention/output/dense/bias:0', 'bert/encoder/layer_._3/intermediate/dense/bias:0', 'bert/encoder/layer_._6/attention/output/LayerNorm/beta:0', 'bert/encoder/layer_._3/attention/self/key/bias:0', 'bert/encoder/layer_._4/output/LayerNorm/beta:0', 'bert/encoder/layer_._2/attention/self/query/kernel:0', 'bert/encoder/layer_._4/attention/self/value/kernel:0', 'bert/encoder/layer_._4/intermediate/dense/kernel:0', 'bert/encoder/layer_._8/output/LayerNorm/beta:0', 'bert/encoder/layer_._5/output/LayerNorm/gamma:0', 'bert/encoder/layer_._8/intermediate/dense/kernel:0', 'bert/encoder/layer_._5/attention/output/dense/bias:0', 'bert/encoder/layer_._2/intermediate/dense/bias:0', 'bert/encoder/layer_._7/output/dense/bias:0', 'bert/encoder/layer_._9/intermediate/dense/kernel:0', 'bert/encoder/layer_._10/attention/self/query/kernel:0', 'bert/encoder/layer_._5/intermediate/dense/bias:0', 'bert/encoder/layer_._11/attention/self/query/kernel:0', 'bert/embeddings/position_embeddings/embeddings:0', 'bert/encoder/layer_._7/attention/output/LayerNorm/gamma:0', 'bert/encoder/layer_._8/attention/self/key/kernel:0', 'bert/encoder/layer_._3/attention/self/query/bias:0', 'bert/encoder/layer_._1/attention/output/LayerNorm/gamma:0', 'bert/encoder/layer_._8/output/dense/kernel:0', 'bert/encoder/layer_._5/attention/self/query/kernel:0', 'bert/encoder/layer_._4/attention/output/LayerNorm/gamma:0', 'bert/encoder/layer_._1/attention/self/query/kernel:0', 'bert/encoder/layer_._11/output/LayerNorm/beta:0', 'bert/encoder/layer_._8/attention/self/query/bias:0', 'bert/encoder/layer_._1/output/dense/kernel:0', 'bert/encoder/layer_._8/attention/self/value/kernel:0', 'bert/encoder/layer_._10/attention/self/value/kernel:0', 'bert/encoder/layer_._1/attention/self/key/kernel:0', 'bert/encoder/layer_._8/attention/output/dense/kernel:0', 'bert/encoder/layer_._1/output/LayerNorm/beta:0', 'bert/pooler/dense/bias:0', 'bert/encoder/layer_._3/attention/output/LayerNorm/gamma:0', 'bert/encoder/layer_._10/output/LayerNorm/beta:0', 'bert/encoder/layer_._9/attention/output/dense/bias:0', 'bert/encoder/layer_._4/attention/self/key/bias:0', 'bert/encoder/layer_._5/attention/output/dense/kernel:0', 'bert/encoder/layer_._7/intermediate/dense/bias:0', 'bert/encoder/layer_._10/attention/output/LayerNorm/beta:0', 'bert/encoder/layer_._2/attention/self/key/bias:0', 'bert/encoder/layer_._5/attention/self/value/kernel:0', 'bert/encoder/layer_._10/output/LayerNorm/gamma:0', 'bert/encoder/layer_._9/attention/output/dense/kernel:0', 'bert/encoder/layer_._6/attention/output/dense/kernel:0', 'bert/encoder/layer_._9/attention/output/LayerNorm/beta:0', 'bert/pooler/dense/kernel:0', 'bert/encoder/layer_._2/intermediate/dense/kernel:0', 'bert/encoder/layer_._3/attention/self/value/kernel:0', 'bert/encoder/layer_._1/intermediate/dense/kernel:0', 'bert/encoder/layer_._5/attention/self/query/bias:0', 'bert/encoder/layer_._0/output/dense/bias:0', 'bert/encoder/layer_._2/attention/output/LayerNorm/beta:0', 'bert/encoder/layer_._7/attention/output/LayerNorm/beta:0']\n",
            "- This IS expected if you are initializing TFBertModel from the checkpoint of a model trained on another task or with another architecture (e.g. initializing a BertForSequenceClassification model from a BertForPreTraining model).\n",
            "- This IS NOT expected if you are initializing TFBertModel from the checkpoint of a model that you expect to be exactly identical (initializing a BertForSequenceClassification model from a BertForSequenceClassification model).\n",
            "Some layers of TFBertModel were not initialized from the model checkpoint at bert-base-uncased and are newly initialized: ['tf_bert_model_36/bert/encoder/layer_._1/attention/self/key/kernel:0', 'tf_bert_model_36/bert/encoder/layer_._3/attention/output/LayerNorm/beta:0', 'tf_bert_model_36/bert/encoder/layer_._11/attention/self/query/bias:0', 'tf_bert_model_36/bert/encoder/layer_._11/output/LayerNorm/beta:0', 'tf_bert_model_36/bert/encoder/layer_._4/attention/output/LayerNorm/beta:0', 'tf_bert_model_36/bert/encoder/layer_._3/attention/self/value/bias:0', 'tf_bert_model_36/bert/encoder/layer_._6/attention/output/LayerNorm/gamma:0', 'tf_bert_model_36/bert/encoder/layer_._3/attention/output/dense/bias:0', 'tf_bert_model_36/bert/encoder/layer_._2/attention/output/LayerNorm/gamma:0', 'tf_bert_model_36/bert/encoder/layer_._8/attention/self/query/bias:0', 'tf_bert_model_36/bert/encoder/layer_._1/attention/self/key/bias:0', 'tf_bert_model_36/bert/encoder/layer_._6/attention/self/value/kernel:0', 'tf_bert_model_36/bert/encoder/layer_._11/attention/output/LayerNorm/gamma:0', 'tf_bert_model_36/bert/encoder/layer_._3/intermediate/dense/kernel:0', 'tf_bert_model_36/bert/encoder/layer_._11/output/LayerNorm/gamma:0', 'tf_bert_model_36/bert/encoder/layer_._8/attention/self/query/kernel:0', 'tf_bert_model_36/bert/encoder/layer_._11/attention/output/dense/kernel:0', 'tf_bert_model_36/bert/encoder/layer_._4/output/dense/bias:0', 'tf_bert_model_36/bert/encoder/layer_._0/attention/output/LayerNorm/gamma:0', 'tf_bert_model_36/bert/encoder/layer_._6/intermediate/dense/bias:0', 'tf_bert_model_36/bert/encoder/layer_._8/attention/self/value/kernel:0', 'tf_bert_model_36/bert/encoder/layer_._4/attention/self/key/kernel:0', 'tf_bert_model_36/bert/encoder/layer_._8/attention/output/dense/bias:0', 'tf_bert_model_36/bert/encoder/layer_._0/intermediate/dense/kernel:0', 'tf_bert_model_36/bert/encoder/layer_._6/attention/output/dense/kernel:0', 'tf_bert_model_36/bert/encoder/layer_._2/attention/output/dense/bias:0', 'tf_bert_model_36/bert/encoder/layer_._7/attention/output/dense/kernel:0', 'tf_bert_model_36/bert/encoder/layer_._0/attention/output/dense/bias:0', 'tf_bert_model_36/bert/encoder/layer_._3/attention/output/dense/kernel:0', 'tf_bert_model_36/bert/encoder/layer_._8/intermediate/dense/kernel:0', 'tf_bert_model_36/bert/encoder/layer_._2/output/dense/kernel:0', 'tf_bert_model_36/bert/encoder/layer_._1/attention/self/value/kernel:0', 'tf_bert_model_36/bert/encoder/layer_._0/attention/self/value/bias:0', 'tf_bert_model_36/bert/encoder/layer_._0/attention/self/query/bias:0', 'tf_bert_model_36/bert/encoder/layer_._1/output/LayerNorm/gamma:0', 'tf_bert_model_36/bert/encoder/layer_._3/output/LayerNorm/gamma:0', 'tf_bert_model_36/bert/encoder/layer_._6/attention/self/query/bias:0', 'tf_bert_model_36/bert/encoder/layer_._7/attention/self/key/bias:0', 'tf_bert_model_36/bert/encoder/layer_._7/attention/output/LayerNorm/gamma:0', 'tf_bert_model_36/bert/encoder/layer_._8/intermediate/dense/bias:0', 'tf_bert_model_36/bert/encoder/layer_._10/attention/self/value/kernel:0', 'tf_bert_model_36/bert/encoder/layer_._10/output/dense/bias:0', 'tf_bert_model_36/bert/encoder/layer_._0/intermediate/dense/bias:0', 'tf_bert_model_36/bert/encoder/layer_._4/output/LayerNorm/beta:0', 'tf_bert_model_36/bert/embeddings/LayerNorm/gamma:0', 'tf_bert_model_36/bert/encoder/layer_._2/output/LayerNorm/gamma:0', 'tf_bert_model_36/bert/encoder/layer_._1/intermediate/dense/kernel:0', 'tf_bert_model_36/bert/encoder/layer_._1/attention/self/value/bias:0', 'tf_bert_model_36/bert/encoder/layer_._7/output/dense/bias:0', 'tf_bert_model_36/bert/encoder/layer_._5/output/dense/bias:0', 'tf_bert_model_36/bert/encoder/layer_._11/intermediate/dense/kernel:0', 'tf_bert_model_36/bert/encoder/layer_._0/attention/output/LayerNorm/beta:0', 'tf_bert_model_36/bert/encoder/layer_._1/attention/output/dense/bias:0', 'tf_bert_model_36/bert/encoder/layer_._5/attention/self/value/bias:0', 'tf_bert_model_36/bert/encoder/layer_._7/attention/output/dense/bias:0', 'tf_bert_model_36/bert/encoder/layer_._10/attention/output/dense/kernel:0', 'tf_bert_model_36/bert/encoder/layer_._9/attention/output/dense/kernel:0', 'tf_bert_model_36/bert/encoder/layer_._8/attention/output/LayerNorm/gamma:0', 'tf_bert_model_36/bert/encoder/layer_._10/output/LayerNorm/beta:0', 'tf_bert_model_36/bert/encoder/layer_._8/output/dense/kernel:0', 'tf_bert_model_36/bert/encoder/layer_._2/attention/self/key/bias:0', 'tf_bert_model_36/bert/encoder/layer_._11/attention/self/value/bias:0', 'tf_bert_model_36/bert/encoder/layer_._2/output/LayerNorm/beta:0', 'tf_bert_model_36/bert/encoder/layer_._5/attention/self/query/bias:0', 'tf_bert_model_36/bert/encoder/layer_._4/attention/self/value/bias:0', 'tf_bert_model_36/bert/encoder/layer_._0/output/dense/bias:0', 'tf_bert_model_36/bert/encoder/layer_._5/attention/self/key/bias:0', 'tf_bert_model_36/bert/encoder/layer_._7/intermediate/dense/kernel:0', 'tf_bert_model_36/bert/encoder/layer_._9/attention/self/key/bias:0', 'tf_bert_model_36/bert/encoder/layer_._7/attention/self/value/kernel:0', 'tf_bert_model_36/bert/encoder/layer_._5/attention/output/dense/kernel:0', 'tf_bert_model_36/bert/encoder/layer_._9/attention/self/key/kernel:0', 'tf_bert_model_36/bert/pooler/dense/bias:0', 'tf_bert_model_36/bert/encoder/layer_._8/attention/self/key/kernel:0', 'tf_bert_model_36/bert/encoder/layer_._5/output/LayerNorm/beta:0', 'tf_bert_model_36/bert/encoder/layer_._9/output/LayerNorm/gamma:0', 'tf_bert_model_36/bert/encoder/layer_._2/attention/self/query/kernel:0', 'tf_bert_model_36/bert/encoder/layer_._2/attention/self/value/bias:0', 'tf_bert_model_36/bert/encoder/layer_._7/output/LayerNorm/gamma:0', 'tf_bert_model_36/bert/encoder/layer_._1/attention/self/query/kernel:0', 'tf_bert_model_36/bert/encoder/layer_._4/attention/self/query/bias:0', 'tf_bert_model_36/bert/encoder/layer_._6/intermediate/dense/kernel:0', 'tf_bert_model_36/bert/encoder/layer_._9/attention/self/query/bias:0', 'tf_bert_model_36/bert/encoder/layer_._7/output/dense/kernel:0', 'tf_bert_model_36/bert/encoder/layer_._8/output/dense/bias:0', 'tf_bert_model_36/bert/encoder/layer_._5/intermediate/dense/kernel:0', 'tf_bert_model_36/bert/encoder/layer_._6/attention/self/query/kernel:0', 'tf_bert_model_36/bert/encoder/layer_._2/attention/output/LayerNorm/beta:0', 'tf_bert_model_36/bert/encoder/layer_._1/output/dense/bias:0', 'tf_bert_model_36/bert/encoder/layer_._2/intermediate/dense/kernel:0', 'tf_bert_model_36/bert/encoder/layer_._0/attention/output/dense/kernel:0', 'tf_bert_model_36/bert/encoder/layer_._1/attention/output/dense/kernel:0', 'tf_bert_model_36/bert/encoder/layer_._8/attention/self/value/bias:0', 'tf_bert_model_36/bert/encoder/layer_._5/attention/output/LayerNorm/beta:0', 'tf_bert_model_36/bert/encoder/layer_._7/attention/self/query/bias:0', 'tf_bert_model_36/bert/encoder/layer_._9/output/dense/bias:0', 'tf_bert_model_36/bert/encoder/layer_._10/attention/output/LayerNorm/gamma:0', 'tf_bert_model_36/bert/encoder/layer_._2/attention/self/query/bias:0', 'tf_bert_model_36/bert/encoder/layer_._6/attention/output/LayerNorm/beta:0', 'tf_bert_model_36/bert/encoder/layer_._11/attention/self/query/kernel:0', 'tf_bert_model_36/bert/encoder/layer_._7/intermediate/dense/bias:0', 'tf_bert_model_36/bert/encoder/layer_._7/attention/output/LayerNorm/beta:0', 'tf_bert_model_36/bert/embeddings/LayerNorm/beta:0', 'tf_bert_model_36/bert/encoder/layer_._8/attention/self/key/bias:0', 'tf_bert_model_36/bert/encoder/layer_._5/intermediate/dense/bias:0', 'tf_bert_model_36/bert/encoder/layer_._1/attention/output/LayerNorm/beta:0', 'tf_bert_model_36/bert/embeddings/position_embeddings/embeddings:0', 'tf_bert_model_36/bert/encoder/layer_._2/attention/self/key/kernel:0', 'tf_bert_model_36/bert/encoder/layer_._3/output/dense/kernel:0', 'tf_bert_model_36/bert/encoder/layer_._3/intermediate/dense/bias:0', 'tf_bert_model_36/bert/encoder/layer_._9/intermediate/dense/bias:0', 'tf_bert_model_36/bert/encoder/layer_._7/attention/self/query/kernel:0', 'tf_bert_model_36/bert/encoder/layer_._3/attention/output/LayerNorm/gamma:0', 'tf_bert_model_36/bert/encoder/layer_._11/attention/self/key/bias:0', 'tf_bert_model_36/bert/encoder/layer_._6/output/LayerNorm/beta:0', 'tf_bert_model_36/bert/pooler/dense/kernel:0', 'tf_bert_model_36/bert/encoder/layer_._2/intermediate/dense/bias:0', 'tf_bert_model_36/bert/encoder/layer_._3/attention/self/key/kernel:0', 'tf_bert_model_36/bert/encoder/layer_._6/output/dense/kernel:0', 'tf_bert_model_36/bert/encoder/layer_._5/output/dense/kernel:0', 'tf_bert_model_36/bert/encoder/layer_._10/intermediate/dense/kernel:0', 'tf_bert_model_36/bert/encoder/layer_._4/output/dense/kernel:0', 'tf_bert_model_36/bert/encoder/layer_._2/attention/self/value/kernel:0', 'tf_bert_model_36/bert/encoder/layer_._3/attention/self/value/kernel:0', 'tf_bert_model_36/bert/encoder/layer_._8/attention/output/LayerNorm/beta:0', 'tf_bert_model_36/bert/encoder/layer_._3/attention/self/key/bias:0', 'tf_bert_model_36/bert/encoder/layer_._11/attention/output/LayerNorm/beta:0', 'tf_bert_model_36/bert/encoder/layer_._11/intermediate/dense/bias:0', 'tf_bert_model_36/bert/encoder/layer_._10/output/dense/kernel:0', 'tf_bert_model_36/bert/encoder/layer_._4/attention/output/dense/kernel:0', 'tf_bert_model_36/bert/encoder/layer_._6/attention/self/value/bias:0', 'tf_bert_model_36/bert/encoder/layer_._9/intermediate/dense/kernel:0', 'tf_bert_model_36/bert/encoder/layer_._7/attention/self/key/kernel:0', 'tf_bert_model_36/bert/encoder/layer_._4/output/LayerNorm/gamma:0', 'tf_bert_model_36/bert/encoder/layer_._0/attention/self/query/kernel:0', 'tf_bert_model_36/bert/encoder/layer_._4/intermediate/dense/kernel:0', 'tf_bert_model_36/bert/encoder/layer_._3/output/dense/bias:0', 'tf_bert_model_36/bert/encoder/layer_._10/output/LayerNorm/gamma:0', 'tf_bert_model_36/bert/encoder/layer_._11/attention/self/value/kernel:0', 'tf_bert_model_36/bert/encoder/layer_._0/output/LayerNorm/beta:0', 'tf_bert_model_36/bert/encoder/layer_._3/attention/self/query/bias:0', 'tf_bert_model_36/bert/encoder/layer_._1/intermediate/dense/bias:0', 'tf_bert_model_36/bert/embeddings/word_embeddings/weight:0', 'tf_bert_model_36/bert/encoder/layer_._9/attention/self/value/kernel:0', 'tf_bert_model_36/bert/encoder/layer_._2/attention/output/dense/kernel:0', 'tf_bert_model_36/bert/encoder/layer_._8/output/LayerNorm/beta:0', 'tf_bert_model_36/bert/encoder/layer_._4/attention/output/dense/bias:0', 'tf_bert_model_36/bert/encoder/layer_._1/attention/output/LayerNorm/gamma:0', 'tf_bert_model_36/bert/encoder/layer_._4/attention/self/value/kernel:0', 'tf_bert_model_36/bert/encoder/layer_._7/attention/self/value/bias:0', 'tf_bert_model_36/bert/encoder/layer_._9/attention/output/LayerNorm/beta:0', 'tf_bert_model_36/bert/encoder/layer_._5/attention/self/value/kernel:0', 'tf_bert_model_36/bert/encoder/layer_._7/output/LayerNorm/beta:0', 'tf_bert_model_36/bert/encoder/layer_._10/attention/self/query/kernel:0', 'tf_bert_model_36/bert/encoder/layer_._2/output/dense/bias:0', 'tf_bert_model_36/bert/encoder/layer_._3/output/LayerNorm/beta:0', 'tf_bert_model_36/bert/encoder/layer_._10/attention/self/key/kernel:0', 'tf_bert_model_36/bert/encoder/layer_._1/output/LayerNorm/beta:0', 'tf_bert_model_36/bert/encoder/layer_._0/output/LayerNorm/gamma:0', 'tf_bert_model_36/bert/encoder/layer_._8/output/LayerNorm/gamma:0', 'tf_bert_model_36/bert/encoder/layer_._5/attention/self/query/kernel:0', 'tf_bert_model_36/bert/encoder/layer_._10/attention/self/value/bias:0', 'tf_bert_model_36/bert/encoder/layer_._11/output/dense/kernel:0', 'tf_bert_model_36/bert/encoder/layer_._5/attention/self/key/kernel:0', 'tf_bert_model_36/bert/encoder/layer_._9/output/LayerNorm/beta:0', 'tf_bert_model_36/bert/encoder/layer_._0/attention/self/key/kernel:0', 'tf_bert_model_36/bert/encoder/layer_._0/attention/self/key/bias:0', 'tf_bert_model_36/bert/encoder/layer_._10/attention/output/dense/bias:0', 'tf_bert_model_36/bert/encoder/layer_._10/intermediate/dense/bias:0', 'tf_bert_model_36/bert/encoder/layer_._6/attention/self/key/bias:0', 'tf_bert_model_36/bert/encoder/layer_._10/attention/output/LayerNorm/beta:0', 'tf_bert_model_36/bert/encoder/layer_._4/intermediate/dense/bias:0', 'tf_bert_model_36/bert/encoder/layer_._5/attention/output/dense/bias:0', 'tf_bert_model_36/bert/encoder/layer_._0/attention/self/value/kernel:0', 'tf_bert_model_36/bert/encoder/layer_._5/attention/output/LayerNorm/gamma:0', 'tf_bert_model_36/bert/encoder/layer_._11/output/dense/bias:0', 'tf_bert_model_36/bert/encoder/layer_._1/output/dense/kernel:0', 'tf_bert_model_36/bert/encoder/layer_._8/attention/output/dense/kernel:0', 'tf_bert_model_36/bert/encoder/layer_._5/output/LayerNorm/gamma:0', 'tf_bert_model_36/bert/encoder/layer_._9/attention/output/LayerNorm/gamma:0', 'tf_bert_model_36/bert/encoder/layer_._4/attention/self/query/kernel:0', 'tf_bert_model_36/bert/encoder/layer_._6/attention/self/key/kernel:0', 'tf_bert_model_36/bert/encoder/layer_._9/output/dense/kernel:0', 'tf_bert_model_36/bert/encoder/layer_._3/attention/self/query/kernel:0', 'tf_bert_model_36/bert/encoder/layer_._11/attention/output/dense/bias:0', 'tf_bert_model_36/bert/encoder/layer_._6/attention/output/dense/bias:0', 'tf_bert_model_36/bert/encoder/layer_._1/attention/self/query/bias:0', 'tf_bert_model_36/bert/encoder/layer_._11/attention/self/key/kernel:0', 'tf_bert_model_36/bert/encoder/layer_._10/attention/self/query/bias:0', 'tf_bert_model_36/bert/encoder/layer_._4/attention/self/key/bias:0', 'tf_bert_model_36/bert/encoder/layer_._6/output/dense/bias:0', 'tf_bert_model_36/bert/encoder/layer_._9/attention/self/value/bias:0', 'tf_bert_model_36/bert/encoder/layer_._4/attention/output/LayerNorm/gamma:0', 'tf_bert_model_36/bert/encoder/layer_._9/attention/output/dense/bias:0', 'tf_bert_model_36/bert/encoder/layer_._0/output/dense/kernel:0', 'tf_bert_model_36/bert/encoder/layer_._6/output/LayerNorm/gamma:0', 'tf_bert_model_36/bert/encoder/layer_._10/attention/self/key/bias:0', 'tf_bert_model_36/bert/embeddings/token_type_embeddings/embeddings:0', 'tf_bert_model_36/bert/encoder/layer_._9/attention/self/query/kernel:0']\n",
            "You should probably TRAIN this model on a down-stream task to be able to use it for predictions and inference.\n",
            "The parameters `output_attentions`, `output_hidden_states` and `use_cache` cannot be updated when calling a model.They have to be set to True/False in the config object (i.e.: `config=XConfig.from_pretrained('name', output_attentions=True)`).\n",
            "The parameter `return_dict` cannot be set in graph mode and will always be set to `True`.\n"
          ],
          "name": "stderr"
        },
        {
          "output_type": "stream",
          "text": [
            "Model: \"model_24\"\n",
            "__________________________________________________________________________________________________\n",
            "Layer (type)                    Output Shape         Param #     Connected to                     \n",
            "==================================================================================================\n",
            "input_87 (InputLayer)           [(None, 512)]        0                                            \n",
            "__________________________________________________________________________________________________\n",
            "input_88 (InputLayer)           [(None, 512)]        0                                            \n",
            "__________________________________________________________________________________________________\n",
            "input_89 (InputLayer)           [(None, 512)]        0                                            \n",
            "__________________________________________________________________________________________________\n",
            "tf_bert_model_36 (TFBertModel)  TFBaseModelOutputWit 109482240   input_87[0][0]                   \n",
            "                                                                 input_88[0][0]                   \n",
            "                                                                 input_89[0][0]                   \n",
            "__________________________________________________________________________________________________\n",
            "flatten_22 (Flatten)            (None, 393216)       0           tf_bert_model_36[0][0]           \n",
            "__________________________________________________________________________________________________\n",
            "Start_classifier (Dense)        (None, 513)          201720321   flatten_22[0][0]                 \n",
            "__________________________________________________________________________________________________\n",
            "End_classifier (Dense)          (None, 513)          201720321   flatten_22[0][0]                 \n",
            "==================================================================================================\n",
            "Total params: 512,922,882\n",
            "Trainable params: 403,440,642\n",
            "Non-trainable params: 109,482,240\n",
            "__________________________________________________________________________________________________\n"
          ],
          "name": "stdout"
        },
        {
          "output_type": "execute_result",
          "data": {
            "image/png": "[encoded data removed]",
            "text/plain": [
              "<IPython.core.display.Image object>"
            ]
          },
          "metadata": {
            "tags": []
          },
          "execution_count": 290
        }
      ]
    },
    {
      "cell_type": "code",
      "metadata": {
        "id": "soVsuX9tht_p"
      },
      "source": [
        "optimizer = tf.keras.optimizers.Adam(learning_rate=3e-5, epsilon=1e-08, clipnorm=1.0)\r\n",
        "loss = tf.keras.losses.CategoricalCrossentropy(from_logits=True)\r\n",
        "metric = tf.keras.metrics.CategoricalAccuracy('accuracy')\r\n",
        "model.compile(optimizer=optimizer, loss=loss, metrics=[metric])"
      ],
      "execution_count": 284,
      "outputs": []
    },
    {
      "cell_type": "code",
      "metadata": {
        "id": "9yUB2A4PKVl1"
      },
      "source": [
        "y_starts = tf.keras.utils.to_categorical([val if val != -1 else 512 for val in train_starts])\r\n",
        "y_ends = tf.keras.utils.to_categorical([val if val != -1 else 512 for val in train_ends])"
      ],
      "execution_count": 285,
      "outputs": []
    },
    {
      "cell_type": "markdown",
      "metadata": {
        "id": "i5MRM0Q_LXyW"
      },
      "source": [
        ""
      ]
    },
    {
      "cell_type": "code",
      "metadata": {
        "id": "69cHTOSZGuyG",
        "outputId": "d29ad5d8-51ff-491d-8b46-5611323a891a",
        "colab": {
          "base_uri": "https://localhost:8080/"
        }
      },
      "source": [
        "model_fit = model.fit(x = [train_inputs['input_ids'],\r\n",
        "                           train_inputs['attention_mask'],\r\n",
        "                           train_inputs['token_type_ids']],\r\n",
        "                      y = [y_starts,\r\n",
        "                           y_ends],\r\n",
        "                       \r\n",
        "                      batch_size=32, epochs=4, \r\n",
        "                      )#validation_data=(validation_input_ids, validation_label)\r\n",
        "                   \r\n"
      ],
      "execution_count": 286,
      "outputs": [
        {
          "output_type": "stream",
          "text": [
            "The parameters `output_attentions`, `output_hidden_states` and `use_cache` cannot be updated when calling a model.They have to be set to True/False in the config object (i.e.: `config=XConfig.from_pretrained('name', output_attentions=True)`).\n",
            "The parameter `return_dict` cannot be set in graph mode and will always be set to `True`.\n"
          ],
          "name": "stderr"
        },
        {
          "output_type": "stream",
          "text": [
            "Epoch 1/4\n"
          ],
          "name": "stdout"
        },
        {
          "output_type": "stream",
          "text": [
            "The parameters `output_attentions`, `output_hidden_states` and `use_cache` cannot be updated when calling a model.They have to be set to True/False in the config object (i.e.: `config=XConfig.from_pretrained('name', output_attentions=True)`).\n",
            "The parameter `return_dict` cannot be set in graph mode and will always be set to `True`.\n"
          ],
          "name": "stderr"
        },
        {
          "output_type": "stream",
          "text": [
            "32/32 [==============================] - 62s 2s/step - loss: 38.3193 - Start_classifier_loss: 19.2781 - End_classifier_loss: 19.0412 - Start_classifier_accuracy: 0.0101 - End_classifier_accuracy: 0.0084\n",
            "Epoch 2/4\n",
            "32/32 [==============================] - 53s 2s/step - loss: 20.6514 - Start_classifier_loss: 10.3916 - End_classifier_loss: 10.2599 - Start_classifier_accuracy: 0.0633 - End_classifier_accuracy: 0.0577\n",
            "Epoch 3/4\n",
            "32/32 [==============================] - 53s 2s/step - loss: 16.4435 - Start_classifier_loss: 8.0980 - End_classifier_loss: 8.3455 - Start_classifier_accuracy: 0.1269 - End_classifier_accuracy: 0.1122\n",
            "Epoch 4/4\n",
            "32/32 [==============================] - 53s 2s/step - loss: 15.5764 - Start_classifier_loss: 7.6481 - End_classifier_loss: 7.9283 - Start_classifier_accuracy: 0.1948 - End_classifier_accuracy: 0.1799\n"
          ],
          "name": "stdout"
        }
      ]
    },
    {
      "cell_type": "code",
      "metadata": {
        "colab": {
          "base_uri": "https://localhost:8080/"
        },
        "id": "IjgfgSUCmRGU",
        "outputId": "07b42f8d-c7f0-4690-8530-02fa07ca32e9"
      },
      "source": [
        ""
      ],
      "execution_count": null,
      "outputs": [
        {
          "output_type": "stream",
          "text": [
            "Batch: 1/312\n",
            "Batch: 2/312\n",
            "Batch: 3/312\n",
            "Batch: 4/312\n",
            "Batch: 5/312\n",
            "Batch: 6/312\n",
            "Batch: 7/312\n",
            "Batch: 8/312\n",
            "Batch: 9/312\n",
            "Batch: 10/312\n",
            "Batch: 11/312\n",
            "Batch: 12/312\n",
            "Batch: 13/312\n",
            "Batch: 14/312\n",
            "Batch: 15/312\n",
            "Batch: 16/312\n",
            "Batch: 17/312\n",
            "Batch: 18/312\n",
            "Batch: 19/312\n",
            "Batch: 20/312\n",
            "Batch: 21/312\n",
            "Batch: 22/312\n",
            "Batch: 23/312\n",
            "Batch: 24/312\n",
            "Batch: 25/312\n",
            "Batch: 26/312\n",
            "Batch: 27/312\n",
            "Batch: 28/312\n",
            "Batch: 29/312\n",
            "Batch: 30/312\n",
            "Batch: 31/312\n"
          ],
          "name": "stdout"
        }
      ]
    },
    {
      "cell_type": "code",
      "metadata": {
        "colab": {
          "base_uri": "https://localhost:8080/"
        },
        "id": "p3Zo7WdavAZP",
        "outputId": "cb89ba96-7793-428c-a809-ac331923a2aa"
      },
      "source": [
        "print(test_answers[0].last_hidden_state)"
      ],
      "execution_count": null,
      "outputs": [
        {
          "output_type": "stream",
          "text": [
            "tf.Tensor(\n",
            "[[[-0.4465253   0.48536447  0.06580014 ... -0.46521625  0.41014314\n",
            "   -0.70420337]\n",
            "  [-0.6818489  -0.2513821   0.5476869  ... -0.3495175   0.79528636\n",
            "   -0.9575961 ]\n",
            "  [-0.33148208  0.00827573  0.59227216 ... -0.5239812   0.08607539\n",
            "   -1.0944345 ]\n",
            "  ...\n",
            "  [-1.0840538   0.35074574  0.7235429  ...  0.43597403  0.7232471\n",
            "   -0.30706415]\n",
            "  [-0.08872701 -1.2204639   1.1156192  ... -0.00800674 -0.06154624\n",
            "   -1.140662  ]\n",
            "  [ 0.55041736  0.35058394  0.09902531 ... -0.11558585 -0.48601955\n",
            "   -0.3842366 ]]\n",
            "\n",
            " [[-0.44596645  0.5361833   0.12666115 ... -0.4712901   0.39068177\n",
            "   -0.7523664 ]\n",
            "  [-0.51936555 -0.13520418  0.48739904 ... -0.37786257  0.79161364\n",
            "   -0.98738134]\n",
            "  [-0.2422797   0.05043562  0.59685683 ... -0.52779245  0.10194599\n",
            "   -1.0443174 ]\n",
            "  ...\n",
            "  [ 0.19997582  0.23308192 -0.20614423 ...  0.37549567 -0.14534032\n",
            "    0.47882754]\n",
            "  [-0.29459804  0.00491316 -0.3172179  ... -0.82158023  0.09964563\n",
            "   -0.937211  ]\n",
            "  [ 0.55980796  0.37440133  0.11636388 ... -0.08858828 -0.49803293\n",
            "   -0.3949921 ]]\n",
            "\n",
            " [[-0.3971096   0.55834854  0.15928122 ... -0.4930889   0.39986756\n",
            "   -0.7667159 ]\n",
            "  [-0.6039041  -0.15113147  0.52039266 ... -0.35929275  0.7514293\n",
            "   -0.9642469 ]\n",
            "  [-0.27888402  0.04955295  0.6078857  ... -0.4937016   0.07968308\n",
            "   -1.0424143 ]\n",
            "  ...\n",
            "  [ 1.2716238   0.76523113 -0.7310419  ... -0.94712365 -0.1618941\n",
            "   -0.815099  ]\n",
            "  [ 0.4921194   0.33123472  0.18119943 ... -0.15567008 -0.52356416\n",
            "   -0.38989243]\n",
            "  [ 0.5903977   0.33710968  0.07523477 ... -0.0548023  -0.4929698\n",
            "   -0.3866683 ]]\n",
            "\n",
            " ...\n",
            "\n",
            " [[-0.41343302  0.5584874   0.04579552 ... -0.5059794   0.5474481\n",
            "   -0.7425054 ]\n",
            "  [-0.47625816 -0.13601297  0.548702   ... -0.30570638  0.86248255\n",
            "   -0.93044823]\n",
            "  [-0.21789034  0.06997211  0.6952813  ... -0.49185833  0.12646656\n",
            "   -1.1424139 ]\n",
            "  ...\n",
            "  [-0.19588181  1.2556465   0.11989778 ...  0.38773704  0.23037189\n",
            "   -1.0824634 ]\n",
            "  [-0.5148717   0.3039231   0.03445739 ... -0.60662055 -0.11723022\n",
            "   -1.480084  ]\n",
            "  [ 0.6057962   0.20573823  0.06791105 ... -0.17610958 -0.43153602\n",
            "   -0.37346038]]\n",
            "\n",
            " [[-0.6218308   0.3043962   0.07802992 ... -0.2773604   0.3768834\n",
            "   -0.50988543]\n",
            "  [-0.68664676 -0.19001922  0.74798685 ... -0.32016292  0.7416032\n",
            "   -0.94287395]\n",
            "  [-0.36640066  0.09819663  0.71524477 ... -0.4141747   0.1556237\n",
            "   -1.168071  ]\n",
            "  ...\n",
            "  [ 0.56753206  0.93794394 -0.01185935 ... -1.058376    0.31732234\n",
            "   -0.19543211]\n",
            "  [-0.21385314 -0.2115477   1.4223548  ... -0.76362765  0.22268188\n",
            "   -0.37602052]\n",
            "  [ 0.45804256  0.38484114  0.22994556 ... -0.12424636 -0.56061405\n",
            "   -0.3668747 ]]\n",
            "\n",
            " [[-0.5513968   0.37449065 -0.00913489 ... -0.344908    0.339925\n",
            "   -0.5388648 ]\n",
            "  [-0.7400105  -0.12548748  0.7180364  ... -0.3495242   0.7229358\n",
            "   -0.90735686]\n",
            "  [-0.37582013  0.0816226   0.6748082  ... -0.462842    0.10532609\n",
            "   -1.1299119 ]\n",
            "  ...\n",
            "  [ 0.32011122 -0.13233097  1.1751547  ... -0.17139629  0.01740751\n",
            "   -1.5036514 ]\n",
            "  [-0.03270278 -0.1002508  -0.20115969 ... -0.3990683   0.00937145\n",
            "   -1.473174  ]\n",
            "  [ 0.5257581   0.32927382  0.1260633  ... -0.09548131 -0.5803119\n",
            "   -0.32968143]]], shape=(32, 512, 768), dtype=float32)\n"
          ],
          "name": "stdout"
        }
      ]
    },
    {
      "cell_type": "code",
      "metadata": {
        "colab": {
          "base_uri": "https://localhost:8080/"
        },
        "id": "45JIZXiOwP6E",
        "outputId": "38018c3a-95d1-4a26-fbc0-20a2b0659f51"
      },
      "source": [
        "idx = test_answers[0].last_hidden_state[0]\r\n",
        "idx"
      ],
      "execution_count": null,
      "outputs": [
        {
          "output_type": "execute_result",
          "data": {
            "text/plain": [
              "<tf.Tensor: shape=(512, 768), dtype=float32, numpy=\n",
              "array([[-0.4465253 ,  0.48536447,  0.06580014, ..., -0.46521625,\n",
              "         0.41014314, -0.70420337],\n",
              "       [-0.6818489 , -0.2513821 ,  0.5476869 , ..., -0.3495175 ,\n",
              "         0.79528636, -0.9575961 ],\n",
              "       [-0.33148208,  0.00827573,  0.59227216, ..., -0.5239812 ,\n",
              "         0.08607539, -1.0944345 ],\n",
              "       ...,\n",
              "       [-1.0840538 ,  0.35074574,  0.7235429 , ...,  0.43597403,\n",
              "         0.7232471 , -0.30706415],\n",
              "       [-0.08872701, -1.2204639 ,  1.1156192 , ..., -0.00800674,\n",
              "        -0.06154624, -1.140662  ],\n",
              "       [ 0.55041736,  0.35058394,  0.09902531, ..., -0.11558585,\n",
              "        -0.48601955, -0.3842366 ]], dtype=float32)>"
            ]
          },
          "metadata": {
            "tags": []
          },
          "execution_count": 22
        }
      ]
    },
    {
      "cell_type": "code",
      "metadata": {
        "colab": {
          "base_uri": "https://localhost:8080/",
          "height": 120
        },
        "id": "cm4swH2b4Ht_",
        "outputId": "4989d0ef-f9f3-4d54-b365-b03e60e5c771"
      },
      "source": [
        "tokenizer.decode(np.argmax(idx, axis=1))"
      ],
      "execution_count": null,
      "outputs": [
        {
          "output_type": "execute_result",
          "data": {
            "application/vnd.google.colaboratory.intrinsic+json": {
              "type": "string"
            },
            "text/plain": [
              "'[unused200] [unused617] [unused303] [unused303] [unused303] [unused303] [unused268] [unused268] [unused268] [unused303] [unused268] [unused268] [unused268] [unused303] [unused268] [unused268] [unused268] [unused268] [unused303] [unused303] [unused268] [unused268] [unused268] [unused268] [unused268] [unused268] [unused268] [unused268] [unused268] [unused268] [unused268] [unused268] [unused268] [unused268] [unused268] [unused268] [unused268] [unused303] [unused268] [unused303] [unused303] [unused303] [unused303] [unused303] [unused303] [unused303] [unused303] [unused303] [unused303] [unused303] [unused303] [unused303] [unused268] [unused268] [unused268] [unused268] [unused268] [unused268] [unused268] [unused268] [unused268] [unused268] [unused268] [unused268] [unused268] [unused268] [unused268] [unused268] [unused268] [unused268] [unused268] [unused268] [unused268] [unused268] [unused268] [unused268] [unused268] [unused268] [unused268] [unused268] [unused268] [unused268] [unused268] [unused268] [unused268] [unused268] [unused268] [unused268] [unused268] [unused268] [unused268] [unused268] [unused268] [unused268] [unused268] [unused268] [unused268] [unused268] [unused268] [unused268] [unused268] [unused268] [unused268] [unused268] [unused268] [unused268] [unused268] [unused268] [unused268] [unused268] [unused268] [unused268] [unused268] [unused268] [unused268] [unused268] [unused268] [unused268] [unused268] [unused268] [unused268] [unused268] [unused303] [unused303] [unused268] [unused303] [unused303] [unused268] [unused303] [unused303] [unused303] [unused303] [unused303] [unused303] [unused303] [unused303] [unused303] [unused303] [unused268] [unused268] [unused268] [unused268] [unused268] [unused268] [unused268] [unused268] [unused268] [unused268] [unused268] [unused268] [unused268] [unused268] [unused268] [unused268] [unused268] [unused268] [unused268] [unused268] [unused303] [unused268] [unused303] [unused268] [unused268] [unused303] [unused303] [unused268] [unused268] [unused268] [unused268] [unused268] [unused268] [unused268] [unused268] [unused268] [unused268] [unused268] [unused268] [unused268] [unused268] [unused268] [unused268] [unused268] [unused268] [unused268] [unused268] [unused268] [unused303] [unused303] [unused303] [unused303] [unused268] [unused303] [unused303] [unused303] [unused303] [unused303] [unused303] [unused303] [unused268] [unused268] [unused268] [unused268] [unused268] [unused268] [unused268] [unused268] [unused268] [unused268] [unused268] [unused268] [unused268] [unused268] [unused268] [unused268] [unused268] [unused268] [unused268] [unused268] [unused268] [unused268] [unused268] [unused268] [unused268] [unused268] [unused268] [unused268] [unused268] [unused268] [unused268] [unused268] [unused268] [unused268] [unused268] [unused268] [unused268] [unused268] [unused268] [unused268] [unused268] [unused268] [unused268] [unused268] [unused268] [unused268] [unused268] [unused268] [unused268] [unused268] [unused268] [unused268] [unused268] [unused268] [unused268] [unused268] [unused268] [unused268] [unused268] [unused268] [unused268] [unused268] [unused268] [unused268] [unused268] [unused268] [unused268] [unused268] [unused268] [unused268] [unused268] [unused268] [unused268] [unused268] [unused268] [unused268] [unused268] [unused268] [unused268] [unused268] [unused268] [unused268] [unused268] [unused268] [unused268] [unused458] [unused268] [unused268] [unused268] [unused268] [unused268] [unused268] [unused268] [unused268] [unused268] [unused268] [unused268] [unused268] [unused268] [unused268] [unused268] [unused268] [unused268] [unused268] [unused268] [unused268] [unused268] [unused268] [unused268] [unused268] [unused268] [unused268] [unused268] [unused268] [unused268] [unused268] [unused268] [unused268] [unused268] [unused268] [unused268] [unused268] [unused268] [unused268] [unused268] [unused268] [unused268] [unused268] [unused268] [unused268] [unused268] [unused268] [unused268] [unused268] [unused268] [unused268] [unused268] [unused268] [unused303] [unused268] [unused268] [unused268] [unused303] [unused303] [unused303] [unused268] [unused268] [unused268] [unused268] [unused268] [unused268] [unused268] [unused268] [unused268] [unused268] [unused268] [unused268] [unused268] [unused268] [unused268] [unused268] [unused268] [unused268] [unused200] [unused19] [unused411] [unused649] [unused403] [unused652] [unused145] [unused200] [unused396] [unused46] [unused411] [unused167] [unused624] [unused468] [unused575] [unused130] [unused550] [unused54] [unused468] [unused88] [unused652] [unused7] [unused465] [unused189] [unused468] [unused457] [unused255] [unused282] [unused550] [unused625] [unused403] [unused347] [unused282] [unused500] [unused54] [unused54] [unused12] [unused167] [unused319] [unused19] [unused29] [unused678] [unused155] [unused54] [unused468] [unused678] [unused570] [unused695] [unused12] [unused665] [unused445] [unused95] [unused167] [unused624] [unused54] [unused54] [unused54] [unused54] [unused581] [unused268] [unused54] [unused695] [unused550] [unused64] [unused14] [unused695] [unused88] [unused85] [unused54] [unused162] [unused54] [unused1] [unused465] [unused632] [unused233] [unused500] [unused162] [unused482] [unused457] [unused14] [unused227] [unused625] [unused162] [unused482] [unused713] [unused282] [unused162] [unused709] [unused236] [unused468] [unused695] [unused710] [unused598] [unused401] [unused550] [unused227] [unused401] [unused745] [unused695] [unused599] [unused585] [unused54] [unused581] [unused550] [unused91] [unused91] [unused95] [unused110] [unused673] [unused29] [unused88] [unused465] [unused430] [unused328] [unused88] [unused465] [unused88] [unused282] [unused550] [unused88] [unused347] [unused500] [unused54] [unused162] [unused54] [unused347] [unused162] [unused54] [unused322] [unused282] [unused550] [unused145] [unused200] [unused396] [unused88] [unused701] [unused575] [unused701] [unused550] [unused701] [unused468] [unused468] [unused268] [unused601] [unused701] [unused374] [unused571] [unused733] [unused701] [unused537] [unused145]'"
            ]
          },
          "metadata": {
            "tags": []
          },
          "execution_count": 23
        }
      ]
    },
    {
      "cell_type": "code",
      "metadata": {
        "id": "uISxKA-ByHkU"
      },
      "source": [
        "int_indexes = []\r\n",
        "for id in idx:\r\n",
        "  int_indexes.append([id[-2], id[-1]])"
      ],
      "execution_count": null,
      "outputs": []
    },
    {
      "cell_type": "code",
      "metadata": {
        "colab": {
          "base_uri": "https://localhost:8080/"
        },
        "id": "f554jQCD2k9u",
        "outputId": "9774b168-08ce-46f7-8cf8-1d4bb74d7952"
      },
      "source": [
        "idx[0]"
      ],
      "execution_count": null,
      "outputs": [
        {
          "output_type": "execute_result",
          "data": {
            "text/plain": [
              "<tf.Tensor: shape=(768,), dtype=float32, numpy=\n",
              "array([-4.46525306e-01,  4.85364467e-01,  6.58001378e-02,  4.71078724e-01,\n",
              "       -4.78263587e-01, -1.06993869e-01,  1.12684917e+00, -3.90133917e-01,\n",
              "        1.38233513e-01,  1.15629986e-01, -1.96294591e-01, -6.29772484e-01,\n",
              "       -2.84878433e-01,  5.34518957e-01,  5.14786899e-01,  4.44629073e-01,\n",
              "        1.03844553e-01,  6.91295564e-01, -2.27408230e-01,  9.72810313e-02,\n",
              "        4.71048623e-01, -7.89988190e-02,  7.51327097e-01,  1.58075243e-01,\n",
              "       -6.11185990e-02,  1.17476657e-02, -2.52782345e-01, -1.48210025e+00,\n",
              "       -7.44268894e-01, -1.95111185e-01, -5.63248217e-01,  7.19994545e-01,\n",
              "       -1.90814175e-02, -5.12300432e-01,  4.11216706e-01, -2.07561985e-01,\n",
              "       -4.91175473e-01, -2.02412933e-01,  8.61362278e-01, -1.97490662e-01,\n",
              "       -1.84415698e-01, -4.09926832e-01,  5.78411400e-01, -8.86907354e-02,\n",
              "       -3.24657738e-01, -1.69748947e-01, -3.83694077e+00,  1.88484922e-01,\n",
              "       -4.50488269e-01, -9.69166040e-01, -1.16077825e-01, -4.98630464e-01,\n",
              "        1.22619748e-01,  2.20151424e-01, -2.49791563e-01,  6.11157179e-01,\n",
              "        9.21866819e-02, -7.41670132e-01,  1.84634280e+00,  1.16621099e-01,\n",
              "       -1.22311972e-01,  5.59438109e-01, -6.42976165e-01,  5.15684843e-01,\n",
              "       -4.67163503e-01,  1.05076158e+00, -8.90154988e-02, -2.87455797e-01,\n",
              "       -4.89382803e-01, -3.69537771e-02,  1.11972228e-01,  5.21442235e-01,\n",
              "        8.86670947e-01,  3.06124687e-01,  1.01026624e-01, -6.83033094e-02,\n",
              "       -3.50445807e-01,  1.05596566e+00, -5.88037968e-01, -4.39052016e-01,\n",
              "        1.56909466e-01,  1.17919877e-01, -3.18020582e-02, -8.83968234e-01,\n",
              "        3.55015665e-01,  4.09642816e-01,  4.83175427e-01, -7.69969702e-01,\n",
              "       -5.33152759e-01,  1.74328342e-01,  5.26997268e-01,  3.49609554e-01,\n",
              "        9.91157055e-01,  3.88350606e-01, -1.83365062e-01,  2.47612372e-01,\n",
              "        4.29550618e-01,  1.04476131e-01,  5.26708543e-01, -4.43768576e-02,\n",
              "       -2.93830067e-01,  7.41389036e-01,  2.58476913e-01, -6.43098831e-01,\n",
              "       -3.02254856e-01,  3.97992909e-01, -1.58162510e+00,  7.88053572e-01,\n",
              "       -6.32019401e-01,  2.78999773e-03,  7.43068755e-04,  5.15521049e-01,\n",
              "       -5.73485076e-01, -1.47278905e-01,  7.48762727e-01,  1.42048523e-02,\n",
              "        6.21083558e-01, -4.41617042e-01,  5.92673898e-01, -4.56220329e-01,\n",
              "        1.62410766e-01,  2.53824711e-01, -7.13986717e-03,  2.20286265e-01,\n",
              "       -1.32979527e-01,  3.56600821e-01,  1.13120139e-01, -1.34244525e+00,\n",
              "        5.05889654e-01,  1.05277872e+00, -2.91635364e-01, -8.61508176e-02,\n",
              "       -4.15319800e-01,  9.28501338e-02, -5.37240803e-01, -8.60117972e-01,\n",
              "       -1.89885169e-01,  3.11861634e-01, -5.82216382e-02,  3.21979851e-01,\n",
              "       -1.00664198e+00, -8.76145899e-01, -2.04596937e-01, -9.01580870e-01,\n",
              "        5.02605975e-01, -4.77997571e-01,  4.50448811e-01,  2.69568145e-01,\n",
              "       -5.05704165e-01, -1.00194111e-01,  3.40683460e-01, -3.51171345e-01,\n",
              "       -7.13831306e-01, -1.20081520e+00, -5.89791536e-01, -3.68367434e-01,\n",
              "        2.64993131e-01, -3.37410003e-01,  1.80367529e-01,  1.07844472e+00,\n",
              "        7.32812658e-02,  7.78013349e-01, -1.28735721e-01,  5.87769032e-01,\n",
              "       -3.52906764e-01,  3.48735780e-01,  3.70595306e-01,  4.77792054e-01,\n",
              "        8.01074803e-02, -3.08555186e-01,  1.75795555e-02,  1.31071404e-01,\n",
              "        7.51646101e-01, -9.97111142e-01,  1.86541378e-01,  3.49333405e-01,\n",
              "        3.93749475e-01,  2.52500087e-01,  6.42822623e-01, -2.59123277e-02,\n",
              "       -4.80599344e-01, -1.17263831e-02, -3.90832946e-02, -4.77050453e-01,\n",
              "       -2.04516381e-01,  7.38591671e-01,  9.78335515e-02,  7.41326749e-01,\n",
              "       -8.22511986e-02,  2.83661783e-01, -1.71708429e+00, -6.48589849e-01,\n",
              "        1.03529108e+00,  3.37448895e-01,  5.61672688e-01,  3.34288597e-01,\n",
              "        1.99089199e-02,  4.46826756e-01, -2.34240666e-01, -4.19605792e-01,\n",
              "       -8.56262147e-02,  4.50185329e-01, -4.67951447e-01,  7.31627405e-01,\n",
              "       -2.76968963e-02,  1.87227201e+00,  2.09708035e-01, -1.76446944e-01,\n",
              "        3.01153176e-02, -2.03858346e-01, -4.73738670e-01, -1.18874490e+00,\n",
              "       -6.19555950e-01,  2.65383333e-01, -2.23275661e-01, -2.20529363e-01,\n",
              "       -5.29576600e-01, -1.81198642e-01, -1.77525729e-03,  1.38290912e-01,\n",
              "       -4.79934871e-01, -9.77054954e-01, -4.16407526e-01,  3.75192821e-01,\n",
              "       -4.06868845e-01, -6.39100671e-01, -2.07210004e-01, -3.37969303e-01,\n",
              "        5.92799366e-01, -2.01239514e+00,  2.36627087e-01, -7.90583491e-01,\n",
              "       -6.58245921e-01, -1.49974585e-01, -3.17364752e-01, -2.31467739e-01,\n",
              "        1.83057904e-01, -4.90057409e-01,  3.68393719e-01,  6.03613742e-02,\n",
              "       -1.17799804e-01,  8.71653378e-01, -1.19202122e-01, -6.22458816e-01,\n",
              "       -4.91516292e-02,  1.66675542e-03, -2.91593134e-01, -7.65301228e-01,\n",
              "        3.10450941e-01,  2.01979861e-01, -6.11825585e-02,  4.41551059e-01,\n",
              "       -1.24665357e-01,  4.37314034e-01,  2.40662828e-01,  5.79855889e-02,\n",
              "       -1.92460001e-01,  2.88527012e-01, -8.38555336e-01, -9.52952743e-01,\n",
              "       -5.80954850e-01, -4.91316058e-03, -1.39977843e-01,  3.10958713e-01,\n",
              "       -1.22545213e-01, -2.29362071e-01,  2.25545466e-01,  5.15595190e-02,\n",
              "       -5.84967971e-01, -3.51178557e-01,  2.13135481e-01, -7.11464763e-01,\n",
              "       -2.58386999e-01,  8.57948482e-01,  5.17126024e-02, -2.56517619e-01,\n",
              "        1.03537130e+00, -6.24004126e-01, -4.60153341e-01, -2.92723119e-01,\n",
              "       -2.36342736e-02, -2.20075428e-01, -8.41366529e-01,  2.85033792e-01,\n",
              "       -3.65366489e-01, -5.27811766e-01,  6.80659056e-01, -8.50692809e-01,\n",
              "        6.99280798e-01,  2.33409822e-01, -7.77134180e-01,  7.03741431e-01,\n",
              "       -2.72028983e-01,  2.98470140e-01, -2.25013435e-01, -7.95050859e-01,\n",
              "        1.15248993e-01, -4.63414729e-01,  3.58007252e-01,  8.44407916e-01,\n",
              "       -7.66476452e-01,  8.22768986e-01, -7.23922670e-01,  8.97813022e-01,\n",
              "       -7.71912485e-02,  1.02582440e-01, -8.60270709e-02,  3.36311072e-01,\n",
              "       -3.63707757e+00,  9.56425428e-01, -4.38882858e-01,  2.73028940e-01,\n",
              "        4.25036438e-02,  4.97080535e-01,  8.55385244e-01,  7.22548723e-01,\n",
              "       -4.95109975e-01,  1.21510118e-01,  4.01804864e-01,  7.80786753e-01,\n",
              "       -7.65620708e-01,  3.14659506e-01, -3.80799502e-01, -3.98247600e-01,\n",
              "        9.06319499e-01, -8.44378583e-03,  4.93602365e-01, -2.58052647e-01,\n",
              "       -5.85848927e-01, -3.91609311e-01,  8.86961102e-01, -5.87413728e-01,\n",
              "        5.27272880e-01,  1.19457856e-01, -4.34052050e-02, -3.35727334e-02,\n",
              "        3.50780822e-02,  2.90820956e-01, -6.16114974e-01, -6.97646916e-01,\n",
              "        1.22476153e-01,  9.16810706e-02, -4.35930669e-01, -2.69963861e-01,\n",
              "       -1.58395529e-01, -7.80694842e-01,  4.20177251e-01, -5.36499381e-01,\n",
              "        6.56258345e-01, -9.44746435e-01, -9.30394828e-02,  6.31546974e-02,\n",
              "        4.40202862e-01, -3.43826741e-01,  1.17955841e-01,  1.27578890e+00,\n",
              "        2.80678928e-01,  4.92923111e-01, -1.70943767e-01,  5.56774497e-01,\n",
              "       -1.73037332e-02,  3.73201728e-01, -5.43605983e-01, -2.93905139e-01,\n",
              "        5.04151642e-01, -5.72956800e-01, -9.55609798e-01,  3.60829234e-01,\n",
              "        8.59735489e-01,  3.94100875e-01, -8.94595265e-01,  1.01582371e-01,\n",
              "        9.26503241e-02, -9.16468561e-01, -3.10169905e-02, -3.27655554e-01,\n",
              "       -1.10010076e+00,  4.07985300e-01, -7.11249113e-01,  9.25133675e-02,\n",
              "       -9.80594605e-02, -9.16236639e-01,  3.62044930e-01, -5.66595137e-01,\n",
              "        3.06214318e-02, -2.76707649e-01, -1.38178289e-01,  1.54744774e-01,\n",
              "       -7.52701283e-01, -2.27817968e-02,  4.23324734e-01,  7.68462896e-01,\n",
              "       -3.08850855e-01,  9.63223696e-01, -8.16604316e-01,  7.16307461e-01,\n",
              "       -3.25752378e-01,  7.26443529e-01, -2.01726064e-01, -2.39137322e-01,\n",
              "        5.12288451e-01,  2.18572721e-01, -1.30652785e-01,  8.20066690e-01,\n",
              "        5.91374457e-01,  7.35717043e-02,  7.93155015e-01,  4.23459470e-01,\n",
              "        7.22927094e-01, -3.15551341e-01, -5.04861295e-01,  6.23189628e-01,\n",
              "        2.72082448e-01, -3.38931471e-01, -5.72646499e-01, -2.32725948e-01,\n",
              "        6.91873670e-01, -4.10469532e-01, -3.08010191e-01,  2.68476129e-01,\n",
              "       -3.10580879e-01, -6.23890534e-02,  6.53765351e-02, -7.29857743e-01,\n",
              "        8.52488875e-02,  6.72276437e-01,  6.48016036e-01,  1.79170251e-01,\n",
              "       -6.49424344e-02, -5.15759170e-01, -7.90187120e-01, -4.37103271e-01,\n",
              "       -4.76971805e-01,  4.81074564e-02,  2.51642853e-01,  6.61391318e-01,\n",
              "        4.55339924e-02, -4.55957592e-01, -4.62426841e-01, -4.77613181e-01,\n",
              "       -1.56423211e+00, -1.31292716e-01,  1.08912066e-01,  2.69232184e-01,\n",
              "        1.90562919e-01, -8.00955415e-01,  3.42976809e-01, -4.58194435e-01,\n",
              "        1.05258405e+00, -3.06445539e-01, -1.08404741e-01, -1.73786238e-01,\n",
              "        1.07674249e-01,  3.40167016e-01,  6.47080123e-01, -5.17009079e-01,\n",
              "       -3.83193791e-01,  6.51307166e-01, -1.45781860e-02,  4.28600848e-01,\n",
              "        5.92833571e-03, -6.35011196e-01,  3.81885856e-01,  3.53519261e-01,\n",
              "       -4.21059549e-01, -1.91689104e-01, -6.55812562e-01, -5.53956866e-01,\n",
              "        6.87211871e-01, -8.33383203e-02, -1.37622249e+00, -6.21254504e-01,\n",
              "        9.28385675e-01,  6.15762234e-01,  7.20011711e-01, -3.68263572e-01,\n",
              "       -4.36877042e-01,  1.89853027e-01, -1.25249043e-01,  1.74061209e-01,\n",
              "       -3.96343112e-01,  2.27403298e-01, -1.36493631e-02,  3.44521403e-01,\n",
              "        9.50465024e-01, -2.57965960e-02,  4.76832688e-01, -2.02111378e-01,\n",
              "       -2.65008330e-01, -4.43439901e-01,  4.80421335e-02, -7.82693252e-02,\n",
              "        5.06537557e-01,  5.56043148e-01, -4.57054019e-01, -1.77225068e-01,\n",
              "       -7.95529187e-01,  4.21413243e-01, -8.17511305e-02,  2.48148263e-01,\n",
              "       -3.43975663e-01, -1.34177029e+00,  1.48219571e-01, -5.22321463e-01,\n",
              "        3.44697297e-01,  9.60395932e-01,  2.51657426e-01,  3.30077350e-01,\n",
              "        2.43760377e-01,  6.48576856e-01, -2.63165593e-01,  1.93755895e-01,\n",
              "        6.34878218e-01,  9.28906947e-02, -6.90409303e-01,  6.82283491e-02,\n",
              "        8.85078013e-02,  1.53516278e-01,  1.40100896e-01, -7.68733695e-02,\n",
              "        2.97991991e-01,  4.04662430e-01,  2.40797222e-01, -1.05733305e-01,\n",
              "       -1.07969709e-01, -8.67526472e-01, -5.03140271e-01,  4.48429942e-01,\n",
              "       -3.13764423e-01,  3.06934327e-01,  5.98791242e-01, -4.28691924e-01,\n",
              "       -3.10419053e-01, -2.65522718e-01, -6.04772568e-01, -3.07135820e-01,\n",
              "        8.69831681e-01, -1.15267128e-01, -5.71352899e-01,  1.54449373e-01,\n",
              "        1.03465252e-01,  6.20343328e-01, -1.35340190e+00, -1.18935220e-01,\n",
              "       -1.84613988e-01,  7.88484961e-02,  2.84039497e-01,  9.66942847e-01,\n",
              "        9.35017616e-02,  3.00051980e-02,  1.33134305e+00, -5.98070562e-01,\n",
              "        2.00185716e-01,  5.87391853e-01, -3.08616936e-01, -2.99733989e-02,\n",
              "        8.62374902e-03,  5.14781773e-02,  4.26585972e-01,  3.96077871e-01,\n",
              "       -2.28566661e-01, -4.87761587e-01,  4.27952796e-01, -2.05533415e-01,\n",
              "       -1.56340554e-01, -4.67557043e-01, -3.30963075e-01, -6.25140309e-01,\n",
              "       -4.37373668e-01,  9.29864347e-01, -1.33020729e-01,  4.55677241e-01,\n",
              "        4.95911837e-02,  1.91072375e-02,  2.81937182e-01,  1.11084545e+00,\n",
              "        3.68453205e-01, -2.01860920e-01, -8.27760398e-01,  1.65455282e-01,\n",
              "        1.47880554e-01, -8.59613493e-02, -5.37343621e-02, -8.42240229e-02,\n",
              "        6.60584927e-01, -3.51524591e-01,  7.84556508e-01, -1.02849007e+00,\n",
              "       -1.93746984e-01,  1.86822608e-01,  6.81839883e-03,  1.48525625e-01,\n",
              "        6.35732532e-01, -7.51653984e-02, -3.21491838e-01, -6.19935274e-01,\n",
              "        2.46034674e-02,  6.12681091e-01, -9.66923654e-01,  6.02025688e-01,\n",
              "       -3.96324426e-01, -3.81630380e-04,  2.62356341e-01,  8.88863444e-01,\n",
              "        4.94208112e-02, -1.50612667e-01, -7.59268105e-01,  6.05982006e-01,\n",
              "       -3.75560790e-01,  6.98129117e-01,  1.09034860e+00, -8.60258818e-01,\n",
              "       -6.92894399e-01,  5.42488694e-01, -4.78178650e-01, -1.52932182e-01,\n",
              "       -1.41508177e-01, -1.32381886e-01,  2.37372100e-01,  8.53151381e-01,\n",
              "        2.83199459e-01,  1.98659748e-02, -5.04754893e-02, -2.73932338e-01,\n",
              "       -9.01082218e-01, -4.64630902e-01, -9.34102088e-02,  9.40939069e-01,\n",
              "        3.16503271e-02,  5.98629832e-01,  4.69397783e-01, -2.81533569e-01,\n",
              "       -1.24699987e-01,  5.58721244e-01,  2.90181071e-01, -6.64957941e-01,\n",
              "       -1.02050170e-01,  8.48820806e-01, -3.98229212e-01, -1.22712922e+00,\n",
              "       -3.72835755e-01, -3.37158561e-01,  1.33153081e-01,  4.12341177e-01,\n",
              "       -5.10720551e-01, -1.45558989e+00, -5.14694571e-01,  6.32207632e-01,\n",
              "       -6.44630373e-01,  1.04397573e-02,  8.54703665e-01, -5.89659870e-01,\n",
              "       -1.24740589e+00,  8.48256573e-02,  4.71999019e-01,  1.71623319e-01,\n",
              "        1.58608407e-01, -4.08442289e-01, -5.27650416e-02,  1.46729350e-01,\n",
              "        9.16565895e-01,  8.08348060e-01,  2.29647994e-01,  1.33636355e-01,\n",
              "       -1.50677919e-01, -7.21859396e-01, -6.35089993e-01, -1.44336134e-01,\n",
              "       -8.38927776e-02, -2.78313607e-01,  3.83393764e-01, -4.17792276e-02,\n",
              "       -4.80252564e-01, -4.20669317e-01,  3.87875855e-01,  7.10046411e-01,\n",
              "        5.95469177e-01, -4.63430941e-01,  1.28268349e+00, -3.40211093e-01,\n",
              "        1.83644928e-02, -1.76286161e-01,  7.08848894e-01,  5.62485456e-01,\n",
              "        2.86529124e-01, -2.09451392e-01, -4.07776177e-01,  2.28606731e-01,\n",
              "       -6.83002651e-01, -3.74198765e-01,  1.50657147e-01, -3.85564357e-01,\n",
              "        5.12989998e-01,  9.78273571e-01, -4.60212618e-01,  1.52290672e-01,\n",
              "        3.25308263e-01, -4.20666367e-01,  5.73403120e-01,  1.16769113e-02,\n",
              "       -5.27471960e-01,  1.60449594e-01,  2.88795441e-01,  1.05308676e+00,\n",
              "       -1.38705224e-01,  6.49748966e-02,  3.31183791e-01,  3.46759185e-02,\n",
              "        8.04586053e-01, -1.20558418e-01,  7.86161065e-01, -9.81201082e-02,\n",
              "       -8.21660459e-02, -3.98352072e-02,  1.07348666e-01,  1.01123083e+00,\n",
              "       -2.52668798e-01, -2.16622815e-01, -3.46096337e-01, -5.24828076e-01,\n",
              "        7.36106277e-01,  1.43774033e-01, -1.98940575e-01, -5.75042903e-01,\n",
              "       -1.84106708e-01,  1.13249816e-01, -2.76291706e-02, -1.39123845e+00,\n",
              "       -5.69087267e-01, -2.86135525e-01,  6.06007159e-01,  6.51685536e-01,\n",
              "        1.16237089e-01,  2.20629871e-01,  4.21816528e-01, -3.38326186e-01,\n",
              "       -7.71713793e-01,  2.92175442e-01, -6.80790901e-01,  4.75554526e-01,\n",
              "        2.87843108e-01,  2.12847739e-02, -7.81902194e-01, -2.27846786e-01,\n",
              "        9.93088245e-01,  5.07641971e-01,  7.44594336e-01, -4.29592431e-01,\n",
              "        8.68699014e-01,  5.55468500e-01,  1.26887727e+00,  2.80820519e-01,\n",
              "        4.68934000e-01, -7.16630876e-01,  1.75473571e-01, -3.01597893e-01,\n",
              "       -4.51794565e-01,  1.49562180e-01, -1.59666717e-01,  2.58286521e-02,\n",
              "        3.24248075e-01, -2.00826019e-01,  2.44580269e-01, -6.03089988e-01,\n",
              "       -1.59683287e-01, -4.65216249e-01,  4.10143137e-01, -7.04203367e-01],\n",
              "      dtype=float32)>"
            ]
          },
          "metadata": {
            "tags": []
          },
          "execution_count": 25
        }
      ]
    },
    {
      "cell_type": "code",
      "metadata": {
        "colab": {
          "base_uri": "https://localhost:8080/",
          "height": 443
        },
        "id": "Rrl5kE6byaG-",
        "outputId": "96b75306-89d2-41d7-f6b6-d8247623f835"
      },
      "source": [
        "tokenizer.convert_tokens_to_string(tokenizer.convert_ids_to_tokens(idx[0]))"
      ],
      "execution_count": null,
      "outputs": [
        {
          "output_type": "execute_result",
          "data": {
            "application/vnd.google.colaboratory.intrinsic+json": {
              "type": "string"
            },
            "text/plain": [
              "'[PAD] [PAD] [PAD] [PAD] [PAD] [PAD] [unused0] [PAD] [PAD] [PAD] [PAD] [PAD] [PAD] [PAD] [PAD] [PAD] [PAD] [PAD] [PAD] [PAD] [PAD] [PAD] [PAD] [PAD] [PAD] [PAD] [PAD] [UNK] [PAD] [PAD] [PAD] [PAD] [PAD] [PAD] [PAD] [PAD] [PAD] [PAD] [PAD] [PAD] [PAD] [PAD] [PAD] [PAD] [PAD] [PAD] [UNK] [PAD] [PAD] [PAD] [PAD] [PAD] [PAD] [PAD] [PAD] [PAD] [PAD] [PAD] [unused0] [PAD] [PAD] [PAD] [PAD] [PAD] [PAD] [unused0] [PAD] [PAD] [PAD] [PAD] [PAD] [PAD] [PAD] [PAD] [PAD] [PAD] [PAD] [unused0] [PAD] [PAD] [PAD] [PAD] [PAD] [PAD] [PAD] [PAD] [PAD] [PAD] [PAD] [PAD] [PAD] [PAD] [PAD] [PAD] [PAD] [PAD] [PAD] [PAD] [PAD] [PAD] [PAD] [PAD] [PAD] [PAD] [PAD] [PAD] [UNK] [PAD] [PAD] [PAD] [PAD] [PAD] [PAD] [PAD] [PAD] [PAD] [PAD] [PAD] [PAD] [PAD] [PAD] [PAD] [PAD] [PAD] [PAD] [PAD] [PAD] [UNK] [PAD] [unused0] [PAD] [PAD] [PAD] [PAD] [PAD] [PAD] [PAD] [PAD] [PAD] [PAD] [UNK] [PAD] [PAD] [PAD] [PAD] [PAD] [PAD] [PAD] [PAD] [PAD] [PAD] [PAD] [PAD] [UNK] [PAD] [PAD] [PAD] [PAD] [PAD] [unused0] [PAD] [PAD] [PAD] [PAD] [PAD] [PAD] [PAD] [PAD] [PAD] [PAD] [PAD] [PAD] [PAD] [PAD] [PAD] [PAD] [PAD] [PAD] [PAD] [PAD] [PAD] [PAD] [PAD] [PAD] [PAD] [PAD] [PAD] [PAD] [PAD] [PAD] [UNK] [PAD] [unused0] [PAD] [PAD] [PAD] [PAD] [PAD] [PAD] [PAD] [PAD] [PAD] [PAD] [PAD] [PAD] [unused0] [PAD] [PAD] [PAD] [PAD] [PAD] [UNK] [PAD] [PAD] [PAD] [PAD] [PAD] [PAD] [PAD] [PAD] [PAD] [PAD] [PAD] [PAD] [PAD] [PAD] [PAD] [PAD] [PAD] [UNK] [PAD] [PAD] [PAD] [PAD] [PAD] [PAD] [PAD] [PAD] [PAD] [PAD] [PAD] [PAD] [PAD] [PAD] [PAD] [PAD] [PAD] [PAD] [PAD] [PAD] [PAD] [PAD] [PAD] [PAD] [PAD] [PAD] [PAD] [PAD] [PAD] [PAD] [PAD] [PAD] [PAD] [PAD] [PAD] [PAD] [PAD] [PAD] [PAD] [PAD] [PAD] [PAD] [PAD] [PAD] [PAD] [PAD] [unused0] [PAD] [PAD] [PAD] [PAD] [PAD] [PAD] [PAD] [PAD] [PAD] [PAD] [PAD] [PAD] [PAD] [PAD] [PAD] [PAD] [PAD] [PAD] [PAD] [PAD] [PAD] [PAD] [PAD] [PAD] [PAD] [PAD] [PAD] [PAD] [PAD] [PAD] [PAD] [UNK] [PAD] [PAD] [PAD] [PAD] [PAD] [PAD] [PAD] [PAD] [PAD] [PAD] [PAD] [PAD] [PAD] [PAD] [PAD] [PAD] [PAD] [PAD] [PAD] [PAD] [PAD] [PAD] [PAD] [PAD] [PAD] [PAD] [PAD] [PAD] [PAD] [PAD] [PAD] [PAD] [PAD] [PAD] [PAD] [PAD] [PAD] [PAD] [PAD] [PAD] [PAD] [PAD] [PAD] [PAD] [PAD] [PAD] [unused0] [PAD] [PAD] [PAD] [PAD] [PAD] [PAD] [PAD] [PAD] [PAD] [PAD] [PAD] [PAD] [PAD] [PAD] [PAD] [PAD] [PAD] [PAD] [PAD] [PAD] [UNK] [PAD] [PAD] [PAD] [PAD] [PAD] [PAD] [PAD] [PAD] [PAD] [PAD] [PAD] [PAD] [PAD] [PAD] [PAD] [PAD] [PAD] [PAD] [PAD] [PAD] [PAD] [PAD] [PAD] [PAD] [PAD] [PAD] [PAD] [PAD] [PAD] [PAD] [PAD] [PAD] [PAD] [PAD] [PAD] [PAD] [PAD] [PAD] [PAD] [PAD] [PAD] [PAD] [PAD] [PAD] [PAD] [PAD] [PAD] [PAD] [PAD] [PAD] [PAD] [PAD] [PAD] [PAD] [PAD] [PAD] [PAD] [PAD] [PAD] [PAD] [PAD] [PAD] [PAD] [UNK] [PAD] [PAD] [PAD] [PAD] [PAD] [PAD] [PAD] [unused0] [PAD] [PAD] [PAD] [PAD] [PAD] [PAD] [PAD] [PAD] [PAD] [PAD] [PAD] [PAD] [PAD] [PAD] [PAD] [PAD] [PAD] [PAD] [PAD] [PAD] [PAD] [UNK] [PAD] [PAD] [PAD] [PAD] [PAD] [PAD] [PAD] [PAD] [PAD] [PAD] [PAD] [PAD] [PAD] [PAD] [PAD] [PAD] [PAD] [PAD] [PAD] [PAD] [PAD] [PAD] [PAD] [PAD] [PAD] [PAD] [PAD] [PAD] [PAD] [PAD] [UNK] [PAD] [PAD] [PAD] [PAD] [PAD] [PAD] [PAD] [PAD] [PAD] [PAD] [PAD] [PAD] [PAD] [PAD] [PAD] [PAD] [PAD] [PAD] [PAD] [PAD] [PAD] [PAD] [PAD] [PAD] [PAD] [PAD] [PAD] [PAD] [PAD] [PAD] [PAD] [PAD] [PAD] [PAD] [PAD] [PAD] [PAD] [PAD] [PAD] [PAD] [UNK] [PAD] [PAD] [PAD] [PAD] [PAD] [PAD] [PAD] [unused0] [PAD] [PAD] [PAD] [PAD] [PAD] [PAD] [PAD] [PAD] [PAD] [PAD] [PAD] [PAD] [PAD] [PAD] [PAD] [PAD] [PAD] [PAD] [PAD] [PAD] [PAD] [PAD] [PAD] [PAD] [unused0] [PAD] [PAD] [PAD] [PAD] [PAD] [PAD] [PAD] [PAD] [PAD] [PAD] [PAD] [UNK] [PAD] [PAD] [PAD] [PAD] [PAD] [PAD] [PAD] [PAD] [PAD] [PAD] [PAD] [PAD] [PAD] [PAD] [PAD] [PAD] [PAD] [PAD] [PAD] [PAD] [PAD] [PAD] [unused0] [PAD] [PAD] [PAD] [PAD] [PAD] [PAD] [PAD] [PAD] [PAD] [PAD] [PAD] [PAD] [PAD] [PAD] [PAD] [PAD] [PAD] [PAD] [PAD] [PAD] [PAD] [PAD] [PAD] [PAD] [PAD] [PAD] [PAD] [PAD] [UNK] [PAD] [PAD] [PAD] [PAD] [PAD] [UNK] [PAD] [PAD] [PAD] [PAD] [PAD] [PAD] [UNK] [PAD] [PAD] [PAD] [PAD] [PAD] [PAD] [PAD] [PAD] [PAD] [PAD] [PAD] [PAD] [PAD] [PAD] [PAD] [PAD] [PAD] [PAD] [PAD] [PAD] [PAD] [PAD] [PAD] [PAD] [PAD] [unused0] [PAD] [PAD] [PAD] [PAD] [PAD] [PAD] [PAD] [PAD] [PAD] [PAD] [PAD] [PAD] [PAD] [PAD] [PAD] [PAD] [PAD] [PAD] [PAD] [PAD] [PAD] [PAD] [PAD] [PAD] [unused0] [PAD] [PAD] [PAD] [PAD] [PAD] [PAD] [PAD] [PAD] [PAD] [PAD] [PAD] [unused0] [PAD] [PAD] [PAD] [PAD] [PAD] [PAD] [PAD] [PAD] [PAD] [PAD] [PAD] [UNK] [PAD] [PAD] [PAD] [PAD] [PAD] [PAD] [PAD] [PAD] [PAD] [PAD] [PAD] [PAD] [PAD] [PAD] [PAD] [PAD] [PAD] [PAD] [PAD] [PAD] [PAD] [PAD] [unused0] [PAD] [PAD] [PAD] [PAD] [PAD] [PAD] [PAD] [PAD] [PAD] [PAD] [PAD] [PAD] [PAD] [PAD] [PAD] [PAD] [PAD]'"
            ]
          },
          "metadata": {
            "tags": []
          },
          "execution_count": 26
        }
      ]
    }
  ]
}