{
  "nbformat": 4,
  "nbformat_minor": 0,
  "metadata": {
    "colab": {
      "name": "Project-X-SQAD.ipynb",
      "provenance": []
    },
    "kernelspec": {
      "name": "python3",
      "display_name": "Python 3"
    },
    "accelerator": "GPU"
  },
  "cells": [
    {
      "cell_type": "markdown",
      "metadata": {
        "id": "SXzTAMPpfB6N"
      },
      "source": [
        "# TODO:\r\n",
        "\r\n",
        "*   Store data in DICTIONARY to save and load easier\r\n",
        "*   Pass tokenizer as function parameter (instead of calling global)\r\n",
        "\r\n",
        "\r\n"
      ]
    },
    {
      "cell_type": "markdown",
      "metadata": {
        "id": "Y6J9_LsBSwk-"
      },
      "source": [
        "# Setup"
      ]
    },
    {
      "cell_type": "code",
      "metadata": {
        "id": "SwEFNn5KuGDl",
        "colab": {
          "base_uri": "https://localhost:8080/"
        },
        "outputId": "73f83307-c256-46a7-80a2-42f289e6e8c4"
      },
      "source": [
        "!pip install -q tf-models-official==2.3.0\r\n",
        "!pip install transformers"
      ],
      "execution_count": 57,
      "outputs": [
        {
          "output_type": "stream",
          "text": [
            "Requirement already satisfied: transformers in /usr/local/lib/python3.6/dist-packages (4.2.2)\n",
            "Requirement already satisfied: sacremoses in /usr/local/lib/python3.6/dist-packages (from transformers) (0.0.43)\n",
            "Requirement already satisfied: tokenizers==0.9.4 in /usr/local/lib/python3.6/dist-packages (from transformers) (0.9.4)\n",
            "Requirement already satisfied: filelock in /usr/local/lib/python3.6/dist-packages (from transformers) (3.0.12)\n",
            "Requirement already satisfied: tqdm>=4.27 in /usr/local/lib/python3.6/dist-packages (from transformers) (4.41.1)\n",
            "Requirement already satisfied: regex!=2019.12.17 in /usr/local/lib/python3.6/dist-packages (from transformers) (2019.12.20)\n",
            "Requirement already satisfied: packaging in /usr/local/lib/python3.6/dist-packages (from transformers) (20.9)\n",
            "Requirement already satisfied: numpy in /usr/local/lib/python3.6/dist-packages (from transformers) (1.19.5)\n",
            "Requirement already satisfied: dataclasses; python_version < \"3.7\" in /usr/local/lib/python3.6/dist-packages (from transformers) (0.8)\n",
            "Requirement already satisfied: importlib-metadata; python_version < \"3.8\" in /usr/local/lib/python3.6/dist-packages (from transformers) (3.4.0)\n",
            "Requirement already satisfied: requests in /usr/local/lib/python3.6/dist-packages (from transformers) (2.23.0)\n",
            "Requirement already satisfied: six in /usr/local/lib/python3.6/dist-packages (from sacremoses->transformers) (1.15.0)\n",
            "Requirement already satisfied: click in /usr/local/lib/python3.6/dist-packages (from sacremoses->transformers) (7.1.2)\n",
            "Requirement already satisfied: joblib in /usr/local/lib/python3.6/dist-packages (from sacremoses->transformers) (1.0.0)\n",
            "Requirement already satisfied: pyparsing>=2.0.2 in /usr/local/lib/python3.6/dist-packages (from packaging->transformers) (2.4.7)\n",
            "Requirement already satisfied: typing-extensions>=3.6.4; python_version < \"3.8\" in /usr/local/lib/python3.6/dist-packages (from importlib-metadata; python_version < \"3.8\"->transformers) (3.7.4.3)\n",
            "Requirement already satisfied: zipp>=0.5 in /usr/local/lib/python3.6/dist-packages (from importlib-metadata; python_version < \"3.8\"->transformers) (3.4.0)\n",
            "Requirement already satisfied: chardet<4,>=3.0.2 in /usr/local/lib/python3.6/dist-packages (from requests->transformers) (3.0.4)\n",
            "Requirement already satisfied: certifi>=2017.4.17 in /usr/local/lib/python3.6/dist-packages (from requests->transformers) (2020.12.5)\n",
            "Requirement already satisfied: idna<3,>=2.5 in /usr/local/lib/python3.6/dist-packages (from requests->transformers) (2.10)\n",
            "Requirement already satisfied: urllib3!=1.25.0,!=1.25.1,<1.26,>=1.21.1 in /usr/local/lib/python3.6/dist-packages (from requests->transformers) (1.24.3)\n"
          ],
          "name": "stdout"
        }
      ]
    },
    {
      "cell_type": "code",
      "metadata": {
        "id": "KxC2Vn2KR8pK"
      },
      "source": [
        "import os\r\n",
        "import json, pickle\r\n",
        "\r\n",
        "import re\r\n",
        "\r\n",
        "import pandas as pd\r\n",
        "import numpy as np\r\n",
        "import matplotlib.pyplot as plt\r\n",
        "\r\n",
        "import tensorflow as tf\r\n",
        "from sklearn.model_selection import train_test_split\r\n",
        "\r\n",
        "import transformers\r\n",
        "from transformers import BertTokenizer, TFBertModel\r\n",
        "transformers.logging.set_verbosity_error() # suppress tokenizer sentences' length warnings so to not disturbate rou beautiful loading bar oh my gosh\r\n",
        "\r\n",
        "from keras import Model\r\n",
        "from keras.utils import plot_model\r\n",
        "from keras.layers import Input, Dense, Flatten\r\n",
        "\r\n",
        "from google.colab import drive, files"
      ],
      "execution_count": 70,
      "outputs": []
    },
    {
      "cell_type": "code",
      "metadata": {
        "colab": {
          "base_uri": "https://localhost:8080/"
        },
        "id": "--YO7FLemTOD",
        "outputId": "8a034410-2bd6-4064-9778-45a5ae595ccf"
      },
      "source": [
        "drive.mount('/content/drive')"
      ],
      "execution_count": 59,
      "outputs": [
        {
          "output_type": "stream",
          "text": [
            "Drive already mounted at /content/drive; to attempt to forcibly remount, call drive.mount(\"/content/drive\", force_remount=True).\n"
          ],
          "name": "stdout"
        }
      ]
    },
    {
      "cell_type": "code",
      "metadata": {
        "id": "dwEW25ifc3Pt"
      },
      "source": [
        "try:\r\n",
        "  with open('training_set.json') as f:\r\n",
        "    json_data = json.load(f)\r\n",
        "except:\r\n",
        "  with open('/content/drive/My Drive/SQUAD/training_set.json') as f:\r\n",
        "    json_data = json.load(f)"
      ],
      "execution_count": 60,
      "outputs": []
    },
    {
      "cell_type": "markdown",
      "metadata": {
        "id": "xG0C8uDPvt0X"
      },
      "source": [
        "# Hyperparameters\r\n"
      ]
    },
    {
      "cell_type": "code",
      "metadata": {
        "id": "-I7Nzb95vvxd"
      },
      "source": [
        "### PARAMETERS ###\r\n",
        "RANDOM_STATE = 42\r\n",
        "\r\n",
        "# Dataset creation\r\n",
        "SEQUENCE_LIMIT = 512\r\n",
        "STRIDE = 256\r\n",
        "\r\n",
        "TRAIN_LIMIT = 3000\r\n",
        "VAL_LIMIT = 1000\r\n",
        "TEST_LIMIT = 1000\r\n",
        "\r\n",
        "# Model Training\r\n",
        "EPOCHS = 3\r\n",
        "BATCH_SIZE = 32"
      ],
      "execution_count": 61,
      "outputs": []
    },
    {
      "cell_type": "markdown",
      "metadata": {
        "id": "A23pEgzInJLM"
      },
      "source": [
        "# <s> Dataset </s>"
      ]
    },
    {
      "cell_type": "code",
      "metadata": {
        "id": "Qc6-zf6cV4e6",
        "colab": {
          "base_uri": "https://localhost:8080/",
          "height": 0
        },
        "outputId": "2cec41f5-6d70-440f-c2e1-71ddb3593031"
      },
      "source": [
        "# Creates DataFrames with useful columns by unpacking 'paragraphs' column\r\n",
        "def preprocess_df(df):\r\n",
        "  temp = []\r\n",
        "  title_dict = {}\r\n",
        "  contexts = []\r\n",
        "\r\n",
        "  for i, row in df.iterrows():\r\n",
        "    for context in row['paragraphs']:\r\n",
        "      contexts.append(context['context'])\r\n",
        "      for qa in context['qas']:\r\n",
        "        question_id = qa['id']\r\n",
        "        question = qa['question']\r\n",
        "        for answer in qa['answers']:\r\n",
        "          answer_text = answer['text']\r\n",
        "          answer_start = answer['answer_start']\r\n",
        "          answer_end = answer_start+len(answer_text)\r\n",
        "          temp.append([question_id, question, answer_text, answer_start, answer_end, i, len(contexts)-1])\r\n",
        "\r\n",
        "  context_dict = dict(enumerate(contexts))\r\n",
        "  df = pd.DataFrame(temp, columns=['question_id', 'question_text', 'answer_text', 'answer_start', 'answer_end', 'title_id', 'context_id'])\r\n",
        "  \r\n",
        "  return df, context_dict\r\n",
        "\r\n",
        "# Read data from json\r\n",
        "data = pd.json_normalize(json_data['data'])\r\n",
        "\r\n",
        "# Split train and test\r\n",
        "train_val, test = train_test_split(data, test_size=0.2, random_state=RANDOM_STATE)\r\n",
        "train, val = train_test_split(train_val, test_size=0.25, random_state=RANDOM_STATE)\r\n",
        "\r\n",
        "# Create DataFrames with useful columns\r\n",
        "train_df, train_context_dict = preprocess_df(train)\r\n",
        "val_df, val_context_dict = preprocess_df(val)\r\n",
        "test_df, test_context_dict = preprocess_df(test)\r\n",
        "\r\n",
        "train_df"
      ],
      "execution_count": 62,
      "outputs": [
        {
          "output_type": "execute_result",
          "data": {
            "text/html": [
              "<div>\n",
              "<style scoped>\n",
              "    .dataframe tbody tr th:only-of-type {\n",
              "        vertical-align: middle;\n",
              "    }\n",
              "\n",
              "    .dataframe tbody tr th {\n",
              "        vertical-align: top;\n",
              "    }\n",
              "\n",
              "    .dataframe thead th {\n",
              "        text-align: right;\n",
              "    }\n",
              "</style>\n",
              "<table border=\"1\" class=\"dataframe\">\n",
              "  <thead>\n",
              "    <tr style=\"text-align: right;\">\n",
              "      <th></th>\n",
              "      <th>question_id</th>\n",
              "      <th>question_text</th>\n",
              "      <th>answer_text</th>\n",
              "      <th>answer_start</th>\n",
              "      <th>answer_end</th>\n",
              "      <th>title_id</th>\n",
              "      <th>context_id</th>\n",
              "    </tr>\n",
              "  </thead>\n",
              "  <tbody>\n",
              "    <tr>\n",
              "      <th>0</th>\n",
              "      <td>5705e78f75f01819005e7734</td>\n",
              "      <td>Where does migration mainly occur?</td>\n",
              "      <td>the northern hemisphere</td>\n",
              "      <td>317</td>\n",
              "      <td>340</td>\n",
              "      <td>109</td>\n",
              "      <td>0</td>\n",
              "    </tr>\n",
              "    <tr>\n",
              "      <th>1</th>\n",
              "      <td>5705e78f75f01819005e7735</td>\n",
              "      <td>Why do birds primarily migrate?</td>\n",
              "      <td>availability of food</td>\n",
              "      <td>275</td>\n",
              "      <td>295</td>\n",
              "      <td>109</td>\n",
              "      <td>0</td>\n",
              "    </tr>\n",
              "    <tr>\n",
              "      <th>2</th>\n",
              "      <td>5705e78f75f01819005e7736</td>\n",
              "      <td>Which birds migrate?</td>\n",
              "      <td>Many species</td>\n",
              "      <td>127</td>\n",
              "      <td>139</td>\n",
              "      <td>109</td>\n",
              "      <td>0</td>\n",
              "    </tr>\n",
              "    <tr>\n",
              "      <th>3</th>\n",
              "      <td>5705e78f75f01819005e7737</td>\n",
              "      <td>What is bird migration?</td>\n",
              "      <td>the regular seasonal movement, often north and...</td>\n",
              "      <td>18</td>\n",
              "      <td>125</td>\n",
              "      <td>109</td>\n",
              "      <td>0</td>\n",
              "    </tr>\n",
              "    <tr>\n",
              "      <th>4</th>\n",
              "      <td>5705e78f75f01819005e7738</td>\n",
              "      <td>What is a cause of death to birds during migra...</td>\n",
              "      <td>humans</td>\n",
              "      <td>240</td>\n",
              "      <td>246</td>\n",
              "      <td>109</td>\n",
              "      <td>0</td>\n",
              "    </tr>\n",
              "    <tr>\n",
              "      <th>...</th>\n",
              "      <td>...</td>\n",
              "      <td>...</td>\n",
              "      <td>...</td>\n",
              "      <td>...</td>\n",
              "      <td>...</td>\n",
              "      <td>...</td>\n",
              "      <td>...</td>\n",
              "    </tr>\n",
              "    <tr>\n",
              "      <th>49933</th>\n",
              "      <td>57314ace05b4da19006bcfe2</td>\n",
              "      <td>What quality has LEDs been used as?</td>\n",
              "      <td>medium-quality</td>\n",
              "      <td>30</td>\n",
              "      <td>44</td>\n",
              "      <td>417</td>\n",
              "      <td>10869</td>\n",
              "    </tr>\n",
              "    <tr>\n",
              "      <th>49934</th>\n",
              "      <td>57314ace05b4da19006bcfe3</td>\n",
              "      <td>What LED has the flattest I/V curve above the ...</td>\n",
              "      <td>Red</td>\n",
              "      <td>216</td>\n",
              "      <td>219</td>\n",
              "      <td>417</td>\n",
              "      <td>10869</td>\n",
              "    </tr>\n",
              "    <tr>\n",
              "      <th>49935</th>\n",
              "      <td>57314ace05b4da19006bcfe4</td>\n",
              "      <td>What LEDs have a very steep I/V curve?</td>\n",
              "      <td>Nitride-based LEDs</td>\n",
              "      <td>269</td>\n",
              "      <td>287</td>\n",
              "      <td>417</td>\n",
              "      <td>10869</td>\n",
              "    </tr>\n",
              "    <tr>\n",
              "      <th>49936</th>\n",
              "      <td>57314ace05b4da19006bcfe5</td>\n",
              "      <td>LED forward voltage is more current-dependent ...</td>\n",
              "      <td>Zener</td>\n",
              "      <td>418</td>\n",
              "      <td>423</td>\n",
              "      <td>417</td>\n",
              "      <td>10869</td>\n",
              "    </tr>\n",
              "    <tr>\n",
              "      <th>49937</th>\n",
              "      <td>57314ace05b4da19006bcfe6</td>\n",
              "      <td>Zener diodes below what voltage are not widely...</td>\n",
              "      <td>3 V</td>\n",
              "      <td>474</td>\n",
              "      <td>477</td>\n",
              "      <td>417</td>\n",
              "      <td>10869</td>\n",
              "    </tr>\n",
              "  </tbody>\n",
              "</table>\n",
              "<p>49938 rows × 7 columns</p>\n",
              "</div>"
            ],
            "text/plain": [
              "                    question_id  ... context_id\n",
              "0      5705e78f75f01819005e7734  ...          0\n",
              "1      5705e78f75f01819005e7735  ...          0\n",
              "2      5705e78f75f01819005e7736  ...          0\n",
              "3      5705e78f75f01819005e7737  ...          0\n",
              "4      5705e78f75f01819005e7738  ...          0\n",
              "...                         ...  ...        ...\n",
              "49933  57314ace05b4da19006bcfe2  ...      10869\n",
              "49934  57314ace05b4da19006bcfe3  ...      10869\n",
              "49935  57314ace05b4da19006bcfe4  ...      10869\n",
              "49936  57314ace05b4da19006bcfe5  ...      10869\n",
              "49937  57314ace05b4da19006bcfe6  ...      10869\n",
              "\n",
              "[49938 rows x 7 columns]"
            ]
          },
          "metadata": {
            "tags": []
          },
          "execution_count": 62
        }
      ]
    },
    {
      "cell_type": "code",
      "metadata": {
        "id": "TaUcu-8VyTqs",
        "colab": {
          "base_uri": "https://localhost:8080/"
        },
        "outputId": "58f6b39c-f43b-4de7-947a-300be9ed2372"
      },
      "source": [
        "# Inspect data samples\r\n",
        "def print_squad_sample(train_data, context_dict, line_length=120, separator_length=150):\r\n",
        "\r\n",
        "  sample = train_data.sample(frac=1).head(1)\r\n",
        "  context = context_dict[sample['context_id'].item()]\r\n",
        "\r\n",
        "  print('='*separator_length, '\\nCONTEXT:\\n', '='*separator_length)\r\n",
        "\r\n",
        "  lines = [''.join(context[idx:idx+line_length]) for idx in range(0, len(context), line_length)]\r\n",
        "  for l in lines:\r\n",
        "      print(l)\r\n",
        "\r\n",
        "  print('='*separator_length, '\\nQUESTION:', ' '*(3*separator_length//4), 'ANSWER:')\r\n",
        "\r\n",
        "  questions = train_data[train_data['context_id'] == sample['context_id'].item()]\r\n",
        "\r\n",
        "  for idx, row in questions.iterrows():\r\n",
        "    question = row.question_text\r\n",
        "    answer = row.answer_text\r\n",
        "    print(question, ' '*(3*separator_length//4-len(question)+9), answer)\r\n",
        "\r\n",
        "print_squad_sample(train_df, train_context_dict)"
      ],
      "execution_count": 7,
      "outputs": [
        {
          "output_type": "stream",
          "text": [
            "====================================================================================================================================================== \n",
            "CONTEXT:\n",
            " ======================================================================================================================================================\n",
            "Spielberg won the Academy Award for Best Director for Schindler's List (1993) and Saving Private Ryan (1998). Three of S\n",
            "pielberg's films—Jaws (1975), E.T. the Extra-Terrestrial (1982), and Jurassic Park (1993)—achieved box office records, o\n",
            "riginated and came to epitomize the blockbuster film. The unadjusted gross of all Spielberg-directed films exceeds $9 bi\n",
            "llion worldwide, making him the highest-grossing director in history. His personal net worth is estimated to be more tha\n",
            "n $3 billion. He has been associated with composer John Williams since 1974, who composed music for all save five of Spi\n",
            "elberg's feature films.\n",
            "====================================================================================================================================================== \n",
            "QUESTION:                                                                                                                  ANSWER:\n",
            "How much money has all of Steven Spielberg's movies grossed worldwide?                                                     exceeds $9 billion\n",
            "What composer has Steven Spielberg been associated with since 1974?                                                        John Williams\n",
            "How much money is Steven Spielberg worth?                                                                                  more than $3 billion\n",
            "What record does Steven Spielberg have?                                                                                    the highest-grossing director in history\n",
            "Who has composed most of Steven Spielberg's movies?                                                                        John Williams\n",
            "When was Jaws released?                                                                                                    1975\n",
            "When did Jurassic Park come out?                                                                                           1993\n",
            "What did Spielberg win for Schindler's List?                                                                               Academy Award for Best Director\n",
            "Who composes music for most of Spielberg's movies?                                                                         John Williams\n",
            "What is Spielberg's net worth?                                                                                             more than $3 billion\n"
          ],
          "name": "stdout"
        }
      ]
    },
    {
      "cell_type": "markdown",
      "metadata": {
        "id": "hqrIFmrK2Igt"
      },
      "source": [
        "# <s> Tokenizer </s>"
      ]
    },
    {
      "cell_type": "code",
      "metadata": {
        "colab": {
          "base_uri": "https://localhost:8080/"
        },
        "id": "i8fuDPtRNDjg",
        "outputId": "b543bdaf-b668-4731-c451-f0fe1a7a47b5"
      },
      "source": [
        "# Load pre-trained model tokenizer (vocabulary)\r\n",
        "tokenizer = BertTokenizer.from_pretrained('bert-base-uncased')\r\n",
        "\r\n",
        "print('[[CLS], [SEP]] = {}'.format(tokenizer.convert_tokens_to_ids(['[CLS]', '[SEP]'])))\r\n",
        "\r\n",
        "# Split the sentence into tokens.\r\n",
        "tokenized_text = tokenizer.tokenize(train_df['question_text'][0])\r\n",
        "\r\n",
        "# Print out the tokens.\r\n",
        "print('\\nTokenized sentence:')\r\n",
        "print(tokenized_text)\r\n",
        "\r\n",
        "# Map the token strings to their vocabulary indeces.\r\n",
        "indexed_tokens = tokenizer.convert_tokens_to_ids(tokenized_text)\r\n",
        "\r\n",
        "# Display the words with their indices.\r\n",
        "print('\\n{:<12} {:>6}\\n'.format('TOKENS', 'INDICES'))\r\n",
        "for tup in zip(tokenized_text, indexed_tokens):\r\n",
        "    print('{:<12} {:>6}'.format(tup[0], tup[1]))"
      ],
      "execution_count": 63,
      "outputs": [
        {
          "output_type": "stream",
          "text": [
            "[[CLS], [SEP]] = [101, 102]\n",
            "\n",
            "Tokenized sentence:\n",
            "['where', 'does', 'migration', 'mainly', 'occur', '?']\n",
            "\n",
            "TOKENS       INDICES\n",
            "\n",
            "where          2073\n",
            "does           2515\n",
            "migration      9230\n",
            "mainly         3701\n",
            "occur          5258\n",
            "?              1029\n"
          ],
          "name": "stdout"
        }
      ]
    },
    {
      "cell_type": "code",
      "metadata": {
        "id": "BuuVNwp50-xF"
      },
      "source": [
        "# Returns start and end indices of sublist in list\r\n",
        "def find_sublist(a, b):\r\n",
        "  if len(a) == 0 or len(b) == 0:\r\n",
        "    raise Exception(\"Lists with length 0\")\r\n",
        "\r\n",
        "  for i in range(len(a) - len(b) +1):\r\n",
        "    if np.array_equal(a[i:i+len(b)], b):\r\n",
        "      return i, i+len(b)-1\r\n",
        "\r\n",
        "  return -1, -1"
      ],
      "execution_count": 9,
      "outputs": []
    },
    {
      "cell_type": "code",
      "metadata": {
        "id": "nEy0mp9yzXjn"
      },
      "source": [
        "# Prints COOL progress bar (No, seriously, it's really cool!)\r\n",
        "# REALLY DUDE, THIS STUFF IS GOLD\r\n",
        "def print_progress(value, total, bar_width=100):\r\n",
        "  perc = int(value/total*bar_width)\r\n",
        "  rest = bar_width - perc\r\n",
        "  print(\"\\r{:>3} % [ {}{} ]\".format(perc, perc*'■', rest*'─'), end=\"\")\r\n",
        "\r\n",
        "# ensure to preserve all sub-sequences of length limi-stride. \r\n",
        "def split_long_sequence(my_sequence, limit, stride):\r\n",
        "\r\n",
        "  if len(my_sequence) <= limit: \r\n",
        "    return [my_sequence]\r\n",
        "  \r\n",
        "  rest = my_sequence\r\n",
        "  split = []\r\n",
        "  while len(rest) > limit:\r\n",
        "    left_hand = rest[:limit]\r\n",
        "    rest = rest[stride:]\r\n",
        "    split.append(left_hand)\r\n",
        "    \r\n",
        "  split.append(rest)\r\n",
        "  return split"
      ],
      "execution_count": 10,
      "outputs": []
    },
    {
      "cell_type": "code",
      "metadata": {
        "id": "jayMk-aHPYVB"
      },
      "source": [
        "def from_df_to_model_dict(df, context_dict, verbose=False):\r\n",
        "\r\n",
        "  # initialize structures\r\n",
        "  input_ids = []\r\n",
        "  input_mask = []\r\n",
        "  input_type_ids = []\r\n",
        "  start_indexes = []\r\n",
        "  end_indexes = []\r\n",
        "\r\n",
        "  cut_counter = 0\r\n",
        "  max_iter = len(df)\r\n",
        "  new_entries = 0\r\n",
        "  for i, row in df.iterrows():\r\n",
        "\r\n",
        "    # print progress\r\n",
        "    if (i+1) % (max_iter // 100) == 0 or i == 0:\r\n",
        "      print_progress(i+1, max_iter)\r\n",
        "\r\n",
        "    # encode question and context\r\n",
        "    if verbose: print(\"\\tTokenizing question and context...\", end=\"\")\r\n",
        "    encoded_question = tokenizer.encode(row['question_text'])\r\n",
        "    encoded_context = tokenizer.encode(context_dict[row['context_id']])[1:]\r\n",
        "\r\n",
        "    # concatenate input data \r\n",
        "    if verbose: print(\"\\tChecking sequence length...\")\r\n",
        "    if len(encoded_question + encoded_context) > SEQUENCE_LIMIT:\r\n",
        "      # if the sequence is too long, split it in n subsequences of length <= SEQUENCE_LIMIT\r\n",
        "      encoded_contexts = split_long_sequence(encoded_context,\r\n",
        "                                             limit=SEQUENCE_LIMIT-len(encoded_question), \r\n",
        "                                             stride=STRIDE)\r\n",
        "      cut_counter += 1\r\n",
        "    else:\r\n",
        "      encoded_contexts = [encoded_context]\r\n",
        "    \r\n",
        "    new_entries += len(encoded_contexts)-1\r\n",
        "    # for each too long sequence, the context has been split in n parts. We need to process them separately, creating new entries for the input\r\n",
        "    for context_piece in encoded_contexts:\r\n",
        "      \r\n",
        "      encoded_input = encoded_question + context_piece\r\n",
        "\r\n",
        "      # create mask of ones\r\n",
        "      ones_mask = tf.ones_like(encoded_input)\r\n",
        "\r\n",
        "      # add padding and convert to tensor\r\n",
        "      if verbose: print(\"\\tPadding...\", end=\"\")\r\n",
        "      encoded_input = tf.keras.preprocessing.sequence.pad_sequences([encoded_input], maxlen=512, padding='pre')\r\n",
        "      encoded_input = tf.squeeze(tf.convert_to_tensor(encoded_input))\r\n",
        "\r\n",
        "      # processing answer indices\r\n",
        "      if verbose: print(\"\\tProcessing answer...\", end=\"\")\r\n",
        "      tokenized_answer = tokenizer.encode(row['answer_text'])[1: -1]\r\n",
        "      start_idx, end_idx = find_sublist(encoded_input, tokenized_answer)\r\n",
        "\r\n",
        "      start_indexes.append(start_idx)\r\n",
        "      end_indexes.append(end_idx)\r\n",
        "\r\n",
        "\r\n",
        "      # create input_type_ids\r\n",
        "      if verbose: print(\"\\tInput types creation...\", end=\"\")\r\n",
        "      type_ids = tf.concat([tf.zeros_like(encoded_question, dtype=tf.int32), \r\n",
        "                            tf.ones_like(context_piece, dtype=tf.int32)], \r\n",
        "                          axis=-1)\r\n",
        "      \r\n",
        "      type_ids = tf.keras.preprocessing.sequence.pad_sequences([type_ids], maxlen=512, padding='pre')\r\n",
        "      type_ids = tf.squeeze(tf.convert_to_tensor(type_ids))\r\n",
        "\r\n",
        "\r\n",
        "      # create mask of zeros\r\n",
        "      if verbose: print(\"\\tMask creation...\", end=\"\")\r\n",
        "      zeros_mask = tf.zeros(SEQUENCE_LIMIT - len(ones_mask), dtype=tf.int32)\r\n",
        "      mask = tf.concat([zeros_mask, ones_mask], axis=-1)\r\n",
        "\r\n",
        "      # append elements to lists\r\n",
        "      if verbose: print(\"\\tAppending inputs...\", end=\"\")\r\n",
        "      input_ids.append(encoded_input)\r\n",
        "      input_mask.append(mask)\r\n",
        "      input_type_ids.append(type_ids)\r\n",
        "\r\n",
        "  # save input data as dictionary\r\n",
        "  inputs = {\r\n",
        "    'input_ids': tf.convert_to_tensor(input_ids),\r\n",
        "    'attention_mask': tf.convert_to_tensor(input_mask),\r\n",
        "    'token_type_ids': tf.convert_to_tensor(input_type_ids)\r\n",
        "    }\r\n",
        "\r\n",
        "  assert len(input_ids) == len(df) + new_entries, f\"ATTENTION:\\nci sono {len(input_ids)} input_ids, MA {len(df)} righe nel df e {new_entries} nuove entries\"\r\n",
        "  return inputs, start_indexes, end_indexes"
      ],
      "execution_count": 11,
      "outputs": []
    },
    {
      "cell_type": "markdown",
      "metadata": {
        "id": "UXCcgd3cSgAm"
      },
      "source": [
        "# Building Progress"
      ]
    },
    {
      "cell_type": "code",
      "metadata": {
        "colab": {
          "base_uri": "https://localhost:8080/"
        },
        "id": "irK7yfKKV1LU",
        "outputId": "8bca536d-d3ff-4399-9452-d8326efbba35"
      },
      "source": [
        "print(\"Building training set...\")\r\n",
        "train_inputs, train_starts_ids, train_ends_ids = from_df_to_model_dict(train_df, train_context_dict)\r\n",
        "\r\n",
        "print(\"\\n\\nBuilding validation set...\")\r\n",
        "val_inputs, val_starts_ids, val_ends_ids = from_df_to_model_dict(val_df, val_context_dict)\r\n",
        "\r\n",
        "print(\"\\n\\nBuilding test set...\")\r\n",
        "test_inputs, test_starts_ids, test_ends_ids = from_df_to_model_dict(test_df, test_context_dict)"
      ],
      "execution_count": 64,
      "outputs": [
        {
          "output_type": "stream",
          "text": [
            "Building training set...\n",
            " 99 % [ ■■■■■■■■■■■■■■■■■■■■■■■■■■■■■■■■■■■■■■■■■■■■■■■■■■■■■■■■■■■■■■■■■■■■■■■■■■■■■■■■■■■■■■■■■■■■■■■■■■■─ ]\n",
            "\n",
            "Building validation set...\n",
            " 99 % [ ■■■■■■■■■■■■■■■■■■■■■■■■■■■■■■■■■■■■■■■■■■■■■■■■■■■■■■■■■■■■■■■■■■■■■■■■■■■■■■■■■■■■■■■■■■■■■■■■■■■─ ]\n",
            "\n",
            "Building test set...\n",
            " 99 % [ ■■■■■■■■■■■■■■■■■■■■■■■■■■■■■■■■■■■■■■■■■■■■■■■■■■■■■■■■■■■■■■■■■■■■■■■■■■■■■■■■■■■■■■■■■■■■■■■■■■■─ ]"
          ],
          "name": "stdout"
        }
      ]
    },
    {
      "cell_type": "markdown",
      "metadata": {
        "id": "DBvYDn5dUSTF"
      },
      "source": [
        "# Index to categorical\r\n"
      ]
    },
    {
      "cell_type": "code",
      "metadata": {
        "id": "F91QMkCFrKwo"
      },
      "source": [
        "# Replace -1 (answer not found) with 0\r\n",
        "train_starts_ids = [val if val != -1 else 0 for val in train_starts_ids]\r\n",
        "train_ends_ids = [val if val != -1 else 0 for val in train_ends_ids]\r\n",
        "\r\n",
        "val_starts_ids = [val if val != -1 else 0 for val in val_starts_ids]\r\n",
        "val_ends_ids = [val if val != -1 else 0 for val in val_ends_ids]\r\n",
        "\r\n",
        "test_starts_ids = [val if val != -1 else 0 for val in test_starts_ids]\r\n",
        "test_ends_ids = [val if val != -1 else 0 for val in test_ends_ids]"
      ],
      "execution_count": 65,
      "outputs": []
    },
    {
      "cell_type": "code",
      "metadata": {
        "id": "I3NdLSFESd5E"
      },
      "source": [
        "# from ints to categorical\r\n",
        "train_starts_cat = tf.keras.utils.to_categorical(train_starts_ids, num_classes=SEQUENCE_LIMIT)\r\n",
        "train_ends_cat = tf.keras.utils.to_categorical(train_ends_ids, num_classes=SEQUENCE_LIMIT)\r\n",
        "\r\n",
        "val_starts_cat = tf.keras.utils.to_categorical(val_starts_ids, num_classes=SEQUENCE_LIMIT)\r\n",
        "val_ends_cat = tf.keras.utils.to_categorical(val_ends_ids, num_classes=SEQUENCE_LIMIT)\r\n",
        "\r\n",
        "test_starts_cat = tf.keras.utils.to_categorical(test_starts_ids, num_classes=SEQUENCE_LIMIT)\r\n",
        "test_ends_cat = tf.keras.utils.to_categorical(test_ends_ids, num_classes=SEQUENCE_LIMIT)"
      ],
      "execution_count": 66,
      "outputs": []
    },
    {
      "cell_type": "code",
      "metadata": {
        "colab": {
          "base_uri": "https://localhost:8080/"
        },
        "id": "9iktKwoXUKAj",
        "outputId": "31f3a764-1fa3-4ab5-c381-bde3433ad1f0"
      },
      "source": [
        "# Inspect data\r\n",
        "assert len(train_starts_ids) == len(train_ends_ids) == len(train_inputs['input_ids']) == len(train_inputs['attention_mask']) == len(train_inputs['token_type_ids'])\r\n",
        "assert len(val_starts_ids) == len(val_ends_ids) == len(val_inputs['input_ids']) == len(val_inputs['attention_mask']) == len(val_inputs['token_type_ids'])\r\n",
        "assert len(test_starts_ids) == len(test_ends_ids) == len(test_inputs['input_ids']) == len(test_inputs['attention_mask']) == len(test_inputs['token_type_ids'])\r\n",
        "\r\n",
        "print(\"Shapes\")\r\n",
        "print(\"\\nTrain starts:\\t\", train_starts_cat.shape)\r\n",
        "print(\"Train ends:\\t\", train_ends_cat.shape)\r\n",
        "print(\"\\nVal starts:\\t\", val_starts_cat.shape)\r\n",
        "print(\"Val ends:\\t\", val_ends_cat.shape)\r\n",
        "print(\"\\nTest starts:\\t\", test_starts_cat.shape)\r\n",
        "print(\"Test ends:\\t\", test_ends_cat.shape)"
      ],
      "execution_count": 67,
      "outputs": [
        {
          "output_type": "stream",
          "text": [
            "Shapes\n",
            "\n",
            "Train starts:\t (49996, 512)\n",
            "Train ends:\t (49996, 512)\n",
            "\n",
            "Val starts:\t (20098, 512)\n",
            "Val ends:\t (20098, 512)\n",
            "\n",
            "Test starts:\t (17630, 512)\n",
            "Test ends:\t (17630, 512)\n"
          ],
          "name": "stdout"
        }
      ]
    },
    {
      "cell_type": "markdown",
      "metadata": {
        "id": "i5MRM0Q_LXyW"
      },
      "source": [
        "# <s>  Save train and test inputs dataset <s>"
      ]
    },
    {
      "cell_type": "code",
      "metadata": {
        "id": "RWW1mTlHrwe9"
      },
      "source": [
        "## TRAIN\r\n",
        "with open(\"/content/drive/MyDrive/SQUAD/train_inputs.p\", \"wb\") as f:\r\n",
        "  pickle.dump(train_inputs, f)\r\n",
        "\r\n",
        "with open(\"/content/drive/MyDrive/SQUAD/train_starts_ids.p\", \"wb\") as f:\r\n",
        "  pickle.dump(train_starts_ids, f)\r\n",
        "\r\n",
        "with open(\"/content/drive/MyDrive/SQUAD/train_ends_ids.p\", \"wb\") as f:\r\n",
        "  pickle.dump(train_ends_ids, f)\r\n",
        "\r\n",
        "with open(\"/content/drive/MyDrive/SQUAD/train_starts_cat.p\", \"wb\") as f:\r\n",
        "  pickle.dump(train_starts_cat, f)\r\n",
        "\r\n",
        "with open(\"/content/drive/MyDrive/SQUAD/train_ends_cat.p\", \"wb\") as f:\r\n",
        "  pickle.dump(train_ends_cat, f)\r\n",
        "\r\n",
        "\r\n",
        "## VALIDATION\r\n",
        "with open(\"/content/drive/MyDrive/SQUAD/val_inputs.p\", \"wb\") as f:\r\n",
        "  pickle.dump(val_inputs, f)\r\n",
        "\r\n",
        "with open(\"/content/drive/MyDrive/SQUAD/val_starts_ids.p\", \"wb\") as f:\r\n",
        "  pickle.dump(val_starts_ids, f)\r\n",
        "\r\n",
        "with open(\"/content/drive/MyDrive/SQUAD/val_ends_ids.p\", \"wb\") as f:\r\n",
        "  pickle.dump(val_ends_ids, f)\r\n",
        "\r\n",
        "with open(\"/content/drive/MyDrive/SQUAD/val_starts_cat.p\", \"wb\") as f:\r\n",
        "  pickle.dump(val_starts_cat, f)\r\n",
        "\r\n",
        "with open(\"/content/drive/MyDrive/SQUAD/val_ends_cat.p\", \"wb\") as f:\r\n",
        "  pickle.dump(val_ends_cat, f)\r\n",
        "\r\n",
        "\r\n",
        "## TEST\r\n",
        "with open(\"/content/drive/MyDrive/SQUAD/test_inputs.p\", \"wb\") as f:\r\n",
        "  pickle.dump(test_inputs, f)\r\n",
        "\r\n",
        "with open(\"/content/drive/MyDrive/SQUAD/test_starts_ids.p\", \"wb\") as f:\r\n",
        "  pickle.dump(test_starts_ids, f)\r\n",
        "\r\n",
        "with open(\"/content/drive/MyDrive/SQUAD/test_ends_ids.p\", \"wb\") as f:\r\n",
        "  pickle.dump(test_ends_ids, f)\r\n",
        "\r\n",
        "with open(\"/content/drive/MyDrive/SQUAD/test_starts_cat.p\", \"wb\") as f:\r\n",
        "  pickle.dump(test_starts_cat, f)\r\n",
        "\r\n",
        "with open(\"/content/drive/MyDrive/SQUAD/test_ends_cat.p\", \"wb\") as f:\r\n",
        "  pickle.dump(test_ends_cat, f)"
      ],
      "execution_count": 68,
      "outputs": []
    },
    {
      "cell_type": "markdown",
      "metadata": {
        "id": "Ok4Z7Xhltev_"
      },
      "source": [
        "# Load train and test inputs datasets"
      ]
    },
    {
      "cell_type": "code",
      "metadata": {
        "id": "ECyBOk-mtaHG"
      },
      "source": [
        "## TRAIN\r\n",
        "with open(\"/content/drive/MyDrive/SQUAD/train_inputs.p\", \"rb\") as f:\r\n",
        "  train_inputs = pickle.load(f)\r\n",
        "\r\n",
        "with open(\"/content/drive/MyDrive/SQUAD/train_starts_ids.p\", \"rb\") as f:\r\n",
        "  train_starts_ids = pickle.load(f)\r\n",
        "\r\n",
        "with open(\"/content/drive/MyDrive/SQUAD/train_ends_ids.p\", \"rb\") as f:\r\n",
        "  train_ends_ids = pickle.load(f)\r\n",
        "\r\n",
        "with open(\"/content/drive/MyDrive/SQUAD/train_starts_cat.p\", \"rb\") as f:\r\n",
        "  train_starts_cat = pickle.load(f)\r\n",
        "\r\n",
        "with open(\"/content/drive/MyDrive/SQUAD/train_ends_cat.p\", \"rb\") as f:\r\n",
        "  train_ends_cat = pickle.load(f)\r\n",
        "\r\n",
        "\r\n",
        "## VALIDATION\r\n",
        "with open(\"/content/drive/MyDrive/SQUAD/val_inputs.p\", \"rb\") as f:\r\n",
        "  val_inputs = pickle.load(f)\r\n",
        "\r\n",
        "with open(\"/content/drive/MyDrive/SQUAD/val_starts_ids.p\", \"rb\") as f:\r\n",
        "  val_starts_ids = pickle.load(f)\r\n",
        "\r\n",
        "with open(\"/content/drive/MyDrive/SQUAD/val_ends_ids.p\", \"rb\") as f:\r\n",
        "  val_ends_ids = pickle.load(f)\r\n",
        "\r\n",
        "with open(\"/content/drive/MyDrive/SQUAD/val_starts_cat.p\", \"rb\") as f:\r\n",
        "  val_starts_cat = pickle.load(f)\r\n",
        "\r\n",
        "with open(\"/content/drive/MyDrive/SQUAD/val_ends_cat.p\", \"rb\") as f:\r\n",
        "  val_ends_cat = pickle.load(f)\r\n",
        "\r\n",
        "\r\n",
        "## TEST\r\n",
        "with open(\"/content/drive/MyDrive/SQUAD/test_inputs.p\", \"rb\") as f:\r\n",
        "  test_inputs = pickle.load(f)\r\n",
        "\r\n",
        "with open(\"/content/drive/MyDrive/SQUAD/test_starts_ids.p\", \"rb\") as f:\r\n",
        "  test_starts_ids = pickle.load(f)\r\n",
        "\r\n",
        "with open(\"/content/drive/MyDrive/SQUAD/test_ends_ids.p\", \"rb\") as f:\r\n",
        "  test_ends_ids = pickle.load(f)\r\n",
        "\r\n",
        "with open(\"/content/drive/MyDrive/SQUAD/test_starts_cat.p\", \"rb\") as f:\r\n",
        "  test_starts_cat = pickle.load(f)\r\n",
        "\r\n",
        "with open(\"/content/drive/MyDrive/SQUAD/test_ends_cat.p\", \"rb\") as f:\r\n",
        "  test_ends_cat = pickle.load(f)"
      ],
      "execution_count": 69,
      "outputs": []
    },
    {
      "cell_type": "markdown",
      "metadata": {
        "id": "6mZbcRg48o3E"
      },
      "source": [
        "# Build model"
      ]
    },
    {
      "cell_type": "code",
      "metadata": {
        "colab": {
          "base_uri": "https://localhost:8080/",
          "height": 829
        },
        "id": "3PJ2O1Zn8nqr",
        "outputId": "648c8ab9-eb8c-4828-a1dc-fa3a611ba187"
      },
      "source": [
        "@tf.autograph.experimental.do_not_convert\r\n",
        "def build_model():\r\n",
        "\r\n",
        "  # Define Input layers\r\n",
        "  input_ids_layer = Input(shape = (512,), dtype='int64')\r\n",
        "  attention_mask_layer = Input(shape = (512,), dtype='int64')\r\n",
        "  token_ids_layer = Input(shape = (512,), dtype='int64')\r\n",
        "\r\n",
        "  # Load Bert model\r\n",
        "  bert_model = TFBertModel.from_pretrained('bert-base-uncased')\r\n",
        "  \r\n",
        "  # Set bert layers to not-trainable\r\n",
        "  for layer in bert_model.layers:\r\n",
        "    layer.trainable = False\r\n",
        "  \r\n",
        "  # Initialize bert model\r\n",
        "  bert = bert_model(input_ids = input_ids_layer,\r\n",
        "                    attention_mask = attention_mask_layer,\r\n",
        "                    token_type_ids = token_ids_layer,\r\n",
        "                    return_dict = False,\r\n",
        "                    output_attentions = False,\r\n",
        "                    output_hidden_states = False\r\n",
        "                    ).last_hidden_state\r\n",
        "\r\n",
        "  flat = Flatten()(bert)  \r\n",
        "  \r\n",
        "  # Define output classifiers\r\n",
        "  start_classifier = Dense(units=512, activation=\"softmax\", name=\"Start_classifier\")(flat)\r\n",
        "  end_classifier = Dense(units=512, activation=\"softmax\", name=\"End_classifier\")(flat)\r\n",
        "\r\n",
        "  # Build model\r\n",
        "  model = Model(inputs=[input_ids_layer, attention_mask_layer, token_ids_layer], \r\n",
        "                outputs=[start_classifier, end_classifier])\r\n",
        "  \r\n",
        "  model.summary()\r\n",
        "  return model\r\n",
        "\r\n",
        "model = build_model()\r\n",
        "plot_model(model, show_shapes=True)"
      ],
      "execution_count": 72,
      "outputs": [
        {
          "output_type": "stream",
          "text": [
            "Model: \"model_1\"\n",
            "__________________________________________________________________________________________________\n",
            "Layer (type)                    Output Shape         Param #     Connected to                     \n",
            "==================================================================================================\n",
            "input_4 (InputLayer)            [(None, 512)]        0                                            \n",
            "__________________________________________________________________________________________________\n",
            "input_5 (InputLayer)            [(None, 512)]        0                                            \n",
            "__________________________________________________________________________________________________\n",
            "input_6 (InputLayer)            [(None, 512)]        0                                            \n",
            "__________________________________________________________________________________________________\n",
            "tf_bert_model_1 (TFBertModel)   TFBaseModelOutputWit 109482240   input_4[0][0]                    \n",
            "                                                                 input_5[0][0]                    \n",
            "                                                                 input_6[0][0]                    \n",
            "__________________________________________________________________________________________________\n",
            "flatten_1 (Flatten)             (None, 393216)       0           tf_bert_model_1[0][0]            \n",
            "__________________________________________________________________________________________________\n",
            "Start_classifier (Dense)        (None, 512)          201327104   flatten_1[0][0]                  \n",
            "__________________________________________________________________________________________________\n",
            "End_classifier (Dense)          (None, 512)          201327104   flatten_1[0][0]                  \n",
            "==================================================================================================\n",
            "Total params: 512,136,448\n",
            "Trainable params: 402,654,208\n",
            "Non-trainable params: 109,482,240\n",
            "__________________________________________________________________________________________________\n"
          ],
          "name": "stdout"
        },
        {
          "output_type": "execute_result",
          "data": {
            "image/png": "[encoded data removed]",
            "text/plain": [
              "<IPython.core.display.Image object>"
            ]
          },
          "metadata": {
            "tags": []
          },
          "execution_count": 72
        }
      ]
    },
    {
      "cell_type": "code",
      "metadata": {
        "id": "tsv_uILTwmFR"
      },
      "source": [
        "# Define model parameters\r\n",
        "optimizer = tf.keras.optimizers.Adam(learning_rate=3e-5, epsilon=1e-08, clipnorm=1.0)\r\n",
        "loss = tf.keras.losses.CategoricalCrossentropy(from_logits=True)\r\n",
        "metric = tf.keras.metrics.CategoricalAccuracy('accuracy')\r\n",
        "model.compile(optimizer=optimizer, loss=loss, metrics=[metric])"
      ],
      "execution_count": 73,
      "outputs": []
    },
    {
      "cell_type": "markdown",
      "metadata": {
        "id": "gfUxCHLSusuV"
      },
      "source": [
        "# Train"
      ]
    },
    {
      "cell_type": "code",
      "metadata": {
        "colab": {
          "base_uri": "https://localhost:8080/"
        },
        "id": "69cHTOSZGuyG",
        "outputId": "4c0d9c9a-5f94-44fe-d3c0-04268cbb473d"
      },
      "source": [
        "# Fit model with train set\r\n",
        "model_fit = model.fit(x = [train_inputs['input_ids'],\r\n",
        "                           train_inputs['attention_mask'],\r\n",
        "                           train_inputs['token_type_ids']],\r\n",
        "                      y = [train_starts_cat, train_ends_cat],\r\n",
        "                       \r\n",
        "                      batch_size=BATCH_SIZE, epochs=EPOCHS, \r\n",
        "                      \r\n",
        "                      validation_data=([val_inputs['input_ids'],\r\n",
        "                                        val_inputs['attention_mask'],\r\n",
        "                                        val_inputs['token_type_ids']], \r\n",
        "                                        [val_starts_cat, val_ends_cat]\r\n",
        "                                       )\r\n",
        "                      )"
      ],
      "execution_count": null,
      "outputs": [
        {
          "output_type": "stream",
          "text": [
            "Epoch 1/3\n",
            "1563/1563 [==============================] - ETA: 0s - loss: 13.7417 - Start_classifier_loss: 6.9117 - End_classifier_loss: 6.8300 - Start_classifier_accuracy: 0.0140 - End_classifier_accuracy: 0.0186"
          ],
          "name": "stdout"
        }
      ]
    },
    {
      "cell_type": "markdown",
      "metadata": {
        "id": "qBZuBfspH47n"
      },
      "source": [
        "# Test"
      ]
    },
    {
      "cell_type": "code",
      "metadata": {
        "id": "MB8A1y-iaK_w"
      },
      "source": [
        "# Predict test set\r\n",
        "start_pred, end_pred = model.predict([test_inputs[\"input_ids\"], \r\n",
        "                                      test_inputs[\"attention_mask\"], \r\n",
        "                                      test_inputs[\"token_type_ids\"]])\r\n",
        "\r\n",
        "# Predictions - categorical\r\n",
        "start_pred_cat = np.argmax(start_pred, axis=-1)\r\n",
        "end_pred_cat = np.argmax(end_pred, axis=-1)\r\n",
        "\r\n",
        "# Predictions - indexes\r\n",
        "start_pred_ids = np.argmax(start_pred_cat, axis=-1)\r\n",
        "end_pred_ids = np.argmax(end_pred_cat, axis=-1)"
      ],
      "execution_count": null,
      "outputs": []
    },
    {
      "cell_type": "code",
      "metadata": {
        "id": "JFDBM_-rPuX-",
        "colab": {
          "base_uri": "https://localhost:8080/"
        },
        "outputId": "36361648-2c53-4fff-a34f-a28cf3de9228"
      },
      "source": [
        "def get_text_from_token_ids(context, start_id, end_id):\r\n",
        "  return tokenizer.decode(context[start_id:end_id])\r\n",
        "\r\n",
        "boom_baby = 0\r\n",
        "for i, row in test_df.iterrows():\r\n",
        "  if i == TEST_LIMIT: break\r\n",
        "  true_answer = row[\"answer_text\"]\r\n",
        "  predicted_answer = get_text_from_token_ids(test_inputs[\"input_ids\"][i-1], start_pred_ids[i-1], end_pred_ids[i-1])\r\n",
        "\r\n",
        "  if true_answer == predicted_answer:\r\n",
        "    boom_baby += 1\r\n",
        "\r\n",
        "  if i % 100 == 0:\r\n",
        "    print(\"\\n\\nQuestion: \\n\", row[\"question_text\"])\r\n",
        "    print(\"Context: \\n\", test_context_dict[row[\"context_id\"]])\r\n",
        "    print(\"Answer text: \\n\", true_answer)\r\n",
        "    print(f\"Our answer: \\n\\tids {(start_pred_ids[i-1], end_pred_ids[i-1])}\\n\\ttext: {predicted_answer}\")\r\n",
        "    print(\"-\"*50)"
      ],
      "execution_count": null,
      "outputs": [
        {
          "output_type": "stream",
          "text": [
            "\n",
            "\n",
            "Question: \n",
            " What is the largest populated city in Arizona?\n",
            "Context: \n",
            " Tucson (/ˈtuːsɒn/ /tuːˈsɒn/) is a city and the county seat of Pima County, Arizona, United States, and home to the University of Arizona. The 2010 United States Census put the population at 520,116, while the 2013 estimated population of the entire Tucson metropolitan statistical area (MSA) was 996,544. The Tucson MSA forms part of the larger Tucson-Nogales combined statistical area (CSA), with a total population of 980,263 as of the 2010 Census. Tucson is the second-largest populated city in Arizona behind Phoenix, both of which anchor the Arizona Sun Corridor. The city is  located 108 miles (174 km) southeast of Phoenix and 60 mi (97 km) north of the U.S.-Mexico border. Tucson is the 33rd largest city and the 59th largest metropolitan area in the United States. Roughly 150 Tucson companies are involved in the design and manufacture of optics and optoelectronics systems, earning Tucson the nickname Optics Valley.\n",
            "Answer text: \n",
            " Phoenix\n",
            "Our answer: \n",
            "\tids (0, 0)\n",
            "\ttext: \n",
            "--------------------------------------------------\n",
            "\n",
            "\n",
            "Question: \n",
            " Where is Broadway Village shopping center?\n",
            "Context: \n",
            " As one of the oldest parts of town, Central Tucson is anchored by the Broadway Village shopping center designed by local architect Josias Joesler at the intersection of Broadway Boulevard and Country Club Road. The 4th Avenue Shopping District between downtown and the University and the Lost Barrio just East of downtown, also have many unique and popular stores. Local retail business in Central Tucson is densely concentrated along Fourth Avenue and the Main Gate Square on University Boulevard near the UA campus. The El Con Mall is also located in the eastern part of midtown.\n",
            "Answer text: \n",
            " at the intersection of Broadway Boulevard and Country Club Road\n",
            "Our answer: \n",
            "\tids (0, 0)\n",
            "\ttext: \n",
            "--------------------------------------------------\n",
            "\n",
            "\n",
            "Question: \n",
            " In what book did Jack Kerouac write about visiting Tucson?\n",
            "Context: \n",
            " Near the intersection of Craycroft and Ft. Lowell Roads are the remnants of the Historic Fort Lowell. This area has become one of Tucson's iconic neighborhoods. In 1891, the Fort was abandoned and much of the interior was stripped of their useful components and it quickly fell into ruin. In 1900, three of the officer buildings were purchased for use as a sanitarium. The sanitarium was then sold to Harvey Adkins in 1928. The Bolsius family Pete, Nan and Charles Bolsius purchased and renovated surviving adobe buildings of the Fort – transforming them into spectacular artistic southwestern architectural examples. Their woodwork, plaster treatment and sense of proportion drew on their Dutch heritage and New Mexican experience. Other artists and academics throughout the middle of the 20th century, including: Win Ellis, Jack Maul, Madame Cheruy, Giorgio Belloli, Charels Bode, Veronica Hughart, Edward and Rosamond Spicer, Hazel Larson Archer and Ruth Brown, renovated adobes, built homes and lived in the area. The artist colony attracted writers and poets including beat generation Alan Harrington and Jack Kerouac whose visit is documented in his iconic book On the Road. This rural pocket in the middle of the city is listed on the National Register of Historic Places. Each year in February the neighborhood celebrates its history in the City Landmark it owns and restored the San Pedro Chapel.\n",
            "Answer text: \n",
            " On the Road\n",
            "Our answer: \n",
            "\tids (0, 0)\n",
            "\ttext: \n",
            "--------------------------------------------------\n",
            "\n",
            "\n",
            "Question: \n",
            " Who coaches the University of Arizona's swim team?\n",
            "Context: \n",
            " The University of Arizona Wildcats sports teams, most notably the men's basketball and women's softball teams have strong local interest. The men's basketball team, formerly coached by Hall of Fame head coach Lute Olson and currently coached by Sean Miller, has made 25 straight NCAA Tournaments and won the 1997 National Championship. Arizona's Softball team has reached the NCAA National Championship game 12 times and has won 8 times, most recently in 2007. The university's swim teams have gained international recognition, with swimmers coming from as far as Japan and Africa to train with the coach Frank Busch who has also worked with the U.S. Olympic swim team for a number of years. Both men and women's swim teams recently[when?] won the NCAA National Championships.\n",
            "Answer text: \n",
            " Frank Busch\n",
            "Our answer: \n",
            "\tids (0, 0)\n",
            "\ttext: \n",
            "--------------------------------------------------\n",
            "\n",
            "\n",
            "Question: \n",
            " Stone tools and control of fire are emphasised in what hypothesis? \n",
            "Context: \n",
            " While it is undisputed that early humans were hunters, the importance of this for the emergence of the Homo genus from the earlier Australopithecines, including the production of stone tools and eventually the control of fire, are emphasised in the hunting hypothesis and de-emphasised in scenarios that stress omnivory and social interaction, including mating behaviour, as essential in the emergence of human behavioural modernity. With the establishment of language, culture, and religion, hunting became a theme of stories and myths, as well as rituals such as dance and animal sacrifice.\n",
            "Answer text: \n",
            " hunting hypothesis\n",
            "Our answer: \n",
            "\tids (0, 0)\n",
            "\ttext: \n",
            "--------------------------------------------------\n",
            "\n",
            "\n",
            "Question: \n",
            " What bans the killing of all wild animals in India?\n",
            "Context: \n",
            " Regional social norms are generally antagonistic to hunting, while a few sects, such as the Bishnoi, lay special emphasis on the conservation of particular species, such as the antelope. India's Wildlife Protection Act of 1972 bans the killing of all wild animals. However, the Chief Wildlife Warden may, if satisfied that any wild animal from a specified list has become dangerous to human life, or is so disabled or diseased as to be beyond recovery, permit any person to hunt such an animal. In this case, the body of any wild animal killed or wounded becomes government property.\n",
            "Answer text: \n",
            " Wildlife Protection Act of 1972\n",
            "Our answer: \n",
            "\tids (0, 0)\n",
            "\ttext: \n",
            "--------------------------------------------------\n",
            "\n",
            "\n",
            "Question: \n",
            " How is this type of hunting done?\n",
            "Context: \n",
            " When Internet hunting was introduced in 2005, allowing people to hunt over the Internet using remotely controlled guns, the practice was widely criticised by hunters as violating the principles of fair chase. As a representative of the National Rifle Association (NRA) explained, \"The NRA has always maintained that fair chase, being in the field with your firearm or bow, is an important element of hunting tradition. Sitting at your desk in front of your computer, clicking at a mouse, has nothing to do with hunting.\"\n",
            "Answer text: \n",
            " hunt over the Internet using remotely controlled guns\n",
            "Our answer: \n",
            "\tids (0, 0)\n",
            "\ttext: \n",
            "--------------------------------------------------\n",
            "\n",
            "\n",
            "Question: \n",
            " How did hunters obliterate the advantage bestowed upon the oryx by evolution?\n",
            "Context: \n",
            " The Arabian oryx, a species of large antelope, once inhabited much of the desert areas of the Middle East. However, the species' striking appearance made it (along with the closely related scimitar-horned oryx and addax) a popular quarry for sport hunters, especially foreign executives of oil companies working in the region.[citation needed] The use of automobiles and high-powered rifles destroyed their only advantage: speed, and they became extinct in the wild exclusively due to sport hunting in 1972. The scimitar-horned oryx followed suit, while the addax became critically endangered. However, the Arabian oryx has now made a comeback and been upgraded from “extinct in the wild” to “vulnerable” due to conservation efforts like captive breeding\n",
            "Answer text: \n",
            " use of automobiles and high-powered rifles\n",
            "Our answer: \n",
            "\tids (0, 0)\n",
            "\ttext: \n",
            "--------------------------------------------------\n",
            "\n",
            "\n",
            "Question: \n",
            " Who proposed ATSC as the new standard for SDTV and HDTV?\n",
            "Context: \n",
            " DVB created first the standard for DVB-S digital satellite TV, DVB-C digital cable TV and DVB-T digital terrestrial TV. These broadcasting systems can be used for both SDTV and HDTV. In the US the Grand Alliance proposed ATSC as the new standard for SDTV and HDTV. Both ATSC and DVB were based on the MPEG-2 standard, although DVB systems may also be used to transmit video using the newer and more efficient H.264/MPEG-4 AVC compression standards. Common for all DVB standards is the use of highly efficient modulation techniques for further reducing bandwidth, and foremost for reducing receiver-hardware and antenna requirements.\n",
            "Answer text: \n",
            " the Grand Alliance\n",
            "Our answer: \n",
            "\tids (0, 0)\n",
            "\ttext: \n",
            "--------------------------------------------------\n",
            "\n",
            "\n",
            "Question: \n",
            " Who do these laws prohibit from banning the installation of antennas?\n",
            "Context: \n",
            " In the US, residents in the line of sight of television station broadcast antennas can receive free, over the air programming with a television set with an ATSC tuner (most sets sold since 2009 have this). This is achieved with a TV aerial, just as it has been since the 1940s except now the major network signals are broadcast in high definition (ABC, Fox, and Ion Television broadcast at 720p resolution; CBS, My Network TV, NBC, PBS, and The CW at 1080i). As their digital signals more efficiently use the broadcast channel, many broadcasters are adding multiple channels to their signals. Laws about antennas were updated before the change to digital terrestrial broadcasts. These new laws prohibit home owners' associations and city government from banning the installation of antennas.\n",
            "Answer text: \n",
            " home owners' associations and city government\n",
            "Our answer: \n",
            "\tids (0, 0)\n",
            "\ttext: \n",
            "--------------------------------------------------\n"
          ],
          "name": "stdout"
        }
      ]
    },
    {
      "cell_type": "code",
      "metadata": {
        "id": "WzMIwH85RATH"
      },
      "source": [
        "print(f\"Total matches\\t{boom_baby} / {TEST_LIMIT} \\t({round(boom_baby / TEST_LIMIT, 3)*100} %)\")"
      ],
      "execution_count": null,
      "outputs": []
    },
    {
      "cell_type": "code",
      "metadata": {
        "id": "mRdxAI9ug1kE"
      },
      "source": [
        "with open(\"results_2101_start_pred.txt\", \"w\") as f:\r\n",
        "  f.write(start_pred)\r\n",
        "\r\n",
        "with open(\"results_2101_end_pred.txt\", \"w\") as f:\r\n",
        "  f.write(end_pred)"
      ],
      "execution_count": null,
      "outputs": []
    }
  ]
}