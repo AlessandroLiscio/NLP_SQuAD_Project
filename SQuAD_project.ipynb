{
  "nbformat": 4,
  "nbformat_minor": 0,
  "metadata": {
    "colab": {
      "name": "Project-X-SQAD.ipynb",
      "provenance": []
    },
    "kernelspec": {
      "name": "python3",
      "display_name": "Python 3"
    },
    "accelerator": "GPU"
  },
  "cells": [
    {
      "cell_type": "markdown",
      "metadata": {
        "id": "Y6J9_LsBSwk-"
      },
      "source": [
        "# Setup"
      ]
    },
    {
      "cell_type": "code",
      "metadata": {
        "id": "SwEFNn5KuGDl",
        "colab": {
          "base_uri": "https://localhost:8080/"
        },
        "outputId": "1e41c18c-4c89-4178-cb32-c6ce4f85645a"
      },
      "source": [
        "!pip install -q tf-models-official==2.3.0\r\n",
        "!pip install transformers"
      ],
      "execution_count": 1,
      "outputs": [
        {
          "output_type": "stream",
          "text": [
            "Requirement already satisfied: transformers in /usr/local/lib/python3.6/dist-packages (4.2.2)\n",
            "Requirement already satisfied: sacremoses in /usr/local/lib/python3.6/dist-packages (from transformers) (0.0.43)\n",
            "Requirement already satisfied: importlib-metadata; python_version < \"3.8\" in /usr/local/lib/python3.6/dist-packages (from transformers) (3.4.0)\n",
            "Requirement already satisfied: filelock in /usr/local/lib/python3.6/dist-packages (from transformers) (3.0.12)\n",
            "Requirement already satisfied: dataclasses; python_version < \"3.7\" in /usr/local/lib/python3.6/dist-packages (from transformers) (0.8)\n",
            "Requirement already satisfied: requests in /usr/local/lib/python3.6/dist-packages (from transformers) (2.23.0)\n",
            "Requirement already satisfied: tokenizers==0.9.4 in /usr/local/lib/python3.6/dist-packages (from transformers) (0.9.4)\n",
            "Requirement already satisfied: packaging in /usr/local/lib/python3.6/dist-packages (from transformers) (20.9)\n",
            "Requirement already satisfied: tqdm>=4.27 in /usr/local/lib/python3.6/dist-packages (from transformers) (4.41.1)\n",
            "Requirement already satisfied: regex!=2019.12.17 in /usr/local/lib/python3.6/dist-packages (from transformers) (2019.12.20)\n",
            "Requirement already satisfied: numpy in /usr/local/lib/python3.6/dist-packages (from transformers) (1.19.5)\n",
            "Requirement already satisfied: joblib in /usr/local/lib/python3.6/dist-packages (from sacremoses->transformers) (1.0.0)\n",
            "Requirement already satisfied: six in /usr/local/lib/python3.6/dist-packages (from sacremoses->transformers) (1.15.0)\n",
            "Requirement already satisfied: click in /usr/local/lib/python3.6/dist-packages (from sacremoses->transformers) (7.1.2)\n",
            "Requirement already satisfied: zipp>=0.5 in /usr/local/lib/python3.6/dist-packages (from importlib-metadata; python_version < \"3.8\"->transformers) (3.4.0)\n",
            "Requirement already satisfied: typing-extensions>=3.6.4; python_version < \"3.8\" in /usr/local/lib/python3.6/dist-packages (from importlib-metadata; python_version < \"3.8\"->transformers) (3.7.4.3)\n",
            "Requirement already satisfied: urllib3!=1.25.0,!=1.25.1,<1.26,>=1.21.1 in /usr/local/lib/python3.6/dist-packages (from requests->transformers) (1.24.3)\n",
            "Requirement already satisfied: chardet<4,>=3.0.2 in /usr/local/lib/python3.6/dist-packages (from requests->transformers) (3.0.4)\n",
            "Requirement already satisfied: certifi>=2017.4.17 in /usr/local/lib/python3.6/dist-packages (from requests->transformers) (2020.12.5)\n",
            "Requirement already satisfied: idna<3,>=2.5 in /usr/local/lib/python3.6/dist-packages (from requests->transformers) (2.10)\n",
            "Requirement already satisfied: pyparsing>=2.0.2 in /usr/local/lib/python3.6/dist-packages (from packaging->transformers) (2.4.7)\n"
          ],
          "name": "stdout"
        }
      ]
    },
    {
      "cell_type": "code",
      "metadata": {
        "id": "KxC2Vn2KR8pK"
      },
      "source": [
        "import os\r\n",
        "import json, pickle\r\n",
        "\r\n",
        "import re\r\n",
        "\r\n",
        "import pandas as pd\r\n",
        "import numpy as np\r\n",
        "import matplotlib.pyplot as plt\r\n",
        "\r\n",
        "import tensorflow as tf\r\n",
        "from sklearn.model_selection import train_test_split\r\n",
        "\r\n",
        "import transformers\r\n",
        "from transformers import BertTokenizer, TFBertModel\r\n",
        "transformers.logging.set_verbosity_error() # suppress tokenizer sentences' length warnings so to not disturbate rou beautiful loading bar oh my gosh\r\n",
        "\r\n",
        "from keras import Model\r\n",
        "from keras.utils import plot_model\r\n",
        "from keras.layers import Input, Dense"
      ],
      "execution_count": 2,
      "outputs": []
    },
    {
      "cell_type": "markdown",
      "metadata": {
        "id": "85YO229Wu0iJ"
      },
      "source": [
        "This directory contains the configuration, vocabulary, and a pre-trained checkpoint used in this tutorial:"
      ]
    },
    {
      "cell_type": "code",
      "metadata": {
        "id": "dwEW25ifc3Pt",
        "colab": {
          "base_uri": "https://localhost:8080/"
        },
        "outputId": "b8b8d631-1cba-44c7-e8ce-5e19c0155d6e"
      },
      "source": [
        "# import sys\r\n",
        "# !git clone \"https://github.com/giuliofortini/NLP_SQuAD_Project\"\r\n",
        "# sys.path.append(\"NLP_SQuAD_Project/\")\r\n",
        "\r\n",
        "from google.colab import files\r\n",
        "try:\r\n",
        "  with open('training_set.json') as f:\r\n",
        "    json_data = json.load(f)\r\n",
        "except:\r\n",
        "  from google.colab import drive\r\n",
        "  drive.mount('/content/drive')\r\n",
        "  with open('/content/drive/My Drive/SQUAD/training_set.json') as f:\r\n",
        "    json_data = json.load(f)"
      ],
      "execution_count": 3,
      "outputs": [
        {
          "output_type": "stream",
          "text": [
            "Drive already mounted at /content/drive; to attempt to forcibly remount, call drive.mount(\"/content/drive\", force_remount=True).\n"
          ],
          "name": "stdout"
        }
      ]
    },
    {
      "cell_type": "markdown",
      "metadata": {
        "id": "xG0C8uDPvt0X"
      },
      "source": [
        "# Hyperparameters\r\n"
      ]
    },
    {
      "cell_type": "code",
      "metadata": {
        "id": "-I7Nzb95vvxd"
      },
      "source": [
        "# hyperparams\r\n",
        "SEQUENCE_LIMIT = 512\r\n",
        "STRIDE = 256\r\n",
        "\r\n",
        "TRAIN_LIMIT = 6000\r\n",
        "TEST_LIMIT = 1000\r\n",
        "\r\n",
        "RANDOM_STATE = 42"
      ],
      "execution_count": 16,
      "outputs": []
    },
    {
      "cell_type": "markdown",
      "metadata": {
        "id": "A23pEgzInJLM"
      },
      "source": [
        "# <s> Dataset </s>"
      ]
    },
    {
      "cell_type": "code",
      "metadata": {
        "id": "_o1FPMIyWWgw",
        "colab": {
          "base_uri": "https://localhost:8080/",
          "height": 419
        },
        "outputId": "149cc150-7013-4789-86a4-f2cecaaa8028"
      },
      "source": [
        "data = pd.json_normalize(json_data['data'])\r\n",
        "data"
      ],
      "execution_count": 5,
      "outputs": [
        {
          "output_type": "execute_result",
          "data": {
            "text/html": [
              "<div>\n",
              "<style scoped>\n",
              "    .dataframe tbody tr th:only-of-type {\n",
              "        vertical-align: middle;\n",
              "    }\n",
              "\n",
              "    .dataframe tbody tr th {\n",
              "        vertical-align: top;\n",
              "    }\n",
              "\n",
              "    .dataframe thead th {\n",
              "        text-align: right;\n",
              "    }\n",
              "</style>\n",
              "<table border=\"1\" class=\"dataframe\">\n",
              "  <thead>\n",
              "    <tr style=\"text-align: right;\">\n",
              "      <th></th>\n",
              "      <th>title</th>\n",
              "      <th>paragraphs</th>\n",
              "    </tr>\n",
              "  </thead>\n",
              "  <tbody>\n",
              "    <tr>\n",
              "      <th>0</th>\n",
              "      <td>University_of_Notre_Dame</td>\n",
              "      <td>[{'context': 'Architecturally, the school has ...</td>\n",
              "    </tr>\n",
              "    <tr>\n",
              "      <th>1</th>\n",
              "      <td>Beyoncé</td>\n",
              "      <td>[{'context': 'Beyoncé Giselle Knowles-Carter (...</td>\n",
              "    </tr>\n",
              "    <tr>\n",
              "      <th>2</th>\n",
              "      <td>Montana</td>\n",
              "      <td>[{'context': 'Montana i/mɒnˈtænə/ is a state i...</td>\n",
              "    </tr>\n",
              "    <tr>\n",
              "      <th>3</th>\n",
              "      <td>Genocide</td>\n",
              "      <td>[{'context': 'The phrase \"in whole or in part\"...</td>\n",
              "    </tr>\n",
              "    <tr>\n",
              "      <th>4</th>\n",
              "      <td>Antibiotics</td>\n",
              "      <td>[{'context': 'The emergence of resistance of b...</td>\n",
              "    </tr>\n",
              "    <tr>\n",
              "      <th>...</th>\n",
              "      <td>...</td>\n",
              "      <td>...</td>\n",
              "    </tr>\n",
              "    <tr>\n",
              "      <th>437</th>\n",
              "      <td>Police</td>\n",
              "      <td>[{'context': 'A police force is a constituted ...</td>\n",
              "    </tr>\n",
              "    <tr>\n",
              "      <th>438</th>\n",
              "      <td>Punjab,_Pakistan</td>\n",
              "      <td>[{'context': 'Punjab (Urdu, Punjabi: پنجاب, pa...</td>\n",
              "    </tr>\n",
              "    <tr>\n",
              "      <th>439</th>\n",
              "      <td>Infection</td>\n",
              "      <td>[{'context': ' Among the vast varieties of mic...</td>\n",
              "    </tr>\n",
              "    <tr>\n",
              "      <th>440</th>\n",
              "      <td>Hunting</td>\n",
              "      <td>[{'context': 'Hunting is the practice of killi...</td>\n",
              "    </tr>\n",
              "    <tr>\n",
              "      <th>441</th>\n",
              "      <td>Kathmandu</td>\n",
              "      <td>[{'context': 'Kathmandu(/ˌkɑːtmɑːnˈduː/; Nepal...</td>\n",
              "    </tr>\n",
              "  </tbody>\n",
              "</table>\n",
              "<p>442 rows × 2 columns</p>\n",
              "</div>"
            ],
            "text/plain": [
              "                        title                                         paragraphs\n",
              "0    University_of_Notre_Dame  [{'context': 'Architecturally, the school has ...\n",
              "1                     Beyoncé  [{'context': 'Beyoncé Giselle Knowles-Carter (...\n",
              "2                     Montana  [{'context': 'Montana i/mɒnˈtænə/ is a state i...\n",
              "3                    Genocide  [{'context': 'The phrase \"in whole or in part\"...\n",
              "4                 Antibiotics  [{'context': 'The emergence of resistance of b...\n",
              "..                        ...                                                ...\n",
              "437                    Police  [{'context': 'A police force is a constituted ...\n",
              "438          Punjab,_Pakistan  [{'context': 'Punjab (Urdu, Punjabi: پنجاب, pa...\n",
              "439                 Infection  [{'context': ' Among the vast varieties of mic...\n",
              "440                   Hunting  [{'context': 'Hunting is the practice of killi...\n",
              "441                 Kathmandu  [{'context': 'Kathmandu(/ˌkɑːtmɑːnˈduː/; Nepal...\n",
              "\n",
              "[442 rows x 2 columns]"
            ]
          },
          "metadata": {
            "tags": []
          },
          "execution_count": 5
        }
      ]
    },
    {
      "cell_type": "code",
      "metadata": {
        "id": "Qc6-zf6cV4e6"
      },
      "source": [
        "def preprocess_df(df):\r\n",
        "  temp = []\r\n",
        "  title_dict = {}\r\n",
        "  contexts = []\r\n",
        "\r\n",
        "  for i, row in df.iterrows():\r\n",
        "    for context in row['paragraphs']:\r\n",
        "      contexts.append(context['context'])\r\n",
        "      for qa in context['qas']:\r\n",
        "        question_id = qa['id']\r\n",
        "        question = qa['question']\r\n",
        "        for answer in qa['answers']:\r\n",
        "          answer_text = answer['text']\r\n",
        "          answer_start = answer['answer_start']\r\n",
        "          answer_end = answer_start+len(answer_text)\r\n",
        "          temp.append([question_id, question, answer_text, answer_start, answer_end, i, len(contexts)-1])\r\n",
        "\r\n",
        "\r\n",
        "  context_dict = dict(enumerate(contexts))\r\n",
        "\r\n",
        "  df = pd.DataFrame(temp, columns=['question_id', 'question_text', 'answer_text', 'answer_start', 'answer_end', 'title_id', 'context_id'])\r\n",
        "  \r\n",
        "  return df, context_dict\r\n",
        "\r\n",
        "# Split train and test\r\n",
        "train, test = train_test_split(data, test_size=0.2, random_state=RANDOM_STATE)\r\n",
        "\r\n",
        "train_df, train_context_dict = preprocess_df(train)\r\n",
        "test_df, test_context_dict = preprocess_df(test)"
      ],
      "execution_count": 7,
      "outputs": []
    },
    {
      "cell_type": "code",
      "metadata": {
        "id": "JtYH3UjM7M_6",
        "colab": {
          "base_uri": "https://localhost:8080/",
          "height": 419
        },
        "outputId": "783b87b8-7180-45cb-8712-c80e62406df2"
      },
      "source": [
        "train_df"
      ],
      "execution_count": 8,
      "outputs": [
        {
          "output_type": "execute_result",
          "data": {
            "text/html": [
              "<div>\n",
              "<style scoped>\n",
              "    .dataframe tbody tr th:only-of-type {\n",
              "        vertical-align: middle;\n",
              "    }\n",
              "\n",
              "    .dataframe tbody tr th {\n",
              "        vertical-align: top;\n",
              "    }\n",
              "\n",
              "    .dataframe thead th {\n",
              "        text-align: right;\n",
              "    }\n",
              "</style>\n",
              "<table border=\"1\" class=\"dataframe\">\n",
              "  <thead>\n",
              "    <tr style=\"text-align: right;\">\n",
              "      <th></th>\n",
              "      <th>question_id</th>\n",
              "      <th>question_text</th>\n",
              "      <th>answer_text</th>\n",
              "      <th>answer_start</th>\n",
              "      <th>answer_end</th>\n",
              "      <th>title_id</th>\n",
              "      <th>context_id</th>\n",
              "    </tr>\n",
              "  </thead>\n",
              "  <tbody>\n",
              "    <tr>\n",
              "      <th>0</th>\n",
              "      <td>56e6ee276fe0821900b8ec38</td>\n",
              "      <td>What city is the de facto capital of Switserla...</td>\n",
              "      <td>Berne</td>\n",
              "      <td>20</td>\n",
              "      <td>25</td>\n",
              "      <td>75</td>\n",
              "      <td>0</td>\n",
              "    </tr>\n",
              "    <tr>\n",
              "      <th>1</th>\n",
              "      <td>56e6ee276fe0821900b8ec39</td>\n",
              "      <td>What is the second most populous of Switzerla...</td>\n",
              "      <td>Canton of Bern</td>\n",
              "      <td>602</td>\n",
              "      <td>616</td>\n",
              "      <td>75</td>\n",
              "      <td>0</td>\n",
              "    </tr>\n",
              "    <tr>\n",
              "      <th>2</th>\n",
              "      <td>56e6ee276fe0821900b8ec3a</td>\n",
              "      <td>Which canton is Berne the capital?</td>\n",
              "      <td>Canton of Bern</td>\n",
              "      <td>602</td>\n",
              "      <td>616</td>\n",
              "      <td>75</td>\n",
              "      <td>0</td>\n",
              "    </tr>\n",
              "    <tr>\n",
              "      <th>3</th>\n",
              "      <td>56e6ee276fe0821900b8ec3b</td>\n",
              "      <td>How many municipalities are in the Berne agglo...</td>\n",
              "      <td>36 municipalities</td>\n",
              "      <td>455</td>\n",
              "      <td>472</td>\n",
              "      <td>75</td>\n",
              "      <td>0</td>\n",
              "    </tr>\n",
              "    <tr>\n",
              "      <th>4</th>\n",
              "      <td>56e6ee276fe0821900b8ec3c</td>\n",
              "      <td>What is the population of Berne?</td>\n",
              "      <td>140,634</td>\n",
              "      <td>338</td>\n",
              "      <td>345</td>\n",
              "      <td>75</td>\n",
              "      <td>0</td>\n",
              "    </tr>\n",
              "    <tr>\n",
              "      <th>...</th>\n",
              "      <td>...</td>\n",
              "      <td>...</td>\n",
              "      <td>...</td>\n",
              "      <td>...</td>\n",
              "      <td>...</td>\n",
              "      <td>...</td>\n",
              "      <td>...</td>\n",
              "    </tr>\n",
              "    <tr>\n",
              "      <th>70398</th>\n",
              "      <td>56f840dea6d7ea1400e1750f</td>\n",
              "      <td>Tito was awarded the Star of what country?</td>\n",
              "      <td>Romania</td>\n",
              "      <td>261</td>\n",
              "      <td>268</td>\n",
              "      <td>87</td>\n",
              "      <td>15129</td>\n",
              "    </tr>\n",
              "    <tr>\n",
              "      <th>70399</th>\n",
              "      <td>56f840dea6d7ea1400e17510</td>\n",
              "      <td>Tito was awarded the Decoration of Honour for ...</td>\n",
              "      <td>Austria</td>\n",
              "      <td>443</td>\n",
              "      <td>450</td>\n",
              "      <td>87</td>\n",
              "      <td>15129</td>\n",
              "    </tr>\n",
              "    <tr>\n",
              "      <th>70400</th>\n",
              "      <td>56f840dea6d7ea1400e17511</td>\n",
              "      <td>Tito was awarded the Queen of where?</td>\n",
              "      <td>Sheba</td>\n",
              "      <td>788</td>\n",
              "      <td>793</td>\n",
              "      <td>87</td>\n",
              "      <td>15129</td>\n",
              "    </tr>\n",
              "    <tr>\n",
              "      <th>70401</th>\n",
              "      <td>56f840dea6d7ea1400e17512</td>\n",
              "      <td>Tito was awarded with the Order of the White R...</td>\n",
              "      <td>Finland</td>\n",
              "      <td>822</td>\n",
              "      <td>829</td>\n",
              "      <td>87</td>\n",
              "      <td>15129</td>\n",
              "    </tr>\n",
              "    <tr>\n",
              "      <th>70402</th>\n",
              "      <td>56f840dea6d7ea1400e17513</td>\n",
              "      <td>Tito was awarded with the Royal Order of what ...</td>\n",
              "      <td>Cambodia</td>\n",
              "      <td>862</td>\n",
              "      <td>870</td>\n",
              "      <td>87</td>\n",
              "      <td>15129</td>\n",
              "    </tr>\n",
              "  </tbody>\n",
              "</table>\n",
              "<p>70403 rows × 7 columns</p>\n",
              "</div>"
            ],
            "text/plain": [
              "                    question_id  ... context_id\n",
              "0      56e6ee276fe0821900b8ec38  ...          0\n",
              "1      56e6ee276fe0821900b8ec39  ...          0\n",
              "2      56e6ee276fe0821900b8ec3a  ...          0\n",
              "3      56e6ee276fe0821900b8ec3b  ...          0\n",
              "4      56e6ee276fe0821900b8ec3c  ...          0\n",
              "...                         ...  ...        ...\n",
              "70398  56f840dea6d7ea1400e1750f  ...      15129\n",
              "70399  56f840dea6d7ea1400e17510  ...      15129\n",
              "70400  56f840dea6d7ea1400e17511  ...      15129\n",
              "70401  56f840dea6d7ea1400e17512  ...      15129\n",
              "70402  56f840dea6d7ea1400e17513  ...      15129\n",
              "\n",
              "[70403 rows x 7 columns]"
            ]
          },
          "metadata": {
            "tags": []
          },
          "execution_count": 8
        }
      ]
    },
    {
      "cell_type": "code",
      "metadata": {
        "id": "TaUcu-8VyTqs",
        "colab": {
          "base_uri": "https://localhost:8080/"
        },
        "outputId": "90e04425-820d-46d8-ed65-37c389aeeef7"
      },
      "source": [
        "import random\r\n",
        "def print_squad_sample(train_data, context_dict, line_length=120, separator_length=150):\r\n",
        "  sample = train_data.sample(frac=1).head(1)\r\n",
        "  context = context_dict[sample['context_id'].item()]\r\n",
        "  print('='*separator_length)\r\n",
        "  print('CONTEXT: ')\r\n",
        "  print('='*separator_length)\r\n",
        "  lines = [''.join(context[idx:idx+line_length]) for idx in range(0, len(context), line_length)]\r\n",
        "  for l in lines:\r\n",
        "      print(l)\r\n",
        "  #print(context)\r\n",
        "  print('='*separator_length)\r\n",
        "  questions = train_data[train_data['context_id'] == sample['context_id'].item()]\r\n",
        "  print('QUESTION:', ' '*(3*separator_length//4), 'ANSWER:')\r\n",
        "  for idx, row in questions.iterrows():\r\n",
        "    question = row.question_text\r\n",
        "    answer = row.answer_text\r\n",
        "    print(question, ' '*(3*separator_length//4-len(question)+9), answer)\r\n",
        "\r\n",
        "print_squad_sample(train_df, train_context_dict)"
      ],
      "execution_count": 9,
      "outputs": [
        {
          "output_type": "stream",
          "text": [
            "======================================================================================================================================================\n",
            "CONTEXT: \n",
            "======================================================================================================================================================\n",
            "Instead, he formulated the spearhead model of evolution, a version of genetic pluralism. According to this model, living\n",
            " organisms themselves have goals, and act according to these goals, each guided by a central control. In its most sophis\n",
            "ticated form, this is the brain of humans, but controls also exist in much less sophisticated ways for species of lower \n",
            "complexity, such as the amoeba. This control organ plays a special role in evolution—it is the \"spearhead of evolution\".\n",
            " The goals bring the purpose into the world. Mutations in the genes that determine the structure of the control may then\n",
            " cause drastic changes in behaviour, preferences and goals, without having an impact on the organism's phenotype. Popper\n",
            " postulates that such purely behavioural changes are less likely to be lethal for the organism compared to drastic chang\n",
            "es of the phenotype.\n",
            "======================================================================================================================================================\n",
            "QUESTION:                                                                                                                  ANSWER:\n",
            "What is the name of Popper's model of evolution?                                                                           spearhead\n",
            "Popper's model of evolution is part of what family of models?                                                              genetic pluralism\n",
            "What directs the actions of organisms in Popper's biological model?                                                        goals\n",
            "Organisms' goals shift along with which notable genetic process?                                                           Mutations\n"
          ],
          "name": "stdout"
        }
      ]
    },
    {
      "cell_type": "markdown",
      "metadata": {
        "id": "hqrIFmrK2Igt"
      },
      "source": [
        "# <s> Tokenizer </s>"
      ]
    },
    {
      "cell_type": "code",
      "metadata": {
        "colab": {
          "base_uri": "https://localhost:8080/"
        },
        "id": "i8fuDPtRNDjg",
        "outputId": "a442788a-3cc1-4020-afea-aa4eaf50a4d1"
      },
      "source": [
        "# Load pre-trained model tokenizer (vocabulary)\r\n",
        "tokenizer = BertTokenizer.from_pretrained('bert-base-uncased')\r\n",
        "\r\n",
        "print('[[CLS], [SEP]] = {}'.format(tokenizer.convert_tokens_to_ids(['[CLS]', '[SEP]'])))"
      ],
      "execution_count": 10,
      "outputs": [
        {
          "output_type": "stream",
          "text": [
            "[[CLS], [SEP]] = [101, 102]\n"
          ],
          "name": "stdout"
        }
      ]
    },
    {
      "cell_type": "code",
      "metadata": {
        "id": "avVC8QotmvgE",
        "colab": {
          "base_uri": "https://localhost:8080/"
        },
        "outputId": "0323dd19-b3bc-483c-cb4e-4da9932663ad"
      },
      "source": [
        "# Split the sentence into tokens.\r\n",
        "tokenized_text = tokenizer.tokenize(train_df['question_text'][0])\r\n",
        "\r\n",
        "# Print out the tokens.\r\n",
        "print(tokenized_text)\r\n",
        "\r\n",
        "# Map the token strings to their vocabulary indeces.\r\n",
        "indexed_tokens = tokenizer.convert_tokens_to_ids(tokenized_text)\r\n",
        "\r\n",
        "# Display the words with their indeces.\r\n",
        "for tup in zip(tokenized_text, indexed_tokens):\r\n",
        "    print('{:<12} {:>6}'.format(tup[0], tup[1]))"
      ],
      "execution_count": 11,
      "outputs": [
        {
          "output_type": "stream",
          "text": [
            "['what', 'city', 'is', 'the', 'de', 'facto', 'capital', 'of', 'sw', '##its', '##erland', '?']\n",
            "what           2054\n",
            "city           2103\n",
            "is             2003\n",
            "the            1996\n",
            "de             2139\n",
            "facto         13743\n",
            "capital        3007\n",
            "of             1997\n",
            "sw            25430\n",
            "##its         12762\n",
            "##erland      22492\n",
            "?              1029\n"
          ],
          "name": "stdout"
        }
      ]
    },
    {
      "cell_type": "code",
      "metadata": {
        "colab": {
          "base_uri": "https://localhost:8080/"
        },
        "id": "BuuVNwp50-xF",
        "outputId": "93380bdf-bf3f-4190-8822-d3fae8cb1d97"
      },
      "source": [
        "def find_sublist(a, b):\r\n",
        "  if len(a) == 0 or len(b) == 0:\r\n",
        "    raise Exception(\"AAAAAAA\")\r\n",
        "\r\n",
        "  for i in range(len(a) - len(b) +1):\r\n",
        "    if np.array_equal(a[i:i+len(b)], b):\r\n",
        "      return i, i+len(b)-1\r\n",
        "\r\n",
        "  return -1, -1"
      ],
      "execution_count": 12,
      "outputs": [
        {
          "output_type": "execute_result",
          "data": {
            "text/plain": [
              "(32, 49)"
            ]
          },
          "metadata": {
            "tags": []
          },
          "execution_count": 12
        }
      ]
    },
    {
      "cell_type": "code",
      "metadata": {
        "id": "nEy0mp9yzXjn"
      },
      "source": [
        "def print_progress(value, total, bar_width=100):\r\n",
        "  perc = int(value/total*bar_width)\r\n",
        "  rest = bar_width - perc\r\n",
        "  print(\"\\r{:>3} % [ {}{} ]\".format(perc, perc*'■', rest*'─'), end=\"\")\r\n",
        "\r\n",
        "# ensure to preserve all sub-sequences of length limi-stride. \r\n",
        "def split_long_sequence(my_sequence, limit, stride):\r\n",
        "\r\n",
        "  if len(my_sequence) <= limit: \r\n",
        "    return [my_sequence]\r\n",
        "  \r\n",
        "  rest = my_sequence\r\n",
        "  split = []\r\n",
        "  while len(rest) > limit:\r\n",
        "    left_hand = rest[:limit]\r\n",
        "    rest = rest[stride:]\r\n",
        "    split.append(left_hand)\r\n",
        "    \r\n",
        "  split.append(rest)\r\n",
        "  return split"
      ],
      "execution_count": 13,
      "outputs": []
    },
    {
      "cell_type": "code",
      "metadata": {
        "id": "jayMk-aHPYVB"
      },
      "source": [
        "def from_df_to_model_dict(df, context_dict, verbose=False):\r\n",
        "\r\n",
        "  # initialize structures\r\n",
        "  input_ids = []\r\n",
        "  input_mask = []\r\n",
        "  input_type_ids = []\r\n",
        "  start_indexes = []\r\n",
        "  end_indexes = []\r\n",
        "\r\n",
        "  cut_counter = 0\r\n",
        "  max_iter = len(df)\r\n",
        "  new_entries = 0\r\n",
        "  for i, row in df.iterrows():\r\n",
        "\r\n",
        "    # print progress\r\n",
        "    if (i+1) % (max_iter // 100) == 0 or i == 0:\r\n",
        "      print_progress(i+1, max_iter)\r\n",
        "\r\n",
        "    # encode question and context\r\n",
        "    if verbose: print(\"\\tTokenizing question and context...\", end=\"\")\r\n",
        "    encoded_question = tokenizer.encode(row['question_text'])\r\n",
        "    encoded_context = tokenizer.encode(context_dict[row['context_id']])[1:]\r\n",
        "\r\n",
        "    # concatenate input data \r\n",
        "    if verbose: print(\"\\tChecking sequence length...\")\r\n",
        "    if len(encoded_question + encoded_context) > SEQUENCE_LIMIT:\r\n",
        "      # if the sequence is too long, split it in n subsequences of length <= SEQUENCE_LIMIT\r\n",
        "      encoded_contexts = split_long_sequence(encoded_context,\r\n",
        "                                             limit=SEQUENCE_LIMIT-len(encoded_question), \r\n",
        "                                             stride=STRIDE)\r\n",
        "      cut_counter += 1\r\n",
        "    else:\r\n",
        "      encoded_contexts = [encoded_context]\r\n",
        "    \r\n",
        "    new_entries += len(encoded_contexts)-1\r\n",
        "    # for each too long sequence, the context has been split in n parts. We need to process them separately, creating new entries for the input\r\n",
        "    for context in encoded_contexts:\r\n",
        "      \r\n",
        "      encoded_input = encoded_question + context      \r\n",
        "\r\n",
        "      # create mask of ones\r\n",
        "      ones_mask = tf.ones_like(encoded_input)\r\n",
        "\r\n",
        "      # add padding and convert to tensor\r\n",
        "      if verbose: print(\"\\tPadding...\", end=\"\")\r\n",
        "      encoded_input = tf.keras.preprocessing.sequence.pad_sequences([encoded_input], maxlen=512, padding='pre')\r\n",
        "      encoded_input = tf.squeeze(tf.convert_to_tensor(encoded_input))\r\n",
        "\r\n",
        "      # processing answer indices\r\n",
        "      if verbose: print(\"\\tProcessing answer...\", end=\"\")\r\n",
        "      tokenized_answer = tokenizer.encode(row['answer_text'])[1: -1]\r\n",
        "      start_idx, end_idx = find_sublist(encoded_input, tokenized_answer)\r\n",
        "\r\n",
        "      start_indexes.append(start_idx)\r\n",
        "      end_indexes.append(end_idx)\r\n",
        "\r\n",
        "\r\n",
        "      # create input_type_ids\r\n",
        "      if verbose: print(\"\\tInput types creation...\", end=\"\")\r\n",
        "      type_ids = tf.concat([tf.zeros_like(encoded_question, dtype=tf.int32), \r\n",
        "                            tf.ones_like(encoded_context, dtype=tf.int32)], \r\n",
        "                          axis=-1)\r\n",
        "\r\n",
        "      type_ids = tf.keras.preprocessing.sequence.pad_sequences([type_ids], maxlen=512, padding='pre')\r\n",
        "      type_ids = tf.squeeze(tf.convert_to_tensor(type_ids))\r\n",
        "\r\n",
        "\r\n",
        "      # create mask of zeros\r\n",
        "      if verbose: print(\"\\tMask creation...\", end=\"\")\r\n",
        "      # zeros_mask = tf.zeros_like(tf.shape(encoded_question)[-1]-tf.shape(ones_mask)[-1], dtype=tf.int32)\r\n",
        "      zeros_mask = tf.zeros(SEQUENCE_LIMIT - len(ones_mask), dtype=tf.int32)\r\n",
        "      mask = tf.concat([zeros_mask, ones_mask], axis=-1)\r\n",
        "\r\n",
        "      # append elements to lists\r\n",
        "      if verbose: print(\"\\tAppending inputs...\", end=\"\")\r\n",
        "      input_ids.append(encoded_input)\r\n",
        "      input_mask.append(mask)\r\n",
        "      input_type_ids.append(type_ids)\r\n",
        "\r\n",
        "  # save input data as dictionary\r\n",
        "  inputs = {\r\n",
        "    'input_ids': tf.convert_to_tensor(input_ids),\r\n",
        "    'attention_mask': tf.convert_to_tensor(input_mask),\r\n",
        "    'token_type_ids': tf.convert_to_tensor(input_type_ids)\r\n",
        "    }\r\n",
        "\r\n",
        "  assert len(input_ids) == len(df) + new_entries, f\"ATTENTION:\\nci sono {len(input_ids)} input_ids, MA {len(df)} righe nel df e {new_entries} nuove entries\"\r\n",
        "  return inputs, start_indexes, end_indexes"
      ],
      "execution_count": 14,
      "outputs": []
    },
    {
      "cell_type": "markdown",
      "metadata": {
        "id": "UXCcgd3cSgAm"
      },
      "source": [
        "# Building Progress"
      ]
    },
    {
      "cell_type": "code",
      "metadata": {
        "colab": {
          "base_uri": "https://localhost:8080/"
        },
        "id": "irK7yfKKV1LU",
        "outputId": "ae9a8521-2757-4b8e-a278-5cf3c6e682a0"
      },
      "source": [
        "print(\"Building training set...\")\r\n",
        "train_inputs, train_starts, train_ends = from_df_to_model_dict(train_df[:TRAIN_LIMIT], train_context_dict)\r\n",
        "\r\n",
        "print(\"\\n\\nBuilding test set...\")\r\n",
        "test_inputs, test_starts, test_ends = from_df_to_model_dict(test_df[:TEST_LIMIT], test_context_dict)"
      ],
      "execution_count": 17,
      "outputs": [
        {
          "output_type": "stream",
          "text": [
            "\n",
            "\n",
            "Building test set...\n",
            "100 % [ ■■■■■■■■■■■■■■■■■■■■■■■■■■■■■■■■■■■■■■■■■■■■■■■■■■■■■■■■■■■■■■■■■■■■■■■■■■■■■■■■■■■■■■■■■■■■■■■■■■■■ ]"
          ],
          "name": "stdout"
        }
      ]
    },
    {
      "cell_type": "markdown",
      "metadata": {
        "id": "DBvYDn5dUSTF"
      },
      "source": [
        "# Assert shapes and 'to_categorical'"
      ]
    },
    {
      "cell_type": "code",
      "metadata": {
        "id": "vmLachX_ScKH"
      },
      "source": [
        "assert len(train_starts) == len(train_ends) == len(train_inputs['input_ids']) == len(train_inputs['attention_mask']) == len(train_inputs['token_type_ids'])\r\n",
        "assert len(test_starts) == len(test_ends) == len(test_inputs['input_ids']) == len(test_inputs['attention_mask']) == len(test_inputs['token_type_ids'])"
      ],
      "execution_count": 18,
      "outputs": []
    },
    {
      "cell_type": "code",
      "metadata": {
        "id": "I3NdLSFESd5E"
      },
      "source": [
        "# from ints to categorical\r\n",
        "y_train_starts = tf.keras.utils.to_categorical([val if val != -1 else 0 for val in train_starts], num_classes=SEQUENCE_LIMIT)\r\n",
        "y_train_ends = tf.keras.utils.to_categorical([val if val != -1 else 0 for val in train_ends], num_classes=SEQUENCE_LIMIT)\r\n",
        "\r\n",
        "y_test_starts = tf.keras.utils.to_categorical([val if val != -1 else 0 for val in test_starts], num_classes=SEQUENCE_LIMIT)\r\n",
        "y_test_ends = tf.keras.utils.to_categorical([val if val != -1 else 0 for val in test_ends], num_classes=SEQUENCE_LIMIT)"
      ],
      "execution_count": 19,
      "outputs": []
    },
    {
      "cell_type": "code",
      "metadata": {
        "id": "9iktKwoXUKAj",
        "outputId": "f5e42272-7083-4520-ca6d-502fcaf42c2f",
        "colab": {
          "base_uri": "https://localhost:8080/"
        }
      },
      "source": [
        "for y in [y_train_starts, y_train_ends, y_test_starts, y_test_ends]:\r\n",
        "  print(\"\\nshape y: \", len(y))\r\n",
        "  ints = np.argmax(y, axis=-1)\r\n",
        "  new_ints = [val if val != 512 else 0 for val in ints]\r\n",
        "  print(\"min - max: \", min(new_ints), '-', max(new_ints))\r\n",
        "  categoricals = tf.keras.utils.to_categorical(new_ints, num_classes=512)\r\n",
        "  print(\"shape: \", categoricals.shape)"
      ],
      "execution_count": 20,
      "outputs": [
        {
          "output_type": "stream",
          "text": [
            "\n",
            "shape y:  6000\n",
            "min - max:  0 - 510\n",
            "shape:  (6000, 512)\n",
            "\n",
            "shape y:  6000\n",
            "min - max:  0 - 510\n",
            "shape:  (6000, 512)\n",
            "\n",
            "shape y:  1008\n",
            "min - max:  0 - 509\n",
            "shape:  (1008, 512)\n",
            "\n",
            "shape y:  1008\n",
            "min - max:  0 - 510\n",
            "shape:  (1008, 512)\n"
          ],
          "name": "stdout"
        }
      ]
    },
    {
      "cell_type": "markdown",
      "metadata": {
        "id": "i5MRM0Q_LXyW"
      },
      "source": [
        "# <s>  Save train and test inputs dataset <s>"
      ]
    },
    {
      "cell_type": "code",
      "metadata": {
        "id": "RWW1mTlHrwe9"
      },
      "source": [
        "## TRAIN\r\n",
        "with open(\"/content/drive/MyDrive/SQUAD/train_inputs.p\", \"wb\") as f:\r\n",
        "  pickle.dump(train_inputs, f)\r\n",
        "\r\n",
        "with open(\"/content/drive/MyDrive/SQUAD/y_train_starts.p\", \"wb\") as f:\r\n",
        "  pickle.dump(y_train_starts, f)\r\n",
        "\r\n",
        "with open(\"/content/drive/MyDrive/SQUAD/y_train_ends.p\", \"wb\") as f:\r\n",
        "  pickle.dump(y_train_ends, f)\r\n",
        "\r\n",
        "\r\n",
        "## TEST\r\n",
        "with open(\"/content/drive/MyDrive/SQUAD/test_inputs.p\", \"wb\") as f:\r\n",
        "  pickle.dump(test_inputs, f)\r\n",
        "\r\n",
        "with open(\"/content/drive/MyDrive/SQUAD/y_test_starts.p\", \"wb\") as f:\r\n",
        "  pickle.dump(y_test_starts, f)\r\n",
        "\r\n",
        "with open(\"/content/drive/MyDrive/SQUAD/y_test_ends.p\", \"wb\") as f:\r\n",
        "  pickle.dump(y_test_ends, f)"
      ],
      "execution_count": null,
      "outputs": []
    },
    {
      "cell_type": "markdown",
      "metadata": {
        "id": "Ok4Z7Xhltev_"
      },
      "source": [
        "# Load train and test inputs datasets"
      ]
    },
    {
      "cell_type": "code",
      "metadata": {
        "id": "ECyBOk-mtaHG"
      },
      "source": [
        "## TRAIN\r\n",
        "with open(\"/content/drive/MyDrive/SQUAD/train_inputs.p\", \"rb\") as f:\r\n",
        "  train_inputs = pickle.load(f)\r\n",
        "\r\n",
        "with open(\"/content/drive/MyDrive/SQUAD/y_train_starts.p\", \"rb\") as f:\r\n",
        "  y_train_starts = pickle.load(f)\r\n",
        "\r\n",
        "with open(\"/content/drive/MyDrive/SQUAD/y_train_ends.p\", \"rb\") as f:\r\n",
        "  y_train_ends = pickle.load(f)\r\n",
        "\r\n",
        "\r\n",
        "## TEST\r\n",
        "with open(\"/content/drive/MyDrive/SQUAD/test_inputs.p\", \"rb\") as f:\r\n",
        "  test_inputs = pickle.load(f)\r\n",
        "\r\n",
        "with open(\"/content/drive/MyDrive/SQUAD/y_test_starts.p\", \"rb\") as f:\r\n",
        "  y_test_starts = pickle.load(f)\r\n",
        "\r\n",
        "with open(\"/content/drive/MyDrive/SQUAD/y_test_ends.p\", \"rb\") as f:\r\n",
        "  y_test_ends = pickle.load(f)"
      ],
      "execution_count": null,
      "outputs": []
    },
    {
      "cell_type": "markdown",
      "metadata": {
        "id": "6mZbcRg48o3E"
      },
      "source": [
        "# Build model"
      ]
    },
    {
      "cell_type": "code",
      "metadata": {
        "colab": {
          "base_uri": "https://localhost:8080/",
          "height": 686
        },
        "id": "3PJ2O1Zn8nqr",
        "outputId": "90c54640-61dc-449d-c3ae-519d2cfb79dc"
      },
      "source": [
        "@tf.autograph.experimental.do_not_convert\r\n",
        "def build_model():\r\n",
        "  output_dim = SEQUENCE_LIMIT # add one class for non-found answers\r\n",
        "\r\n",
        "  input_ids_layer = Input(shape = (512,), dtype='int64')\r\n",
        "  attention_mask_layer = Input(shape = (512,), dtype='int64')\r\n",
        "  token_ids_layer = Input(shape = (512,), dtype='int64')\r\n",
        "\r\n",
        "  bert_model = TFBertModel.from_pretrained('bert-base-uncased')\r\n",
        "  \r\n",
        "  for layer in bert_model.layers:\r\n",
        "    layer.trainable = False\r\n",
        "  \r\n",
        "  bert = bert_model(input_ids = input_ids_layer,\r\n",
        "                    attention_mask = attention_mask_layer,\r\n",
        "                    token_type_ids = token_ids_layer,\r\n",
        "                    return_dict = False,\r\n",
        "                    output_attentions = False,\r\n",
        "                    output_hidden_states = False\r\n",
        "                    ).last_hidden_state\r\n",
        "  \r\n",
        "  # flat = Flatten()(bert)\r\n",
        "  start_classifier = Dense(units=1, activation=\"softmax\", name=\"Start_classifier\")(bert)\r\n",
        "  end_classifier = Dense(units=1, activation=\"softmax\", name=\"End_classifier\")(bert)\r\n",
        "\r\n",
        "  model = Model(inputs=[input_ids_layer, attention_mask_layer, token_ids_layer], \r\n",
        "                outputs=[start_classifier, end_classifier])\r\n",
        "  model.summary()\r\n",
        "  return model\r\n",
        "\r\n",
        "\r\n",
        "model = build_model()\r\n",
        "plot_model(model, show_shapes=True)"
      ],
      "execution_count": 21,
      "outputs": [
        {
          "output_type": "stream",
          "text": [
            "Model: \"model\"\n",
            "__________________________________________________________________________________________________\n",
            "Layer (type)                    Output Shape         Param #     Connected to                     \n",
            "==================================================================================================\n",
            "input_1 (InputLayer)            [(None, 512)]        0                                            \n",
            "__________________________________________________________________________________________________\n",
            "input_2 (InputLayer)            [(None, 512)]        0                                            \n",
            "__________________________________________________________________________________________________\n",
            "input_3 (InputLayer)            [(None, 512)]        0                                            \n",
            "__________________________________________________________________________________________________\n",
            "tf_bert_model (TFBertModel)     TFBaseModelOutputWit 109482240   input_1[0][0]                    \n",
            "                                                                 input_2[0][0]                    \n",
            "                                                                 input_3[0][0]                    \n",
            "__________________________________________________________________________________________________\n",
            "Start_classifier (Dense)        (None, 512, 1)       769         tf_bert_model[0][0]              \n",
            "__________________________________________________________________________________________________\n",
            "End_classifier (Dense)          (None, 512, 1)       769         tf_bert_model[0][0]              \n",
            "==================================================================================================\n",
            "Total params: 109,483,778\n",
            "Trainable params: 1,538\n",
            "Non-trainable params: 109,482,240\n",
            "__________________________________________________________________________________________________\n"
          ],
          "name": "stdout"
        },
        {
          "output_type": "execute_result",
          "data": {
            "image/png": "[encoded data removed]",
            "text/plain": [
              "<IPython.core.display.Image object>"
            ]
          },
          "metadata": {
            "tags": []
          },
          "execution_count": 21
        }
      ]
    },
    {
      "cell_type": "code",
      "metadata": {
        "id": "tsv_uILTwmFR"
      },
      "source": [
        "optimizer = tf.keras.optimizers.Adam(learning_rate=3e-5, epsilon=1e-08, clipnorm=1.0)\r\n",
        "loss = tf.keras.losses.CategoricalCrossentropy(from_logits=True)\r\n",
        "metric = tf.keras.metrics.CategoricalAccuracy('accuracy')\r\n",
        "model.compile(optimizer=optimizer, loss=loss, metrics=[metric])"
      ],
      "execution_count": 22,
      "outputs": []
    },
    {
      "cell_type": "markdown",
      "metadata": {
        "id": "gfUxCHLSusuV"
      },
      "source": [
        "# Train"
      ]
    },
    {
      "cell_type": "code",
      "metadata": {
        "colab": {
          "base_uri": "https://localhost:8080/"
        },
        "id": "69cHTOSZGuyG",
        "outputId": "068e432b-a208-4f49-fef3-0cb1769b1965"
      },
      "source": [
        "EPOCHS = 3\r\n",
        "BATCH_SIZE = 32\r\n",
        "\r\n",
        "model_fit = model.fit(x = [train_inputs['input_ids'][:TRAIN_LIMIT],\r\n",
        "                           train_inputs['attention_mask'][:TRAIN_LIMIT],\r\n",
        "                           train_inputs['token_type_ids'][:TRAIN_LIMIT]],\r\n",
        "                      y = [y_train_starts[:TRAIN_LIMIT], y_train_ends[:TRAIN_LIMIT]],\r\n",
        "                       \r\n",
        "                      batch_size=BATCH_SIZE, epochs=EPOCHS, \r\n",
        "                      validation_data=([test_inputs['input_ids'][:TEST_LIMIT],\r\n",
        "                                        test_inputs['attention_mask'][:TEST_LIMIT],\r\n",
        "                                        test_inputs['token_type_ids'][:TEST_LIMIT]], \r\n",
        "                                       [y_test_starts[:TEST_LIMIT],\r\n",
        "                                         y_test_ends[:TEST_LIMIT]]\r\n",
        "                                       )\r\n",
        ")"
      ],
      "execution_count": null,
      "outputs": [
        {
          "output_type": "stream",
          "text": [
            "Epoch 1/3\n",
            "188/188 [==============================] - 334s 2s/step - loss: 12.4767 - Start_classifier_loss: 6.2383 - End_classifier_loss: 6.2383 - Start_classifier_accuracy: 6.1021e-04 - End_classifier_accuracy: 6.1021e-04 - val_loss: 12.4767 - val_Start_classifier_loss: 6.2383 - val_End_classifier_loss: 6.2383 - val_Start_classifier_accuracy: 0.0080 - val_End_classifier_accuracy: 0.0080\n",
            "Epoch 2/3\n",
            "188/188 [==============================] - ETA: 0s - loss: 12.4767 - Start_classifier_loss: 6.2383 - End_classifier_loss: 6.2383 - Start_classifier_accuracy: 8.9823e-04 - End_classifier_accuracy: 8.9823e-04"
          ],
          "name": "stdout"
        }
      ]
    },
    {
      "cell_type": "markdown",
      "metadata": {
        "id": "qBZuBfspH47n"
      },
      "source": [
        "# Test"
      ]
    },
    {
      "cell_type": "code",
      "metadata": {
        "id": "JFDBM_-rPuX-"
      },
      "source": [
        "TEST_LIMIT = len(test_inputs)\r\n",
        "\r\n",
        "start_pred, end_pred = model.predict([test_inputs[\"input_ids\"][:TEST_LIMIT], \r\n",
        "                                      test_inputs[\"attention_mask\"][:TEST_LIMIT], \r\n",
        "                                      test_inputs[\"token_type_ids\"][:TEST_LIMIT]])\r\n",
        "start_pred = np.argmax(start_pred, axis=1)\r\n",
        "end_pred = np.argmax(end_pred, axis=1)\r\n",
        "\r\n",
        "\r\n",
        "def get_text_from_token_ids(context, start_id, end_id):\r\n",
        "  return tokenizer.decode(context[start_id:end_id])\r\n",
        "\r\n",
        "\r\n",
        "\r\n",
        "boom_baby = 0\r\n",
        "for i, row in test_df.iterrows():\r\n",
        "  if i == TEST_LIMIT: break\r\n",
        "  true_answer = row[\"answer_text\"]\r\n",
        "  predicted_answer = get_text_from_token_ids(test_inputs[\"input_ids\"][i-1], start_pred[i-1], end_pred[i-1])\r\n",
        "\r\n",
        "  if true_answer == predicted_answer:\r\n",
        "    boom_baby += 1\r\n",
        "\r\n",
        "  if i % 1000 == 0:\r\n",
        "    print(\"\\n\\nQuestion: \\n\", row[\"question_text\"])\r\n",
        "    print(\"Context: \\n\", test_context_dict[row[\"context_id\"]])\r\n",
        "    print(\"Answer text: \\n\", true_answer)\r\n",
        "    print(f\"Our answer: \\n\\tids {(start_pred[i-1], end_pred[i-1])}\\n\\ttext: {predicted_answer}\")\r\n",
        "    print(\"-\"*50)"
      ],
      "execution_count": null,
      "outputs": []
    },
    {
      "cell_type": "code",
      "metadata": {
        "id": "WzMIwH85RATH"
      },
      "source": [
        "print(f\"Total matches\\t{boom_baby} / {TEST_LIMIT} \\t({round(boom_baby / TEST_LIMIT, 3)*100} %)\")"
      ],
      "execution_count": null,
      "outputs": []
    },
    {
      "cell_type": "code",
      "metadata": {
        "id": "mRdxAI9ug1kE"
      },
      "source": [
        "with open(\"results_2101_start_pred.txt\", \"w\") as f:\r\n",
        "  f.write(start_pred)\r\n",
        "\r\n",
        "with open(\"results_2101_end_pred.txt\", \"w\") as f:\r\n",
        "  f.write(end_pred)"
      ],
      "execution_count": null,
      "outputs": []
    }
  ]
}