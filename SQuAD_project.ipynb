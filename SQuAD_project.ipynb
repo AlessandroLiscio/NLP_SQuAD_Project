{
  "nbformat": 4,
  "nbformat_minor": 0,
  "metadata": {
    "colab": {
      "name": "Project-X-SQAD.ipynb",
      "provenance": [],
      "toc_visible": true
    },
    "kernelspec": {
      "name": "python3",
      "display_name": "Python 3"
    }
  },
  "cells": [
    {
      "cell_type": "markdown",
      "metadata": {
        "id": "Y6J9_LsBSwk-"
      },
      "source": [
        "# Project X"
      ]
    },
    {
      "cell_type": "code",
      "metadata": {
        "id": "KxC2Vn2KR8pK"
      },
      "source": [
        "import os\r\n",
        "\r\n",
        "import re\r\n",
        "import pandas as pd\r\n",
        "import numpy as np"
      ],
      "execution_count": null,
      "outputs": []
    },
    {
      "cell_type": "code",
      "metadata": {
        "colab": {
          "base_uri": "https://localhost:8080/"
        },
        "id": "pj35bJE3VtHi",
        "outputId": "5d5c4328-7c6c-4be5-84d8-5311ddc2ae4b"
      },
      "source": [
        "cwd = os.getcwd()\r\n",
        "df = pd.read_json(cwd + \"/training_set.json\")\r\n",
        "df.data = pd.DataFrame(df.data.values.tolist())\r\n",
        "#df.paragraphs = pd.DataFrame(df.data.values.tolist())['paragraphs']\r\n",
        "#df = df.groupby(['date','name','number'])['locations'].apply(','.join).reset_index()\r\n",
        "print(df)"
      ],
      "execution_count": null,
      "outputs": [
        {
          "output_type": "stream",
          "text": [
            "                         data  version\n",
            "0    University_of_Notre_Dame      1.1\n",
            "1                     Beyoncé      1.1\n",
            "2                     Montana      1.1\n",
            "3                    Genocide      1.1\n",
            "4                 Antibiotics      1.1\n",
            "..                        ...      ...\n",
            "437                    Police      1.1\n",
            "438          Punjab,_Pakistan      1.1\n",
            "439                 Infection      1.1\n",
            "440                   Hunting      1.1\n",
            "441                 Kathmandu      1.1\n",
            "\n",
            "[442 rows x 2 columns]\n"
          ],
          "name": "stdout"
        }
      ]
    },
    {
      "cell_type": "code",
      "metadata": {
        "id": "_o1FPMIyWWgw"
      },
      "source": [
        ""
      ],
      "execution_count": null,
      "outputs": []
    }
  ]
}