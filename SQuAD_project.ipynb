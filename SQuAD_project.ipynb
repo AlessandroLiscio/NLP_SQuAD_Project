{
  "nbformat": 4,
  "nbformat_minor": 0,
  "metadata": {
    "colab": {
      "name": "Project-X-SQAD.ipynb",
      "provenance": []
    },
    "kernelspec": {
      "name": "python3",
      "display_name": "Python 3"
    },
    "accelerator": "GPU"
  },
  "cells": [
    {
      "cell_type": "markdown",
      "metadata": {
        "id": "SXzTAMPpfB6N"
      },
      "source": [
        "# TODO:\r\n",
        "\r\n",
        "*   Pass tokenizer as function parameter (instead of calling global)\r\n",
        "\r\n"
      ]
    },
    {
      "cell_type": "markdown",
      "metadata": {
        "id": "Y6J9_LsBSwk-"
      },
      "source": [
        "# Setup"
      ]
    },
    {
      "cell_type": "code",
      "metadata": {
        "id": "SwEFNn5KuGDl",
        "colab": {
          "base_uri": "https://localhost:8080/"
        },
        "outputId": "7f7ecd31-4c10-42b7-8aa9-5115fc103da8"
      },
      "source": [
        "!pip install -q tf-models-official==2.3.0\r\n",
        "!pip install transformers"
      ],
      "execution_count": 54,
      "outputs": [
        {
          "output_type": "stream",
          "text": [
            "Requirement already satisfied: transformers in /usr/local/lib/python3.6/dist-packages (4.3.1)\n",
            "Requirement already satisfied: regex!=2019.12.17 in /usr/local/lib/python3.6/dist-packages (from transformers) (2019.12.20)\n",
            "Requirement already satisfied: packaging in /usr/local/lib/python3.6/dist-packages (from transformers) (20.9)\n",
            "Requirement already satisfied: tokenizers<0.11,>=0.10.1 in /usr/local/lib/python3.6/dist-packages (from transformers) (0.10.1)\n",
            "Requirement already satisfied: numpy>=1.17 in /usr/local/lib/python3.6/dist-packages (from transformers) (1.19.5)\n",
            "Requirement already satisfied: sacremoses in /usr/local/lib/python3.6/dist-packages (from transformers) (0.0.43)\n",
            "Requirement already satisfied: requests in /usr/local/lib/python3.6/dist-packages (from transformers) (2.23.0)\n",
            "Requirement already satisfied: filelock in /usr/local/lib/python3.6/dist-packages (from transformers) (3.0.12)\n",
            "Requirement already satisfied: dataclasses; python_version < \"3.7\" in /usr/local/lib/python3.6/dist-packages (from transformers) (0.8)\n",
            "Requirement already satisfied: tqdm>=4.27 in /usr/local/lib/python3.6/dist-packages (from transformers) (4.41.1)\n",
            "Requirement already satisfied: importlib-metadata; python_version < \"3.8\" in /usr/local/lib/python3.6/dist-packages (from transformers) (3.4.0)\n",
            "Requirement already satisfied: pyparsing>=2.0.2 in /usr/local/lib/python3.6/dist-packages (from packaging->transformers) (2.4.7)\n",
            "Requirement already satisfied: six in /usr/local/lib/python3.6/dist-packages (from sacremoses->transformers) (1.15.0)\n",
            "Requirement already satisfied: joblib in /usr/local/lib/python3.6/dist-packages (from sacremoses->transformers) (1.0.0)\n",
            "Requirement already satisfied: click in /usr/local/lib/python3.6/dist-packages (from sacremoses->transformers) (7.1.2)\n",
            "Requirement already satisfied: certifi>=2017.4.17 in /usr/local/lib/python3.6/dist-packages (from requests->transformers) (2020.12.5)\n",
            "Requirement already satisfied: urllib3!=1.25.0,!=1.25.1,<1.26,>=1.21.1 in /usr/local/lib/python3.6/dist-packages (from requests->transformers) (1.24.3)\n",
            "Requirement already satisfied: chardet<4,>=3.0.2 in /usr/local/lib/python3.6/dist-packages (from requests->transformers) (3.0.4)\n",
            "Requirement already satisfied: idna<3,>=2.5 in /usr/local/lib/python3.6/dist-packages (from requests->transformers) (2.10)\n",
            "Requirement already satisfied: zipp>=0.5 in /usr/local/lib/python3.6/dist-packages (from importlib-metadata; python_version < \"3.8\"->transformers) (3.4.0)\n",
            "Requirement already satisfied: typing-extensions>=3.6.4; python_version < \"3.8\" in /usr/local/lib/python3.6/dist-packages (from importlib-metadata; python_version < \"3.8\"->transformers) (3.7.4.3)\n"
          ],
          "name": "stdout"
        }
      ]
    },
    {
      "cell_type": "code",
      "metadata": {
        "id": "KxC2Vn2KR8pK"
      },
      "source": [
        "import os\r\n",
        "import json, pickle\r\n",
        "\r\n",
        "import re\r\n",
        "\r\n",
        "import pandas as pd\r\n",
        "import numpy as np\r\n",
        "import matplotlib.pyplot as plt\r\n",
        "\r\n",
        "import tensorflow as tf\r\n",
        "from sklearn.model_selection import train_test_split\r\n",
        "from sklearn.metrics import accuracy_score, f1_score\r\n",
        "\r\n",
        "import transformers\r\n",
        "from transformers import BertTokenizer, TFBertModel\r\n",
        "transformers.logging.set_verbosity_error() # suppress tokenizer sentences' length warnings so to not disturbate rou beautiful loading bar oh my gosh\r\n",
        "\r\n",
        "from keras import Model\r\n",
        "from keras.utils import plot_model\r\n",
        "from keras.layers import Input, Dense, Flatten, Dropout\r\n",
        "from datetime import datetime\r\n",
        "\r\n",
        "from google.colab import drive, files"
      ],
      "execution_count": 55,
      "outputs": []
    },
    {
      "cell_type": "code",
      "metadata": {
        "colab": {
          "base_uri": "https://localhost:8080/"
        },
        "id": "--YO7FLemTOD",
        "outputId": "450610ee-2966-4c1c-aec7-dc52ec40d206"
      },
      "source": [
        "drive.mount('/content/drive')"
      ],
      "execution_count": 56,
      "outputs": [
        {
          "output_type": "stream",
          "text": [
            "Drive already mounted at /content/drive; to attempt to forcibly remount, call drive.mount(\"/content/drive\", force_remount=True).\n"
          ],
          "name": "stdout"
        }
      ]
    },
    {
      "cell_type": "markdown",
      "metadata": {
        "id": "xG0C8uDPvt0X"
      },
      "source": [
        "# Settings\r\n"
      ]
    },
    {
      "cell_type": "code",
      "metadata": {
        "id": "-I7Nzb95vvxd"
      },
      "source": [
        "### PARAMETERS ###\r\n",
        "RANDOM_STATE = 42\r\n",
        "\r\n",
        "# Dataset creation\r\n",
        "SEQUENCE_LIMIT = 512\r\n",
        "STRIDE = 256\r\n",
        "\r\n",
        "SHUFFLE = True\r\n",
        "\r\n",
        "TRAIN_LIMIT = 1000  # set None for the full size\r\n",
        "VAL_LIMIT = 500    # set None for the full size\r\n",
        "TEST_LIMIT = 500   # set None for the full size\r\n",
        "\r\n",
        "# Model Training\r\n",
        "EPOCHS = 1\r\n",
        "BATCH_SIZE = 6\r\n",
        "\r\n",
        "# dataset drive settings\r\n",
        "SAVE_DATASET = True\r\n",
        "LOAD_DATASET = False\r\n",
        "\r\n",
        "# model weights drive settings\r\n",
        "SAVE_WEIGHTS = True\r\n",
        "LOAD_WEIGHTS = False"
      ],
      "execution_count": 57,
      "outputs": []
    },
    {
      "cell_type": "markdown",
      "metadata": {
        "id": "A23pEgzInJLM"
      },
      "source": [
        "# Dataset"
      ]
    },
    {
      "cell_type": "code",
      "metadata": {
        "id": "dwEW25ifc3Pt"
      },
      "source": [
        "try:\r\n",
        "  with open('training_set.json') as f:\r\n",
        "    json_data = json.load(f)\r\n",
        "except:\r\n",
        "  with open('/content/drive/My Drive/SQUAD/training_set.json') as f:\r\n",
        "    json_data = json.load(f)"
      ],
      "execution_count": 58,
      "outputs": []
    },
    {
      "cell_type": "code",
      "metadata": {
        "id": "Qc6-zf6cV4e6",
        "colab": {
          "base_uri": "https://localhost:8080/",
          "height": 419
        },
        "outputId": "e8ca375a-76c2-4340-e5e5-2c5617d6c38d"
      },
      "source": [
        "# Creates DataFrames with useful columns by unpacking 'paragraphs' column\r\n",
        "def unpack_df(df):\r\n",
        "  temp = []\r\n",
        "  title_dict = {}\r\n",
        "  contexts = []\r\n",
        "\r\n",
        "  for i, row in df.iterrows():\r\n",
        "    for context in row['paragraphs']:\r\n",
        "      contexts.append(context['context'])\r\n",
        "      for qa in context['qas']:\r\n",
        "        question_id = qa['id']\r\n",
        "        question = qa['question']\r\n",
        "        for answer in qa['answers']:\r\n",
        "          answer_text = answer['text']\r\n",
        "          answer_start = answer['answer_start']\r\n",
        "          answer_end = answer_start+len(answer_text)\r\n",
        "          temp.append([question_id, question, answer_text, answer_start, answer_end, i, len(contexts)-1])\r\n",
        "\r\n",
        "  context_dict = dict(enumerate(contexts))\r\n",
        "  df = pd.DataFrame(temp, columns=['question_id', 'question_text', 'answer_text', 'answer_start', 'answer_end', 'title_id', 'context_id'])\r\n",
        "  \r\n",
        "  return df, context_dict\r\n",
        "\r\n",
        "# Read data from json\r\n",
        "data = pd.json_normalize(json_data['data'])\r\n",
        "\r\n",
        "# Split train and test\r\n",
        "train_val, test = train_test_split(data, test_size=0.2, random_state=RANDOM_STATE)\r\n",
        "train, val = train_test_split(train_val, test_size=0.25, random_state=RANDOM_STATE)\r\n",
        "\r\n",
        "# Create DataFrames with useful columns\r\n",
        "train_df, train_context_dict = unpack_df(train)\r\n",
        "val_df, val_context_dict = unpack_df(val)\r\n",
        "test_df, test_context_dict = unpack_df(test)\r\n",
        "\r\n",
        "# Shuffle DataFrame\r\n",
        "if SHUFFLE:\r\n",
        "  train_df = train_df.sample(frac = 1)\r\n",
        "  val_df = val_df.sample(frac = 1)\r\n",
        "  test_df = test_df.sample(frac = 1)\r\n",
        "\r\n",
        "train_df"
      ],
      "execution_count": 59,
      "outputs": [
        {
          "output_type": "execute_result",
          "data": {
            "text/html": [
              "<div>\n",
              "<style scoped>\n",
              "    .dataframe tbody tr th:only-of-type {\n",
              "        vertical-align: middle;\n",
              "    }\n",
              "\n",
              "    .dataframe tbody tr th {\n",
              "        vertical-align: top;\n",
              "    }\n",
              "\n",
              "    .dataframe thead th {\n",
              "        text-align: right;\n",
              "    }\n",
              "</style>\n",
              "<table border=\"1\" class=\"dataframe\">\n",
              "  <thead>\n",
              "    <tr style=\"text-align: right;\">\n",
              "      <th></th>\n",
              "      <th>question_id</th>\n",
              "      <th>question_text</th>\n",
              "      <th>answer_text</th>\n",
              "      <th>answer_start</th>\n",
              "      <th>answer_end</th>\n",
              "      <th>title_id</th>\n",
              "      <th>context_id</th>\n",
              "    </tr>\n",
              "  </thead>\n",
              "  <tbody>\n",
              "    <tr>\n",
              "      <th>43157</th>\n",
              "      <td>5728c068ff5b5019007da5fb</td>\n",
              "      <td>In what city was the French Academy of Science...</td>\n",
              "      <td>Paris</td>\n",
              "      <td>158</td>\n",
              "      <td>163</td>\n",
              "      <td>327</td>\n",
              "      <td>9378</td>\n",
              "    </tr>\n",
              "    <tr>\n",
              "      <th>5957</th>\n",
              "      <td>56df25da3277331400b4d9af</td>\n",
              "      <td>In what year did Sony take BMG's half stake in...</td>\n",
              "      <td>2008</td>\n",
              "      <td>13</td>\n",
              "      <td>17</td>\n",
              "      <td>50</td>\n",
              "      <td>1358</td>\n",
              "    </tr>\n",
              "    <tr>\n",
              "      <th>32599</th>\n",
              "      <td>5725b777ec44d21400f3d447</td>\n",
              "      <td>Who form the largest group of Chinese in Indon...</td>\n",
              "      <td>Hokkien speakers</td>\n",
              "      <td>649</td>\n",
              "      <td>665</td>\n",
              "      <td>189</td>\n",
              "      <td>7105</td>\n",
              "    </tr>\n",
              "    <tr>\n",
              "      <th>420</th>\n",
              "      <td>572b88b934ae481900deae7d</td>\n",
              "      <td>What did the FDA order removed from stores in ...</td>\n",
              "      <td>zinc-based intranasal cold products</td>\n",
              "      <td>324</td>\n",
              "      <td>359</td>\n",
              "      <td>337</td>\n",
              "      <td>91</td>\n",
              "    </tr>\n",
              "    <tr>\n",
              "      <th>11855</th>\n",
              "      <td>56f6f4703d8e2e1400e372e0</td>\n",
              "      <td>Instrument currently used in most classical mu...</td>\n",
              "      <td>the mid-19th century</td>\n",
              "      <td>84</td>\n",
              "      <td>104</td>\n",
              "      <td>83</td>\n",
              "      <td>2659</td>\n",
              "    </tr>\n",
              "    <tr>\n",
              "      <th>...</th>\n",
              "      <td>...</td>\n",
              "      <td>...</td>\n",
              "      <td>...</td>\n",
              "      <td>...</td>\n",
              "      <td>...</td>\n",
              "      <td>...</td>\n",
              "      <td>...</td>\n",
              "    </tr>\n",
              "    <tr>\n",
              "      <th>14663</th>\n",
              "      <td>572e9b93cb0c0d14000f134a</td>\n",
              "      <td>Which angel is believed to have communicated t...</td>\n",
              "      <td>Gabriel</td>\n",
              "      <td>85</td>\n",
              "      <td>92</td>\n",
              "      <td>375</td>\n",
              "      <td>3257</td>\n",
              "    </tr>\n",
              "    <tr>\n",
              "      <th>27977</th>\n",
              "      <td>56d62ff01c85041400946fb2</td>\n",
              "      <td>What are conformation shows also known as?</td>\n",
              "      <td>breed shows</td>\n",
              "      <td>43</td>\n",
              "      <td>54</td>\n",
              "      <td>20</td>\n",
              "      <td>6162</td>\n",
              "    </tr>\n",
              "    <tr>\n",
              "      <th>3685</th>\n",
              "      <td>572947c26aef051400154c63</td>\n",
              "      <td>Why does a third of the population spend time ...</td>\n",
              "      <td>seafaring the only real industry</td>\n",
              "      <td>572</td>\n",
              "      <td>604</td>\n",
              "      <td>256</td>\n",
              "      <td>802</td>\n",
              "    </tr>\n",
              "    <tr>\n",
              "      <th>34606</th>\n",
              "      <td>57337fd34776f41900660bfb</td>\n",
              "      <td>How many of the richest families had a decreas...</td>\n",
              "      <td>77</td>\n",
              "      <td>392</td>\n",
              "      <td>394</td>\n",
              "      <td>23</td>\n",
              "      <td>7566</td>\n",
              "    </tr>\n",
              "    <tr>\n",
              "      <th>30599</th>\n",
              "      <td>5728e8813acd2414000e01a6</td>\n",
              "      <td>What was the name of the Dipylon master?</td>\n",
              "      <td>Daedalus</td>\n",
              "      <td>748</td>\n",
              "      <td>756</td>\n",
              "      <td>328</td>\n",
              "      <td>6670</td>\n",
              "    </tr>\n",
              "  </tbody>\n",
              "</table>\n",
              "<p>49938 rows × 7 columns</p>\n",
              "</div>"
            ],
            "text/plain": [
              "                    question_id  ... context_id\n",
              "43157  5728c068ff5b5019007da5fb  ...       9378\n",
              "5957   56df25da3277331400b4d9af  ...       1358\n",
              "32599  5725b777ec44d21400f3d447  ...       7105\n",
              "420    572b88b934ae481900deae7d  ...         91\n",
              "11855  56f6f4703d8e2e1400e372e0  ...       2659\n",
              "...                         ...  ...        ...\n",
              "14663  572e9b93cb0c0d14000f134a  ...       3257\n",
              "27977  56d62ff01c85041400946fb2  ...       6162\n",
              "3685   572947c26aef051400154c63  ...        802\n",
              "34606  57337fd34776f41900660bfb  ...       7566\n",
              "30599  5728e8813acd2414000e01a6  ...       6670\n",
              "\n",
              "[49938 rows x 7 columns]"
            ]
          },
          "metadata": {
            "tags": []
          },
          "execution_count": 59
        }
      ]
    },
    {
      "cell_type": "code",
      "metadata": {
        "id": "TaUcu-8VyTqs",
        "colab": {
          "base_uri": "https://localhost:8080/"
        },
        "outputId": "5c097c78-9bed-4153-d108-5510d7812fa9"
      },
      "source": [
        "# Inspect data samples\r\n",
        "def print_squad_sample(train_data, context_dict, line_length=120, separator_length=150):\r\n",
        "\r\n",
        "  sample = train_data.sample(frac=1).head(1)\r\n",
        "  context = context_dict[sample['context_id'].item()]\r\n",
        "\r\n",
        "  print('='*separator_length, '\\nCONTEXT:\\n', '='*separator_length)\r\n",
        "\r\n",
        "  lines = [''.join(context[idx:idx+line_length]) for idx in range(0, len(context), line_length)]\r\n",
        "  for l in lines:\r\n",
        "      print(l)\r\n",
        "\r\n",
        "  print('='*separator_length, '\\nQUESTION:', ' '*(3*separator_length//4), 'ANSWER:')\r\n",
        "\r\n",
        "  questions = train_data[train_data['context_id'] == sample['context_id'].item()]\r\n",
        "\r\n",
        "  for idx, row in questions.iterrows():\r\n",
        "    question = row.question_text\r\n",
        "    answer = row.answer_text\r\n",
        "    print(question, ' '*(3*separator_length//4-len(question)+9), answer)\r\n",
        "\r\n",
        "print_squad_sample(train_df, train_context_dict)"
      ],
      "execution_count": 60,
      "outputs": [
        {
          "output_type": "stream",
          "text": [
            "====================================================================================================================================================== \n",
            "CONTEXT:\n",
            " ======================================================================================================================================================\n",
            "The University of Kansas School of Architecture, Design, and Planning (SADP), with its main building being Marvin Hall, \n",
            "traces its architectural roots to the creation of the architectural engineering degree program in KU's School of Enginee\n",
            "ring in 1912. The Bachelor of Architecture degree was added in 1920. In 1969, the School of Architecture and Urban Desig\n",
            "n (SAUD) was formed with three programs: architecture, architectural engineering, and urban planning. In 2001 architectu\n",
            "ral engineering merged with civil and environmental engineering. The design programs from the discontinued School of Fin\n",
            "e Arts were merged into the school in 2009 forming the current School of Architecture, Design, and Planning.\n",
            "====================================================================================================================================================== \n",
            "QUESTION:                                                                                                                  ANSWER:\n",
            "What was the name of the school that served as the SADP's precursor?                                                       the School of Architecture and Urban Design\n",
            "With what two other programs was KU's architectural engineering curriculum joined in 2001?                                 civil and environmental engineering\n",
            "In what year did the SADP assume its current form?                                                                         2009\n",
            "Where is the SADP housed?                                                                                                  Marvin Hall\n",
            "What KU school is abbreviated as SADP?                                                                                     The University of Kansas School of Architecture, Design, and Planning\n"
          ],
          "name": "stdout"
        }
      ]
    },
    {
      "cell_type": "markdown",
      "metadata": {
        "id": "hqrIFmrK2Igt"
      },
      "source": [
        "## Tokenizer"
      ]
    },
    {
      "cell_type": "code",
      "metadata": {
        "colab": {
          "base_uri": "https://localhost:8080/"
        },
        "id": "i8fuDPtRNDjg",
        "outputId": "a68c2d3e-c5e9-477c-981a-f59853bd7466"
      },
      "source": [
        "# Load pre-trained model tokenizer (vocabulary)\r\n",
        "tokenizer = BertTokenizer.from_pretrained('bert-base-uncased')\r\n",
        "\r\n",
        "print('[[CLS], [SEP]] = {}'.format(tokenizer.convert_tokens_to_ids(['[CLS]', '[SEP]'])))\r\n",
        "\r\n",
        "# Split the sentence into tokens.\r\n",
        "tokenized_text = tokenizer.tokenize(train_df['question_text'][0])\r\n",
        "\r\n",
        "# Print out the tokens.\r\n",
        "print('\\nTokenized sentence:')\r\n",
        "print(tokenized_text)\r\n",
        "\r\n",
        "# Map the token strings to their vocabulary indeces.\r\n",
        "indexed_tokens = tokenizer.convert_tokens_to_ids(tokenized_text)\r\n",
        "\r\n",
        "# Display the words with their indices.\r\n",
        "print('\\n{:<12} {:>6}\\n'.format('TOKENS', 'INDICES'))\r\n",
        "for tup in zip(tokenized_text, indexed_tokens):\r\n",
        "    print('{:<12} {:>6}'.format(tup[0], tup[1]))"
      ],
      "execution_count": 61,
      "outputs": [
        {
          "output_type": "stream",
          "text": [
            "[[CLS], [SEP]] = [101, 102]\n",
            "\n",
            "Tokenized sentence:\n",
            "['where', 'does', 'migration', 'mainly', 'occur', '?']\n",
            "\n",
            "TOKENS       INDICES\n",
            "\n",
            "where          2073\n",
            "does           2515\n",
            "migration      9230\n",
            "mainly         3701\n",
            "occur          5258\n",
            "?              1029\n"
          ],
          "name": "stdout"
        }
      ]
    },
    {
      "cell_type": "markdown",
      "metadata": {
        "id": "M3Vfn1xvRoiG"
      },
      "source": [
        "## Prepare data for model"
      ]
    },
    {
      "cell_type": "code",
      "metadata": {
        "id": "nEy0mp9yzXjn"
      },
      "source": [
        "# Prints COOL progress bar (No, seriously, it's really cool!)\r\n",
        "# REALLY DUDE, THIS STUFF IS GOLD\r\n",
        "def print_progress(value, total, bar_width=100):\r\n",
        "  perc = int(value/total*bar_width)\r\n",
        "  rest = bar_width - perc\r\n",
        "  print(\"\\r{:>3} % [ {}{} ]\".format(perc, perc*'■', rest*'─'), end=\"\")\r\n",
        "\r\n",
        "# ensure to preserve all sub-sequences of length limi-stride. \r\n",
        "def split_long_sequence(my_sequence, limit, stride):\r\n",
        "\r\n",
        "  if len(my_sequence) <= limit: \r\n",
        "    return [my_sequence]\r\n",
        "  \r\n",
        "  rest = my_sequence\r\n",
        "  split = []\r\n",
        "  while len(rest) > limit:\r\n",
        "    left_hand = rest[:limit]\r\n",
        "    rest = rest[stride:]\r\n",
        "    split.append(left_hand)\r\n",
        "    \r\n",
        "  split.append(rest)\r\n",
        "  return split\r\n",
        "\r\n",
        "# Returns start and end indices of sublist in list\r\n",
        "def find_sublist(a, b):\r\n",
        "  if len(a) == 0 or len(b) == 0:\r\n",
        "    raise Exception(\"Lists with length 0\")\r\n",
        "    \r\n",
        "  for i in range(len(a) - len(b) +1):\r\n",
        "    if np.array_equal(a[i:i+len(b)], b):\r\n",
        "      return i, i+len(b)-1\r\n",
        "  return -1, -1"
      ],
      "execution_count": 62,
      "outputs": []
    },
    {
      "cell_type": "code",
      "metadata": {
        "id": "jayMk-aHPYVB"
      },
      "source": [
        "def from_df_to_model_dict(df, context_dict, verbose=False):\r\n",
        "\r\n",
        "  # initialize structures\r\n",
        "  question_id = []\r\n",
        "  question_text = []\r\n",
        "  context_id = []\r\n",
        "  answer_text = []\r\n",
        "  input_ids = []\r\n",
        "  input_mask = []\r\n",
        "  input_type_ids = []\r\n",
        "  start_indexes = []\r\n",
        "  end_indexes = []\r\n",
        "\r\n",
        "  cut_counter = 0\r\n",
        "  max_iter = len(df)\r\n",
        "  new_entries = 0\r\n",
        "  for i, (_, row) in enumerate(df.iterrows()):\r\n",
        "\r\n",
        "    # print progress\r\n",
        "    if (i+1) % (max_iter // 100) == 0 or i == 0:\r\n",
        "      print_progress(i+1, max_iter)\r\n",
        "\r\n",
        "    # encode question and context\r\n",
        "    if verbose: print(\"\\tTokenizing question and context...\", end=\"\")\r\n",
        "    encoded_question = tokenizer.encode(row['question_text'])\r\n",
        "    encoded_context = tokenizer.encode(context_dict[row['context_id']])[1:]\r\n",
        "\r\n",
        "    # concatenate input data \r\n",
        "    if verbose: print(\"\\tChecking sequence length...\")\r\n",
        "    if len(encoded_question + encoded_context) > SEQUENCE_LIMIT:\r\n",
        "      # if the sequence is too long, split it in n subsequences of length <= SEQUENCE_LIMIT\r\n",
        "      encoded_contexts = split_long_sequence(encoded_context,\r\n",
        "                                             limit=SEQUENCE_LIMIT-len(encoded_question), \r\n",
        "                                             stride=STRIDE)\r\n",
        "      cut_counter += 1\r\n",
        "    else:\r\n",
        "      encoded_contexts = [encoded_context]\r\n",
        "    \r\n",
        "    new_entries += len(encoded_contexts)-1\r\n",
        "    # for each too long sequence, the context has been split in n parts. We need to process them separately, creating new entries for the input\r\n",
        "    for context_piece in encoded_contexts:\r\n",
        "      \r\n",
        "      encoded_input = encoded_question + context_piece\r\n",
        "\r\n",
        "      # create mask of ones\r\n",
        "      ones_mask = tf.ones_like(encoded_input)\r\n",
        "\r\n",
        "      # add padding and convert to tensor\r\n",
        "      if verbose: print(\"\\tPadding...\", end=\"\")\r\n",
        "      encoded_input = tf.keras.preprocessing.sequence.pad_sequences([encoded_input], maxlen=512, padding='pre')\r\n",
        "      encoded_input = tf.squeeze(tf.convert_to_tensor(encoded_input))\r\n",
        "\r\n",
        "      # processing answer indices\r\n",
        "      if verbose: print(\"\\tProcessing answer...\", end=\"\")\r\n",
        "      tokenized_answer = tokenizer.encode(row['answer_text'])[1: -1]\r\n",
        "      start_idx, end_idx = find_sublist(encoded_input, tokenized_answer)\r\n",
        "\r\n",
        "      start_indexes.append(start_idx)\r\n",
        "      end_indexes.append(end_idx)\r\n",
        "\r\n",
        "\r\n",
        "      # create input_type_ids\r\n",
        "      if verbose: print(\"\\tInput types creation...\", end=\"\")\r\n",
        "      type_ids = tf.concat([tf.zeros_like(encoded_question, dtype=tf.int32), \r\n",
        "                            tf.ones_like(context_piece, dtype=tf.int32)], \r\n",
        "                          axis=-1)\r\n",
        "      \r\n",
        "      type_ids = tf.keras.preprocessing.sequence.pad_sequences([type_ids], maxlen=512, padding='pre')\r\n",
        "      type_ids = tf.squeeze(tf.convert_to_tensor(type_ids))\r\n",
        "\r\n",
        "\r\n",
        "      # create mask of zeros\r\n",
        "      if verbose: print(\"\\tMask creation...\", end=\"\")\r\n",
        "      zeros_mask = tf.zeros(SEQUENCE_LIMIT - len(ones_mask), dtype=tf.int32)\r\n",
        "      mask = tf.concat([zeros_mask, ones_mask], axis=-1)\r\n",
        "\r\n",
        "      # append elements to lists\r\n",
        "      if verbose: print(\"\\tAppending inputs...\", end=\"\")\r\n",
        "      question_id.append(row['question_id'])\r\n",
        "      question_text.append(row['question_text'])\r\n",
        "      context_id.append(row['context_id'])\r\n",
        "      answer_text.append(row['answer_text'])\r\n",
        "      input_ids.append(encoded_input)\r\n",
        "      input_mask.append(mask)\r\n",
        "      input_type_ids.append(type_ids)\r\n",
        "\r\n",
        "  # save input data as dictionary\r\n",
        "  data = {\r\n",
        "    'question_id': question_id,\r\n",
        "    'question_text': question_text,\r\n",
        "    'answer_text': answer_text,\r\n",
        "    'context_id': context_id,\r\n",
        "    'input_ids': tf.convert_to_tensor(input_ids),\r\n",
        "    'attention_mask': tf.convert_to_tensor(input_mask),\r\n",
        "    'token_type_ids': tf.convert_to_tensor(input_type_ids),\r\n",
        "    'start_idx': start_indexes,\r\n",
        "    'end_idx': end_indexes,\r\n",
        "    }\r\n",
        "\r\n",
        "  assert len(input_ids) == len(df) + new_entries, f\"ATTENTION:\\nci sono {len(input_ids)} input_ids, MA {len(df)} righe nel df e {new_entries} nuove entries\"\r\n",
        "  return data"
      ],
      "execution_count": 63,
      "outputs": []
    },
    {
      "cell_type": "markdown",
      "metadata": {
        "id": "UXCcgd3cSgAm"
      },
      "source": [
        "# Building Dataset"
      ]
    },
    {
      "cell_type": "code",
      "metadata": {
        "id": "irK7yfKKV1LU",
        "colab": {
          "base_uri": "https://localhost:8080/"
        },
        "outputId": "44b69b96-c741-4348-9718-375e5491d0f2"
      },
      "source": [
        "if not LOAD_DATASET:\r\n",
        "  print(\"Building training set...\")\r\n",
        "  train = from_df_to_model_dict(train_df[:TRAIN_LIMIT], train_context_dict)\r\n",
        "\r\n",
        "  print(\"\\n\\nBuilding validation set...\")\r\n",
        "  val = from_df_to_model_dict(val_df[:VAL_LIMIT], val_context_dict)\r\n",
        "\r\n",
        "  print(\"\\n\\nBuilding test set...\")\r\n",
        "  test = from_df_to_model_dict(test_df[:TEST_LIMIT], test_context_dict)"
      ],
      "execution_count": 64,
      "outputs": [
        {
          "output_type": "stream",
          "text": [
            "Building training set...\n",
            "100 % [ ■■■■■■■■■■■■■■■■■■■■■■■■■■■■■■■■■■■■■■■■■■■■■■■■■■■■■■■■■■■■■■■■■■■■■■■■■■■■■■■■■■■■■■■■■■■■■■■■■■■■ ]\n",
            "\n",
            "Building validation set...\n",
            "100 % [ ■■■■■■■■■■■■■■■■■■■■■■■■■■■■■■■■■■■■■■■■■■■■■■■■■■■■■■■■■■■■■■■■■■■■■■■■■■■■■■■■■■■■■■■■■■■■■■■■■■■■ ]\n",
            "\n",
            "Building test set...\n",
            "100 % [ ■■■■■■■■■■■■■■■■■■■■■■■■■■■■■■■■■■■■■■■■■■■■■■■■■■■■■■■■■■■■■■■■■■■■■■■■■■■■■■■■■■■■■■■■■■■■■■■■■■■■ ]"
          ],
          "name": "stdout"
        }
      ]
    },
    {
      "cell_type": "markdown",
      "metadata": {
        "id": "DBvYDn5dUSTF"
      },
      "source": [
        "# Index to categorical\r\n"
      ]
    },
    {
      "cell_type": "code",
      "metadata": {
        "id": "9iktKwoXUKAj",
        "colab": {
          "base_uri": "https://localhost:8080/"
        },
        "outputId": "198cd260-bb18-418f-9e89-541f9129ad6e"
      },
      "source": [
        "if not LOAD_DATASET: \r\n",
        "  # Replace -1 (answer not found) with 0\r\n",
        "  train['start_idx'] = [val if val != -1 else 0 for val in train['start_idx']]\r\n",
        "  train['end_idx'] = [val if val != -1 else 0 for val in train['end_idx']]\r\n",
        "\r\n",
        "  val['start_idx'] = [val if val != -1 else 0 for val in val['start_idx']]\r\n",
        "  val['end_idx'] = [val if val != -1 else 0 for val in val['end_idx']]\r\n",
        "\r\n",
        "  test['start_idx'] = [val if val != -1 else 0 for val in test['start_idx']]\r\n",
        "  test['end_idx'] = [val if val != -1 else 0 for val in test['end_idx']]\r\n",
        "\r\n",
        "  # from ints to categorical\r\n",
        "  train['start_cat'] = tf.keras.utils.to_categorical(train['start_idx'], num_classes=SEQUENCE_LIMIT)\r\n",
        "  train['end_cat'] = tf.keras.utils.to_categorical(train['end_idx'], num_classes=SEQUENCE_LIMIT)\r\n",
        "\r\n",
        "  val['start_cat'] = tf.keras.utils.to_categorical(val['start_idx'], num_classes=SEQUENCE_LIMIT)\r\n",
        "  val['end_cat'] = tf.keras.utils.to_categorical(val['end_idx'], num_classes=SEQUENCE_LIMIT)\r\n",
        "\r\n",
        "  test['start_cat'] = tf.keras.utils.to_categorical(test['start_idx'], num_classes=SEQUENCE_LIMIT)\r\n",
        "  test['end_cat'] = tf.keras.utils.to_categorical(test['end_idx'], num_classes=SEQUENCE_LIMIT)\r\n",
        "\r\n",
        "  # Inspect data\r\n",
        "  assert len(train['start_idx']) == len(train['end_idx']) == len(train['input_ids']) == len(train['attention_mask']) == len(train['token_type_ids'])\r\n",
        "  assert len(val['start_idx']) == len(val['end_idx']) == len(val['input_ids']) == len(val['attention_mask']) == len(val['token_type_ids'])\r\n",
        "  assert len(test['start_idx']) == len(test['end_idx']) == len(test['input_ids']) == len(test['attention_mask']) == len(test['token_type_ids'])\r\n",
        "\r\n",
        "  print(\"Shapes\")\r\n",
        "  print(\"\\nTrain starts:\\t\", train['start_cat'].shape)\r\n",
        "  print(\"Train ends:\\t\", train['end_cat'].shape)\r\n",
        "  print(\"\\nVal starts:\\t\", val['start_cat'].shape)\r\n",
        "  print(\"Val ends:\\t\", val['end_cat'].shape)\r\n",
        "  print(\"\\nTest starts:\\t\", test['start_cat'].shape)\r\n",
        "  print(\"Test ends:\\t\", test['end_cat'].shape)"
      ],
      "execution_count": 65,
      "outputs": [
        {
          "output_type": "stream",
          "text": [
            "Shapes\n",
            "\n",
            "Train starts:\t (1001, 512)\n",
            "Train ends:\t (1001, 512)\n",
            "\n",
            "Val starts:\t (500, 512)\n",
            "Val ends:\t (500, 512)\n",
            "\n",
            "Test starts:\t (501, 512)\n",
            "Test ends:\t (501, 512)\n"
          ],
          "name": "stdout"
        }
      ]
    },
    {
      "cell_type": "markdown",
      "metadata": {
        "id": "i5MRM0Q_LXyW"
      },
      "source": [
        "# Save data to Drive"
      ]
    },
    {
      "cell_type": "code",
      "metadata": {
        "id": "RWW1mTlHrwe9"
      },
      "source": [
        "if SAVE_DATASET:\r\n",
        "\r\n",
        "  # TRAIN\r\n",
        "  with open(\"/content/drive/MyDrive/SQUAD/train.p\", \"wb\") as f:\r\n",
        "    pickle.dump(train, f)\r\n",
        "  with open(\"/content/drive/MyDrive/SQUAD/train_context_dict.p\", \"wb\") as f:\r\n",
        "    pickle.dump(train_context_dict, f)\r\n",
        "\r\n",
        "  # VALIDATION\r\n",
        "  with open(\"/content/drive/MyDrive/SQUAD/val.p\", \"wb\") as f:\r\n",
        "    pickle.dump(val, f)\r\n",
        "  with open(\"/content/drive/MyDrive/SQUAD/val_context_dict.p\", \"wb\") as f:\r\n",
        "    pickle.dump(val_context_dict, f)\r\n",
        "\r\n",
        "  # TEST\r\n",
        "  with open(\"/content/drive/MyDrive/SQUAD/test.p\", \"wb\") as f:\r\n",
        "    pickle.dump(test, f)\r\n",
        "  with open(\"/content/drive/MyDrive/SQUAD/test_context_dict.p\", \"wb\") as f:\r\n",
        "    pickle.dump(test_context_dict, f)"
      ],
      "execution_count": 66,
      "outputs": []
    },
    {
      "cell_type": "markdown",
      "metadata": {
        "id": "Ok4Z7Xhltev_"
      },
      "source": [
        "# Load data from Drive"
      ]
    },
    {
      "cell_type": "code",
      "metadata": {
        "id": "ECyBOk-mtaHG"
      },
      "source": [
        "if LOAD_DATASET:\r\n",
        "\r\n",
        "  # TRAIN\r\n",
        "  with open(\"/content/drive/MyDrive/SQUAD/train.p\", \"rb\") as f:\r\n",
        "    train = pickle.load(f)\r\n",
        "  with open(\"/content/drive/MyDrive/SQUAD/train_context_dict.p\", \"rb\") as f:\r\n",
        "    train_context_dict = pickle.load(f)\r\n",
        "\r\n",
        "  # VALIDATION\r\n",
        "  with open(\"/content/drive/MyDrive/SQUAD/val.p\", \"rb\") as f:\r\n",
        "    val = pickle.load(f)\r\n",
        "  with open(\"/content/drive/MyDrive/SQUAD/val_context_dict.p\", \"rb\") as f:\r\n",
        "    val_context_dict = pickle.load(f)\r\n",
        "\r\n",
        "  # TEST\r\n",
        "  with open(\"/content/drive/MyDrive/SQUAD/test.p\", \"rb\") as f:\r\n",
        "    test = pickle.load(f)\r\n",
        "  with open(\"/content/drive/MyDrive/SQUAD/test_context_dict.p\", \"rb\") as f:\r\n",
        "    test_context_dict = pickle.load(f)"
      ],
      "execution_count": 67,
      "outputs": []
    },
    {
      "cell_type": "code",
      "metadata": {
        "colab": {
          "base_uri": "https://localhost:8080/"
        },
        "id": "U5y-6b7Mg4P0",
        "outputId": "9ec07c48-98a7-4b95-bdf0-ed6debbb0dee"
      },
      "source": [
        "print(\"Shapes\")\r\n",
        "print(\"\\nTrain starts:\\t\", train['start_cat'].shape)\r\n",
        "print(\"Train ends:\\t\", train['end_cat'].shape)\r\n",
        "print(\"\\nVal starts:\\t\", val['start_cat'].shape)\r\n",
        "print(\"Val ends:\\t\", val['end_cat'].shape)\r\n",
        "print(\"\\nTest starts:\\t\", test['start_cat'].shape)\r\n",
        "print(\"Test ends:\\t\", test['end_cat'].shape)\r\n",
        "\r\n",
        "assert train['start_cat'].shape == train['end_cat'].shape\r\n",
        "assert val['start_cat'].shape == val['end_cat'].shape\r\n",
        "assert test['start_cat'].shape == test['end_cat'].shape"
      ],
      "execution_count": 68,
      "outputs": [
        {
          "output_type": "stream",
          "text": [
            "Shapes\n",
            "\n",
            "Train starts:\t (1001, 512)\n",
            "Train ends:\t (1001, 512)\n",
            "\n",
            "Val starts:\t (500, 512)\n",
            "Val ends:\t (500, 512)\n",
            "\n",
            "Test starts:\t (501, 512)\n",
            "Test ends:\t (501, 512)\n"
          ],
          "name": "stdout"
        }
      ]
    },
    {
      "cell_type": "markdown",
      "metadata": {
        "id": "6mZbcRg48o3E"
      },
      "source": [
        "# Build model"
      ]
    },
    {
      "cell_type": "code",
      "metadata": {
        "id": "IIljcOb8h-8u"
      },
      "source": [
        "from keras.layers import Dropout, Activation"
      ],
      "execution_count": 69,
      "outputs": []
    },
    {
      "cell_type": "code",
      "metadata": {
        "colab": {
          "base_uri": "https://localhost:8080/",
          "height": 1000
        },
        "id": "3PJ2O1Zn8nqr",
        "outputId": "eab1326b-e2f7-4d9d-fefd-a3531e9ab69a"
      },
      "source": [
        "@tf.autograph.experimental.do_not_convert\r\n",
        "def build_model():\r\n",
        "\r\n",
        "  # Define Input layers\r\n",
        "  input_ids_layer = Input(shape = (512,), dtype='int64')\r\n",
        "  attention_mask_layer = Input(shape = (512,), dtype='int64')\r\n",
        "  token_ids_layer = Input(shape = (512,), dtype='int64')\r\n",
        "\r\n",
        "  # Load Bert model\r\n",
        "  bert_model = TFBertModel.from_pretrained('bert-base-uncased')\r\n",
        "  \r\n",
        "  bert_model.trainable = True\r\n",
        "  \r\n",
        "  # Initialize bert model\r\n",
        "  bert = bert_model([input_ids_layer,\r\n",
        "                    attention_mask_layer,\r\n",
        "                    token_ids_layer],\r\n",
        "                    return_dict = False,\r\n",
        "                    output_attentions = False,\r\n",
        "                    output_hidden_states = False\r\n",
        "                    ).last_hidden_state\r\n",
        "  \r\n",
        "  # Dropout\r\n",
        "  dropout = Dropout(0.2)(bert)\r\n",
        "\r\n",
        "  # Classifiers\r\n",
        "  start_classifier = Dense(units=1, name=\"Start_classifier\")(dropout)\r\n",
        "  end_classifier = Dense(units=1, name=\"End_classifier\")(dropout)\r\n",
        "\r\n",
        "  # Flatteners\r\n",
        "  start_flat = Flatten()(start_classifier)\r\n",
        "  end_flat = Flatten()(end_classifier)\r\n",
        "\r\n",
        "  # Activations\r\n",
        "  start_softmax = Activation(tf.keras.activations.softmax)(start_flat)\r\n",
        "  end_softmax = Activation(tf.keras.activations.softmax)(end_flat)\r\n",
        "\r\n",
        "  # Build model\r\n",
        "  model = Model(inputs=[input_ids_layer, attention_mask_layer, token_ids_layer], \r\n",
        "                outputs=[start_softmax, end_softmax])\r\n",
        "  \r\n",
        "  model.summary()\r\n",
        "  return model\r\n",
        "\r\n",
        "model = build_model()\r\n",
        "plot_model(model, show_shapes=True)"
      ],
      "execution_count": 70,
      "outputs": [
        {
          "output_type": "stream",
          "text": [
            "WARNING:tensorflow:The parameters `output_attentions`, `output_hidden_states` and `use_cache` cannot be updated when calling a model.They have to be set to True/False in the config object (i.e.: `config=XConfig.from_pretrained('name', output_attentions=True)`).\n",
            "WARNING:tensorflow:The parameter `return_dict` cannot be set in graph mode and will always be set to `True`.\n",
            "WARNING:tensorflow:The parameters `output_attentions`, `output_hidden_states` and `use_cache` cannot be updated when calling a model.They have to be set to True/False in the config object (i.e.: `config=XConfig.from_pretrained('name', output_attentions=True)`).\n",
            "WARNING:tensorflow:The parameter `return_dict` cannot be set in graph mode and will always be set to `True`.\n",
            "Model: \"model_1\"\n",
            "__________________________________________________________________________________________________\n",
            "Layer (type)                    Output Shape         Param #     Connected to                     \n",
            "==================================================================================================\n",
            "input_4 (InputLayer)            [(None, 512)]        0                                            \n",
            "__________________________________________________________________________________________________\n",
            "input_5 (InputLayer)            [(None, 512)]        0                                            \n",
            "__________________________________________________________________________________________________\n",
            "input_6 (InputLayer)            [(None, 512)]        0                                            \n",
            "__________________________________________________________________________________________________\n",
            "tf_bert_model_1 (TFBertModel)   TFBaseModelOutputWit 109482240   input_4[0][0]                    \n",
            "                                                                 input_5[0][0]                    \n",
            "                                                                 input_6[0][0]                    \n",
            "__________________________________________________________________________________________________\n",
            "dropout_74 (Dropout)            (None, 512, 768)     0           tf_bert_model_1[0][0]            \n",
            "__________________________________________________________________________________________________\n",
            "Start_classifier (Dense)        (None, 512, 1)       769         dropout_74[0][0]                 \n",
            "__________________________________________________________________________________________________\n",
            "End_classifier (Dense)          (None, 512, 1)       769         dropout_74[0][0]                 \n",
            "__________________________________________________________________________________________________\n",
            "flatten_2 (Flatten)             (None, 512)          0           Start_classifier[0][0]           \n",
            "__________________________________________________________________________________________________\n",
            "flatten_3 (Flatten)             (None, 512)          0           End_classifier[0][0]             \n",
            "__________________________________________________________________________________________________\n",
            "activation (Activation)         (None, 512)          0           flatten_2[0][0]                  \n",
            "__________________________________________________________________________________________________\n",
            "activation_1 (Activation)       (None, 512)          0           flatten_3[0][0]                  \n",
            "==================================================================================================\n",
            "Total params: 109,483,778\n",
            "Trainable params: 109,483,778\n",
            "Non-trainable params: 0\n",
            "__________________________________________________________________________________________________\n"
          ],
          "name": "stdout"
        },
        {
          "output_type": "execute_result",
          "data": {
            "image/png": "[encoded data removed]",
            "text/plain": [
              "<IPython.core.display.Image object>"
            ]
          },
          "metadata": {
            "tags": []
          },
          "execution_count": 70
        }
      ]
    },
    {
      "cell_type": "markdown",
      "metadata": {
        "id": "gfUxCHLSusuV"
      },
      "source": [
        "# Train"
      ]
    },
    {
      "cell_type": "code",
      "metadata": {
        "id": "Q_6bUyPDVZaF"
      },
      "source": [
        "# Define model parameters\r\n",
        "optimizer = tf.keras.optimizers.Adam(learning_rate=5e-5, epsilon=1e-08\r\n",
        "                                     #, clipnorm=1.0\r\n",
        "                                     )\r\n",
        "loss = tf.keras.losses.SparseCategoricalCrossentropy(from_logits=True)\r\n",
        "metric = tf.keras.metrics.SparseCategoricalAccuracy('accuracy')\r\n",
        "model.compile(optimizer=optimizer, loss=loss, metrics=[metric])"
      ],
      "execution_count": 71,
      "outputs": []
    },
    {
      "cell_type": "code",
      "metadata": {
        "id": "tWSOD3u_Zd6T"
      },
      "source": [
        "def print_train_progress(value, total, outputs, bar_width=100):\r\n",
        "  perc = int(value/total*bar_width)\r\n",
        "  rest = bar_width - perc\r\n",
        "  print(\"\\r{:>3} % [ {}{} ] start_loss: {} end_loss: {} start_accuracy: {} end_accuracy: {}\".format(perc, perc*'■', rest*'─', outputs[1], outputs[2], outputs[3], outputs[4]), end=\"\")"
      ],
      "execution_count": 72,
      "outputs": []
    },
    {
      "cell_type": "code",
      "metadata": {
        "colab": {
          "base_uri": "https://localhost:8080/"
        },
        "id": "OvoeggnYYKdJ",
        "outputId": "ff70a0b5-2129-46bc-c82e-92f927de0075"
      },
      "source": [
        "# Fit model in batches\r\n",
        "batches_for_epoch = len(train['input_ids'])//BATCH_SIZE\r\n",
        "\r\n",
        "if LOAD_WEIGHTS:\r\n",
        "  model.load_weights('/content/drive/MyDrive/SQUAD/weights.h5')\r\n",
        "  \r\n",
        "for i in range(EPOCHS):\r\n",
        "  for j in range(batches_for_epoch):\r\n",
        "\r\n",
        "    batch_start = j*BATCH_SIZE\r\n",
        "    batch_end = j*BATCH_SIZE + BATCH_SIZE\r\n",
        "\r\n",
        "    outputs = model.train_on_batch(x = [train['input_ids'][batch_start : batch_end],\r\n",
        "                                        train['attention_mask'][batch_start : batch_end],\r\n",
        "                                        train['token_type_ids'][batch_start : batch_end]],\r\n",
        "                                    y = (np.array(train['start_idx'][batch_start : batch_end], dtype=np.float32),\r\n",
        "                                        np.array(train['end_idx'][batch_start : batch_end], dtype=np.float32)))\r\n",
        "    \r\n",
        "    print_train_progress(j, batches_for_epoch, outputs)\r\n",
        "\r\n",
        "  if SAVE_WEIGHTS:\r\n",
        "    model.save_weights('/content/drive/MyDrive/SQUAD/weights.h5')"
      ],
      "execution_count": 73,
      "outputs": [
        {
          "output_type": "stream",
          "text": [
            "WARNING:tensorflow:The parameters `output_attentions`, `output_hidden_states` and `use_cache` cannot be updated when calling a model.They have to be set to True/False in the config object (i.e.: `config=XConfig.from_pretrained('name', output_attentions=True)`).\n",
            "WARNING:tensorflow:The parameter `return_dict` cannot be set in graph mode and will always be set to `True`.\n",
            "WARNING:tensorflow:The parameters `output_attentions`, `output_hidden_states` and `use_cache` cannot be updated when calling a model.They have to be set to True/False in the config object (i.e.: `config=XConfig.from_pretrained('name', output_attentions=True)`).\n",
            "WARNING:tensorflow:The parameter `return_dict` cannot be set in graph mode and will always be set to `True`.\n",
            "WARNING:tensorflow:Gradients do not exist for variables ['tf_bert_model_1/bert/pooler/dense/kernel:0', 'tf_bert_model_1/bert/pooler/dense/bias:0'] when minimizing the loss.\n",
            "WARNING:tensorflow:The parameters `output_attentions`, `output_hidden_states` and `use_cache` cannot be updated when calling a model.They have to be set to True/False in the config object (i.e.: `config=XConfig.from_pretrained('name', output_attentions=True)`).\n",
            "WARNING:tensorflow:The parameter `return_dict` cannot be set in graph mode and will always be set to `True`.\n",
            "WARNING:tensorflow:The parameters `output_attentions`, `output_hidden_states` and `use_cache` cannot be updated when calling a model.They have to be set to True/False in the config object (i.e.: `config=XConfig.from_pretrained('name', output_attentions=True)`).\n",
            "WARNING:tensorflow:The parameter `return_dict` cannot be set in graph mode and will always be set to `True`.\n",
            "WARNING:tensorflow:Gradients do not exist for variables ['tf_bert_model_1/bert/pooler/dense/kernel:0', 'tf_bert_model_1/bert/pooler/dense/bias:0'] when minimizing the loss.\n",
            " 99 % [ ■■■■■■■■■■■■■■■■■■■■■■■■■■■■■■■■■■■■■■■■■■■■■■■■■■■■■■■■■■■■■■■■■■■■■■■■■■■■■■■■■■■■■■■■■■■■■■■■■■■─ ] start_loss: 2.372654676437378 end_loss: 1.557212233543396 start_accuracy: 0.3333333432674408 end_accuracy: 0.5"
          ],
          "name": "stdout"
        }
      ]
    },
    {
      "cell_type": "code",
      "metadata": {
        "id": "69cHTOSZGuyG"
      },
      "source": [
        "# # Fit model with train set\r\n",
        "# model_fit = model.fit(x = [train['input_ids'][:TRAIN_LIMIT],\r\n",
        "#                            train['attention_mask'][:TRAIN_LIMIT],\r\n",
        "#                            train['token_type_ids'][:TRAIN_LIMIT]],\r\n",
        "#                       y = (np.array(train['start_idx'][:TRAIN_LIMIT], dtype=np.float32),\r\n",
        "#                            np.array(train['end_idx'][:TRAIN_LIMIT], dtype=np.float32)),\r\n",
        "                       \r\n",
        "#                       batch_size = BATCH_SIZE,\r\n",
        "                       \r\n",
        "#                       epochs = EPOCHS, \r\n",
        "                      \r\n",
        "#                       validation_data=([val['input_ids'][:VAL_LIMIT],\r\n",
        "#                                         val['attention_mask'][:VAL_LIMIT],\r\n",
        "#                                         val['token_type_ids'][:VAL_LIMIT]],\r\n",
        "#                                         (np.array(val['start_idx'][:VAL_LIMIT], dtype=np.float32),\r\n",
        "#                                          np.array(val['end_idx'][:VAL_LIMIT], dtype=np.float32))\r\n",
        "#                                        )\r\n",
        "#                       )"
      ],
      "execution_count": 74,
      "outputs": []
    },
    {
      "cell_type": "markdown",
      "metadata": {
        "id": "qBZuBfspH47n"
      },
      "source": [
        "# Test"
      ]
    },
    {
      "cell_type": "code",
      "metadata": {
        "id": "MB8A1y-iaK_w",
        "colab": {
          "base_uri": "https://localhost:8080/"
        },
        "outputId": "1d64a339-936d-4c5f-99ac-2b463432a69f"
      },
      "source": [
        "# Predict test set\r\n",
        "pred = model.predict([test[\"input_ids\"][:TEST_LIMIT], \r\n",
        "                      test[\"attention_mask\"][:TEST_LIMIT], \r\n",
        "                      test[\"token_type_ids\"][:TEST_LIMIT]])\r\n",
        "\r\n",
        "pred_start_ids = np.argmax(pred[0], axis=-1)\r\n",
        "pred_end_ids = np.argmax(pred[1], axis=-1)"
      ],
      "execution_count": 75,
      "outputs": [
        {
          "output_type": "stream",
          "text": [
            "WARNING:tensorflow:The parameters `output_attentions`, `output_hidden_states` and `use_cache` cannot be updated when calling a model.They have to be set to True/False in the config object (i.e.: `config=XConfig.from_pretrained('name', output_attentions=True)`).\n",
            "WARNING:tensorflow:The parameter `return_dict` cannot be set in graph mode and will always be set to `True`.\n",
            "WARNING:tensorflow:The parameters `output_attentions`, `output_hidden_states` and `use_cache` cannot be updated when calling a model.They have to be set to True/False in the config object (i.e.: `config=XConfig.from_pretrained('name', output_attentions=True)`).\n",
            "WARNING:tensorflow:The parameter `return_dict` cannot be set in graph mode and will always be set to `True`.\n"
          ],
          "name": "stdout"
        }
      ]
    },
    {
      "cell_type": "code",
      "metadata": {
        "colab": {
          "base_uri": "https://localhost:8080/"
        },
        "id": "SQTezuqNgS3v",
        "outputId": "b3aee6fd-49a5-4eb9-f090-2ca1cad9924f"
      },
      "source": [
        "start_acc =  accuracy_score(test['start_idx'][:TEST_LIMIT], pred_start_ids)\r\n",
        "start_f1 = f1_score(test['start_idx'][:TEST_LIMIT], pred_start_ids, average=\"macro\")\r\n",
        "end_acc = accuracy_score(test['end_idx'][:TEST_LIMIT], pred_end_ids)\r\n",
        "end_f1 = f1_score(test['end_idx'][:TEST_LIMIT], pred_end_ids, average=\"macro\")\r\n",
        "\r\n",
        "print(\"test start accuracy:\", start_acc)\r\n",
        "print(\"test start f1-score:\", start_f1, '\\n')\r\n",
        "\r\n",
        "print(\"test end accuracy:\", end_acc)\r\n",
        "print(\"test end f1-score:\", end_f1)"
      ],
      "execution_count": 104,
      "outputs": [
        {
          "output_type": "stream",
          "text": [
            "test start accuracy: 0.426\n",
            "test start f1-score: 0.32138437320255503 \n",
            "\n",
            "test end accuracy: 0.476\n",
            "test end f1-score: 0.3549736069231483\n"
          ],
          "name": "stdout"
        }
      ]
    },
    {
      "cell_type": "code",
      "metadata": {
        "colab": {
          "base_uri": "https://localhost:8080/"
        },
        "id": "uIuAA3o9gCWs",
        "outputId": "e2369ed9-e580-4cdc-aac5-26bc32477fb5"
      },
      "source": [
        "def get_text_from_token_ids(context, start_id, end_id):\r\n",
        "  return tokenizer.convert_tokens_to_string(tokenizer.convert_ids_to_tokens(context[start_id:end_id+1]))\r\n",
        "\r\n",
        "boom_baby = 0\r\n",
        "for i, _ in enumerate(test['input_ids'][:TEST_LIMIT]):\r\n",
        "\r\n",
        "  true_answer = test['answer_text'][i]\r\n",
        "  predicted_answer = get_text_from_token_ids(test['input_ids'][i], pred_start_ids[i], pred_end_ids[i])\r\n",
        "\r\n",
        "  if pred_start_ids[i] == test['start_idx'][i] and pred_end_ids[i] == test['end_idx'][i]: boom_baby += 1\r\n",
        "\r\n",
        "  if i % 100 == 0:\r\n",
        "    print(\"\\n\\nQuestion: \\n\", test[\"question_text\"][i])\r\n",
        "    print(\"Context: \\n\", test_context_dict[test[\"context_id\"][i]])\r\n",
        "\r\n",
        "    print(f\"True answer: \\n\\tids {(test['start_idx'][i], test['end_idx'][i])}\\t\\ttext: {test['answer_text'][i]}\")\r\n",
        "    print(f\"Our answer: \\n\\tids {(pred_start_ids[i], pred_end_ids[i])}\\t\\ttext: {predicted_answer}\")\r\n",
        "\r\n",
        "    print(\"\\n\", \"-\"*50)"
      ],
      "execution_count": 92,
      "outputs": [
        {
          "output_type": "stream",
          "text": [
            "\n",
            "\n",
            "Question: \n",
            " In what structure was Eisenhower's headquarters in the US Occupation Zone?\n",
            "Context: \n",
            " Following the German unconditional surrender, Eisenhower was appointed Military Governor of the U.S. Occupation Zone, based at the IG Farben Building in Frankfurt am Main. He had no responsibility for the other three zones, controlled by Britain, France and the Soviet Union, except for the city of Berlin, which was managed by the Four-Power Authorities through the Allied Kommandatura as the governing body. Upon discovery of the Nazi concentration camps, he ordered camera crews to document evidence of the atrocities in them for use in the Nuremberg Trials. He reclassified German prisoners of war (POWs) in U.S. custody as Disarmed Enemy Forces (DEFs), who were no longer subject to the Geneva Convention. Eisenhower followed the orders laid down by the Joint Chiefs of Staff (JCS) in directive JCS 1067, but softened them by bringing in 400,000 tons of food for civilians and allowing more fraternization. In response to the devastation in Germany, including food shortages and an influx of refugees, he arranged distribution of American food and medical equipment. His actions reflected the new American attitudes of the German people as Nazi victims not villains, while aggressively purging the ex-Nazis.\n",
            "True answer: \n",
            "\tids (290, 294)\t\ttext: IG Farben Building\n",
            "Our answer: \n",
            "\tids (296, 294)\t\ttext: \n",
            "\n",
            " --------------------------------------------------\n",
            "\n",
            "\n",
            "Question: \n",
            " On what month and day did the Silver Dart take its first flight?\n",
            "Context: \n",
            " Their final aircraft design, the Silver Dart, embodied all of the advancements found in the earlier machines. On February 23, 1909, Bell was present as the Silver Dart flown by J.A.D. McCurdy from the frozen ice of Bras d'Or, made the first aircraft flight in Canada. Bell had worried that the flight was too dangerous and had arranged for a doctor to be on hand. With the successful flight, the AEA disbanded and the Silver Dart would revert to Baldwin and McCurdy who began the Canadian Aerodrome Company and would later demonstrate the aircraft to the Canadian Army.\n",
            "True answer: \n",
            "\tids (410, 411)\t\ttext: February 23\n",
            "Our answer: \n",
            "\tids (413, 413)\t\ttext: 1909\n",
            "\n",
            " --------------------------------------------------\n",
            "\n",
            "\n",
            "Question: \n",
            " Which contestant was saved by the judges in season nine of American Idol?\n",
            "Context: \n",
            " Michael Lynche was the lowest vote getter at top nine and was given the Judges' Save. The next week Katie Stevens and Andrew Garcia were eliminated. That week, Adam Lambert was invited back to be a mentor, the first Idol alum to do so. Idol Gives Back returned this season on April 21, 2010, and raised $45 million.\n",
            "True answer: \n",
            "\tids (440, 442)\t\ttext: Michael Lynche\n",
            "Our answer: \n",
            "\tids (463, 464)\t\ttext: katie stevens\n",
            "\n",
            " --------------------------------------------------\n",
            "\n",
            "\n",
            "Question: \n",
            " When was Cleopatra defeated at the Battle of Actium?\n",
            "Context: \n",
            " The Roman Republic (Latin: Res publica Romana; Classical Latin: [ˈreːs ˈpuːb.lɪ.ka roːˈmaː.na]) was the period of ancient Roman civilization beginning with the overthrow of the Roman Kingdom, traditionally dated to 509 BC, and ending in 27 BC with the establishment of the Roman Empire. It was during this period that Rome's control expanded from the city's immediate surroundings to hegemony over the entire Mediterranean world. During the first two centuries of its existence, the Roman Republic expanded through a combination of conquest and alliance, from central Italy to the entire Italian peninsula. By the following century, it included North Africa, Spain, and what is now southern France. Two centuries after that, towards the end of the 1st century BC, it included the rest of modern France, Greece, and much of the eastern Mediterranean. By this time, internal tensions led to a series of civil wars, culminating with the assassination of Julius Caesar, which led to the transition from republic to empire. The exact date of transition can be a matter of interpretation. Historians have variously proposed Julius Caesar's crossing of the Rubicon River in 49 BC, Caesar's appointment as dictator for life in 44 BC, and the defeat of Mark Antony and Cleopatra at the Battle of Actium in 31 BC. However, most use the same date as did the ancient Romans themselves, the Roman Senate's grant of extraordinary powers to Octavian and his adopting the title Augustus in 27 BC, as the defining event ending the Republic.\n",
            "True answer: \n",
            "\tids (464, 465)\t\ttext: 31 BC\n",
            "Our answer: \n",
            "\tids (464, 465)\t\ttext: 31 bc\n",
            "\n",
            " --------------------------------------------------\n",
            "\n",
            "\n",
            "Question: \n",
            " Who owned the Columbus Destroyers in 2008?\n",
            "Context: \n",
            " Although the Arenafootball2 league played its tenth season in 2009, a conference call in December 2008 resulted in enough votes from owners and cooperation from the AFLPA for the AFL to suspend the entire 2009 season in order to create \"a long-term plan to improve its economic model\". In doing so, the AFL became the second sports league to cancel an entire season, after the National Hockey League cancelled the 2004-05 season because of a lockout. The AFL also became the third sports league to lose its postseason (the first being Major League Baseball, which lost its postseason in 1994 because of a strike). Efforts to reformat the league's business model were placed under the leadership of Columbus Destroyers owner Jim Renacci and interim commissioner Policy.\n",
            "True answer: \n",
            "\tids (502, 505)\t\ttext: Jim Renacci\n",
            "Our answer: \n",
            "\tids (502, 505)\t\ttext: jim renacci\n",
            "\n",
            " --------------------------------------------------\n"
          ],
          "name": "stdout"
        }
      ]
    },
    {
      "cell_type": "code",
      "metadata": {
        "id": "WzMIwH85RATH",
        "colab": {
          "base_uri": "https://localhost:8080/"
        },
        "outputId": "72574f68-ac2e-47c0-ec6e-4fb03384e7de"
      },
      "source": [
        "print(f\"Exact matches\\t{boom_baby} / {TEST_LIMIT} \\t({(boom_baby / TEST_LIMIT)*100} %)\")"
      ],
      "execution_count": 102,
      "outputs": [
        {
          "output_type": "stream",
          "text": [
            "Exact matches\t148 / 500 \t(29.599999999999998 %)\n"
          ],
          "name": "stdout"
        }
      ]
    },
    {
      "cell_type": "code",
      "metadata": {
        "id": "mRdxAI9ug1kE"
      },
      "source": [
        "time = datetime.now().strftime(\"%d-%m-%Y_%H:%M\")\r\n",
        "\r\n",
        "with open(f\"/content/drive/MyDrive/SQUAD/results_{time}.txt\", \"w\") as f:\r\n",
        "\r\n",
        "  f.write(f\"TEST start accuracy: {start_acc}\")\r\n",
        "  f.write(f\"\\nTEST start f1-score: {start_f1}\")\r\n",
        "\r\n",
        "  f.write(f\"\\n\\nTEST end accuracy: {end_acc}\")\r\n",
        "  f.write(f\"\\nTEST end f1-score: {end_f1}\")\r\n",
        "\r\n",
        "  f.write(\"\\n\\nTest exact matches: {}/{} ({:.2f}%)\".format(boom_baby, TEST_LIMIT, (boom_baby/TEST_LIMIT)*100) )"
      ],
      "execution_count": 143,
      "outputs": []
    },
    {
      "cell_type": "code",
      "metadata": {
        "colab": {
          "base_uri": "https://localhost:8080/"
        },
        "id": "JmNfhR5uqDZk",
        "outputId": "6df18d1b-5c0b-43de-8147-d6ebb85069ec"
      },
      "source": [
        "with open(f\"/content/drive/MyDrive/SQUAD/results_{time}.txt\", \"r\") as f:\r\n",
        "  for line in f.readlines():\r\n",
        "    print(line, end=\"\")"
      ],
      "execution_count": 144,
      "outputs": [
        {
          "output_type": "stream",
          "text": [
            "TEST start accuracy: 0.426\n",
            "TEST start f1-score: 0.32138437320255503\n",
            "\n",
            "TEST end accuracy: 0.476\n",
            "TEST end f1-score: 0.3549736069231483\n",
            "\n",
            "Test exact matches: 148/500 (29.60%)"
          ],
          "name": "stdout"
        }
      ]
    }
  ]
}