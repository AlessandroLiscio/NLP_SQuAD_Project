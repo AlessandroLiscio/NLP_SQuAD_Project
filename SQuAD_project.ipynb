{
  "nbformat": 4,
  "nbformat_minor": 0,
  "metadata": {
    "colab": {
      "name": "Project-X-SQAD.ipynb",
      "provenance": []
    },
    "kernelspec": {
      "name": "python3",
      "display_name": "Python 3"
    },
    "accelerator": "GPU"
  },
  "cells": [
    {
      "cell_type": "markdown",
      "metadata": {
        "id": "SXzTAMPpfB6N"
      },
      "source": [
        "# TODO:\r\n",
        "\r\n",
        "*   Pass tokenizer as function parameter (instead of calling global)\r\n",
        "*   \r\n",
        "\r\n"
      ]
    },
    {
      "cell_type": "markdown",
      "metadata": {
        "id": "Y6J9_LsBSwk-"
      },
      "source": [
        "# Setup"
      ]
    },
    {
      "cell_type": "code",
      "metadata": {
        "id": "SwEFNn5KuGDl",
        "colab": {
          "base_uri": "https://localhost:8080/"
        },
        "outputId": "48c23b80-89db-4cb3-c798-afdae11c45fb"
      },
      "source": [
        "!pip install -q tf-models-official==2.3.0\r\n",
        "!pip install transformers"
      ],
      "execution_count": 1,
      "outputs": [
        {
          "output_type": "stream",
          "text": [
            "Requirement already satisfied: transformers in /usr/local/lib/python3.6/dist-packages (4.2.2)\n",
            "Requirement already satisfied: tqdm>=4.27 in /usr/local/lib/python3.6/dist-packages (from transformers) (4.41.1)\n",
            "Requirement already satisfied: importlib-metadata; python_version < \"3.8\" in /usr/local/lib/python3.6/dist-packages (from transformers) (3.4.0)\n",
            "Requirement already satisfied: regex!=2019.12.17 in /usr/local/lib/python3.6/dist-packages (from transformers) (2019.12.20)\n",
            "Requirement already satisfied: tokenizers==0.9.4 in /usr/local/lib/python3.6/dist-packages (from transformers) (0.9.4)\n",
            "Requirement already satisfied: packaging in /usr/local/lib/python3.6/dist-packages (from transformers) (20.9)\n",
            "Requirement already satisfied: requests in /usr/local/lib/python3.6/dist-packages (from transformers) (2.23.0)\n",
            "Requirement already satisfied: numpy in /usr/local/lib/python3.6/dist-packages (from transformers) (1.19.5)\n",
            "Requirement already satisfied: filelock in /usr/local/lib/python3.6/dist-packages (from transformers) (3.0.12)\n",
            "Requirement already satisfied: sacremoses in /usr/local/lib/python3.6/dist-packages (from transformers) (0.0.43)\n",
            "Requirement already satisfied: dataclasses; python_version < \"3.7\" in /usr/local/lib/python3.6/dist-packages (from transformers) (0.8)\n",
            "Requirement already satisfied: zipp>=0.5 in /usr/local/lib/python3.6/dist-packages (from importlib-metadata; python_version < \"3.8\"->transformers) (3.4.0)\n",
            "Requirement already satisfied: typing-extensions>=3.6.4; python_version < \"3.8\" in /usr/local/lib/python3.6/dist-packages (from importlib-metadata; python_version < \"3.8\"->transformers) (3.7.4.3)\n",
            "Requirement already satisfied: pyparsing>=2.0.2 in /usr/local/lib/python3.6/dist-packages (from packaging->transformers) (2.4.7)\n",
            "Requirement already satisfied: chardet<4,>=3.0.2 in /usr/local/lib/python3.6/dist-packages (from requests->transformers) (3.0.4)\n",
            "Requirement already satisfied: certifi>=2017.4.17 in /usr/local/lib/python3.6/dist-packages (from requests->transformers) (2020.12.5)\n",
            "Requirement already satisfied: urllib3!=1.25.0,!=1.25.1,<1.26,>=1.21.1 in /usr/local/lib/python3.6/dist-packages (from requests->transformers) (1.24.3)\n",
            "Requirement already satisfied: idna<3,>=2.5 in /usr/local/lib/python3.6/dist-packages (from requests->transformers) (2.10)\n",
            "Requirement already satisfied: click in /usr/local/lib/python3.6/dist-packages (from sacremoses->transformers) (7.1.2)\n",
            "Requirement already satisfied: six in /usr/local/lib/python3.6/dist-packages (from sacremoses->transformers) (1.15.0)\n",
            "Requirement already satisfied: joblib in /usr/local/lib/python3.6/dist-packages (from sacremoses->transformers) (1.0.0)\n"
          ],
          "name": "stdout"
        }
      ]
    },
    {
      "cell_type": "code",
      "metadata": {
        "id": "KxC2Vn2KR8pK"
      },
      "source": [
        "import os\r\n",
        "import json, pickle\r\n",
        "\r\n",
        "import re\r\n",
        "\r\n",
        "import pandas as pd\r\n",
        "import numpy as np\r\n",
        "import matplotlib.pyplot as plt\r\n",
        "\r\n",
        "import tensorflow as tf\r\n",
        "from sklearn.model_selection import train_test_split\r\n",
        "\r\n",
        "import transformers\r\n",
        "from transformers import BertTokenizer, TFBertModel\r\n",
        "transformers.logging.set_verbosity_error() # suppress tokenizer sentences' length warnings so to not disturbate rou beautiful loading bar oh my gosh\r\n",
        "\r\n",
        "from keras import Model\r\n",
        "from keras.utils import plot_model\r\n",
        "from keras.layers import Input, Dense, Flatten\r\n",
        "\r\n",
        "from google.colab import drive, files"
      ],
      "execution_count": 2,
      "outputs": []
    },
    {
      "cell_type": "code",
      "metadata": {
        "colab": {
          "base_uri": "https://localhost:8080/"
        },
        "id": "--YO7FLemTOD",
        "outputId": "185497ab-ba32-48f6-ef96-a1b422296139"
      },
      "source": [
        "drive.mount('/content/drive')"
      ],
      "execution_count": 3,
      "outputs": [
        {
          "output_type": "stream",
          "text": [
            "Drive already mounted at /content/drive; to attempt to forcibly remount, call drive.mount(\"/content/drive\", force_remount=True).\n"
          ],
          "name": "stdout"
        }
      ]
    },
    {
      "cell_type": "code",
      "metadata": {
        "id": "dwEW25ifc3Pt"
      },
      "source": [
        "try:\r\n",
        "  with open('training_set.json') as f:\r\n",
        "    json_data = json.load(f)\r\n",
        "except:\r\n",
        "  with open('/content/drive/My Drive/SQUAD/training_set.json') as f:\r\n",
        "    json_data = json.load(f)"
      ],
      "execution_count": 4,
      "outputs": []
    },
    {
      "cell_type": "markdown",
      "metadata": {
        "id": "xG0C8uDPvt0X"
      },
      "source": [
        "# Hyperparameters\r\n"
      ]
    },
    {
      "cell_type": "code",
      "metadata": {
        "id": "-I7Nzb95vvxd"
      },
      "source": [
        "### PARAMETERS ###\r\n",
        "RANDOM_STATE = 42\r\n",
        "\r\n",
        "# Dataset creation\r\n",
        "SEQUENCE_LIMIT = 512\r\n",
        "STRIDE = 256\r\n",
        "\r\n",
        "TRAIN_LIMIT = 3000\r\n",
        "VAL_LIMIT = 1000\r\n",
        "TEST_LIMIT = 1000\r\n",
        "\r\n",
        "# Model Training\r\n",
        "EPOCHS = 1\r\n",
        "BATCH_SIZE = 32"
      ],
      "execution_count": 5,
      "outputs": []
    },
    {
      "cell_type": "markdown",
      "metadata": {
        "id": "A23pEgzInJLM"
      },
      "source": [
        "# <s> Dataset </s>"
      ]
    },
    {
      "cell_type": "code",
      "metadata": {
        "id": "Qc6-zf6cV4e6",
        "colab": {
          "base_uri": "https://localhost:8080/",
          "height": 419
        },
        "outputId": "bee4aa21-146a-4ef0-84cf-c234bac7f5ec"
      },
      "source": [
        "# Creates DataFrames with useful columns by unpacking 'paragraphs' column\r\n",
        "def preprocess_df(df):\r\n",
        "  temp = []\r\n",
        "  title_dict = {}\r\n",
        "  contexts = []\r\n",
        "\r\n",
        "  for i, row in df.iterrows():\r\n",
        "    for context in row['paragraphs']:\r\n",
        "      contexts.append(context['context'])\r\n",
        "      for qa in context['qas']:\r\n",
        "        question_id = qa['id']\r\n",
        "        question = qa['question']\r\n",
        "        for answer in qa['answers']:\r\n",
        "          answer_text = answer['text']\r\n",
        "          answer_start = answer['answer_start']\r\n",
        "          answer_end = answer_start+len(answer_text)\r\n",
        "          temp.append([question_id, question, answer_text, answer_start, answer_end, i, len(contexts)-1])\r\n",
        "\r\n",
        "  context_dict = dict(enumerate(contexts))\r\n",
        "  df = pd.DataFrame(temp, columns=['question_id', 'question_text', 'answer_text', 'answer_start', 'answer_end', 'title_id', 'context_id'])\r\n",
        "  \r\n",
        "  return df, context_dict\r\n",
        "\r\n",
        "# Read data from json\r\n",
        "data = pd.json_normalize(json_data['data'])\r\n",
        "\r\n",
        "# Split train and test\r\n",
        "train_val, test = train_test_split(data, test_size=0.2, random_state=RANDOM_STATE)\r\n",
        "train, val = train_test_split(train_val, test_size=0.25, random_state=RANDOM_STATE)\r\n",
        "\r\n",
        "# Create DataFrames with useful columns\r\n",
        "train_df, train_context_dict = preprocess_df(train)\r\n",
        "val_df, val_context_dict = preprocess_df(val)\r\n",
        "test_df, test_context_dict = preprocess_df(test)\r\n",
        "\r\n",
        "train_df"
      ],
      "execution_count": 35,
      "outputs": [
        {
          "output_type": "execute_result",
          "data": {
            "text/html": [
              "<div>\n",
              "<style scoped>\n",
              "    .dataframe tbody tr th:only-of-type {\n",
              "        vertical-align: middle;\n",
              "    }\n",
              "\n",
              "    .dataframe tbody tr th {\n",
              "        vertical-align: top;\n",
              "    }\n",
              "\n",
              "    .dataframe thead th {\n",
              "        text-align: right;\n",
              "    }\n",
              "</style>\n",
              "<table border=\"1\" class=\"dataframe\">\n",
              "  <thead>\n",
              "    <tr style=\"text-align: right;\">\n",
              "      <th></th>\n",
              "      <th>question_id</th>\n",
              "      <th>question_text</th>\n",
              "      <th>answer_text</th>\n",
              "      <th>answer_start</th>\n",
              "      <th>answer_end</th>\n",
              "      <th>title_id</th>\n",
              "      <th>context_id</th>\n",
              "    </tr>\n",
              "  </thead>\n",
              "  <tbody>\n",
              "    <tr>\n",
              "      <th>0</th>\n",
              "      <td>5705e78f75f01819005e7734</td>\n",
              "      <td>Where does migration mainly occur?</td>\n",
              "      <td>the northern hemisphere</td>\n",
              "      <td>317</td>\n",
              "      <td>340</td>\n",
              "      <td>109</td>\n",
              "      <td>0</td>\n",
              "    </tr>\n",
              "    <tr>\n",
              "      <th>1</th>\n",
              "      <td>5705e78f75f01819005e7735</td>\n",
              "      <td>Why do birds primarily migrate?</td>\n",
              "      <td>availability of food</td>\n",
              "      <td>275</td>\n",
              "      <td>295</td>\n",
              "      <td>109</td>\n",
              "      <td>0</td>\n",
              "    </tr>\n",
              "    <tr>\n",
              "      <th>2</th>\n",
              "      <td>5705e78f75f01819005e7736</td>\n",
              "      <td>Which birds migrate?</td>\n",
              "      <td>Many species</td>\n",
              "      <td>127</td>\n",
              "      <td>139</td>\n",
              "      <td>109</td>\n",
              "      <td>0</td>\n",
              "    </tr>\n",
              "    <tr>\n",
              "      <th>3</th>\n",
              "      <td>5705e78f75f01819005e7737</td>\n",
              "      <td>What is bird migration?</td>\n",
              "      <td>the regular seasonal movement, often north and...</td>\n",
              "      <td>18</td>\n",
              "      <td>125</td>\n",
              "      <td>109</td>\n",
              "      <td>0</td>\n",
              "    </tr>\n",
              "    <tr>\n",
              "      <th>4</th>\n",
              "      <td>5705e78f75f01819005e7738</td>\n",
              "      <td>What is a cause of death to birds during migra...</td>\n",
              "      <td>humans</td>\n",
              "      <td>240</td>\n",
              "      <td>246</td>\n",
              "      <td>109</td>\n",
              "      <td>0</td>\n",
              "    </tr>\n",
              "    <tr>\n",
              "      <th>...</th>\n",
              "      <td>...</td>\n",
              "      <td>...</td>\n",
              "      <td>...</td>\n",
              "      <td>...</td>\n",
              "      <td>...</td>\n",
              "      <td>...</td>\n",
              "      <td>...</td>\n",
              "    </tr>\n",
              "    <tr>\n",
              "      <th>49933</th>\n",
              "      <td>57314ace05b4da19006bcfe2</td>\n",
              "      <td>What quality has LEDs been used as?</td>\n",
              "      <td>medium-quality</td>\n",
              "      <td>30</td>\n",
              "      <td>44</td>\n",
              "      <td>417</td>\n",
              "      <td>10869</td>\n",
              "    </tr>\n",
              "    <tr>\n",
              "      <th>49934</th>\n",
              "      <td>57314ace05b4da19006bcfe3</td>\n",
              "      <td>What LED has the flattest I/V curve above the ...</td>\n",
              "      <td>Red</td>\n",
              "      <td>216</td>\n",
              "      <td>219</td>\n",
              "      <td>417</td>\n",
              "      <td>10869</td>\n",
              "    </tr>\n",
              "    <tr>\n",
              "      <th>49935</th>\n",
              "      <td>57314ace05b4da19006bcfe4</td>\n",
              "      <td>What LEDs have a very steep I/V curve?</td>\n",
              "      <td>Nitride-based LEDs</td>\n",
              "      <td>269</td>\n",
              "      <td>287</td>\n",
              "      <td>417</td>\n",
              "      <td>10869</td>\n",
              "    </tr>\n",
              "    <tr>\n",
              "      <th>49936</th>\n",
              "      <td>57314ace05b4da19006bcfe5</td>\n",
              "      <td>LED forward voltage is more current-dependent ...</td>\n",
              "      <td>Zener</td>\n",
              "      <td>418</td>\n",
              "      <td>423</td>\n",
              "      <td>417</td>\n",
              "      <td>10869</td>\n",
              "    </tr>\n",
              "    <tr>\n",
              "      <th>49937</th>\n",
              "      <td>57314ace05b4da19006bcfe6</td>\n",
              "      <td>Zener diodes below what voltage are not widely...</td>\n",
              "      <td>3 V</td>\n",
              "      <td>474</td>\n",
              "      <td>477</td>\n",
              "      <td>417</td>\n",
              "      <td>10869</td>\n",
              "    </tr>\n",
              "  </tbody>\n",
              "</table>\n",
              "<p>49938 rows × 7 columns</p>\n",
              "</div>"
            ],
            "text/plain": [
              "                    question_id  ... context_id\n",
              "0      5705e78f75f01819005e7734  ...          0\n",
              "1      5705e78f75f01819005e7735  ...          0\n",
              "2      5705e78f75f01819005e7736  ...          0\n",
              "3      5705e78f75f01819005e7737  ...          0\n",
              "4      5705e78f75f01819005e7738  ...          0\n",
              "...                         ...  ...        ...\n",
              "49933  57314ace05b4da19006bcfe2  ...      10869\n",
              "49934  57314ace05b4da19006bcfe3  ...      10869\n",
              "49935  57314ace05b4da19006bcfe4  ...      10869\n",
              "49936  57314ace05b4da19006bcfe5  ...      10869\n",
              "49937  57314ace05b4da19006bcfe6  ...      10869\n",
              "\n",
              "[49938 rows x 7 columns]"
            ]
          },
          "metadata": {
            "tags": []
          },
          "execution_count": 35
        }
      ]
    },
    {
      "cell_type": "code",
      "metadata": {
        "id": "TaUcu-8VyTqs",
        "colab": {
          "base_uri": "https://localhost:8080/"
        },
        "outputId": "cca2dabd-f29b-4cbf-ff1b-fff0ff4cd034"
      },
      "source": [
        "# Inspect data samples\r\n",
        "def print_squad_sample(train_data, context_dict, line_length=120, separator_length=150):\r\n",
        "\r\n",
        "  sample = train_data.sample(frac=1).head(1)\r\n",
        "  context = context_dict[sample['context_id'].item()]\r\n",
        "\r\n",
        "  print('='*separator_length, '\\nCONTEXT:\\n', '='*separator_length)\r\n",
        "\r\n",
        "  lines = [''.join(context[idx:idx+line_length]) for idx in range(0, len(context), line_length)]\r\n",
        "  for l in lines:\r\n",
        "      print(l)\r\n",
        "\r\n",
        "  print('='*separator_length, '\\nQUESTION:', ' '*(3*separator_length//4), 'ANSWER:')\r\n",
        "\r\n",
        "  questions = train_data[train_data['context_id'] == sample['context_id'].item()]\r\n",
        "\r\n",
        "  for idx, row in questions.iterrows():\r\n",
        "    question = row.question_text\r\n",
        "    answer = row.answer_text\r\n",
        "    print(question, ' '*(3*separator_length//4-len(question)+9), answer)\r\n",
        "\r\n",
        "print_squad_sample(train_df, train_context_dict)"
      ],
      "execution_count": 36,
      "outputs": [
        {
          "output_type": "stream",
          "text": [
            "====================================================================================================================================================== \n",
            "CONTEXT:\n",
            " ======================================================================================================================================================\n",
            "Approximately 12 million Africans were shipped to the Americas during the Atlantic slave trade from 1492 to 1888, with 1\n",
            "1.5 million of those shipped to South America and the Caribbean. Brazil was the largest importer in the Americas, with 5\n",
            ".5 million African slaves imported, followed by the British Caribbean with 2.76 million, the Spanish Caribbean and Spani\n",
            "sh Mainland with 1.59 million Africans, and the French Caribbean with 1.32 million. Today their descendants number appro\n",
            "ximately 150 million in South America and the Caribbean. In addition to skin color, other physical characteristics such \n",
            "as facial features and hair texture are often variously used in classifying peoples as black in South America and the Ca\n",
            "ribbean. In South America and the Caribbean, classification as black is also closely tied to social status and socioecon\n",
            "omic variables, especially in light of social conceptions of \"blanqueamiento\" (racial whitening) and related concepts.\n",
            "====================================================================================================================================================== \n",
            "QUESTION:                                                                                                                  ANSWER:\n",
            "How many Africans were shipped to the US between 1492 to 1888?                                                             12 million\n",
            "How many were shipped to South America and the Caribbean?                                                                  11.5 million\n",
            "How many slaves were imported by Brazil?                                                                                   5.5 million\n",
            "How many slaves were imported by the British Caribbean?                                                                    2.76 million\n",
            "How is black identified in South America?                                                                                  closely tied to social status and socioeconomic variables,\n"
          ],
          "name": "stdout"
        }
      ]
    },
    {
      "cell_type": "markdown",
      "metadata": {
        "id": "hqrIFmrK2Igt"
      },
      "source": [
        "# <s> Tokenizer </s>"
      ]
    },
    {
      "cell_type": "code",
      "metadata": {
        "colab": {
          "base_uri": "https://localhost:8080/"
        },
        "id": "i8fuDPtRNDjg",
        "outputId": "96dcfbda-eb23-4a7d-98e1-56123a9d7394"
      },
      "source": [
        "# Load pre-trained model tokenizer (vocabulary)\r\n",
        "tokenizer = BertTokenizer.from_pretrained('bert-base-uncased')\r\n",
        "\r\n",
        "print('[[CLS], [SEP]] = {}'.format(tokenizer.convert_tokens_to_ids(['[CLS]', '[SEP]'])))\r\n",
        "\r\n",
        "# Split the sentence into tokens.\r\n",
        "tokenized_text = tokenizer.tokenize(train_df['question_text'][0])\r\n",
        "\r\n",
        "# Print out the tokens.\r\n",
        "print('\\nTokenized sentence:')\r\n",
        "print(tokenized_text)\r\n",
        "\r\n",
        "# Map the token strings to their vocabulary indeces.\r\n",
        "indexed_tokens = tokenizer.convert_tokens_to_ids(tokenized_text)\r\n",
        "\r\n",
        "# Display the words with their indices.\r\n",
        "print('\\n{:<12} {:>6}\\n'.format('TOKENS', 'INDICES'))\r\n",
        "for tup in zip(tokenized_text, indexed_tokens):\r\n",
        "    print('{:<12} {:>6}'.format(tup[0], tup[1]))"
      ],
      "execution_count": 38,
      "outputs": [
        {
          "output_type": "stream",
          "text": [
            "[[CLS], [SEP]] = [101, 102]\n",
            "\n",
            "Tokenized sentence:\n",
            "['where', 'does', 'migration', 'mainly', 'occur', '?']\n",
            "\n",
            "TOKENS       INDICES\n",
            "\n",
            "where          2073\n",
            "does           2515\n",
            "migration      9230\n",
            "mainly         3701\n",
            "occur          5258\n",
            "?              1029\n"
          ],
          "name": "stdout"
        }
      ]
    },
    {
      "cell_type": "code",
      "metadata": {
        "id": "BuuVNwp50-xF"
      },
      "source": [
        "# Returns start and end indices of sublist in list\r\n",
        "def find_sublist(a, b):\r\n",
        "  if len(a) == 0 or len(b) == 0:\r\n",
        "    raise Exception(\"Lists with length 0\")\r\n",
        "\r\n",
        "  for i in range(len(a) - len(b) +1):\r\n",
        "    if np.array_equal(a[i:i+len(b)], b):\r\n",
        "      return i, i+len(b)-1\r\n",
        "\r\n",
        "  return -1, -1"
      ],
      "execution_count": 10,
      "outputs": []
    },
    {
      "cell_type": "code",
      "metadata": {
        "id": "nEy0mp9yzXjn"
      },
      "source": [
        "# Prints COOL progress bar (No, seriously, it's really cool!)\r\n",
        "# REALLY DUDE, THIS STUFF IS GOLD\r\n",
        "def print_progress(value, total, bar_width=100):\r\n",
        "  perc = int(value/total*bar_width)\r\n",
        "  rest = bar_width - perc\r\n",
        "  print(\"\\r{:>3} % [ {}{} ]\".format(perc, perc*'■', rest*'─'), end=\"\")\r\n",
        "\r\n",
        "# ensure to preserve all sub-sequences of length limi-stride. \r\n",
        "def split_long_sequence(my_sequence, limit, stride):\r\n",
        "\r\n",
        "  if len(my_sequence) <= limit: \r\n",
        "    return [my_sequence]\r\n",
        "  \r\n",
        "  rest = my_sequence\r\n",
        "  split = []\r\n",
        "  while len(rest) > limit:\r\n",
        "    left_hand = rest[:limit]\r\n",
        "    rest = rest[stride:]\r\n",
        "    split.append(left_hand)\r\n",
        "    \r\n",
        "  split.append(rest)\r\n",
        "  return split"
      ],
      "execution_count": 11,
      "outputs": []
    },
    {
      "cell_type": "code",
      "metadata": {
        "id": "jayMk-aHPYVB"
      },
      "source": [
        "def from_df_to_model_dict(df, context_dict, verbose=False):\r\n",
        "\r\n",
        "  # initialize structures\r\n",
        "  input_ids = []\r\n",
        "  input_mask = []\r\n",
        "  input_type_ids = []\r\n",
        "  start_indexes = []\r\n",
        "  end_indexes = []\r\n",
        "\r\n",
        "  cut_counter = 0\r\n",
        "  max_iter = len(df)\r\n",
        "  new_entries = 0\r\n",
        "  for i, row in df.iterrows():\r\n",
        "\r\n",
        "    # print progress\r\n",
        "    if (i+1) % (max_iter // 100) == 0 or i == 0:\r\n",
        "      print_progress(i+1, max_iter)\r\n",
        "\r\n",
        "    # encode question and context\r\n",
        "    if verbose: print(\"\\tTokenizing question and context...\", end=\"\")\r\n",
        "    encoded_question = tokenizer.encode(row['question_text'])\r\n",
        "    encoded_context = tokenizer.encode(context_dict[row['context_id']])[1:]\r\n",
        "\r\n",
        "    # concatenate input data \r\n",
        "    if verbose: print(\"\\tChecking sequence length...\")\r\n",
        "    if len(encoded_question + encoded_context) > SEQUENCE_LIMIT:\r\n",
        "      # if the sequence is too long, split it in n subsequences of length <= SEQUENCE_LIMIT\r\n",
        "      encoded_contexts = split_long_sequence(encoded_context,\r\n",
        "                                             limit=SEQUENCE_LIMIT-len(encoded_question), \r\n",
        "                                             stride=STRIDE)\r\n",
        "      cut_counter += 1\r\n",
        "    else:\r\n",
        "      encoded_contexts = [encoded_context]\r\n",
        "    \r\n",
        "    new_entries += len(encoded_contexts)-1\r\n",
        "    # for each too long sequence, the context has been split in n parts. We need to process them separately, creating new entries for the input\r\n",
        "    for context_piece in encoded_contexts:\r\n",
        "      \r\n",
        "      encoded_input = encoded_question + context_piece\r\n",
        "\r\n",
        "      # create mask of ones\r\n",
        "      ones_mask = tf.ones_like(encoded_input)\r\n",
        "\r\n",
        "      # add padding and convert to tensor\r\n",
        "      if verbose: print(\"\\tPadding...\", end=\"\")\r\n",
        "      encoded_input = tf.keras.preprocessing.sequence.pad_sequences([encoded_input], maxlen=512, padding='pre')\r\n",
        "      encoded_input = tf.squeeze(tf.convert_to_tensor(encoded_input))\r\n",
        "\r\n",
        "      # processing answer indices\r\n",
        "      if verbose: print(\"\\tProcessing answer...\", end=\"\")\r\n",
        "      tokenized_answer = tokenizer.encode(row['answer_text'])[1: -1]\r\n",
        "      start_idx, end_idx = find_sublist(encoded_input, tokenized_answer)\r\n",
        "\r\n",
        "      start_indexes.append(start_idx)\r\n",
        "      end_indexes.append(end_idx)\r\n",
        "\r\n",
        "\r\n",
        "      # create input_type_ids\r\n",
        "      if verbose: print(\"\\tInput types creation...\", end=\"\")\r\n",
        "      type_ids = tf.concat([tf.zeros_like(encoded_question, dtype=tf.int32), \r\n",
        "                            tf.ones_like(context_piece, dtype=tf.int32)], \r\n",
        "                          axis=-1)\r\n",
        "      \r\n",
        "      type_ids = tf.keras.preprocessing.sequence.pad_sequences([type_ids], maxlen=512, padding='pre')\r\n",
        "      type_ids = tf.squeeze(tf.convert_to_tensor(type_ids))\r\n",
        "\r\n",
        "\r\n",
        "      # create mask of zeros\r\n",
        "      if verbose: print(\"\\tMask creation...\", end=\"\")\r\n",
        "      zeros_mask = tf.zeros(SEQUENCE_LIMIT - len(ones_mask), dtype=tf.int32)\r\n",
        "      mask = tf.concat([zeros_mask, ones_mask], axis=-1)\r\n",
        "\r\n",
        "      # append elements to lists\r\n",
        "      if verbose: print(\"\\tAppending inputs...\", end=\"\")\r\n",
        "      input_ids.append(encoded_input)\r\n",
        "      input_mask.append(mask)\r\n",
        "      input_type_ids.append(type_ids)\r\n",
        "\r\n",
        "  # save input data as dictionary\r\n",
        "  inputs = {\r\n",
        "    'input_ids': tf.convert_to_tensor(input_ids),\r\n",
        "    'attention_mask': tf.convert_to_tensor(input_mask),\r\n",
        "    'token_type_ids': tf.convert_to_tensor(input_type_ids)\r\n",
        "    }\r\n",
        "\r\n",
        "  assert len(input_ids) == len(df) + new_entries, f\"ATTENTION:\\nci sono {len(input_ids)} input_ids, MA {len(df)} righe nel df e {new_entries} nuove entries\"\r\n",
        "  return inputs, start_indexes, end_indexes"
      ],
      "execution_count": 12,
      "outputs": []
    },
    {
      "cell_type": "markdown",
      "metadata": {
        "id": "UXCcgd3cSgAm"
      },
      "source": [
        "# <s> Building Progress <s>"
      ]
    },
    {
      "cell_type": "code",
      "metadata": {
        "colab": {
          "base_uri": "https://localhost:8080/"
        },
        "id": "irK7yfKKV1LU",
        "outputId": "e283cb35-24c8-4620-cdd4-83a1884b68eb"
      },
      "source": [
        "print(\"Building training set...\")\r\n",
        "train_inputs, train_starts_ids, train_ends_ids = from_df_to_model_dict(train_df[:TRAIN_LIMIT], train_context_dict)\r\n",
        "\r\n",
        "print(\"\\n\\nBuilding validation set...\")\r\n",
        "val_inputs, val_starts_ids, val_ends_ids = from_df_to_model_dict(val_df[:VAL_LIMIT], val_context_dict)\r\n",
        "\r\n",
        "print(\"\\n\\nBuilding test set...\")\r\n",
        "test_inputs, test_starts_ids, test_ends_ids = from_df_to_model_dict(test_df[:TEST_LIMIT], test_context_dict)"
      ],
      "execution_count": 15,
      "outputs": [
        {
          "output_type": "stream",
          "text": [
            "Building training set...\n",
            "100 % [ ■■■■■■■■■■■■■■■■■■■■■■■■■■■■■■■■■■■■■■■■■■■■■■■■■■■■■■■■■■■■■■■■■■■■■■■■■■■■■■■■■■■■■■■■■■■■■■■■■■■■ ]\n",
            "\n",
            "Building validation set...\n",
            "100 % [ ■■■■■■■■■■■■■■■■■■■■■■■■■■■■■■■■■■■■■■■■■■■■■■■■■■■■■■■■■■■■■■■■■■■■■■■■■■■■■■■■■■■■■■■■■■■■■■■■■■■■ ]\n",
            "\n",
            "Building test set...\n",
            "100 % [ ■■■■■■■■■■■■■■■■■■■■■■■■■■■■■■■■■■■■■■■■■■■■■■■■■■■■■■■■■■■■■■■■■■■■■■■■■■■■■■■■■■■■■■■■■■■■■■■■■■■■ ]"
          ],
          "name": "stdout"
        }
      ]
    },
    {
      "cell_type": "markdown",
      "metadata": {
        "id": "DBvYDn5dUSTF"
      },
      "source": [
        "# <s> Index to categorical <s>\r\n"
      ]
    },
    {
      "cell_type": "code",
      "metadata": {
        "id": "F91QMkCFrKwo"
      },
      "source": [
        "# Replace -1 (answer not found) with 0\r\n",
        "train_starts_ids = [val if val != -1 else 0 for val in train_starts_ids]\r\n",
        "train_ends_ids = [val if val != -1 else 0 for val in train_ends_ids]\r\n",
        "\r\n",
        "val_starts_ids = [val if val != -1 else 0 for val in val_starts_ids]\r\n",
        "val_ends_ids = [val if val != -1 else 0 for val in val_ends_ids]\r\n",
        "\r\n",
        "test_starts_ids = [val if val != -1 else 0 for val in test_starts_ids]\r\n",
        "test_ends_ids = [val if val != -1 else 0 for val in test_ends_ids]"
      ],
      "execution_count": 16,
      "outputs": []
    },
    {
      "cell_type": "code",
      "metadata": {
        "id": "I3NdLSFESd5E"
      },
      "source": [
        "# from ints to categorical\r\n",
        "train_starts_cat = tf.keras.utils.to_categorical(train_starts_ids, num_classes=SEQUENCE_LIMIT)\r\n",
        "train_ends_cat = tf.keras.utils.to_categorical(train_ends_ids, num_classes=SEQUENCE_LIMIT)\r\n",
        "\r\n",
        "val_starts_cat = tf.keras.utils.to_categorical(val_starts_ids, num_classes=SEQUENCE_LIMIT)\r\n",
        "val_ends_cat = tf.keras.utils.to_categorical(val_ends_ids, num_classes=SEQUENCE_LIMIT)\r\n",
        "\r\n",
        "test_starts_cat = tf.keras.utils.to_categorical(test_starts_ids, num_classes=SEQUENCE_LIMIT)\r\n",
        "test_ends_cat = tf.keras.utils.to_categorical(test_ends_ids, num_classes=SEQUENCE_LIMIT)"
      ],
      "execution_count": 17,
      "outputs": []
    },
    {
      "cell_type": "code",
      "metadata": {
        "colab": {
          "base_uri": "https://localhost:8080/"
        },
        "id": "9iktKwoXUKAj",
        "outputId": "8c6dc104-8070-47e7-d876-fea5805b3687"
      },
      "source": [
        "# Inspect data\r\n",
        "assert len(train_starts_ids) == len(train_ends_ids) == len(train_inputs['input_ids']) == len(train_inputs['attention_mask']) == len(train_inputs['token_type_ids'])\r\n",
        "assert len(val_starts_ids) == len(val_ends_ids) == len(val_inputs['input_ids']) == len(val_inputs['attention_mask']) == len(val_inputs['token_type_ids'])\r\n",
        "assert len(test_starts_ids) == len(test_ends_ids) == len(test_inputs['input_ids']) == len(test_inputs['attention_mask']) == len(test_inputs['token_type_ids'])\r\n",
        "\r\n",
        "print(\"Shapes\")\r\n",
        "print(\"\\nTrain starts:\\t\", train_starts_cat.shape)\r\n",
        "print(\"Train ends:\\t\", train_ends_cat.shape)\r\n",
        "print(\"\\nVal starts:\\t\", val_starts_cat.shape)\r\n",
        "print(\"Val ends:\\t\", val_ends_cat.shape)\r\n",
        "print(\"\\nTest starts:\\t\", test_starts_cat.shape)\r\n",
        "print(\"Test ends:\\t\", test_ends_cat.shape)"
      ],
      "execution_count": 18,
      "outputs": [
        {
          "output_type": "stream",
          "text": [
            "Shapes\n",
            "\n",
            "Train starts:\t (3000, 512)\n",
            "Train ends:\t (3000, 512)\n",
            "\n",
            "Val starts:\t (1010, 512)\n",
            "Val ends:\t (1010, 512)\n",
            "\n",
            "Test starts:\t (1000, 512)\n",
            "Test ends:\t (1000, 512)\n"
          ],
          "name": "stdout"
        }
      ]
    },
    {
      "cell_type": "markdown",
      "metadata": {
        "id": "i5MRM0Q_LXyW"
      },
      "source": [
        "# <s>  Save train and test inputs dataset <s>"
      ]
    },
    {
      "cell_type": "code",
      "metadata": {
        "id": "RWW1mTlHrwe9"
      },
      "source": [
        "## TRAIN\r\n",
        "with open(\"/content/drive/MyDrive/SQUAD/train_inputs.p\", \"wb\") as f:\r\n",
        "  pickle.dump(train_inputs, f)\r\n",
        "\r\n",
        "with open(\"/content/drive/MyDrive/SQUAD/train_starts_ids.p\", \"wb\") as f:\r\n",
        "  pickle.dump(train_starts_ids, f)\r\n",
        "\r\n",
        "with open(\"/content/drive/MyDrive/SQUAD/train_ends_ids.p\", \"wb\") as f:\r\n",
        "  pickle.dump(train_ends_ids, f)\r\n",
        "\r\n",
        "with open(\"/content/drive/MyDrive/SQUAD/train_starts_cat.p\", \"wb\") as f:\r\n",
        "  pickle.dump(train_starts_cat, f)\r\n",
        "\r\n",
        "with open(\"/content/drive/MyDrive/SQUAD/train_ends_cat.p\", \"wb\") as f:\r\n",
        "  pickle.dump(train_ends_cat, f)\r\n",
        "\r\n",
        "\r\n",
        "## VALIDATION\r\n",
        "with open(\"/content/drive/MyDrive/SQUAD/val_inputs.p\", \"wb\") as f:\r\n",
        "  pickle.dump(val_inputs, f)\r\n",
        "\r\n",
        "with open(\"/content/drive/MyDrive/SQUAD/val_starts_ids.p\", \"wb\") as f:\r\n",
        "  pickle.dump(val_starts_ids, f)\r\n",
        "\r\n",
        "with open(\"/content/drive/MyDrive/SQUAD/val_ends_ids.p\", \"wb\") as f:\r\n",
        "  pickle.dump(val_ends_ids, f)\r\n",
        "\r\n",
        "with open(\"/content/drive/MyDrive/SQUAD/val_starts_cat.p\", \"wb\") as f:\r\n",
        "  pickle.dump(val_starts_cat, f)\r\n",
        "\r\n",
        "with open(\"/content/drive/MyDrive/SQUAD/val_ends_cat.p\", \"wb\") as f:\r\n",
        "  pickle.dump(val_ends_cat, f)\r\n",
        "\r\n",
        "\r\n",
        "## TEST\r\n",
        "with open(\"/content/drive/MyDrive/SQUAD/test_inputs.p\", \"wb\") as f:\r\n",
        "  pickle.dump(test_inputs, f)\r\n",
        "\r\n",
        "with open(\"/content/drive/MyDrive/SQUAD/test_starts_ids.p\", \"wb\") as f:\r\n",
        "  pickle.dump(test_starts_ids, f)\r\n",
        "\r\n",
        "with open(\"/content/drive/MyDrive/SQUAD/test_ends_ids.p\", \"wb\") as f:\r\n",
        "  pickle.dump(test_ends_ids, f)\r\n",
        "\r\n",
        "with open(\"/content/drive/MyDrive/SQUAD/test_starts_cat.p\", \"wb\") as f:\r\n",
        "  pickle.dump(test_starts_cat, f)\r\n",
        "\r\n",
        "with open(\"/content/drive/MyDrive/SQUAD/test_ends_cat.p\", \"wb\") as f:\r\n",
        "  pickle.dump(test_ends_cat, f)"
      ],
      "execution_count": null,
      "outputs": []
    },
    {
      "cell_type": "markdown",
      "metadata": {
        "id": "Ok4Z7Xhltev_"
      },
      "source": [
        "# Load train and test inputs datasets"
      ]
    },
    {
      "cell_type": "code",
      "metadata": {
        "id": "ECyBOk-mtaHG"
      },
      "source": [
        "## TRAIN\r\n",
        "with open(\"/content/drive/MyDrive/SQUAD/train_inputs.p\", \"rb\") as f:\r\n",
        "  train_inputs = pickle.load(f)\r\n",
        "\r\n",
        "with open(\"/content/drive/MyDrive/SQUAD/train_starts_ids.p\", \"rb\") as f:\r\n",
        "  train_starts_ids = pickle.load(f)\r\n",
        "\r\n",
        "with open(\"/content/drive/MyDrive/SQUAD/train_ends_ids.p\", \"rb\") as f:\r\n",
        "  train_ends_ids = pickle.load(f)\r\n",
        "\r\n",
        "with open(\"/content/drive/MyDrive/SQUAD/train_starts_cat.p\", \"rb\") as f:\r\n",
        "  train_starts_cat = pickle.load(f)\r\n",
        "\r\n",
        "with open(\"/content/drive/MyDrive/SQUAD/train_ends_cat.p\", \"rb\") as f:\r\n",
        "  train_ends_cat = pickle.load(f)\r\n",
        "\r\n",
        "\r\n",
        "## VALIDATION\r\n",
        "with open(\"/content/drive/MyDrive/SQUAD/val_inputs.p\", \"rb\") as f:\r\n",
        "  val_inputs = pickle.load(f)\r\n",
        "\r\n",
        "with open(\"/content/drive/MyDrive/SQUAD/val_starts_ids.p\", \"rb\") as f:\r\n",
        "  val_starts_ids = pickle.load(f)\r\n",
        "\r\n",
        "with open(\"/content/drive/MyDrive/SQUAD/val_ends_ids.p\", \"rb\") as f:\r\n",
        "  val_ends_ids = pickle.load(f)\r\n",
        "\r\n",
        "with open(\"/content/drive/MyDrive/SQUAD/val_starts_cat.p\", \"rb\") as f:\r\n",
        "  val_starts_cat = pickle.load(f)\r\n",
        "\r\n",
        "with open(\"/content/drive/MyDrive/SQUAD/val_ends_cat.p\", \"rb\") as f:\r\n",
        "  val_ends_cat = pickle.load(f)\r\n",
        "\r\n",
        "\r\n",
        "## TEST\r\n",
        "with open(\"/content/drive/MyDrive/SQUAD/test_inputs.p\", \"rb\") as f:\r\n",
        "  test_inputs = pickle.load(f)\r\n",
        "\r\n",
        "with open(\"/content/drive/MyDrive/SQUAD/test_starts_ids.p\", \"rb\") as f:\r\n",
        "  test_starts_ids = pickle.load(f)\r\n",
        "\r\n",
        "with open(\"/content/drive/MyDrive/SQUAD/test_ends_ids.p\", \"rb\") as f:\r\n",
        "  test_ends_ids = pickle.load(f)\r\n",
        "\r\n",
        "with open(\"/content/drive/MyDrive/SQUAD/test_starts_cat.p\", \"rb\") as f:\r\n",
        "  test_starts_cat = pickle.load(f)\r\n",
        "\r\n",
        "with open(\"/content/drive/MyDrive/SQUAD/test_ends_cat.p\", \"rb\") as f:\r\n",
        "  test_ends_cat = pickle.load(f)"
      ],
      "execution_count": 6,
      "outputs": []
    },
    {
      "cell_type": "markdown",
      "metadata": {
        "id": "6mZbcRg48o3E"
      },
      "source": [
        "# Build model"
      ]
    },
    {
      "cell_type": "code",
      "metadata": {
        "id": "MI0_mr1eyRgl"
      },
      "source": [
        "from keras.layers import Reshape, GlobalAveragePooling1D"
      ],
      "execution_count": 118,
      "outputs": []
    },
    {
      "cell_type": "code",
      "metadata": {
        "colab": {
          "base_uri": "https://localhost:8080/",
          "height": 652
        },
        "id": "3PJ2O1Zn8nqr",
        "outputId": "ea1fe084-c1a1-401a-faa3-8c6b435ae73f"
      },
      "source": [
        "@tf.autograph.experimental.do_not_convert\r\n",
        "def build_model():\r\n",
        "\r\n",
        "  # Define Input layers\r\n",
        "  input_ids_layer = Input(shape = (512,), dtype='int64')\r\n",
        "  attention_mask_layer = Input(shape = (512,), dtype='int64')\r\n",
        "  token_ids_layer = Input(shape = (512,), dtype='int64')\r\n",
        "\r\n",
        "  # Load Bert model\r\n",
        "  bert_model = TFBertModel.from_pretrained('bert-base-uncased')\r\n",
        "  \r\n",
        "  # Set bert layers to not-trainable\r\n",
        "  for layer in bert_model.layers:\r\n",
        "    layer.trainable = False\r\n",
        "  \r\n",
        "  # Initialize bert model\r\n",
        "  bert = bert_model(input_ids = input_ids_layer,\r\n",
        "                    attention_mask = attention_mask_layer,\r\n",
        "                    token_type_ids = token_ids_layer,\r\n",
        "                    return_dict = False,\r\n",
        "                    output_attentions = False,\r\n",
        "                    output_hidden_states = False\r\n",
        "                    ).last_hidden_state\r\n",
        "\r\n",
        "  # flat = Flatten()(bert)  \r\n",
        "  \r\n",
        "  # # Define output classifiers\r\n",
        "  # start_classifier = Dense(units=512, activation=\"softmax\", name=\"Start_classifier\")(flat)\r\n",
        "  # end_classifier = Dense(units=512, activation=\"softmax\", name=\"End_classifier\")(flat)\r\n",
        "\r\n",
        "  # pooler = GlobalAveragePooling1D()(bert)\r\n",
        "  classifier = Dense(units=1,  name=\"classifier\")(bert)\r\n",
        "\r\n",
        "  # Build model\r\n",
        "  model = Model(inputs=[input_ids_layer, attention_mask_layer, token_ids_layer], \r\n",
        "                outputs=classifier)\r\n",
        "  \r\n",
        "  model.summary()\r\n",
        "  return model\r\n",
        "\r\n",
        "model = build_model()\r\n",
        "plot_model(model, show_shapes=True)"
      ],
      "execution_count": 164,
      "outputs": [
        {
          "output_type": "stream",
          "text": [
            "Model: \"model_9\"\n",
            "__________________________________________________________________________________________________\n",
            "Layer (type)                    Output Shape         Param #     Connected to                     \n",
            "==================================================================================================\n",
            "input_34 (InputLayer)           [(None, 512)]        0                                            \n",
            "__________________________________________________________________________________________________\n",
            "input_35 (InputLayer)           [(None, 512)]        0                                            \n",
            "__________________________________________________________________________________________________\n",
            "input_36 (InputLayer)           [(None, 512)]        0                                            \n",
            "__________________________________________________________________________________________________\n",
            "tf_bert_model_11 (TFBertModel)  TFBaseModelOutputWit 109482240   input_34[0][0]                   \n",
            "                                                                 input_35[0][0]                   \n",
            "                                                                 input_36[0][0]                   \n",
            "__________________________________________________________________________________________________\n",
            "classifier (Dense)              (None, 512, 1)       769         tf_bert_model_11[0][0]           \n",
            "==================================================================================================\n",
            "Total params: 109,483,009\n",
            "Trainable params: 769\n",
            "Non-trainable params: 109,482,240\n",
            "__________________________________________________________________________________________________\n"
          ],
          "name": "stdout"
        },
        {
          "output_type": "execute_result",
          "data": {
            "image/png": "[encoded data removed]",
            "text/plain": [
              "<IPython.core.display.Image object>"
            ]
          },
          "metadata": {
            "tags": []
          },
          "execution_count": 164
        }
      ]
    },
    {
      "cell_type": "code",
      "metadata": {
        "id": "pLGUF1CIFHIA"
      },
      "source": [
        "def compute_loss(labels, logits):\r\n",
        "  \r\n",
        "  loss_fn = tf.keras.losses.SparseCategoricalCrossentropy()\r\n",
        "  \r\n",
        "  start_logits = logits[:, :, 0]\r\n",
        "  end_logits = logits[:, :, 1]\r\n",
        "\r\n",
        "  start_pred = np.argmax(start_logits, axis=1)\r\n",
        "  end_pred = np.argmax(end_logits, axis=1)\r\n",
        "\r\n",
        "  start_labels = labels[0, :, 0]\r\n",
        "  end_labels = labels[0, :, 1]\r\n",
        "\r\n",
        "  start_loss = loss_fn(start_labels, start_logits)\r\n",
        "  end_loss = loss_fn(end_labels, end_logits)\r\n",
        "\r\n",
        "  return start_loss + end_loss"
      ],
      "execution_count": 154,
      "outputs": []
    },
    {
      "cell_type": "code",
      "metadata": {
        "id": "7PDyisc6I5rw",
        "outputId": "5ab95890-99ac-4fc4-9453-9baac4ff47af",
        "colab": {
          "base_uri": "https://localhost:8080/",
          "height": 357
        }
      },
      "source": [
        "compute_loss(labels = [[150, 152],[147, 148]],\r\n",
        "             logits = [[127.0, 152.3], [147.0, 148.0]])"
      ],
      "execution_count": 153,
      "outputs": [
        {
          "output_type": "stream",
          "text": [
            "(1, 17630, 2)\n",
            "(17630,)\n",
            "(1000, 512)\n"
          ],
          "name": "stdout"
        },
        {
          "output_type": "error",
          "ename": "ValueError",
          "evalue": "ignored",
          "traceback": [
            "\u001b[0;31m---------------------------------------------------------------------------\u001b[0m",
            "\u001b[0;31mValueError\u001b[0m                                Traceback (most recent call last)",
            "\u001b[0;32m<ipython-input-153-de4c73e44368>\u001b[0m in \u001b[0;36m<module>\u001b[0;34m()\u001b[0m\n\u001b[0;32m----> 1\u001b[0;31m \u001b[0mcompute_loss\u001b[0m\u001b[0;34m(\u001b[0m\u001b[0mnp\u001b[0m\u001b[0;34m.\u001b[0m\u001b[0mdstack\u001b[0m\u001b[0;34m(\u001b[0m\u001b[0;34m(\u001b[0m\u001b[0mtest_starts_ids\u001b[0m\u001b[0;34m,\u001b[0m \u001b[0mtest_ends_ids\u001b[0m\u001b[0;34m)\u001b[0m\u001b[0;34m)\u001b[0m\u001b[0;34m,\u001b[0m \u001b[0mpred\u001b[0m\u001b[0;34m)\u001b[0m\u001b[0;34m\u001b[0m\u001b[0;34m\u001b[0m\u001b[0m\n\u001b[0m",
            "\u001b[0;32m<ipython-input-152-5404327f85a1>\u001b[0m in \u001b[0;36mcompute_loss\u001b[0;34m(labels, logits)\u001b[0m\n\u001b[1;32m     18\u001b[0m   \u001b[0mprint\u001b[0m\u001b[0;34m(\u001b[0m\u001b[0mstart_logits\u001b[0m\u001b[0;34m.\u001b[0m\u001b[0mshape\u001b[0m\u001b[0;34m)\u001b[0m\u001b[0;34m\u001b[0m\u001b[0;34m\u001b[0m\u001b[0m\n\u001b[1;32m     19\u001b[0m \u001b[0;34m\u001b[0m\u001b[0m\n\u001b[0;32m---> 20\u001b[0;31m   \u001b[0mstart_loss\u001b[0m \u001b[0;34m=\u001b[0m \u001b[0mloss_fn\u001b[0m\u001b[0;34m(\u001b[0m\u001b[0mstart_labels\u001b[0m\u001b[0;34m,\u001b[0m \u001b[0mstart_logits\u001b[0m\u001b[0;34m)\u001b[0m\u001b[0;34m\u001b[0m\u001b[0;34m\u001b[0m\u001b[0m\n\u001b[0m\u001b[1;32m     21\u001b[0m   \u001b[0mend_loss\u001b[0m \u001b[0;34m=\u001b[0m \u001b[0mloss_fn\u001b[0m\u001b[0;34m(\u001b[0m\u001b[0mend_labels\u001b[0m\u001b[0;34m,\u001b[0m \u001b[0mend_logits\u001b[0m\u001b[0;34m)\u001b[0m\u001b[0;34m\u001b[0m\u001b[0;34m\u001b[0m\u001b[0m\n\u001b[1;32m     22\u001b[0m \u001b[0;34m\u001b[0m\u001b[0m\n",
            "\u001b[0;32m/usr/local/lib/python3.6/dist-packages/tensorflow/python/keras/losses.py\u001b[0m in \u001b[0;36m__call__\u001b[0;34m(self, y_true, y_pred, sample_weight)\u001b[0m\n\u001b[1;32m    150\u001b[0m       \u001b[0;32melse\u001b[0m\u001b[0;34m:\u001b[0m\u001b[0;34m\u001b[0m\u001b[0;34m\u001b[0m\u001b[0m\n\u001b[1;32m    151\u001b[0m         \u001b[0mcall_fn\u001b[0m \u001b[0;34m=\u001b[0m \u001b[0mautograph\u001b[0m\u001b[0;34m.\u001b[0m\u001b[0mtf_convert\u001b[0m\u001b[0;34m(\u001b[0m\u001b[0mself\u001b[0m\u001b[0;34m.\u001b[0m\u001b[0mcall\u001b[0m\u001b[0;34m,\u001b[0m \u001b[0mag_ctx\u001b[0m\u001b[0;34m.\u001b[0m\u001b[0mcontrol_status_ctx\u001b[0m\u001b[0;34m(\u001b[0m\u001b[0;34m)\u001b[0m\u001b[0;34m)\u001b[0m\u001b[0;34m\u001b[0m\u001b[0;34m\u001b[0m\u001b[0m\n\u001b[0;32m--> 152\u001b[0;31m       \u001b[0mlosses\u001b[0m \u001b[0;34m=\u001b[0m \u001b[0mcall_fn\u001b[0m\u001b[0;34m(\u001b[0m\u001b[0my_true\u001b[0m\u001b[0;34m,\u001b[0m \u001b[0my_pred\u001b[0m\u001b[0;34m)\u001b[0m\u001b[0;34m\u001b[0m\u001b[0;34m\u001b[0m\u001b[0m\n\u001b[0m\u001b[1;32m    153\u001b[0m       return losses_utils.compute_weighted_loss(\n\u001b[1;32m    154\u001b[0m           losses, sample_weight, reduction=self._get_reduction())\n",
            "\u001b[0;32m/usr/local/lib/python3.6/dist-packages/tensorflow/python/keras/losses.py\u001b[0m in \u001b[0;36mcall\u001b[0;34m(self, y_true, y_pred)\u001b[0m\n\u001b[1;32m    254\u001b[0m           y_pred, y_true)\n\u001b[1;32m    255\u001b[0m     \u001b[0mag_fn\u001b[0m \u001b[0;34m=\u001b[0m \u001b[0mautograph\u001b[0m\u001b[0;34m.\u001b[0m\u001b[0mtf_convert\u001b[0m\u001b[0;34m(\u001b[0m\u001b[0mself\u001b[0m\u001b[0;34m.\u001b[0m\u001b[0mfn\u001b[0m\u001b[0;34m,\u001b[0m \u001b[0mag_ctx\u001b[0m\u001b[0;34m.\u001b[0m\u001b[0mcontrol_status_ctx\u001b[0m\u001b[0;34m(\u001b[0m\u001b[0;34m)\u001b[0m\u001b[0;34m)\u001b[0m\u001b[0;34m\u001b[0m\u001b[0;34m\u001b[0m\u001b[0m\n\u001b[0;32m--> 256\u001b[0;31m     \u001b[0;32mreturn\u001b[0m \u001b[0mag_fn\u001b[0m\u001b[0;34m(\u001b[0m\u001b[0my_true\u001b[0m\u001b[0;34m,\u001b[0m \u001b[0my_pred\u001b[0m\u001b[0;34m,\u001b[0m \u001b[0;34m**\u001b[0m\u001b[0mself\u001b[0m\u001b[0;34m.\u001b[0m\u001b[0m_fn_kwargs\u001b[0m\u001b[0;34m)\u001b[0m\u001b[0;34m\u001b[0m\u001b[0;34m\u001b[0m\u001b[0m\n\u001b[0m\u001b[1;32m    257\u001b[0m \u001b[0;34m\u001b[0m\u001b[0m\n\u001b[1;32m    258\u001b[0m   \u001b[0;32mdef\u001b[0m \u001b[0mget_config\u001b[0m\u001b[0;34m(\u001b[0m\u001b[0mself\u001b[0m\u001b[0;34m)\u001b[0m\u001b[0;34m:\u001b[0m\u001b[0;34m\u001b[0m\u001b[0;34m\u001b[0m\u001b[0m\n",
            "\u001b[0;32m/usr/local/lib/python3.6/dist-packages/tensorflow/python/util/dispatch.py\u001b[0m in \u001b[0;36mwrapper\u001b[0;34m(*args, **kwargs)\u001b[0m\n\u001b[1;32m    199\u001b[0m     \u001b[0;34m\"\"\"Call target, and fall back on dispatchers if there is a TypeError.\"\"\"\u001b[0m\u001b[0;34m\u001b[0m\u001b[0;34m\u001b[0m\u001b[0m\n\u001b[1;32m    200\u001b[0m     \u001b[0;32mtry\u001b[0m\u001b[0;34m:\u001b[0m\u001b[0;34m\u001b[0m\u001b[0;34m\u001b[0m\u001b[0m\n\u001b[0;32m--> 201\u001b[0;31m       \u001b[0;32mreturn\u001b[0m \u001b[0mtarget\u001b[0m\u001b[0;34m(\u001b[0m\u001b[0;34m*\u001b[0m\u001b[0margs\u001b[0m\u001b[0;34m,\u001b[0m \u001b[0;34m**\u001b[0m\u001b[0mkwargs\u001b[0m\u001b[0;34m)\u001b[0m\u001b[0;34m\u001b[0m\u001b[0;34m\u001b[0m\u001b[0m\n\u001b[0m\u001b[1;32m    202\u001b[0m     \u001b[0;32mexcept\u001b[0m \u001b[0;34m(\u001b[0m\u001b[0mTypeError\u001b[0m\u001b[0;34m,\u001b[0m \u001b[0mValueError\u001b[0m\u001b[0;34m)\u001b[0m\u001b[0;34m:\u001b[0m\u001b[0;34m\u001b[0m\u001b[0;34m\u001b[0m\u001b[0m\n\u001b[1;32m    203\u001b[0m       \u001b[0;31m# Note: convert_to_eager_tensor currently raises a ValueError, not a\u001b[0m\u001b[0;34m\u001b[0m\u001b[0;34m\u001b[0m\u001b[0;34m\u001b[0m\u001b[0m\n",
            "\u001b[0;32m/usr/local/lib/python3.6/dist-packages/tensorflow/python/keras/losses.py\u001b[0m in \u001b[0;36msparse_categorical_crossentropy\u001b[0;34m(y_true, y_pred, from_logits, axis)\u001b[0m\n\u001b[1;32m   1567\u001b[0m   \u001b[0my_true\u001b[0m \u001b[0;34m=\u001b[0m \u001b[0mmath_ops\u001b[0m\u001b[0;34m.\u001b[0m\u001b[0mcast\u001b[0m\u001b[0;34m(\u001b[0m\u001b[0my_true\u001b[0m\u001b[0;34m,\u001b[0m \u001b[0my_pred\u001b[0m\u001b[0;34m.\u001b[0m\u001b[0mdtype\u001b[0m\u001b[0;34m)\u001b[0m\u001b[0;34m\u001b[0m\u001b[0;34m\u001b[0m\u001b[0m\n\u001b[1;32m   1568\u001b[0m   return K.sparse_categorical_crossentropy(\n\u001b[0;32m-> 1569\u001b[0;31m       y_true, y_pred, from_logits=from_logits, axis=axis)\n\u001b[0m\u001b[1;32m   1570\u001b[0m \u001b[0;34m\u001b[0m\u001b[0m\n\u001b[1;32m   1571\u001b[0m \u001b[0;34m\u001b[0m\u001b[0m\n",
            "\u001b[0;32m/usr/local/lib/python3.6/dist-packages/tensorflow/python/util/dispatch.py\u001b[0m in \u001b[0;36mwrapper\u001b[0;34m(*args, **kwargs)\u001b[0m\n\u001b[1;32m    199\u001b[0m     \u001b[0;34m\"\"\"Call target, and fall back on dispatchers if there is a TypeError.\"\"\"\u001b[0m\u001b[0;34m\u001b[0m\u001b[0;34m\u001b[0m\u001b[0m\n\u001b[1;32m    200\u001b[0m     \u001b[0;32mtry\u001b[0m\u001b[0;34m:\u001b[0m\u001b[0;34m\u001b[0m\u001b[0;34m\u001b[0m\u001b[0m\n\u001b[0;32m--> 201\u001b[0;31m       \u001b[0;32mreturn\u001b[0m \u001b[0mtarget\u001b[0m\u001b[0;34m(\u001b[0m\u001b[0;34m*\u001b[0m\u001b[0margs\u001b[0m\u001b[0;34m,\u001b[0m \u001b[0;34m**\u001b[0m\u001b[0mkwargs\u001b[0m\u001b[0;34m)\u001b[0m\u001b[0;34m\u001b[0m\u001b[0;34m\u001b[0m\u001b[0m\n\u001b[0m\u001b[1;32m    202\u001b[0m     \u001b[0;32mexcept\u001b[0m \u001b[0;34m(\u001b[0m\u001b[0mTypeError\u001b[0m\u001b[0;34m,\u001b[0m \u001b[0mValueError\u001b[0m\u001b[0;34m)\u001b[0m\u001b[0;34m:\u001b[0m\u001b[0;34m\u001b[0m\u001b[0;34m\u001b[0m\u001b[0m\n\u001b[1;32m    203\u001b[0m       \u001b[0;31m# Note: convert_to_eager_tensor currently raises a ValueError, not a\u001b[0m\u001b[0;34m\u001b[0m\u001b[0;34m\u001b[0m\u001b[0;34m\u001b[0m\u001b[0m\n",
            "\u001b[0;32m/usr/local/lib/python3.6/dist-packages/tensorflow/python/keras/backend.py\u001b[0m in \u001b[0;36msparse_categorical_crossentropy\u001b[0;34m(target, output, from_logits, axis)\u001b[0m\n\u001b[1;32m   4942\u001b[0m   \u001b[0;32melse\u001b[0m\u001b[0;34m:\u001b[0m\u001b[0;34m\u001b[0m\u001b[0;34m\u001b[0m\u001b[0m\n\u001b[1;32m   4943\u001b[0m     res = nn.sparse_softmax_cross_entropy_with_logits_v2(\n\u001b[0;32m-> 4944\u001b[0;31m         labels=target, logits=output)\n\u001b[0m\u001b[1;32m   4945\u001b[0m \u001b[0;34m\u001b[0m\u001b[0m\n\u001b[1;32m   4946\u001b[0m   \u001b[0;32mif\u001b[0m \u001b[0mupdate_shape\u001b[0m \u001b[0;32mand\u001b[0m \u001b[0moutput_rank\u001b[0m \u001b[0;34m>=\u001b[0m \u001b[0;36m3\u001b[0m\u001b[0;34m:\u001b[0m\u001b[0;34m\u001b[0m\u001b[0;34m\u001b[0m\u001b[0m\n",
            "\u001b[0;32m/usr/local/lib/python3.6/dist-packages/tensorflow/python/util/dispatch.py\u001b[0m in \u001b[0;36mwrapper\u001b[0;34m(*args, **kwargs)\u001b[0m\n\u001b[1;32m    199\u001b[0m     \u001b[0;34m\"\"\"Call target, and fall back on dispatchers if there is a TypeError.\"\"\"\u001b[0m\u001b[0;34m\u001b[0m\u001b[0;34m\u001b[0m\u001b[0m\n\u001b[1;32m    200\u001b[0m     \u001b[0;32mtry\u001b[0m\u001b[0;34m:\u001b[0m\u001b[0;34m\u001b[0m\u001b[0;34m\u001b[0m\u001b[0m\n\u001b[0;32m--> 201\u001b[0;31m       \u001b[0;32mreturn\u001b[0m \u001b[0mtarget\u001b[0m\u001b[0;34m(\u001b[0m\u001b[0;34m*\u001b[0m\u001b[0margs\u001b[0m\u001b[0;34m,\u001b[0m \u001b[0;34m**\u001b[0m\u001b[0mkwargs\u001b[0m\u001b[0;34m)\u001b[0m\u001b[0;34m\u001b[0m\u001b[0;34m\u001b[0m\u001b[0m\n\u001b[0m\u001b[1;32m    202\u001b[0m     \u001b[0;32mexcept\u001b[0m \u001b[0;34m(\u001b[0m\u001b[0mTypeError\u001b[0m\u001b[0;34m,\u001b[0m \u001b[0mValueError\u001b[0m\u001b[0;34m)\u001b[0m\u001b[0;34m:\u001b[0m\u001b[0;34m\u001b[0m\u001b[0;34m\u001b[0m\u001b[0m\n\u001b[1;32m    203\u001b[0m       \u001b[0;31m# Note: convert_to_eager_tensor currently raises a ValueError, not a\u001b[0m\u001b[0;34m\u001b[0m\u001b[0;34m\u001b[0m\u001b[0;34m\u001b[0m\u001b[0m\n",
            "\u001b[0;32m/usr/local/lib/python3.6/dist-packages/tensorflow/python/ops/nn_ops.py\u001b[0m in \u001b[0;36msparse_softmax_cross_entropy_with_logits_v2\u001b[0;34m(labels, logits, name)\u001b[0m\n\u001b[1;32m   4239\u001b[0m   \"\"\"\n\u001b[1;32m   4240\u001b[0m   return sparse_softmax_cross_entropy_with_logits(\n\u001b[0;32m-> 4241\u001b[0;31m       labels=labels, logits=logits, name=name)\n\u001b[0m\u001b[1;32m   4242\u001b[0m \u001b[0;34m\u001b[0m\u001b[0m\n\u001b[1;32m   4243\u001b[0m \u001b[0;34m\u001b[0m\u001b[0m\n",
            "\u001b[0;32m/usr/local/lib/python3.6/dist-packages/tensorflow/python/util/dispatch.py\u001b[0m in \u001b[0;36mwrapper\u001b[0;34m(*args, **kwargs)\u001b[0m\n\u001b[1;32m    199\u001b[0m     \u001b[0;34m\"\"\"Call target, and fall back on dispatchers if there is a TypeError.\"\"\"\u001b[0m\u001b[0;34m\u001b[0m\u001b[0;34m\u001b[0m\u001b[0m\n\u001b[1;32m    200\u001b[0m     \u001b[0;32mtry\u001b[0m\u001b[0;34m:\u001b[0m\u001b[0;34m\u001b[0m\u001b[0;34m\u001b[0m\u001b[0m\n\u001b[0;32m--> 201\u001b[0;31m       \u001b[0;32mreturn\u001b[0m \u001b[0mtarget\u001b[0m\u001b[0;34m(\u001b[0m\u001b[0;34m*\u001b[0m\u001b[0margs\u001b[0m\u001b[0;34m,\u001b[0m \u001b[0;34m**\u001b[0m\u001b[0mkwargs\u001b[0m\u001b[0;34m)\u001b[0m\u001b[0;34m\u001b[0m\u001b[0;34m\u001b[0m\u001b[0m\n\u001b[0m\u001b[1;32m    202\u001b[0m     \u001b[0;32mexcept\u001b[0m \u001b[0;34m(\u001b[0m\u001b[0mTypeError\u001b[0m\u001b[0;34m,\u001b[0m \u001b[0mValueError\u001b[0m\u001b[0;34m)\u001b[0m\u001b[0;34m:\u001b[0m\u001b[0;34m\u001b[0m\u001b[0;34m\u001b[0m\u001b[0m\n\u001b[1;32m    203\u001b[0m       \u001b[0;31m# Note: convert_to_eager_tensor currently raises a ValueError, not a\u001b[0m\u001b[0;34m\u001b[0m\u001b[0;34m\u001b[0m\u001b[0;34m\u001b[0m\u001b[0m\n",
            "\u001b[0;32m/usr/local/lib/python3.6/dist-packages/tensorflow/python/ops/nn_ops.py\u001b[0m in \u001b[0;36msparse_softmax_cross_entropy_with_logits\u001b[0;34m(_sentinel, labels, logits, name)\u001b[0m\n\u001b[1;32m   4154\u001b[0m                        \u001b[0;34m\"should equal the shape of logits except for the last \"\u001b[0m\u001b[0;34m\u001b[0m\u001b[0;34m\u001b[0m\u001b[0m\n\u001b[1;32m   4155\u001b[0m                        \"dimension (received %s).\" % (labels_static_shape,\n\u001b[0;32m-> 4156\u001b[0;31m                                                      logits.get_shape()))\n\u001b[0m\u001b[1;32m   4157\u001b[0m     \u001b[0;31m# Check if no reshapes are required.\u001b[0m\u001b[0;34m\u001b[0m\u001b[0;34m\u001b[0m\u001b[0;34m\u001b[0m\u001b[0m\n\u001b[1;32m   4158\u001b[0m     \u001b[0;32mif\u001b[0m \u001b[0mlogits\u001b[0m\u001b[0;34m.\u001b[0m\u001b[0mget_shape\u001b[0m\u001b[0;34m(\u001b[0m\u001b[0;34m)\u001b[0m\u001b[0;34m.\u001b[0m\u001b[0mndims\u001b[0m \u001b[0;34m==\u001b[0m \u001b[0;36m2\u001b[0m\u001b[0;34m:\u001b[0m\u001b[0;34m\u001b[0m\u001b[0;34m\u001b[0m\u001b[0m\n",
            "\u001b[0;31mValueError\u001b[0m: Shape mismatch: The shape of labels (received (17630,)) should equal the shape of logits except for the last dimension (received (1000, 512))."
          ]
        }
      ]
    },
    {
      "cell_type": "code",
      "metadata": {
        "id": "tsv_uILTwmFR"
      },
      "source": [
        "# Define model parameters\r\n",
        "optimizer = tf.keras.optimizers.Adam(learning_rate=3e-5, epsilon=1e-08, clipnorm=1.0)\r\n",
        "loss = tf.keras.losses.SparseCategoricalCrossentropy(from_logits=True)\r\n",
        "# loss = compute_loss\r\n",
        "metric = tf.keras.metrics.SparseCategoricalAccuracy('accuracy')\r\n",
        "model.compile(optimizer=optimizer, loss=loss, metrics=[metric])"
      ],
      "execution_count": 165,
      "outputs": []
    },
    {
      "cell_type": "markdown",
      "metadata": {
        "id": "gfUxCHLSusuV"
      },
      "source": [
        "# Train"
      ]
    },
    {
      "cell_type": "code",
      "metadata": {
        "colab": {
          "base_uri": "https://localhost:8080/",
          "height": 408
        },
        "id": "69cHTOSZGuyG",
        "outputId": "1c1dff62-07ca-4814-e6c0-f867f6bc8e3b"
      },
      "source": [
        "# Fit model with train set\r\n",
        "model_fit = model.fit(x = [train_inputs['input_ids'],\r\n",
        "                           train_inputs['attention_mask'],\r\n",
        "                           train_inputs['token_type_ids']],\r\n",
        "                      # y = np.transpose(np.array(list(zip(train_starts_cat, train_ends_cat))), axes = (0, 2, 1)),\r\n",
        "                      # y = np.dstack((train_starts_ids, train_ends_ids))[0],\r\n",
        "                      y = np.array(train_starts_ids, dtype=np.float32),\r\n",
        "                       \r\n",
        "                      batch_size=BATCH_SIZE, epochs=EPOCHS, \r\n",
        "                      \r\n",
        "                      validation_data=([val_inputs['input_ids'],\r\n",
        "                                        val_inputs['attention_mask'],\r\n",
        "                                        val_inputs['token_type_ids']], \r\n",
        "                                        # np.transpose(np.array(list(zip(val_starts_cat, val_ends_cat))), axes = (0, 2, 1))\r\n",
        "                                        # np.dstack((val_starts_ids, val_ends_ids))[0]\r\n",
        "                                       np.array(val_starts_ids, dtype=np.float32)\r\n",
        "                                       )\r\n",
        "                      )"
      ],
      "execution_count": 169,
      "outputs": [
        {
          "output_type": "stream",
          "text": [
            "Epoch 1/3\n",
            "  38/1563 [..............................] - ETA: 41:22 - loss: 6.1914 - accuracy: 0.0098"
          ],
          "name": "stdout"
        },
        {
          "output_type": "error",
          "ename": "KeyboardInterrupt",
          "evalue": "ignored",
          "traceback": [
            "\u001b[0;31m---------------------------------------------------------------------------\u001b[0m",
            "\u001b[0;31mKeyboardInterrupt\u001b[0m                         Traceback (most recent call last)",
            "\u001b[0;32m<ipython-input-169-4aef1ba550a7>\u001b[0m in \u001b[0;36m<module>\u001b[0;34m()\u001b[0m\n\u001b[1;32m     14\u001b[0m                                         \u001b[0;31m# np.transpose(np.array(list(zip(val_starts_cat, val_ends_cat))), axes = (0, 2, 1))\u001b[0m\u001b[0;34m\u001b[0m\u001b[0;34m\u001b[0m\u001b[0;34m\u001b[0m\u001b[0m\n\u001b[1;32m     15\u001b[0m                                         \u001b[0;31m# np.dstack((val_starts_ids, val_ends_ids))[0]\u001b[0m\u001b[0;34m\u001b[0m\u001b[0;34m\u001b[0m\u001b[0;34m\u001b[0m\u001b[0m\n\u001b[0;32m---> 16\u001b[0;31m                                        \u001b[0mnp\u001b[0m\u001b[0;34m.\u001b[0m\u001b[0marray\u001b[0m\u001b[0;34m(\u001b[0m\u001b[0mval_starts_ids\u001b[0m\u001b[0;34m,\u001b[0m \u001b[0mdtype\u001b[0m\u001b[0;34m=\u001b[0m\u001b[0mnp\u001b[0m\u001b[0;34m.\u001b[0m\u001b[0mfloat32\u001b[0m\u001b[0;34m)\u001b[0m\u001b[0;34m\u001b[0m\u001b[0;34m\u001b[0m\u001b[0m\n\u001b[0m\u001b[1;32m     17\u001b[0m                                        )\n\u001b[1;32m     18\u001b[0m                       )\n",
            "\u001b[0;32m/usr/local/lib/python3.6/dist-packages/tensorflow/python/keras/engine/training.py\u001b[0m in \u001b[0;36mfit\u001b[0;34m(self, x, y, batch_size, epochs, verbose, callbacks, validation_split, validation_data, shuffle, class_weight, sample_weight, initial_epoch, steps_per_epoch, validation_steps, validation_batch_size, validation_freq, max_queue_size, workers, use_multiprocessing)\u001b[0m\n\u001b[1;32m   1098\u001b[0m                 _r=1):\n\u001b[1;32m   1099\u001b[0m               \u001b[0mcallbacks\u001b[0m\u001b[0;34m.\u001b[0m\u001b[0mon_train_batch_begin\u001b[0m\u001b[0;34m(\u001b[0m\u001b[0mstep\u001b[0m\u001b[0;34m)\u001b[0m\u001b[0;34m\u001b[0m\u001b[0;34m\u001b[0m\u001b[0m\n\u001b[0;32m-> 1100\u001b[0;31m               \u001b[0mtmp_logs\u001b[0m \u001b[0;34m=\u001b[0m \u001b[0mself\u001b[0m\u001b[0;34m.\u001b[0m\u001b[0mtrain_function\u001b[0m\u001b[0;34m(\u001b[0m\u001b[0miterator\u001b[0m\u001b[0;34m)\u001b[0m\u001b[0;34m\u001b[0m\u001b[0;34m\u001b[0m\u001b[0m\n\u001b[0m\u001b[1;32m   1101\u001b[0m               \u001b[0;32mif\u001b[0m \u001b[0mdata_handler\u001b[0m\u001b[0;34m.\u001b[0m\u001b[0mshould_sync\u001b[0m\u001b[0;34m:\u001b[0m\u001b[0;34m\u001b[0m\u001b[0;34m\u001b[0m\u001b[0m\n\u001b[1;32m   1102\u001b[0m                 \u001b[0mcontext\u001b[0m\u001b[0;34m.\u001b[0m\u001b[0masync_wait\u001b[0m\u001b[0;34m(\u001b[0m\u001b[0;34m)\u001b[0m\u001b[0;34m\u001b[0m\u001b[0;34m\u001b[0m\u001b[0m\n",
            "\u001b[0;32m/usr/local/lib/python3.6/dist-packages/tensorflow/python/eager/def_function.py\u001b[0m in \u001b[0;36m__call__\u001b[0;34m(self, *args, **kwds)\u001b[0m\n\u001b[1;32m    826\u001b[0m     \u001b[0mtracing_count\u001b[0m \u001b[0;34m=\u001b[0m \u001b[0mself\u001b[0m\u001b[0;34m.\u001b[0m\u001b[0mexperimental_get_tracing_count\u001b[0m\u001b[0;34m(\u001b[0m\u001b[0;34m)\u001b[0m\u001b[0;34m\u001b[0m\u001b[0;34m\u001b[0m\u001b[0m\n\u001b[1;32m    827\u001b[0m     \u001b[0;32mwith\u001b[0m \u001b[0mtrace\u001b[0m\u001b[0;34m.\u001b[0m\u001b[0mTrace\u001b[0m\u001b[0;34m(\u001b[0m\u001b[0mself\u001b[0m\u001b[0;34m.\u001b[0m\u001b[0m_name\u001b[0m\u001b[0;34m)\u001b[0m \u001b[0;32mas\u001b[0m \u001b[0mtm\u001b[0m\u001b[0;34m:\u001b[0m\u001b[0;34m\u001b[0m\u001b[0;34m\u001b[0m\u001b[0m\n\u001b[0;32m--> 828\u001b[0;31m       \u001b[0mresult\u001b[0m \u001b[0;34m=\u001b[0m \u001b[0mself\u001b[0m\u001b[0;34m.\u001b[0m\u001b[0m_call\u001b[0m\u001b[0;34m(\u001b[0m\u001b[0;34m*\u001b[0m\u001b[0margs\u001b[0m\u001b[0;34m,\u001b[0m \u001b[0;34m**\u001b[0m\u001b[0mkwds\u001b[0m\u001b[0;34m)\u001b[0m\u001b[0;34m\u001b[0m\u001b[0;34m\u001b[0m\u001b[0m\n\u001b[0m\u001b[1;32m    829\u001b[0m       \u001b[0mcompiler\u001b[0m \u001b[0;34m=\u001b[0m \u001b[0;34m\"xla\"\u001b[0m \u001b[0;32mif\u001b[0m \u001b[0mself\u001b[0m\u001b[0;34m.\u001b[0m\u001b[0m_experimental_compile\u001b[0m \u001b[0;32melse\u001b[0m \u001b[0;34m\"nonXla\"\u001b[0m\u001b[0;34m\u001b[0m\u001b[0;34m\u001b[0m\u001b[0m\n\u001b[1;32m    830\u001b[0m       \u001b[0mnew_tracing_count\u001b[0m \u001b[0;34m=\u001b[0m \u001b[0mself\u001b[0m\u001b[0;34m.\u001b[0m\u001b[0mexperimental_get_tracing_count\u001b[0m\u001b[0;34m(\u001b[0m\u001b[0;34m)\u001b[0m\u001b[0;34m\u001b[0m\u001b[0;34m\u001b[0m\u001b[0m\n",
            "\u001b[0;32m/usr/local/lib/python3.6/dist-packages/tensorflow/python/eager/def_function.py\u001b[0m in \u001b[0;36m_call\u001b[0;34m(self, *args, **kwds)\u001b[0m\n\u001b[1;32m    853\u001b[0m       \u001b[0;31m# In this case we have created variables on the first call, so we run the\u001b[0m\u001b[0;34m\u001b[0m\u001b[0;34m\u001b[0m\u001b[0;34m\u001b[0m\u001b[0m\n\u001b[1;32m    854\u001b[0m       \u001b[0;31m# defunned version which is guaranteed to never create variables.\u001b[0m\u001b[0;34m\u001b[0m\u001b[0;34m\u001b[0m\u001b[0;34m\u001b[0m\u001b[0m\n\u001b[0;32m--> 855\u001b[0;31m       \u001b[0;32mreturn\u001b[0m \u001b[0mself\u001b[0m\u001b[0;34m.\u001b[0m\u001b[0m_stateless_fn\u001b[0m\u001b[0;34m(\u001b[0m\u001b[0;34m*\u001b[0m\u001b[0margs\u001b[0m\u001b[0;34m,\u001b[0m \u001b[0;34m**\u001b[0m\u001b[0mkwds\u001b[0m\u001b[0;34m)\u001b[0m  \u001b[0;31m# pylint: disable=not-callable\u001b[0m\u001b[0;34m\u001b[0m\u001b[0;34m\u001b[0m\u001b[0m\n\u001b[0m\u001b[1;32m    856\u001b[0m     \u001b[0;32melif\u001b[0m \u001b[0mself\u001b[0m\u001b[0;34m.\u001b[0m\u001b[0m_stateful_fn\u001b[0m \u001b[0;32mis\u001b[0m \u001b[0;32mnot\u001b[0m \u001b[0;32mNone\u001b[0m\u001b[0;34m:\u001b[0m\u001b[0;34m\u001b[0m\u001b[0;34m\u001b[0m\u001b[0m\n\u001b[1;32m    857\u001b[0m       \u001b[0;31m# Release the lock early so that multiple threads can perform the call\u001b[0m\u001b[0;34m\u001b[0m\u001b[0;34m\u001b[0m\u001b[0;34m\u001b[0m\u001b[0m\n",
            "\u001b[0;32m/usr/local/lib/python3.6/dist-packages/tensorflow/python/eager/function.py\u001b[0m in \u001b[0;36m__call__\u001b[0;34m(self, *args, **kwargs)\u001b[0m\n\u001b[1;32m   2941\u001b[0m        filtered_flat_args) = self._maybe_define_function(args, kwargs)\n\u001b[1;32m   2942\u001b[0m     return graph_function._call_flat(\n\u001b[0;32m-> 2943\u001b[0;31m         filtered_flat_args, captured_inputs=graph_function.captured_inputs)  # pylint: disable=protected-access\n\u001b[0m\u001b[1;32m   2944\u001b[0m \u001b[0;34m\u001b[0m\u001b[0m\n\u001b[1;32m   2945\u001b[0m   \u001b[0;34m@\u001b[0m\u001b[0mproperty\u001b[0m\u001b[0;34m\u001b[0m\u001b[0;34m\u001b[0m\u001b[0m\n",
            "\u001b[0;32m/usr/local/lib/python3.6/dist-packages/tensorflow/python/eager/function.py\u001b[0m in \u001b[0;36m_call_flat\u001b[0;34m(self, args, captured_inputs, cancellation_manager)\u001b[0m\n\u001b[1;32m   1917\u001b[0m       \u001b[0;31m# No tape is watching; skip to running the function.\u001b[0m\u001b[0;34m\u001b[0m\u001b[0;34m\u001b[0m\u001b[0;34m\u001b[0m\u001b[0m\n\u001b[1;32m   1918\u001b[0m       return self._build_call_outputs(self._inference_function.call(\n\u001b[0;32m-> 1919\u001b[0;31m           ctx, args, cancellation_manager=cancellation_manager))\n\u001b[0m\u001b[1;32m   1920\u001b[0m     forward_backward = self._select_forward_and_backward_functions(\n\u001b[1;32m   1921\u001b[0m         \u001b[0margs\u001b[0m\u001b[0;34m,\u001b[0m\u001b[0;34m\u001b[0m\u001b[0;34m\u001b[0m\u001b[0m\n",
            "\u001b[0;32m/usr/local/lib/python3.6/dist-packages/tensorflow/python/eager/function.py\u001b[0m in \u001b[0;36mcall\u001b[0;34m(self, ctx, args, cancellation_manager)\u001b[0m\n\u001b[1;32m    558\u001b[0m               \u001b[0minputs\u001b[0m\u001b[0;34m=\u001b[0m\u001b[0margs\u001b[0m\u001b[0;34m,\u001b[0m\u001b[0;34m\u001b[0m\u001b[0;34m\u001b[0m\u001b[0m\n\u001b[1;32m    559\u001b[0m               \u001b[0mattrs\u001b[0m\u001b[0;34m=\u001b[0m\u001b[0mattrs\u001b[0m\u001b[0;34m,\u001b[0m\u001b[0;34m\u001b[0m\u001b[0;34m\u001b[0m\u001b[0m\n\u001b[0;32m--> 560\u001b[0;31m               ctx=ctx)\n\u001b[0m\u001b[1;32m    561\u001b[0m         \u001b[0;32melse\u001b[0m\u001b[0;34m:\u001b[0m\u001b[0;34m\u001b[0m\u001b[0;34m\u001b[0m\u001b[0m\n\u001b[1;32m    562\u001b[0m           outputs = execute.execute_with_cancellation(\n",
            "\u001b[0;32m/usr/local/lib/python3.6/dist-packages/tensorflow/python/eager/execute.py\u001b[0m in \u001b[0;36mquick_execute\u001b[0;34m(op_name, num_outputs, inputs, attrs, ctx, name)\u001b[0m\n\u001b[1;32m     58\u001b[0m     \u001b[0mctx\u001b[0m\u001b[0;34m.\u001b[0m\u001b[0mensure_initialized\u001b[0m\u001b[0;34m(\u001b[0m\u001b[0;34m)\u001b[0m\u001b[0;34m\u001b[0m\u001b[0;34m\u001b[0m\u001b[0m\n\u001b[1;32m     59\u001b[0m     tensors = pywrap_tfe.TFE_Py_Execute(ctx._handle, device_name, op_name,\n\u001b[0;32m---> 60\u001b[0;31m                                         inputs, attrs, num_outputs)\n\u001b[0m\u001b[1;32m     61\u001b[0m   \u001b[0;32mexcept\u001b[0m \u001b[0mcore\u001b[0m\u001b[0;34m.\u001b[0m\u001b[0m_NotOkStatusException\u001b[0m \u001b[0;32mas\u001b[0m \u001b[0me\u001b[0m\u001b[0;34m:\u001b[0m\u001b[0;34m\u001b[0m\u001b[0;34m\u001b[0m\u001b[0m\n\u001b[1;32m     62\u001b[0m     \u001b[0;32mif\u001b[0m \u001b[0mname\u001b[0m \u001b[0;32mis\u001b[0m \u001b[0;32mnot\u001b[0m \u001b[0;32mNone\u001b[0m\u001b[0;34m:\u001b[0m\u001b[0;34m\u001b[0m\u001b[0;34m\u001b[0m\u001b[0m\n",
            "\u001b[0;31mKeyboardInterrupt\u001b[0m: "
          ]
        }
      ]
    },
    {
      "cell_type": "markdown",
      "metadata": {
        "id": "qBZuBfspH47n"
      },
      "source": [
        "# Test"
      ]
    },
    {
      "cell_type": "code",
      "metadata": {
        "id": "MB8A1y-iaK_w",
        "colab": {
          "base_uri": "https://localhost:8080/",
          "height": 408
        },
        "outputId": "70590662-745c-4392-98bf-4f5961ca9c3f"
      },
      "source": [
        "# Predict test set\r\n",
        "pred = model.predict([test_inputs[\"input_ids\"][:TEST_LIMIT], \r\n",
        "                      test_inputs[\"attention_mask\"][:TEST_LIMIT], \r\n",
        "                      test_inputs[\"token_type_ids\"][:TEST_LIMIT]])\r\n",
        "\r\n",
        "pred_start_ids = np.argmax(pred, axis= 1)[:, 0]\r\n",
        "pred_end_ids = np.argmax(pred, axis= 1)[:, 1]\r\n",
        "\r\n",
        "print(\"test start accuracy:\", sklearn.metrics.accuracy_score(test_starts_ids[:TEST_LIMIT], pred_start_ids))\r\n",
        "print(\"test end accuracy:\", sklearn.metrics.accuracy_score(test_ends_ids[:TEST_LIMIT], pred_end_ids))"
      ],
      "execution_count": 103,
      "outputs": [
        {
          "output_type": "error",
          "ename": "ValueError",
          "evalue": "ignored",
          "traceback": [
            "\u001b[0;31m---------------------------------------------------------------------------\u001b[0m",
            "\u001b[0;31mValueError\u001b[0m                                Traceback (most recent call last)",
            "\u001b[0;32m<ipython-input-103-e02d898384e0>\u001b[0m in \u001b[0;36m<module>\u001b[0;34m()\u001b[0m\n\u001b[1;32m      8\u001b[0m \u001b[0;34m\u001b[0m\u001b[0m\n\u001b[1;32m      9\u001b[0m print(\"test accuracy:\", sklearn.metrics.accuracy_score(\n\u001b[0;32m---> 10\u001b[0;31m     \u001b[0mnp\u001b[0m\u001b[0;34m.\u001b[0m\u001b[0mtranspose\u001b[0m\u001b[0;34m(\u001b[0m\u001b[0mnp\u001b[0m\u001b[0;34m.\u001b[0m\u001b[0marray\u001b[0m\u001b[0;34m(\u001b[0m\u001b[0mlist\u001b[0m\u001b[0;34m(\u001b[0m\u001b[0mzip\u001b[0m\u001b[0;34m(\u001b[0m\u001b[0mtest_starts_ids\u001b[0m\u001b[0;34m[\u001b[0m\u001b[0;34m:\u001b[0m\u001b[0mTEST_LIMIT\u001b[0m\u001b[0;34m]\u001b[0m\u001b[0;34m,\u001b[0m \u001b[0mtest_ends_ids\u001b[0m\u001b[0;34m[\u001b[0m\u001b[0;34m:\u001b[0m\u001b[0mTEST_LIMIT\u001b[0m\u001b[0;34m]\u001b[0m\u001b[0;34m)\u001b[0m\u001b[0;34m)\u001b[0m\u001b[0;34m)\u001b[0m\u001b[0;34m,\u001b[0m \u001b[0maxes\u001b[0m \u001b[0;34m=\u001b[0m \u001b[0;34m(\u001b[0m\u001b[0;36m0\u001b[0m\u001b[0;34m,\u001b[0m \u001b[0;36m2\u001b[0m\u001b[0;34m,\u001b[0m \u001b[0;36m1\u001b[0m\u001b[0;34m)\u001b[0m\u001b[0;34m)\u001b[0m\u001b[0;34m\u001b[0m\u001b[0;34m\u001b[0m\u001b[0m\n\u001b[0m\u001b[1;32m     11\u001b[0m ))\n\u001b[1;32m     12\u001b[0m \u001b[0mprint\u001b[0m\u001b[0;34m(\u001b[0m\u001b[0;34m\"test start accuracy:\"\u001b[0m\u001b[0;34m,\u001b[0m \u001b[0msklearn\u001b[0m\u001b[0;34m.\u001b[0m\u001b[0mmetrics\u001b[0m\u001b[0;34m.\u001b[0m\u001b[0maccuracy_score\u001b[0m\u001b[0;34m(\u001b[0m\u001b[0mtest_starts_ids\u001b[0m\u001b[0;34m[\u001b[0m\u001b[0;34m:\u001b[0m\u001b[0mTEST_LIMIT\u001b[0m\u001b[0;34m]\u001b[0m\u001b[0;34m,\u001b[0m \u001b[0mpred_start_ids\u001b[0m\u001b[0;34m)\u001b[0m\u001b[0;34m)\u001b[0m\u001b[0;34m\u001b[0m\u001b[0;34m\u001b[0m\u001b[0m\n",
            "\u001b[0;32m<__array_function__ internals>\u001b[0m in \u001b[0;36mtranspose\u001b[0;34m(*args, **kwargs)\u001b[0m\n",
            "\u001b[0;32m/usr/local/lib/python3.6/dist-packages/numpy/core/fromnumeric.py\u001b[0m in \u001b[0;36mtranspose\u001b[0;34m(a, axes)\u001b[0m\n\u001b[1;32m    651\u001b[0m \u001b[0;34m\u001b[0m\u001b[0m\n\u001b[1;32m    652\u001b[0m     \"\"\"\n\u001b[0;32m--> 653\u001b[0;31m     \u001b[0;32mreturn\u001b[0m \u001b[0m_wrapfunc\u001b[0m\u001b[0;34m(\u001b[0m\u001b[0ma\u001b[0m\u001b[0;34m,\u001b[0m \u001b[0;34m'transpose'\u001b[0m\u001b[0;34m,\u001b[0m \u001b[0maxes\u001b[0m\u001b[0;34m)\u001b[0m\u001b[0;34m\u001b[0m\u001b[0;34m\u001b[0m\u001b[0m\n\u001b[0m\u001b[1;32m    654\u001b[0m \u001b[0;34m\u001b[0m\u001b[0m\n\u001b[1;32m    655\u001b[0m \u001b[0;34m\u001b[0m\u001b[0m\n",
            "\u001b[0;32m/usr/local/lib/python3.6/dist-packages/numpy/core/fromnumeric.py\u001b[0m in \u001b[0;36m_wrapfunc\u001b[0;34m(obj, method, *args, **kwds)\u001b[0m\n\u001b[1;32m     56\u001b[0m \u001b[0;34m\u001b[0m\u001b[0m\n\u001b[1;32m     57\u001b[0m     \u001b[0;32mtry\u001b[0m\u001b[0;34m:\u001b[0m\u001b[0;34m\u001b[0m\u001b[0;34m\u001b[0m\u001b[0m\n\u001b[0;32m---> 58\u001b[0;31m         \u001b[0;32mreturn\u001b[0m \u001b[0mbound\u001b[0m\u001b[0;34m(\u001b[0m\u001b[0;34m*\u001b[0m\u001b[0margs\u001b[0m\u001b[0;34m,\u001b[0m \u001b[0;34m**\u001b[0m\u001b[0mkwds\u001b[0m\u001b[0;34m)\u001b[0m\u001b[0;34m\u001b[0m\u001b[0;34m\u001b[0m\u001b[0m\n\u001b[0m\u001b[1;32m     59\u001b[0m     \u001b[0;32mexcept\u001b[0m \u001b[0mTypeError\u001b[0m\u001b[0;34m:\u001b[0m\u001b[0;34m\u001b[0m\u001b[0;34m\u001b[0m\u001b[0m\n\u001b[1;32m     60\u001b[0m         \u001b[0;31m# A TypeError occurs if the object does have such a method in its\u001b[0m\u001b[0;34m\u001b[0m\u001b[0;34m\u001b[0m\u001b[0;34m\u001b[0m\u001b[0m\n",
            "\u001b[0;31mValueError\u001b[0m: axes don't match array"
          ]
        }
      ]
    },
    {
      "cell_type": "code",
      "metadata": {
        "id": "ReaGmFCEu0bX"
      },
      "source": [
        "# Predict val set\r\n",
        "pred = model.predict([val_inputs[\"input_ids\"][:VAL_LIMIT], \r\n",
        "                      val_inputs[\"attention_mask\"][:VAL_LIMIT], \r\n",
        "                      val_inputs[\"token_type_ids\"][:VAL_LIMIT]])\r\n",
        "\r\n",
        "pred_start_ids = np.argmax(pred, axis= 1)[:, 0]\r\n",
        "pred_end_ids = np.argmax(pred, axis= 1)[:, 1]\r\n",
        "\r\n",
        "print(\"validation start accuracy:\", sklearn.metrics.accuracy_score(val_starts_ids[:VAL_LIMIT], pred_start_ids))\r\n",
        "print(\"validation end accuracy:\", sklearn.metrics.accuracy_score(val_ends_ids[:VAL_LIMIT], pred_end_ids))"
      ],
      "execution_count": null,
      "outputs": []
    },
    {
      "cell_type": "code",
      "metadata": {
        "id": "JFDBM_-rPuX-",
        "colab": {
          "base_uri": "https://localhost:8080/"
        },
        "outputId": "8ad0b1ea-82e4-4c25-8b4b-167be8736853"
      },
      "source": [
        "def get_text_from_token_ids(context, start_id, end_id):\r\n",
        "  return tokenizer.decode(context[start_id:end_id])\r\n",
        "\r\n",
        "boom_baby = 0\r\n",
        "for i, row in test_df.iterrows():\r\n",
        "  if i == TEST_LIMIT: break\r\n",
        "  true_answer = row[\"answer_text\"]\r\n",
        "  predicted_answer = get_text_from_token_ids(test_inputs[\"input_ids\"][i], start_pred_ids[i], end_pred_ids[i])\r\n",
        "\r\n",
        "  if true_answer == predicted_answer:\r\n",
        "    boom_baby += 1\r\n",
        "\r\n",
        "  if i % 100 == 0:\r\n",
        "    print(\"\\n\\nQuestion: \\n\", row[\"question_text\"])\r\n",
        "    print(\"Context: \\n\", test_context_dict[row[\"context_id\"]])\r\n",
        "    # print(\"Answer text: \\n\", true_answer)\r\n",
        "    print(f\"Our answer: \\n\\tids {(start_pred_ids[i], end_pred_ids[i])}\\n\\ttext: {predicted_answer}\")\r\n",
        "    print(f\"True answer: \\n\\tids {(test_starts_ids[i], test_ends_ids[i])}\\n\\ttext: {row['answer_text']}\")\r\n",
        "    print(\"-\"*50)"
      ],
      "execution_count": 62,
      "outputs": [
        {
          "output_type": "stream",
          "text": [
            "\n",
            "\n",
            "Question: \n",
            " What is the Latin for Order of Preachers?\n",
            "Context: \n",
            " The Order of Preachers (Latin: Ordo Praedicatorum, hence the abbreviation OP used by members), more commonly known after the 15th century as the Dominican Order or Dominicans, is a Roman Catholic religious order founded by the Spanish priest Saint Dominic de Guzman in France and approved by Pope Honorius III (1216–27) on 22 December 1216. Membership in this \"mendicant\" order includes friars, nuns, active sisters, and lay or secular Dominicans (formerly known as tertiaries, though recently there has been a growing number of Associates, who are unrelated to the tertiaries) affiliated with the order.\n",
            "Our answer: \n",
            "\tids (280, 432)\n",
            "\ttext: [PAD] [PAD] [PAD] [PAD] [PAD] [PAD] [PAD] [PAD] [PAD] [PAD] [PAD] [PAD] [PAD] [PAD] [PAD] [PAD] [PAD] [PAD] [PAD] [PAD] [PAD] [PAD] [PAD] [PAD] [PAD] [PAD] [PAD] [PAD] [PAD] [PAD] [PAD] [PAD] [PAD] [PAD] [PAD] [PAD] [PAD] [PAD] [PAD] [PAD] [PAD] [PAD] [PAD] [PAD] [PAD] [PAD] [PAD] [PAD] [PAD] [PAD] [PAD] [PAD] [PAD] [PAD] [PAD] [PAD] [PAD] [PAD] [PAD] [PAD] [PAD] [PAD] [PAD] [PAD] [PAD] [PAD] [PAD] [PAD] [PAD] [PAD] [PAD] [PAD] [PAD] [PAD] [PAD] [PAD] [PAD] [PAD] [PAD] [PAD] [PAD] [PAD] [PAD] [PAD] [PAD] [PAD] [PAD] [CLS] what is the latin for order of preachers? [SEP] the order of preachers ( latin : ordo praedicatorum, hence the abbreviation op used by members ), more commonly known after the 15th century as the dominican order or dominicans, is a roman catholic religious order founded by the spanish priest saint dominic\n",
            "True answer: \n",
            "\tids (387, 393)\n",
            "\ttext: Ordo Praedicatorum\n",
            "--------------------------------------------------\n",
            "\n",
            "\n",
            "Question: \n",
            " What did Dominic greatly struggle with?\n",
            "Context: \n",
            " Dominic's search for a close relationship with God was determined and unceasing. He rarely spoke, so little of his interior life is known. What is known about it comes from accounts written by people near to him. St. Cecilia remembered him as cheerful, charitable and full of unceasing vigor. From a number of accounts, singing was apparently one of Dominic's great delights. Dominic practiced self-scourging and would mortify himself as he prayed alone in the chapel at night for 'poor sinners.' He owned a single habit, refused to carry money, and would allow no one to serve him.\n",
            "Our answer: \n",
            "\tids (296, 313)\n",
            "\ttext: [PAD] [PAD] [PAD] [PAD] [PAD] [PAD] [PAD] [PAD] [PAD] [PAD] [PAD] [PAD] [PAD] [PAD] [PAD] [PAD] [PAD]\n",
            "True answer: \n",
            "\tids (390, 392)\n",
            "\ttext: relationship with God\n",
            "--------------------------------------------------\n",
            "\n",
            "\n",
            "Question: \n",
            " What did the English Dominicans like to concentrate on?\n",
            "Context: \n",
            " Concerning humanity as the image of Christ, English Dominican spirituality concentrated on the moral implications of image-bearing rather than the philosophical foundations of the imago Dei. The process of Christ's life, and the process of image-bearing, amends humanity to God's image. The idea of the \"image of God\" demonstrates both the ability of man to move toward God (as partakers in Christ's redeeming sacrifice), and that, on some level, man is always an image of God. As their love and knowledge of God grows and is sanctified by faith and experience, the image of God within man becomes ever more bright and clear.\n",
            "Our answer: \n",
            "\tids (392, 506)\n",
            "\ttext: image - bearing rather than the philosophical foundations of the imago dei. the process of christ's life, and the process of image - bearing, amends humanity to god's image. the idea of the \" image of god \" demonstrates both the ability of man to move toward god ( as partakers in christ's redeeming sacrifice ), and that, on some level, man is always an image of god. as their love and knowledge of god grows and is sanctified by faith and experience, the image of god within man becomes ever\n",
            "True answer: \n",
            "\tids (389, 394)\n",
            "\ttext: moral implications of image-bearing\n",
            "--------------------------------------------------\n",
            "\n",
            "\n",
            "Question: \n",
            " Who designated BYU as having high research activity?\n",
            "Context: \n",
            " For 2016, U.S. News & World Report ranked BYU as tied for 66th for national universities in the United States. A 2013 Quarterly Journal of Economics study of where the nation's top high school students choose to enroll ranked BYU No. 21 in its peer-reviewed study. The Princeton Review has ranked BYU the best value for college in 2007, and its library is consistently ranked in the nation's top ten — No. 1 in 2004 and No. 4 in 2007. BYU is also ranked No. 19 in the U.S. News and World Report's \"Great Schools, Great Prices\" lineup, and No. 12 in lowest student-incurred debt. Due in part to the school's emphasis on undergraduate research, in rankings for 2008-2009, BYU was ranked No. 10 nationally for the number of students who go on to earn PhDs, No. 1 nationally for students who go on to dental school, No. 6 nationally for students who go on to law school, and No. 10 nationally for students who go on to medical school. BYU is designated as a research university with high research activity by the Carnegie Foundation for the Advancement of Teaching.]] Forbes Magazine ranked it as the No. 1 \"Top University to Work For in 2014\" and as the best college in Utah.\n",
            "Our answer: \n",
            "\tids (222, 392)\n",
            "\ttext: [PAD] [PAD] [PAD] [PAD] [PAD] [PAD] [PAD] [PAD] [PAD] [PAD] [PAD] [PAD] [CLS] who designated byu as having high research activity? [SEP] for 2016, u. s. news & world report ranked byu as tied for 66th for national universities in the united states. a 2013 quarterly journal of economics study of where the nation's top high school students choose to enroll ranked byu no. 21 in its peer - reviewed study. the princeton review has ranked byu the best value for college in 2007, and its library is consistently ranked in the nation's top ten — no. 1 in 2004 and no. 4 in 2007. byu is also ranked no. 19 in the u. s. news and world report's \" great schools, great prices \" lineup, and no. 12 in lowest student - incurred debt. due in part to the school's emphasis on\n",
            "True answer: \n",
            "\tids (475, 481)\n",
            "\ttext: Carnegie Foundation for the Advancement of Teaching\n",
            "--------------------------------------------------\n",
            "\n",
            "\n",
            "Question: \n",
            " What percentage of BYU's class of 2005 were married?\n",
            "Context: \n",
            " One of the characteristics of BYU most often pointed out is its reputation for emphasizing a \"marriage culture\". Members of The Church of Jesus Christ of Latter-day Saints highly value marriage and family, especially marriage within the faith. Approximately 51 percent of the graduates in BYU's class of 2005 were married. This is compared to a national marriage average among college graduates of 11 percent. BYU students on average marry at the age of 22, according to a 2005 study, while the national average age is 25 years for men and 27 years for women.\n",
            "Our answer: \n",
            "\tids (440, 155)\n",
            "\ttext: \n",
            "True answer: \n",
            "\tids (447, 448)\n",
            "\ttext: Approximately 51\n",
            "--------------------------------------------------\n",
            "\n",
            "\n",
            "Question: \n",
            " Serbo-Croatian is the only Slavic language to use what two scripts together?\n",
            "Context: \n",
            " The Croatian Latin alphabet (Gajica) followed suit shortly afterwards, when Ljudevit Gaj defined it as standard Latin with five extra letters that had diacritics, apparently borrowing much from Czech, but also from Polish, and inventing the unique digraphs \"lj\", \"nj\" and \"dž\". These digraphs are represented as \"ļ, ń and ǵ\" respectively in the \"Rječnik hrvatskog ili srpskog jezika\", published by the former Yugoslav Academy of Sciences and Arts in Zagreb. The latter digraphs, however, are unused in the literary standard of the language. All in all, this makes Serbo-Croatian the only Slavic language to officially use both the Latin and Cyrillic scripts, albeit the Latin version is more commonly used.\n",
            "Our answer: \n",
            "\tids (392, 320)\n",
            "\ttext: \n",
            "True answer: \n",
            "\tids (497, 499)\n",
            "\ttext: Latin and Cyrillic\n",
            "--------------------------------------------------\n",
            "\n",
            "\n",
            "Question: \n",
            " What did the monastery help fuel?\n",
            "Context: \n",
            " The proximity of the Palace of Westminster did not extend to providing monks or abbots with high royal connections; in social origin the Benedictines of Westminster were as modest as most of the order. The abbot remained Lord of the Manor of Westminster as a town of two to three thousand persons grew around it: as a consumer and employer on a grand scale the monastery helped fuel the town economy, and relations with the town remained unusually cordial, but no enfranchising charter was issued during the Middle Ages. The abbey built shops and dwellings on the west side, encroaching upon the sanctuary.[citation needed]\n",
            "Our answer: \n",
            "\tids (501, 431)\n",
            "\ttext: \n",
            "True answer: \n",
            "\tids (460, 462)\n",
            "\ttext: the town economy\n",
            "--------------------------------------------------\n",
            "\n",
            "\n",
            "Question: \n",
            " What was included in the new organ from the previous Hill organ of 1848?\n",
            "Context: \n",
            " The organ was built by Harrison & Harrison in 1937, then with four manuals and 84 speaking stops, and was used for the first time at the coronation of King George VI. Some pipework from the previous Hill organ of 1848 was revoiced and incorporated in the new scheme. The two organ cases, designed in the late 19th century by John Loughborough Pearson, were re-instated and coloured in 1959.\n",
            "Our answer: \n",
            "\tids (198, 360)\n",
            "\ttext: [PAD] [PAD] [PAD] [PAD] [PAD] [PAD] [PAD] [PAD] [PAD] [PAD] [PAD] [PAD] [PAD] [PAD] [PAD] [PAD] [PAD] [PAD] [PAD] [PAD] [PAD] [PAD] [PAD] [PAD] [PAD] [PAD] [PAD] [PAD] [PAD] [PAD] [PAD] [PAD] [PAD] [PAD] [PAD] [PAD] [PAD] [PAD] [PAD] [PAD] [PAD] [PAD] [PAD] [PAD] [PAD] [PAD] [PAD] [PAD] [PAD] [PAD] [PAD] [PAD] [PAD] [PAD] [PAD] [PAD] [PAD] [PAD] [PAD] [PAD] [PAD] [PAD] [PAD] [PAD] [PAD] [PAD] [PAD] [PAD] [PAD] [PAD] [PAD] [PAD] [PAD] [PAD] [PAD] [PAD] [PAD] [PAD] [PAD] [PAD] [PAD] [PAD] [PAD] [PAD] [PAD] [PAD] [PAD] [PAD] [PAD] [PAD] [PAD] [PAD] [PAD] [PAD] [PAD] [PAD] [PAD] [PAD] [PAD] [PAD] [PAD] [PAD] [PAD] [PAD] [PAD] [PAD] [PAD] [PAD] [PAD] [PAD] [PAD] [PAD] [PAD] [PAD] [PAD] [PAD] [PAD] [PAD] [PAD] [PAD] [PAD] [PAD] [PAD] [PAD] [PAD] [PAD] [PAD] [PAD] [PAD] [PAD] [PAD] [PAD] [PAD] [PAD] [PAD] [PAD] [PAD] [PAD] [PAD] [PAD] [PAD] [PAD] [PAD] [PAD] [PAD] [PAD] [PAD] [PAD] [PAD] [PAD] [PAD] [PAD] [PAD] [PAD] [PAD] [PAD] [PAD] [PAD] [PAD] [PAD] [PAD] [PAD]\n",
            "True answer: \n",
            "\tids (464, 465)\n",
            "\ttext: pipework\n",
            "--------------------------------------------------\n",
            "\n",
            "\n",
            "Question: \n",
            " What was the earliest divergence within the Neognathes?\n",
            "Context: \n",
            " The earliest divergence within the Neognathes was that of the Galloanserae, the superorder containing the Anseriformes (ducks, geese, swans and screamers) and the Galliformes (the pheasants, grouse, and their allies, together with the mound builders and the guans and their allies). The earliest fossil remains of true birds come from the possible galliform Austinornis lentus, dated to about 85 million years ago, but the dates for the actual splits are much debated by scientists. The Aves are agreed to have evolved in the Cretaceous, and the split between the Galloanseri from other Neognathes occurred before the Cretaceous–Paleogene extinction event, but there are different opinions about whether the radiation of the remaining Neognathes occurred before or after the extinction of the other dinosaurs. This disagreement is in part caused by a divergence in the evidence; molecular dating suggests a Cretaceous radiation, while fossil evidence supports a Cenozoic radiation. Attempts to reconcile the molecular and fossil evidence have proved controversial, but recent results show that all the extant groups of birds originated from only a small handful of species that survived the Cretaceous–Paleogene extinction.\n",
            "Our answer: \n",
            "\tids (5, 178)\n",
            "\ttext: [PAD] [PAD] [PAD] [PAD] [PAD] [PAD] [PAD] [PAD] [PAD] [PAD] [PAD] [PAD] [PAD] [PAD] [PAD] [PAD] [PAD] [PAD] [PAD] [PAD] [PAD] [PAD] [PAD] [PAD] [PAD] [PAD] [PAD] [PAD] [PAD] [PAD] [PAD] [PAD] [PAD] [PAD] [PAD] [PAD] [PAD] [PAD] [PAD] [PAD] [PAD] [PAD] [PAD] [PAD] [PAD] [PAD] [PAD] [PAD] [PAD] [PAD] [PAD] [PAD] [PAD] [PAD] [PAD] [PAD] [PAD] [PAD] [PAD] [PAD] [PAD] [PAD] [PAD] [PAD] [PAD] [PAD] [PAD] [PAD] [PAD] [PAD] [PAD] [PAD] [PAD] [PAD] [PAD] [PAD] [PAD] [PAD] [PAD] [PAD] [PAD] [PAD] [PAD] [PAD] [PAD] [PAD] [PAD] [PAD] [PAD] [PAD] [PAD] [PAD] [PAD] [PAD] [PAD] [PAD] [PAD] [PAD] [PAD] [PAD] [PAD] [PAD] [PAD] [PAD] [PAD] [PAD] [PAD] [PAD] [PAD] [PAD] [PAD] [PAD] [PAD] [PAD] [PAD] [PAD] [PAD] [PAD] [PAD] [PAD] [PAD] [PAD] [PAD] [PAD] [PAD] [PAD] [PAD] [PAD] [PAD] [PAD] [PAD] [PAD] [PAD] [PAD] [PAD] [PAD] [PAD] [PAD] [PAD] [PAD] [PAD] [PAD] [PAD] [PAD] [PAD] [PAD] [PAD] [PAD] [PAD] [PAD] [PAD] [PAD] [PAD] [PAD] [PAD] [PAD] [PAD] [PAD] [PAD] [PAD] [PAD] [PAD] [PAD] [PAD] [PAD] [PAD] [PAD] [PAD] [PAD] [PAD] [PAD] [PAD] [PAD]\n",
            "True answer: \n",
            "\tids (278, 281)\n",
            "\ttext: Galloanserae\n",
            "--------------------------------------------------\n",
            "\n",
            "\n",
            "Question: \n",
            " What is a cost of flocking?\n",
            "Context: \n",
            " While some birds are essentially territorial or live in small family groups, other birds may form large flocks. The principal benefits of flocking are safety in numbers and increased foraging efficiency. Defence against predators is particularly important in closed habitats like forests, where ambush predation is common and multiple eyes can provide a valuable early warning system. This has led to the development of many mixed-species feeding flocks, which are usually composed of small numbers of many species; these flocks provide safety in numbers but increase potential competition for resources. Costs of flocking include bullying of socially subordinate birds by more dominant birds and the reduction of feeding efficiency in certain cases.\n",
            "Our answer: \n",
            "\tids (438, 463)\n",
            "\ttext: eyes can provide a valuable early warning system. this has led to the development of many mixed - species feeding flocks, which\n",
            "True answer: \n",
            "\tids (492, 500)\n",
            "\ttext: bullying of socially subordinate birds by more dominant birds\n",
            "--------------------------------------------------\n"
          ],
          "name": "stdout"
        }
      ]
    },
    {
      "cell_type": "code",
      "metadata": {
        "id": "WzMIwH85RATH"
      },
      "source": [
        "print(f\"Total matches\\t{boom_baby} / {TEST_LIMIT} \\t({round(boom_baby / TEST_LIMIT, 3)*100} %)\")"
      ],
      "execution_count": null,
      "outputs": []
    },
    {
      "cell_type": "code",
      "metadata": {
        "id": "mRdxAI9ug1kE"
      },
      "source": [
        "with open(\"results_2101_start_pred.txt\", \"w\") as f:\r\n",
        "  f.write(start_pred)\r\n",
        "\r\n",
        "with open(\"results_2101_end_pred.txt\", \"w\") as f:\r\n",
        "  f.write(end_pred)"
      ],
      "execution_count": null,
      "outputs": []
    }
  ]
}