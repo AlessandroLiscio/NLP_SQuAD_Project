{
  "nbformat": 4,
  "nbformat_minor": 0,
  "metadata": {
    "colab": {
      "name": "Project-X-SQAD.ipynb",
      "provenance": [],
      "toc_visible": true
    },
    "kernelspec": {
      "name": "python3",
      "display_name": "Python 3"
    }
  },
  "cells": [
    {
      "cell_type": "markdown",
      "metadata": {
        "id": "Y6J9_LsBSwk-"
      },
      "source": [
        "# Project X"
      ]
    },
    {
      "cell_type": "code",
      "metadata": {
        "id": "KxC2Vn2KR8pK"
      },
      "source": [
        "import os\r\n",
        "import json\r\n",
        "\r\n",
        "import re\r\n",
        "import pandas as pd\r\n",
        "import numpy as np"
      ],
      "execution_count": 2,
      "outputs": []
    },
    {
      "cell_type": "code",
      "metadata": {
        "id": "pj35bJE3VtHi"
      },
      "source": [
        "with open('training_set.json') as f:\r\n",
        "  json_data = json.load(f)"
      ],
      "execution_count": 77,
      "outputs": []
    },
    {
      "cell_type": "code",
      "metadata": {
        "id": "_o1FPMIyWWgw",
        "colab": {
          "base_uri": "https://localhost:8080/",
          "height": 419
        },
        "outputId": "66731191-52d4-4d2e-f510-1c47413fd37c"
      },
      "source": [
        "data = pd.json_normalize(json_data['data'], ['paragraphs'])\r\n",
        "data"
      ],
      "execution_count": 78,
      "outputs": [
        {
          "output_type": "execute_result",
          "data": {
            "text/html": [
              "<div>\n",
              "<style scoped>\n",
              "    .dataframe tbody tr th:only-of-type {\n",
              "        vertical-align: middle;\n",
              "    }\n",
              "\n",
              "    .dataframe tbody tr th {\n",
              "        vertical-align: top;\n",
              "    }\n",
              "\n",
              "    .dataframe thead th {\n",
              "        text-align: right;\n",
              "    }\n",
              "</style>\n",
              "<table border=\"1\" class=\"dataframe\">\n",
              "  <thead>\n",
              "    <tr style=\"text-align: right;\">\n",
              "      <th></th>\n",
              "      <th>context</th>\n",
              "      <th>qas</th>\n",
              "    </tr>\n",
              "  </thead>\n",
              "  <tbody>\n",
              "    <tr>\n",
              "      <th>0</th>\n",
              "      <td>Architecturally, the school has a Catholic cha...</td>\n",
              "      <td>[{'answers': [{'answer_start': 515, 'text': 'S...</td>\n",
              "    </tr>\n",
              "    <tr>\n",
              "      <th>1</th>\n",
              "      <td>As at most other universities, Notre Dame's st...</td>\n",
              "      <td>[{'answers': [{'answer_start': 248, 'text': 'S...</td>\n",
              "    </tr>\n",
              "    <tr>\n",
              "      <th>2</th>\n",
              "      <td>The university is the major seat of the Congre...</td>\n",
              "      <td>[{'answers': [{'answer_start': 119, 'text': 'R...</td>\n",
              "    </tr>\n",
              "    <tr>\n",
              "      <th>3</th>\n",
              "      <td>The College of Engineering was established in ...</td>\n",
              "      <td>[{'answers': [{'answer_start': 487, 'text': 'e...</td>\n",
              "    </tr>\n",
              "    <tr>\n",
              "      <th>4</th>\n",
              "      <td>All of Notre Dame's undergraduate students are...</td>\n",
              "      <td>[{'answers': [{'answer_start': 496, 'text': 'L...</td>\n",
              "    </tr>\n",
              "    <tr>\n",
              "      <th>...</th>\n",
              "      <td>...</td>\n",
              "      <td>...</td>\n",
              "    </tr>\n",
              "    <tr>\n",
              "      <th>18891</th>\n",
              "      <td>Institute of Medicine, the central college of ...</td>\n",
              "      <td>[{'answers': [{'answer_start': 46, 'text': 'Tr...</td>\n",
              "    </tr>\n",
              "    <tr>\n",
              "      <th>18892</th>\n",
              "      <td>Football and Cricket are the most popular spor...</td>\n",
              "      <td>[{'answers': [{'answer_start': 0, 'text': 'Foo...</td>\n",
              "    </tr>\n",
              "    <tr>\n",
              "      <th>18893</th>\n",
              "      <td>The total length of roads in Nepal is recorded...</td>\n",
              "      <td>[{'answers': [{'answer_start': 54, 'text': '17...</td>\n",
              "    </tr>\n",
              "    <tr>\n",
              "      <th>18894</th>\n",
              "      <td>The main international airport serving Kathman...</td>\n",
              "      <td>[{'answers': [{'answer_start': 71, 'text': 'Tr...</td>\n",
              "    </tr>\n",
              "    <tr>\n",
              "      <th>18895</th>\n",
              "      <td>Kathmandu Metropolitan City (KMC), in order to...</td>\n",
              "      <td>[{'answers': [{'answer_start': 229, 'text': 'O...</td>\n",
              "    </tr>\n",
              "  </tbody>\n",
              "</table>\n",
              "<p>18896 rows × 2 columns</p>\n",
              "</div>"
            ],
            "text/plain": [
              "                                                 context                                                qas\n",
              "0      Architecturally, the school has a Catholic cha...  [{'answers': [{'answer_start': 515, 'text': 'S...\n",
              "1      As at most other universities, Notre Dame's st...  [{'answers': [{'answer_start': 248, 'text': 'S...\n",
              "2      The university is the major seat of the Congre...  [{'answers': [{'answer_start': 119, 'text': 'R...\n",
              "3      The College of Engineering was established in ...  [{'answers': [{'answer_start': 487, 'text': 'e...\n",
              "4      All of Notre Dame's undergraduate students are...  [{'answers': [{'answer_start': 496, 'text': 'L...\n",
              "...                                                  ...                                                ...\n",
              "18891  Institute of Medicine, the central college of ...  [{'answers': [{'answer_start': 46, 'text': 'Tr...\n",
              "18892  Football and Cricket are the most popular spor...  [{'answers': [{'answer_start': 0, 'text': 'Foo...\n",
              "18893  The total length of roads in Nepal is recorded...  [{'answers': [{'answer_start': 54, 'text': '17...\n",
              "18894  The main international airport serving Kathman...  [{'answers': [{'answer_start': 71, 'text': 'Tr...\n",
              "18895  Kathmandu Metropolitan City (KMC), in order to...  [{'answers': [{'answer_start': 229, 'text': 'O...\n",
              "\n",
              "[18896 rows x 2 columns]"
            ]
          },
          "metadata": {
            "tags": []
          },
          "execution_count": 78
        }
      ]
    },
    {
      "cell_type": "code",
      "metadata": {
        "colab": {
          "base_uri": "https://localhost:8080/",
          "height": 419
        },
        "id": "Qc6-zf6cV4e6",
        "outputId": "ab5d2219-d0f3-4faa-a963-85d53f413475"
      },
      "source": [
        "temp = []\r\n",
        "context_dict = {}\r\n",
        "\r\n",
        "for i, row in data.iterrows():\r\n",
        "  context_dict[i] = row['context']\r\n",
        "  for qa in row['qas']:\r\n",
        "    question_id = qa['id']\r\n",
        "    question = qa['question']\r\n",
        "    for answer in qa['answers']:\r\n",
        "      temp.append([question_id, question, answer['text'], i])\r\n",
        "\r\n",
        "df = pd.DataFrame(temp, columns=['question_id', 'question', 'answer', 'context'])\r\n",
        "\r\n",
        "df"
      ],
      "execution_count": 80,
      "outputs": [
        {
          "output_type": "execute_result",
          "data": {
            "text/html": [
              "<div>\n",
              "<style scoped>\n",
              "    .dataframe tbody tr th:only-of-type {\n",
              "        vertical-align: middle;\n",
              "    }\n",
              "\n",
              "    .dataframe tbody tr th {\n",
              "        vertical-align: top;\n",
              "    }\n",
              "\n",
              "    .dataframe thead th {\n",
              "        text-align: right;\n",
              "    }\n",
              "</style>\n",
              "<table border=\"1\" class=\"dataframe\">\n",
              "  <thead>\n",
              "    <tr style=\"text-align: right;\">\n",
              "      <th></th>\n",
              "      <th>question_id</th>\n",
              "      <th>question</th>\n",
              "      <th>answer</th>\n",
              "      <th>context</th>\n",
              "    </tr>\n",
              "  </thead>\n",
              "  <tbody>\n",
              "    <tr>\n",
              "      <th>0</th>\n",
              "      <td>5733be284776f41900661182</td>\n",
              "      <td>To whom did the Virgin Mary allegedly appear i...</td>\n",
              "      <td>Saint Bernadette Soubirous</td>\n",
              "      <td>0</td>\n",
              "    </tr>\n",
              "    <tr>\n",
              "      <th>1</th>\n",
              "      <td>5733be284776f4190066117f</td>\n",
              "      <td>What is in front of the Notre Dame Main Building?</td>\n",
              "      <td>a copper statue of Christ</td>\n",
              "      <td>0</td>\n",
              "    </tr>\n",
              "    <tr>\n",
              "      <th>2</th>\n",
              "      <td>5733be284776f41900661180</td>\n",
              "      <td>The Basilica of the Sacred heart at Notre Dame...</td>\n",
              "      <td>the Main Building</td>\n",
              "      <td>0</td>\n",
              "    </tr>\n",
              "    <tr>\n",
              "      <th>3</th>\n",
              "      <td>5733be284776f41900661181</td>\n",
              "      <td>What is the Grotto at Notre Dame?</td>\n",
              "      <td>a Marian place of prayer and reflection</td>\n",
              "      <td>0</td>\n",
              "    </tr>\n",
              "    <tr>\n",
              "      <th>4</th>\n",
              "      <td>5733be284776f4190066117e</td>\n",
              "      <td>What sits on top of the Main Building at Notre...</td>\n",
              "      <td>a golden statue of the Virgin Mary</td>\n",
              "      <td>0</td>\n",
              "    </tr>\n",
              "    <tr>\n",
              "      <th>...</th>\n",
              "      <td>...</td>\n",
              "      <td>...</td>\n",
              "      <td>...</td>\n",
              "      <td>...</td>\n",
              "    </tr>\n",
              "    <tr>\n",
              "      <th>87594</th>\n",
              "      <td>5735d259012e2f140011a09d</td>\n",
              "      <td>In what US state did Kathmandu first establish...</td>\n",
              "      <td>Oregon</td>\n",
              "      <td>18895</td>\n",
              "    </tr>\n",
              "    <tr>\n",
              "      <th>87595</th>\n",
              "      <td>5735d259012e2f140011a09e</td>\n",
              "      <td>What was Yangon previously known as?</td>\n",
              "      <td>Rangoon</td>\n",
              "      <td>18895</td>\n",
              "    </tr>\n",
              "    <tr>\n",
              "      <th>87596</th>\n",
              "      <td>5735d259012e2f140011a09f</td>\n",
              "      <td>With what Belorussian city does Kathmandu have...</td>\n",
              "      <td>Minsk</td>\n",
              "      <td>18895</td>\n",
              "    </tr>\n",
              "    <tr>\n",
              "      <th>87597</th>\n",
              "      <td>5735d259012e2f140011a0a0</td>\n",
              "      <td>In what year did Kathmandu create its initial ...</td>\n",
              "      <td>1975</td>\n",
              "      <td>18895</td>\n",
              "    </tr>\n",
              "    <tr>\n",
              "      <th>87598</th>\n",
              "      <td>5735d259012e2f140011a0a1</td>\n",
              "      <td>What is KMC an initialism of?</td>\n",
              "      <td>Kathmandu Metropolitan City</td>\n",
              "      <td>18895</td>\n",
              "    </tr>\n",
              "  </tbody>\n",
              "</table>\n",
              "<p>87599 rows × 4 columns</p>\n",
              "</div>"
            ],
            "text/plain": [
              "                    question_id  ... context\n",
              "0      5733be284776f41900661182  ...       0\n",
              "1      5733be284776f4190066117f  ...       0\n",
              "2      5733be284776f41900661180  ...       0\n",
              "3      5733be284776f41900661181  ...       0\n",
              "4      5733be284776f4190066117e  ...       0\n",
              "...                         ...  ...     ...\n",
              "87594  5735d259012e2f140011a09d  ...   18895\n",
              "87595  5735d259012e2f140011a09e  ...   18895\n",
              "87596  5735d259012e2f140011a09f  ...   18895\n",
              "87597  5735d259012e2f140011a0a0  ...   18895\n",
              "87598  5735d259012e2f140011a0a1  ...   18895\n",
              "\n",
              "[87599 rows x 4 columns]"
            ]
          },
          "metadata": {
            "tags": []
          },
          "execution_count": 80
        }
      ]
    }
  ]
}